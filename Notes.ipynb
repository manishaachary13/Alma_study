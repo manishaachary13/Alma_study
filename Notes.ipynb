{
  "nbformat": 4,
  "nbformat_minor": 0,
  "metadata": {
    "colab": {
      "provenance": [],
      "authorship_tag": "ABX9TyOLaYdF7xL1cv/+c3EyVWBk",
      "include_colab_link": true
    },
    "kernelspec": {
      "name": "python3",
      "display_name": "Python 3"
    },
    "language_info": {
      "name": "python"
    }
  },
  "cells": [
    {
      "cell_type": "markdown",
      "metadata": {
        "id": "view-in-github",
        "colab_type": "text"
      },
      "source": [
        "<a href=\"https://colab.research.google.com/github/manishaachary13/Alma_study/blob/main/Notes.ipynb\" target=\"_parent\"><img src=\"https://colab.research.google.com/assets/colab-badge.svg\" alt=\"Open In Colab\"/></a>"
      ]
    },
    {
      "cell_type": "code",
      "execution_count": null,
      "metadata": {
        "id": "ad_i3WOLvtKy"
      },
      "outputs": [],
      "source": []
    },
    {
      "cell_type": "markdown",
      "source": [
        "What\n",
        "is a Series?\n",
        "A Pandas Series is like a column in a table.\n",
        "\n",
        "It is a one-dimensional array holding data of any type."
      ],
      "metadata": {
        "id": "gQjLZl_jvui2"
      }
    },
    {
      "cell_type": "markdown",
      "source": [
        "Create Labels\n",
        "With the index argument, you can name your own labels."
      ],
      "metadata": {
        "id": "9COkI5dAv_e0"
      }
    },
    {
      "cell_type": "markdown",
      "source": [
        "The keys of the dictionary become the labels."
      ],
      "metadata": {
        "id": "b9CGWeVEwQBA"
      }
    },
    {
      "cell_type": "markdown",
      "source": [
        "DataFrames\n",
        "Data sets in Pandas are usually multi-dimensional tables, called DataFrames.\n",
        "\n",
        "Series is like a column, a DataFrame is the whole table."
      ],
      "metadata": {
        "id": "-oBvwI8VwpO_"
      }
    },
    {
      "cell_type": "markdown",
      "source": [
        "Pandas use the loc attribute to return one or more specified row(s)\n"
      ],
      "metadata": {
        "id": "7RhfA1yww5Bg"
      }
    },
    {
      "cell_type": "markdown",
      "source": [
        "Load Files Into a DataFrame\n",
        "If your data sets are stored in a file, Pandas can load them into a DataFrame."
      ],
      "metadata": {
        "id": "-YpVNO8-xPhc"
      }
    },
    {
      "cell_type": "markdown",
      "source": [
        "A simple way to store big data sets is to use CSV files (comma separated files).\n",
        "\n",
        "CSV files contains plain text and is a well know format that can be read by everyone including Pandas."
      ],
      "metadata": {
        "id": "UNsE0JKmxrQI"
      }
    },
    {
      "cell_type": "markdown",
      "source": [
        "use to_string() to print the entire DataFrame."
      ],
      "metadata": {
        "id": "TW6LOq8Fx8pv"
      }
    },
    {
      "cell_type": "markdown",
      "source": [
        "If you have a large DataFrame with many rows, Pandas will only return the first 5 rows, and the last 5 rows:"
      ],
      "metadata": {
        "id": "EayN3JWLyK7x"
      }
    },
    {
      "cell_type": "markdown",
      "source": [
        "max_rows\n",
        "The number of rows returned is defined in Pandas option settings.\n",
        "\n",
        "You can check your system's maximum rows with the pd.options.display.max_rows statement."
      ],
      "metadata": {
        "id": "Pr4qbLSVyTAY"
      }
    },
    {
      "cell_type": "markdown",
      "source": [
        "https://www.w3schools.com/python/pandas/data.js"
      ],
      "metadata": {
        "id": "AzRBN6-IyuNy"
      }
    },
    {
      "cell_type": "markdown",
      "source": [],
      "metadata": {
        "id": "MURdy-kS0gfY"
      }
    },
    {
      "cell_type": "markdown",
      "source": [
        "One of the most used method for getting a quick overview of the DataFrame, is the head() method.\n",
        "\n",
        "The head() method returns the headers and a specified number of rows, starting from the top."
      ],
      "metadata": {
        "id": "teAiOsxzz1xk"
      }
    },
    {
      "cell_type": "markdown",
      "source": [
        "Remove Rows\n",
        "One way to deal with empty cells is to remove rows that contain empty cells"
      ],
      "metadata": {
        "id": "IbLxvKAp0iVY"
      }
    },
    {
      "cell_type": "markdown",
      "source": [
        "By default, the dropna() method returns a new DataFrame, and will not change the original.\n",
        "\n",
        "If you want to change the original DataFrame, use the inplace = True argument:"
      ],
      "metadata": {
        "id": "MwzsR1Vy1tCk"
      }
    },
    {
      "cell_type": "markdown",
      "source": [],
      "metadata": {
        "id": "1ZEpHGVY14Ca"
      }
    },
    {
      "cell_type": "markdown",
      "source": [
        "Now, the dropna(inplace = True) will NOT return a new DataFrame, but it will remove all rows containing NULL values from the original DataFrame."
      ],
      "metadata": {
        "id": "GFgphabb17zu"
      }
    },
    {
      "cell_type": "markdown",
      "source": [
        "Another way of dealing with empty cells is to insert a new value instead.\n",
        "\n",
        "This way you do not have to delete entire rows just because of some empty cells.\n",
        "\n",
        "The fillna() method allows us to replace empty cells with a value:"
      ],
      "metadata": {
        "id": "oQl7S4us2ETU"
      }
    },
    {
      "cell_type": "markdown",
      "source": [
        "example:df.fillna(130, inplace = True)"
      ],
      "metadata": {
        "id": "94OGgqeS2Trc"
      }
    },
    {
      "cell_type": "markdown",
      "source": [
        "To only replace empty values for one column, specify the column name for the DataFrame:"
      ],
      "metadata": {
        "id": "V0D78A9E2g7_"
      }
    },
    {
      "cell_type": "markdown",
      "source": [
        "A common way to replace empty cells, is to calculate the mean, median or mode value of the column."
      ],
      "metadata": {
        "id": "Gq50a-MD2ux0"
      }
    },
    {
      "cell_type": "markdown",
      "source": [],
      "metadata": {
        "id": "VIFej0ef3yoj"
      }
    },
    {
      "cell_type": "markdown",
      "source": [
        "Cells with data of wrong format can make it difficult, or even impossible, to analyze data.\n",
        "\n",
        "To fix it, you have two options: remove the rows, or coLet's try to convert all cells in the 'Date' column into dates.\n",
        "\n",
        "Pandas has a to_datetime() methodnvert all cells in the columns into the same format.\n"
      ],
      "metadata": {
        "id": "PG_-ovgx2_4S"
      }
    },
    {
      "cell_type": "markdown",
      "source": [
        "To discover duplicates, we can use the duplicated() method.\n",
        "\n",
        "The duplicated() method returns a Boolean values for each row"
      ],
      "metadata": {
        "id": "ja-USqDk32m8"
      }
    },
    {
      "cell_type": "markdown",
      "source": [
        "To remove duplicates, use the drop_duplicates() method."
      ],
      "metadata": {
        "id": "iS56GpXH5mh3"
      }
    },
    {
      "cell_type": "markdown",
      "source": [
        "The corr() method ignores \"not numeric\" columns."
      ],
      "metadata": {
        "id": "FkXFsKvL5sZc"
      }
    },
    {
      "cell_type": "markdown",
      "source": [],
      "metadata": {
        "id": "pWl1UTwg6q-i"
      }
    },
    {
      "cell_type": "markdown",
      "source": [
        "The Result of the corr() method is a table with a lot of numbers that represents how well the relationship is between two columns.\n",
        "\n",
        "The number varies from -1 to 1.\n",
        "\n",
        "1 means that there is a 1 to 1 relationship (a perfect correlation), and for this data set, each time a value went up in the first column, the other one went up as well.\n",
        "\n",
        "0.9 is also a good relationship, and if you increase one value, the other will probably increase as well.\n",
        "\n",
        "-0.9 would be just as good relationship as 0.9, but if you increase one value, the other will probably go down.\n",
        "\n",
        "0.2 means NOT a good relationship, meaning that if one value goes up does not mean that the other will.\n",
        "\n",
        "What is a good correlation? It depends on the use, but I think it is safe to say you have to have at least 0.6 (or -0.6) to call it a good correlation."
      ],
      "metadata": {
        "id": "v5mqEU4e6Ur_"
      }
    },
    {
      "cell_type": "code",
      "source": [
        "A greataspect of the Pandas module is the corr() method.\n",
        "thi\n",
        "The corr() method calculates the relationship between each column in your data set."
      ],
      "metadata": {
        "id": "A-namsKK6QbX"
      },
      "execution_count": null,
      "outputs": []
    },
    {
      "cell_type": "code",
      "source": [],
      "metadata": {
        "id": "4IRC24sE6jqG"
      },
      "execution_count": null,
      "outputs": []
    },
    {
      "cell_type": "markdown",
      "source": [],
      "metadata": {
        "id": "YDH17ngR6t0_"
      }
    },
    {
      "cell_type": "code",
      "source": [
        "df['Gender'] = df['Gender'].map({'M': 0, 'F': 1, }).astype(float)\n",
        "                        })"
      ],
      "metadata": {
        "id": "Pb6sCSZM6sn3"
      },
      "execution_count": null,
      "outputs": []
    }
  ]
}