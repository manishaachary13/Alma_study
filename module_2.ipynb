{
  "nbformat": 4,
  "nbformat_minor": 0,
  "metadata": {
    "colab": {
      "provenance": [],
      "authorship_tag": "ABX9TyO+KBCq8CA+NmAJ4Y5RPlL2",
      "include_colab_link": true
    },
    "kernelspec": {
      "name": "python3",
      "display_name": "Python 3"
    },
    "language_info": {
      "name": "python"
    }
  },
  "cells": [
    {
      "cell_type": "markdown",
      "metadata": {
        "id": "view-in-github",
        "colab_type": "text"
      },
      "source": [
        "<a href=\"https://colab.research.google.com/github/manishaachary13/Alma_study/blob/main/module_2.ipynb\" target=\"_parent\"><img src=\"https://colab.research.google.com/assets/colab-badge.svg\" alt=\"Open In Colab\"/></a>"
      ]
    },
    {
      "cell_type": "code",
      "execution_count": null,
      "metadata": {
        "id": "fhE9eLHTSS-g",
        "colab": {
          "base_uri": "https://localhost:8080/"
        },
        "outputId": "2a474009-33de-4bfa-bfa4-8e3c6c2deaf6"
      },
      "outputs": [
        {
          "output_type": "stream",
          "name": "stdout",
          "text": [
            "array('i', [1, 2, 3, 4, 5])\n"
          ]
        },
        {
          "output_type": "execute_result",
          "data": {
            "text/plain": [
              "array([[1, 2, 3],\n",
              "       [4, 5, 6]])"
            ]
          },
          "metadata": {},
          "execution_count": 9
        }
      ],
      "source": [
        "my_array = []\n",
        "my_array = [1, 2, 3, 4, 5]\n",
        "import array\n",
        "my_array = array.array('i', [1, 2, 3, 4, 5])\n",
        "print(my_array)\n",
        "import numpy as np\n",
        "np_array = np.array([[1, 2, 3], [4, 5, 6]])\n",
        "np_array"
      ]
    },
    {
      "cell_type": "code",
      "source": [
        "# buf_info=my_array.data\n",
        "# print(buf_info)\n",
        "# fill method is used to fill array wih specific value\n",
        "# array module does not have fill method while numpy has\n",
        "np_array.fill(-1)\n",
        "print(np_array)"
      ],
      "metadata": {
        "colab": {
          "base_uri": "https://localhost:8080/"
        },
        "id": "OejRtCcTEulP",
        "outputId": "d0ca6e2f-2c10-4c7a-9437-02724e7eff89"
      },
      "execution_count": null,
      "outputs": [
        {
          "output_type": "stream",
          "name": "stdout",
          "text": [
            "[[-1 -1 -1]\n",
            " [-1 -1 -1]]\n"
          ]
        }
      ]
    },
    {
      "cell_type": "code",
      "source": [
        "arr = array.array('i', [1, 2, 3, 4, 5])\n",
        "# numpy does not has buffer_info\n",
        "buffer_info = arr.buffer_info()\n",
        "print(buffer_info)\n",
        "# Output: (139652048, 5)\n"
      ],
      "metadata": {
        "colab": {
          "base_uri": "https://localhost:8080/"
        },
        "id": "qL_OckQvOXI6",
        "outputId": "f7c61367-94b3-4dfc-812c-185851a2b230"
      },
      "execution_count": null,
      "outputs": [
        {
          "output_type": "stream",
          "name": "stdout",
          "text": [
            "(136577639090288, 5)\n"
          ]
        }
      ]
    },
    {
      "cell_type": "code",
      "source": [
        "# What is the output of the following code?\n",
        "\n",
        "import array\n",
        "arr = array.array('i', [1, 2, 3])\n",
        "arr.append(4)\n",
        "print(arr)"
      ],
      "metadata": {
        "colab": {
          "base_uri": "https://localhost:8080/"
        },
        "id": "oQdaBn48ChKj",
        "outputId": "b00243c1-8fc1-45a8-c904-4513a43750cf"
      },
      "execution_count": null,
      "outputs": [
        {
          "output_type": "stream",
          "name": "stdout",
          "text": [
            "array('i', [1, 2, 3, 4])\n"
          ]
        }
      ]
    },
    {
      "cell_type": "code",
      "source": [
        "import numpy as np\n",
        "\n",
        "my_array = np.array([[1, 2, 3],\n",
        "                     [4, 5, 6],\n",
        "                     [7, 8, 9]])  # a two-dimensional array of integers\n",
        "\n"
      ],
      "metadata": {
        "id": "VDGrI6jySmE1"
      },
      "execution_count": null,
      "outputs": []
    },
    {
      "cell_type": "markdown",
      "source": [
        "To traverse or iterate over an array, you can use a loop to access each element in the array one at a time. For example, you can use a for loop to print each element in an array"
      ],
      "metadata": {
        "id": "Cixrs9_AT998"
      }
    },
    {
      "cell_type": "code",
      "source": [
        "import numpy as np\n",
        "my_array=[1,2,3,4,5,7]\n",
        "for num in my_array:\n",
        "    print(num)\n",
        "if 40 in my_array:\n",
        "    print(\"true\")\n",
        "else:\n",
        "    print(False)"
      ],
      "metadata": {
        "colab": {
          "base_uri": "https://localhost:8080/"
        },
        "id": "2pjAWEw0T-nl",
        "outputId": "18b448ea-19b7-4ce1-b498-0656c87b67a7"
      },
      "execution_count": null,
      "outputs": [
        {
          "output_type": "stream",
          "name": "stdout",
          "text": [
            "1\n",
            "2\n",
            "3\n",
            "4\n",
            "5\n",
            "7\n",
            "False\n"
          ]
        }
      ]
    },
    {
      "cell_type": "markdown",
      "source": [
        "To search for a specific element in an array, you can use a loop to check each element in the array one at a time. For example, you can use a for loop and an if statement to find the index of the first occurrence of a specific element in an array:"
      ],
      "metadata": {
        "id": "4ta3E-E_USiY"
      }
    },
    {
      "cell_type": "code",
      "source": [
        "search_num=6\n",
        "for index,num in enumerate(my_array):\n",
        "    if num==search_num:\n",
        "        print(f\"{num} find in index {index}\")\n",
        "        break\n",
        "else:\n",
        "    print(\"number connot found.\")"
      ],
      "metadata": {
        "colab": {
          "base_uri": "https://localhost:8080/"
        },
        "id": "KN5EAN-mUQ3h",
        "outputId": "e0d98a79-1f49-491a-f2c0-61801444c8a7"
      },
      "execution_count": null,
      "outputs": [
        {
          "output_type": "stream",
          "name": "stdout",
          "text": [
            "number connot found.\n"
          ]
        }
      ]
    },
    {
      "cell_type": "markdown",
      "source": [
        "Numpy arrays are not designed for dynamic resizing like Python lists, but you can still append new items by creating a new array with the additional elements. Here's how you can append new items to a numpy array."
      ],
      "metadata": {
        "id": "9MECyVucU-Oc"
      }
    },
    {
      "cell_type": "code",
      "source": [
        "appended_array=np.append(my_array,[6])\n",
        "print(appended_array)\n",
        "concat_array=np.concatenate((appended_array,[9]))\n",
        "print(concat_array)"
      ],
      "metadata": {
        "colab": {
          "base_uri": "https://localhost:8080/"
        },
        "id": "bPnOr8VVU-yG",
        "outputId": "696e7e65-9520-4e02-98af-ff47022d9833"
      },
      "execution_count": null,
      "outputs": [
        {
          "output_type": "stream",
          "name": "stdout",
          "text": [
            "[1 2 3 4 5 7 6]\n",
            "[1 2 3 4 5 7 6 9]\n"
          ]
        }
      ]
    },
    {
      "cell_type": "code",
      "source": [
        "value_to_del=4\n",
        "my_array=np.array([1,2,3,4,5,6,7,8])\n",
        "print(my_array)\n",
        "mask=my_array != value_to_del\n",
        "new_array=my_array[mask]\n",
        "print(mask)\n",
        "print(new_array)"
      ],
      "metadata": {
        "colab": {
          "base_uri": "https://localhost:8080/"
        },
        "id": "Pdvgz4kRl2T0",
        "outputId": "15350ac8-f688-437e-d8af-f8ce34a4f849"
      },
      "execution_count": null,
      "outputs": [
        {
          "output_type": "stream",
          "name": "stdout",
          "text": [
            "[1 2 3 4 5 6 7 8]\n",
            "[ True  True  True False  True  True  True  True]\n",
            "[1 2 3 5 6 7 8]\n"
          ]
        }
      ]
    },
    {
      "cell_type": "code",
      "source": [
        "print(my_array)\n",
        "var=4\n",
        "mask=my_array != var\n",
        "new_array=my_array[mask]\n",
        "print(new_array)\n",
        "type(new_array)\n",
        "type(new_array[0])"
      ],
      "metadata": {
        "colab": {
          "base_uri": "https://localhost:8080/"
        },
        "id": "1sqYF7elEvCn",
        "outputId": "64d95aa3-260c-4a76-cb07-d63e51ded437"
      },
      "execution_count": null,
      "outputs": [
        {
          "output_type": "stream",
          "name": "stdout",
          "text": [
            "[1 2 3 4 5 6 7 8]\n",
            "[1 2 3 5 6 7 8]\n"
          ]
        },
        {
          "output_type": "execute_result",
          "data": {
            "text/plain": [
              "numpy.int64"
            ]
          },
          "metadata": {},
          "execution_count": 32
        }
      ]
    },
    {
      "cell_type": "code",
      "source": [
        "index_to_del=4\n",
        "print(my_array)\n",
        "new_array=np.delete(my_array,index_to_del)\n",
        "print(new_array)\n",
        "my_array = my_array[my_array != 21]\n",
        "print(my_array)"
      ],
      "metadata": {
        "colab": {
          "base_uri": "https://localhost:8080/"
        },
        "id": "gc2DgjXFL104",
        "outputId": "c33d802f-151b-4c44-b578-9532c4488277"
      },
      "execution_count": null,
      "outputs": [
        {
          "output_type": "stream",
          "name": "stdout",
          "text": [
            "[64 58 25 75  5 21]\n",
            "[64 58 25 75 21]\n",
            "[64 58 25 75  5]\n"
          ]
        }
      ]
    },
    {
      "cell_type": "code",
      "source": [
        "import numpy as np\n",
        "num_array=np.array([21,5,75,8,25,58,64])\n",
        "# num_array.sort()\n",
        "# print(num_array)\n",
        "# num_array[::-1].sort()\n",
        "# print(num_array)\n",
        "char_array=np.array(['c','t','e','y','w'])\n",
        "print(char_array)\n",
        "char_array.sort()\n",
        "print(char_array)\n",
        "sorted_arr=np.sort(num_array)\n",
        "print(sorted_arr)\n",
        "my_array = np.flip(num_array)\n",
        "print(my_array)"
      ],
      "metadata": {
        "colab": {
          "base_uri": "https://localhost:8080/"
        },
        "id": "eokWgSAQNwhU",
        "outputId": "d14c04d4-2169-4e37-9ef9-42e75669e097"
      },
      "execution_count": null,
      "outputs": [
        {
          "output_type": "stream",
          "name": "stdout",
          "text": [
            "['c' 't' 'e' 'y' 'w']\n",
            "['c' 'e' 't' 'w' 'y']\n",
            "[ 5  8 21 25 58 64 75]\n",
            "[64 58 25  8 75  5 21]\n"
          ]
        }
      ]
    },
    {
      "cell_type": "code",
      "source": [
        "# Flatten a 2D array\n",
        "arr_2d = [[1, 2, 3], [4, 5, 6], [7, 8, 9]]\n",
        "flattened = [num for sublist in arr_2d for num in sublist]\n",
        "\n",
        "# Print the flattened array\n",
        "print(\"Flattened array:\", flattened)"
      ],
      "metadata": {
        "id": "9lif0cqJLgoF",
        "colab": {
          "base_uri": "https://localhost:8080/"
        },
        "outputId": "027e130c-cf32-43af-87d9-6828b91f33e5"
      },
      "execution_count": null,
      "outputs": [
        {
          "output_type": "stream",
          "name": "stdout",
          "text": [
            "Flattened array: [1, 2, 3, 4, 5, 6, 7, 8, 9]\n"
          ]
        }
      ]
    },
    {
      "cell_type": "code",
      "source": [
        "# Find the index of the maximum value in the array\n",
        "max_val = max(arr)\n",
        "max_index = arr.index(max_val)\n",
        "\n",
        "# Print the index of the maximum value\n",
        "print(\"Index of maximum value:\", max_index)"
      ],
      "metadata": {
        "id": "-kXHNQNlLlrF"
      },
      "execution_count": null,
      "outputs": []
    },
    {
      "cell_type": "markdown",
      "source": [
        "Longest palindrome"
      ],
      "metadata": {
        "id": "xLGxEGFsZt2q"
      }
    },
    {
      "cell_type": "code",
      "source": [
        "string = input(\"Enter a string: \")\n",
        "longest_palindrome = \"\"\n",
        "\n",
        "for i in range(len(string)):\n",
        "    for j in range(i, len(string)):\n",
        "        substring = string[i:j+1]\n",
        "        if substring == substring[::-1] and len(substring) > len(longest_palindrome):\n",
        "            longest_palindrome = substring\n",
        "\n",
        "\n",
        "print(\"Longest palindrome substring:\", longest_palindrome)"
      ],
      "metadata": {
        "id": "saMSjFiladc7"
      },
      "execution_count": null,
      "outputs": []
    },
    {
      "cell_type": "markdown",
      "source": [
        "Write a Python program that takes a string as input and returns the most common character in the string."
      ],
      "metadata": {
        "id": "auVT-vdOewBl"
      }
    },
    {
      "cell_type": "code",
      "source": [
        "%%time\n",
        "strin = input(\"Enter a string: \")\n",
        "dic={}\n",
        "for ch in strin:\n",
        "    if ch not in dic:\n",
        "        dic[ch]=1\n",
        "    else:\n",
        "        dic[ch]+=1\n",
        "print(max(dic, key=dic.get))"
      ],
      "metadata": {
        "colab": {
          "base_uri": "https://localhost:8080/"
        },
        "outputId": "f5d6e077-bbcf-40d6-c387-47b3b6e9c8df",
        "id": "TqlFJql5eNd1"
      },
      "execution_count": null,
      "outputs": [
        {
          "output_type": "stream",
          "name": "stdout",
          "text": [
            "Enter a string: manisha\n",
            "2\n",
            "CPU times: user 2.41 s, sys: 400 ms, total: 2.81 s\n",
            "Wall time: 2min 37s\n"
          ]
        }
      ]
    },
    {
      "cell_type": "markdown",
      "source": [
        "Write a Python program that takes an array of integers as input and removes all duplicate values from the array."
      ],
      "metadata": {
        "id": "3jpixicxexED"
      }
    },
    {
      "cell_type": "code",
      "source": [
        "array = [3, 8, 1, 6, 2, 10, 4, 7, 5, 9, 1, 2, 5, 8]\n",
        "unique_array = []\n",
        "\n",
        "for num in array:\n",
        "    if num not in unique_array:\n",
        "        unique_array.append(num)\n",
        "\n",
        "print(\"Array with duplicates removed:\", unique_array)"
      ],
      "metadata": {
        "colab": {
          "base_uri": "https://localhost:8080/"
        },
        "id": "pTjlvth3ZgZ_",
        "outputId": "ed41b2c4-ad31-44da-bdc9-c144be2f1100"
      },
      "execution_count": null,
      "outputs": [
        {
          "output_type": "stream",
          "name": "stdout",
          "text": [
            "Array with duplicates removed: [3, 8, 1, 6, 2, 10, 4, 7, 5, 9]\n"
          ]
        }
      ]
    },
    {
      "cell_type": "markdown",
      "source": [
        "Write a Python program that takes two strings as input and checks if they are anagrams of each other."
      ],
      "metadata": {
        "id": "I_d5gh3cfame"
      }
    },
    {
      "cell_type": "code",
      "source": [
        "string1 = input(\"Enter string 1: \")\n",
        "string2 = input(\"Enter string 2: \")\n",
        "\n",
        "if sorted(string1) == sorted(string2):\n",
        "    print(\"The strings are anagrams of each other.\")\n",
        "else:\n",
        "    print(\"The strings are not anagrams of each other.\")"
      ],
      "metadata": {
        "colab": {
          "base_uri": "https://localhost:8080/"
        },
        "id": "jNBjaPijbOxL",
        "outputId": "45eba9ca-02f5-4ae5-d69a-1d9212d5a12b"
      },
      "execution_count": null,
      "outputs": [
        {
          "output_type": "stream",
          "name": "stdout",
          "text": [
            "Enter string 1: listen\n",
            "Enter string 2: silent\n",
            "The strings are anagrams of each other.\n"
          ]
        }
      ]
    },
    {
      "cell_type": "markdown",
      "source": [
        "The time complexity of this code is O(nlogn), where n is the length of the longest string. This is because the sorted function has a time complexity of O(nlogn) for sorting a list of length n.\n",
        "\n",
        "The space complexity is also O(n), where n is the length of the longest string. This is because the sorted function creates a new list with the same length as the input string, so the space required is proportional to the length of the longest string."
      ],
      "metadata": {
        "id": "FPvPHOqPfibW"
      }
    },
    {
      "cell_type": "markdown",
      "source": [
        "Write a program to remove duplicate elements from an array."
      ],
      "metadata": {
        "id": "z2cTiU-QOokS"
      }
    },
    {
      "cell_type": "code",
      "source": [
        "import array\n",
        "\n",
        "arr = array.array('i', [1, 2, 2, 3, 4, 4, 5])\n",
        "unique_arr = list(set(arr))\n",
        "print(\"Array with duplicates:\", arr)\n",
        "print(\"Array without duplicates:\", unique_arr)\n"
      ],
      "metadata": {
        "colab": {
          "base_uri": "https://localhost:8080/"
        },
        "id": "PGrMSi-LOnX5",
        "outputId": "12437290-6318-4537-bf75-34e1d707c2ae"
      },
      "execution_count": null,
      "outputs": [
        {
          "output_type": "stream",
          "name": "stdout",
          "text": [
            "Array with duplicates: array('i', [1, 2, 2, 3, 4, 4, 5])\n",
            "Array without duplicates: [1, 2, 3, 4, 5]\n"
          ]
        }
      ]
    },
    {
      "cell_type": "markdown",
      "source": [
        "Write a program to rotate the elements of an array to the left by a specified number of positions."
      ],
      "metadata": {
        "id": "c3WjPnHkPYxP"
      }
    },
    {
      "cell_type": "code",
      "source": [
        "import array\n",
        "\n",
        "def rotate_left(arr, positions):\n",
        "    return arr[positions:] + arr[:positions]\n",
        "\n",
        "arr = array.array('i', [1, 2, 3, 4, 5])\n",
        "rotated_arr = rotate_left(arr, 2)\n",
        "print(\"Rotated array:\", rotated_arr)\n"
      ],
      "metadata": {
        "colab": {
          "base_uri": "https://localhost:8080/"
        },
        "id": "N3aKExF_Otxc",
        "outputId": "af0561c4-d4f5-4b75-d2a7-c7a03de26a89"
      },
      "execution_count": null,
      "outputs": [
        {
          "output_type": "stream",
          "name": "stdout",
          "text": [
            "Rotated array: array('i', [3, 4, 5, 1, 2])\n"
          ]
        }
      ]
    },
    {
      "cell_type": "markdown",
      "source": [
        "Write a program to find the second-largest element in an array."
      ],
      "metadata": {
        "id": "8Zv9XMxnPmnS"
      }
    },
    {
      "cell_type": "code",
      "source": [
        "import array\n",
        "\n",
        "arr = array.array('i', [10, 5, 15, 20, 25])\n",
        "sorted_arr = sorted(set(arr), reverse=True)\n",
        "second_largest = sorted_arr[1] if len(sorted_arr) > 1 else None\n",
        "print(\"Second-largest element:\", second_largest)\n"
      ],
      "metadata": {
        "colab": {
          "base_uri": "https://localhost:8080/"
        },
        "id": "gTjwc1ekPlM_",
        "outputId": "a13dbd2c-c653-4f42-d85d-33c34c47a83b"
      },
      "execution_count": null,
      "outputs": [
        {
          "output_type": "stream",
          "name": "stdout",
          "text": [
            "Second-largest element: 20\n"
          ]
        }
      ]
    },
    {
      "cell_type": "markdown",
      "source": [
        "To convert a list, set, or any iterable sequence into an array in Python, you can use the `array` module. The `array` module provides the `array` function, which takes a typecode and an iterable as arguments.\n",
        "\n",
        "Here's an example of how to convert a list to an array:\n",
        "\n",
        "```python\n",
        "import array\n",
        "\n",
        "my_list = [1, 2, 3, 4, 5]\n",
        "arr_from_list = array.array('i', my_list)\n",
        "\n",
        "print(arr_from_list)\n",
        "# Output: array('i', [1, 2, 3, 4, 5])\n",
        "```\n",
        "\n",
        "In this example, `arr_from_list` is an array of signed integers (`'i'` typecode) created from the elements of the `my_list` list.\n",
        "\n",
        "You can follow the same approach for sets or other iterable sequences:\n",
        "\n",
        "```python\n",
        "import array\n",
        "\n",
        "my_set = {1, 2, 3, 4, 5}\n",
        "arr_from_set = array.array('i', my_set)\n",
        "\n",
        "print(arr_from_set)\n",
        "# Output: array('i', [1, 2, 3, 4, 5])\n",
        "```\n",
        "\n",
        "The key is to use the `array` function and specify the appropriate typecode for the elements in your sequence.\n",
        "\n",
        "Here are some commonly used typecodes:\n",
        "\n",
        "- `'i'`: Signed integer\n",
        "- `'f'`: Float\n",
        "- `'d'`: Double\n",
        "\n",
        "Make sure to choose the typecode that best matches the type of elements in your sequence."
      ],
      "metadata": {
        "id": "RhpChlBgP8lm"
      }
    },
    {
      "cell_type": "code",
      "source": [
        "import array\n",
        "\n",
        "my_string = \"hello\"\n",
        "arr_from_string = array.array('b', [ord(char) for char in my_string])   #ord() returns unicode of value"
      ],
      "metadata": {
        "colab": {
          "base_uri": "https://localhost:8080/"
        },
        "id": "HrmNgU64RWTL",
        "outputId": "1a360b5e-e716-4366-ca27-fe5af1bc0e39"
      },
      "execution_count": null,
      "outputs": [
        {
          "output_type": "execute_result",
          "data": {
            "text/plain": [
              "array('b', [104, 101, 108, 108, 111])"
            ]
          },
          "metadata": {},
          "execution_count": 20
        }
      ]
    },
    {
      "cell_type": "code",
      "source": [
        "string = \"Hello World\"\n",
        "substring = string[6:]\n",
        "print(substring)  # Output: \"World\"\n",
        "\n",
        "string = \"apple, banana, orange\"\n",
        "substring = string.split(\", \")[2]\n",
        "print(substring)  # Output: \"banana\"\n"
      ],
      "metadata": {
        "colab": {
          "base_uri": "https://localhost:8080/"
        },
        "id": "S7hiGMNDi91b",
        "outputId": "2e25ef7a-289c-4fab-9203-9ce337360460"
      },
      "execution_count": null,
      "outputs": [
        {
          "output_type": "stream",
          "name": "stdout",
          "text": [
            "World\n",
            "orange\n"
          ]
        }
      ]
    },
    {
      "cell_type": "code",
      "source": [
        "'''Certainly! The operation you're referring to is string slicing, and it involves extracting a portion (substring) from a given string in Python. Additionally, methods like `split()`, `partition()`, and `find()` can also be used for substring extraction. Let's delve into each method with detailed notes and examples:\n",
        "\n",
        "## String Slicing:\n",
        "\n",
        "String slicing is a technique to extract a portion of a string by specifying the start and end indices. The syntax is `string[start:end]`, where the substring includes characters from the `start` index up to, but not including, the `end` index.\n",
        "\n",
        "python'''\n",
        "original_string = \"Python is powerful\"\n",
        "\n",
        "# Extracting a substring using string slicing\n",
        "substring = original_string[7:10]\n",
        "print(substring)  # Output: 'is '\n",
        "\n",
        "'''\n",
        "You can omit either the `start` or `end` index to slice from the beginning or up to the end, respectively.\n",
        "\n",
        "'''\n",
        "# Slicing from the beginning\n",
        "substring_beginning = original_string[:6]\n",
        "print(substring_beginning)  # Output: 'Python'\n",
        "\n",
        "# Slicing up to the end\n",
        "substring_end = original_string[13:]\n",
        "print(substring_end)  # Output: 'powerful'\n",
        "'''\n",
        "\n",
        "Negative indices can be used for slicing from the end of the string.\n",
        "\n",
        "'''\n",
        "# Slicing from the end\n",
        "substring_from_end = original_string[-8:-1]\n",
        "print(substring_from_end)  # Output: 'powerful'\n",
        "\n",
        "## String Methods:\n",
        "\n",
        "### 1. split():\n",
        "\n",
        "# The `split()` method splits a string into a list of substrings based on a specified delimiter. If no delimiter is provided, it splits on whitespace.\n",
        "\n",
        "\n",
        "sentence = \"Python is versatile and powerful\"\n",
        "\n",
        "# Splitting the string into words\n",
        "words = sentence.split()\n",
        "print(words)  # Output: ['Python', 'is', 'versatile', 'and', 'powerful']\n",
        "\n",
        "# You can also split based on a custom delimiter.\n",
        "\n",
        "\n",
        "date = \"2022-11-04\"\n",
        "\n",
        "# Splitting the string using '-'\n",
        "date_parts = date.split('-')\n",
        "print(date_parts)  # Output: ['2022', '11', '04']\n",
        "\n",
        "\n",
        "### 2. partition():\n",
        "\n",
        "# The `partition()` method splits a string into three parts based on the first occurrence of a specified separator. It returns a tuple containing the substring before the separator, the separator itself, and the substring after the separator.\n",
        "\n",
        "# ``python\n",
        "sentence = \"Python is easy to learn\"\n",
        "\n",
        "# Partitioning the string using 'is'\n",
        "result = sentence.partition('easy')\n",
        "print(result)  # Output: ('Python ', 'is', ' easy to learn')\n",
        "# ```\n",
        "\n",
        "### 3. find():\n",
        "\n",
        "# The `find()` method searches for a substring within the given string and returns the index of the first occurrence. If the substring is not found, it returns -1.\n",
        "\n",
        "# ```python\n",
        "sentence = \"Python is fun\"\n",
        "\n",
        "# Finding the index of 'is'\n",
        "index = sentence.find('is')\n",
        "print(index)  # Output: 7\n",
        "\n",
        "# Finding the index of 'Java' (not present)\n",
        "index_not_found = sentence.find('Java')\n",
        "print(index_not_found)  # Output: -1\n",
        "# ```\n",
        "\n",
        "# These methods provide different ways to extract substrings from strings in Python. Depending on the specific use case, you can choose the most suitable method for your needs."
      ],
      "metadata": {
        "colab": {
          "base_uri": "https://localhost:8080/"
        },
        "id": "McnpBfjojfvP",
        "outputId": "e60768ed-1d17-4f20-ca56-c101b0e1fb81"
      },
      "execution_count": null,
      "outputs": [
        {
          "output_type": "stream",
          "name": "stdout",
          "text": [
            "is \n",
            "Python\n",
            "erful\n",
            "powerfu\n",
            "['Python', 'is', 'versatile', 'and', 'powerful']\n",
            "['2022', '11', '04']\n",
            "('Python is ', 'easy', ' to learn')\n",
            "7\n",
            "-1\n"
          ]
        }
      ]
    },
    {
      "cell_type": "code",
      "source": [
        "import re\n",
        "\n",
        "# Using regex to remove all spaces\n",
        "sample_string = \"This is a regex example.\"\n",
        "no_spaces = re.sub(r'\\s', '', sample_string)\n",
        "print(no_spaces)  # This will print the string without any spaces"
      ],
      "metadata": {
        "colab": {
          "base_uri": "https://localhost:8080/"
        },
        "id": "JjVlnpWEt66J",
        "outputId": "9976dff9-0096-4b6f-a6ef-8c9b57a7896a"
      },
      "execution_count": null,
      "outputs": [
        {
          "output_type": "stream",
          "name": "stdout",
          "text": [
            "Thisisaregexexample.\n"
          ]
        }
      ]
    },
    {
      "cell_type": "code",
      "source": [
        "# Timing a built-in method\n",
        "import time\n",
        "\n",
        "sample_string = \" \" * 1000000  # A string with a million spaces\n",
        "start_time = time.time()\n",
        "sample_string.replace(\" \", \"\")\n",
        "end_time = time.time()\n",
        "\n",
        "print(f\"Built-in replace method took {end_time - start_time} seconds.\")"
      ],
      "metadata": {
        "colab": {
          "base_uri": "https://localhost:8080/"
        },
        "id": "lyUyBfhvx2bV",
        "outputId": "6688c33a-9631-4d8f-f9e6-e0d0b520cb94"
      },
      "execution_count": null,
      "outputs": [
        {
          "output_type": "stream",
          "name": "stdout",
          "text": [
            "Built-in replace method took 0.003125429153442383 seconds.\n"
          ]
        }
      ]
    },
    {
      "cell_type": "code",
      "source": [
        "import sys\n",
        "\n",
        "sample_string = \" \" * 1000000\n",
        "print(f\"Memory usage of original string: {sys.getsizeof(sample_string)} bytes\")"
      ],
      "metadata": {
        "id": "bJGjRlb4yPsS",
        "outputId": "119f1beb-53c2-4058-a847-94836c4aab0d",
        "colab": {
          "base_uri": "https://localhost:8080/"
        }
      },
      "execution_count": null,
      "outputs": [
        {
          "output_type": "stream",
          "name": "stdout",
          "text": [
            "Memory usage of original string: 1000049 bytes\n"
          ]
        }
      ]
    },
    {
      "cell_type": "markdown",
      "source": [
        "1. **Naive String Matching**: This is a simple algorithm that involves comparing the pattern with each possible substring of the text."
      ],
      "metadata": {
        "id": "grRv0PegTnbR"
      }
    },
    {
      "cell_type": "code",
      "source": [
        "def naive_string_matching(text, pattern):\n",
        "    '''check if pattern is in string if yes\n",
        "Then in which which index position.and this is docstring\n",
        "You can print only docstring by printing function name with? Mark without braces.'''\n",
        "    # Get the lengths of the text and pattern strings\n",
        "    n = len(text)\n",
        "    m = len(pattern)\n",
        "\n",
        "    # Initialize an empty list to store the starting indices of pattern matches\n",
        "    matches = []\n",
        "\n",
        "    # Loop through each possible starting index for the pattern in the text\n",
        "    for i in range(n - m + 1):\n",
        "        # Initialize a counter j to 0 and compare the characters of the pattern to the corresponding characters in the text\n",
        "        j = 0\n",
        "        while j < m and pattern[j] == text[i+j]:\n",
        "            j += 1\n",
        "        # If all characters match, add the starting index to the matches list\n",
        "        if j == m:\n",
        "            matches.append(i)\n",
        "\n",
        "    # Return the list of starting indices of pattern matches\n",
        "    return matches\n",
        "\n",
        "# Example usage\n",
        "text = \"ABCDABCDEFABC\"\n",
        "pattern = \"ABC\"\n",
        "matches = naive_string_matching(text, pattern)\n",
        "naive_string_matching?\n",
        "print(\"Pattern matches found at indices:\", matches)"
      ],
      "metadata": {
        "colab": {
          "base_uri": "https://localhost:8080/"
        },
        "id": "op0lJ8KCbpy0",
        "outputId": "f707b329-d5d2-4cca-fb82-85a45b126dd6"
      },
      "execution_count": null,
      "outputs": [
        {
          "output_type": "stream",
          "name": "stdout",
          "text": [
            "Pattern matches found at indices: [0, 4, 10]\n"
          ]
        }
      ]
    },
    {
      "cell_type": "markdown",
      "source": [
        "🔍🔍🔍\n",
        "\n",
        " Scenario: A company has a list of employee names and their employee IDs. The company needs to generate email addresses for each employee using the following format: firstname.lastname@company.com. However, some employees have multiple first or last names, separated by spaces, and their employee IDs have leading zeros that need to be removed. Write a Python program to generate email addresses for each employee."
      ],
      "metadata": {
        "id": "dNJjK0lrmSKF"
      }
    },
    {
      "cell_type": "code",
      "source": [
        "# Employee information\n",
        "names = [\"John Smith\", \"Jane Doe\", \"James William Johnson\"]\n",
        "ids = [\"001234\", \"000987\", \"005678\"]\n",
        "\n",
        "def generate_email(employee_name, employee_id):\n",
        "    # Split the full name into first and last names\n",
        "    name_parts= employee_name.split()\n",
        "    first_name=name_parts[0]\n",
        "    last_name=name_parts[-1]\n",
        "    if len(name_parts)>2:\n",
        "        first_name=\"\".join(name_parts[:-1])\n",
        "        last_name=name_parts[-1]\n",
        "    # print(first_name)\n",
        "    # print(last_name)\n",
        "\n",
        "    # Remove leading zeros from the employee ID\n",
        "    # cleaned_id = str(int(employee_id))\n",
        "    # there is another way is using lstrip()\n",
        "    cleaned_id = employee_id.lstrip(\"0\")\n",
        "\n",
        "    # Generate the email address using the specified format\n",
        "    email = f\"{first_name.lower()}.{last_name.lower()}@company.com\"\n",
        "\n",
        "    return email,cleaned_id\n",
        "\n",
        "# Generate and print email addresses for each employee\n",
        "for name, employee_id in zip(names, ids):\n",
        "    email_address, id = generate_email(name, employee_id)\n",
        "    print(f\"{name}'s email address: {email_address} and id:{id}\")\n"
      ],
      "metadata": {
        "colab": {
          "base_uri": "https://localhost:8080/"
        },
        "id": "IEGCPtDrI93Y",
        "outputId": "d55a3abf-65b1-4d36-acb1-d1992d848f0c"
      },
      "execution_count": null,
      "outputs": [
        {
          "output_type": "stream",
          "name": "stdout",
          "text": [
            "John\n",
            "Smith\n",
            "John Smith's email address: john.smith@company.com and id:1234\n",
            "Jane\n",
            "Doe\n",
            "Jane Doe's email address: jane.doe@company.com and id:987\n",
            "JamesWilliam\n",
            "Johnson\n",
            "James William Johnson's email address: jameswilliam.johnson@company.com and id:5678\n"
          ]
        }
      ]
    },
    {
      "cell_type": "markdown",
      "source": [
        "🧑🧑🧑\n",
        "You are a teacher who needs to grade a stack of math homework assignments. You want to make sure that the students have followed the instructions and written their answers in the correct format. The correct format for the answer is a number followed by the unit of measurement, separated by a space. For example, \"10 meters\" or \"5 seconds\".\n",
        "\n",
        "You decide to use naive string matching to find all the answers that are not in the correct format so that you can provide feedback to the students.\n",
        "\n",
        "Can you write a Python code to help you find the answers that are not in the correct format?"
      ],
      "metadata": {
        "id": "S9lf81INqEOJ"
      }
    },
    {
      "cell_type": "code",
      "source": [
        "def find_incorrect_format(answers):\n",
        "    incorrect_format = []\n",
        "\n",
        "    for i, answer in enumerate(answers, 1):\n",
        "        # Split the answer into parts based on spaces\n",
        "        parts = answer.split()\n",
        "\n",
        "        # Check if the answer has the correct format (a number followed by a unit)\n",
        "        if len(parts) != 2 or (not parts[0].replace('.', '').isdigit() and not parts[0].replace('-', '').isdigit()):\n",
        "            incorrect_format.append((i, answer))\n",
        "\n",
        "    return incorrect_format\n",
        "\n",
        "# Example usage\n",
        "homework_answers = [\"10 meters\",\"5 seconds\",\"2.89 meter second\",\"15\",\"2 minutes\",\"7 apples\"]\n",
        "\n",
        "incorrect_answers = find_incorrect_format(homework_answers)\n",
        "\n",
        "if incorrect_answers:\n",
        "    print(\"Answers with incorrect format:\")\n",
        "    for index, answer in incorrect_answers:\n",
        "        print(f\"  - Answer {index}: {answer}\")\n",
        "else:\n",
        "    print(\"All answers are in the correct format.\")\n"
      ],
      "metadata": {
        "colab": {
          "base_uri": "https://localhost:8080/"
        },
        "id": "yGAZyw7IKOfw",
        "outputId": "6a31dabb-2384-4468-c84c-4cf934d6c4a0"
      },
      "execution_count": null,
      "outputs": [
        {
          "output_type": "stream",
          "name": "stdout",
          "text": [
            "Answers with incorrect format:\n",
            "  - Answer 3: 2.89 meter second\n",
            "  - Answer 4: 15\n"
          ]
        }
      ]
    },
    {
      "cell_type": "code",
      "source": [
        "# Step 1: Define two string variables\n",
        "favorite_emoji = \"🚀\"\n",
        "your_name = \"John\"\n",
        "\n",
        "# Step 2: Concatenate the two strings\n",
        "concatenated_string = favorite_emoji + your_name\n",
        "\n",
        "# Step 3: Convert the concatenated string to uppercase\n",
        "uppercase_string = concatenated_string.upper()\n",
        "\n",
        "# Step 4: Replace the emoji with a new emoji\n",
        "new_emoji = \"🌟\"\n",
        "modified_string = concatenated_string.replace(favorite_emoji, new_emoji)\n",
        "\n",
        "# Step 5: Find the position of the letter \"h\"\n",
        "position_of_h = concatenated_string.find(\"h\")\n",
        "\n",
        "# Print the results\n",
        "print(\"Favorite Emoji:\", favorite_emoji)\n",
        "print(\"Your Name:\", your_name)\n",
        "print(\"Concatenated String:\", concatenated_string)\n",
        "print(\"Uppercase String:\", uppercase_string)\n",
        "print(\"Modified String:\", modified_string)\n",
        "print(\"Position of 'h':\", position_of_h)\n"
      ],
      "metadata": {
        "colab": {
          "base_uri": "https://localhost:8080/"
        },
        "id": "KauPdiRoNtPW",
        "outputId": "0d9a49a0-e738-4398-a557-2afed88d3160"
      },
      "execution_count": null,
      "outputs": [
        {
          "output_type": "stream",
          "name": "stdout",
          "text": [
            "Favorite Emoji: 🚀\n",
            "Your Name: John\n",
            "Concatenated String: 🚀John\n",
            "Uppercase String: 🚀JOHN\n",
            "Modified String: 🌟John\n",
            "Position of 'h': 3\n"
          ]
        }
      ]
    },
    {
      "cell_type": "markdown",
      "source": [
        " Create a 2D Array and Slice Rows and Columns"
      ],
      "metadata": {
        "id": "0abVdBHus1rc"
      }
    },
    {
      "cell_type": "code",
      "source": [
        "import numpy as np\n",
        "\n",
        "# Create a 2D array\n",
        "matrix = np.array([[1, 2, 3], [4, 5, 6], [7, 8, 9]])\n",
        "\n",
        "# Slice rows from index 0 to 1 (exclusive)\n",
        "sliced_rows = matrix[0:2, :]\n",
        "\n",
        "# Slice columns from index 1 to the end\n",
        "sliced_columns = matrix[:, 1:]\n",
        "\n",
        "# Print the results\n",
        "print(\"Original Matrix:\")\n",
        "print(matrix)\n",
        "print(\"\\nSliced Rows:\")\n",
        "print(sliced_rows)\n",
        "print(\"\\nSliced Columns:\")\n",
        "print(sliced_columns)\n"
      ],
      "metadata": {
        "colab": {
          "base_uri": "https://localhost:8080/"
        },
        "id": "O9QWDnFDs2f0",
        "outputId": "caaebb01-9434-4531-adf1-42c75bddb96c"
      },
      "execution_count": null,
      "outputs": [
        {
          "output_type": "stream",
          "name": "stdout",
          "text": [
            "Original Matrix:\n",
            "[[1 2 3]\n",
            " [4 5 6]\n",
            " [7 8 9]]\n",
            "\n",
            "Sliced Rows:\n",
            "[[1 2 3]\n",
            " [4 5 6]]\n",
            "\n",
            "Sliced Columns:\n",
            "[[2 3]\n",
            " [5 6]\n",
            " [8 9]]\n"
          ]
        }
      ]
    },
    {
      "cell_type": "markdown",
      "source": [
        "Explanation:\n",
        "\n",
        "We created a 3x3 matrix using NumPy.\n",
        "sliced_rows contains rows from index 0 to 1 (exclusive), resulting in the first two rows.\n",
        "sliced_columns contains columns from index 1 to the end, resulting in the second and third columns."
      ],
      "metadata": {
        "id": "l6ZyAxKus8In"
      }
    },
    {
      "cell_type": "markdown",
      "source": [
        "Extract Diagonal Elements from a Matrix\n",
        "python\n"
      ],
      "metadata": {
        "id": "EA0nGNaHs_ZK"
      }
    },
    {
      "cell_type": "code",
      "source": [
        "import numpy as np\n",
        "\n",
        "# Create a 3x3 matrix\n",
        "matrix = np.array([[1, 2, 3], [4, 5, 6], [7, 8, 9]])\n",
        "\n",
        "# Extract diagonal elements\n",
        "diagonal_elements = np.diag(matrix)\n",
        "\n",
        "# Print the diagonal elements\n",
        "print(\"Diagonal Elements:\")\n",
        "print(diagonal_elements)\n"
      ],
      "metadata": {
        "colab": {
          "base_uri": "https://localhost:8080/"
        },
        "id": "oU32BDJ0tAKf",
        "outputId": "48e9b6e6-1eb5-47c9-9a05-3557a5cd97d9"
      },
      "execution_count": null,
      "outputs": [
        {
          "output_type": "stream",
          "name": "stdout",
          "text": [
            "Diagonal Elements:\n",
            "[1 5 9]\n"
          ]
        }
      ]
    },
    {
      "cell_type": "markdown",
      "source": [
        "**Task Assignment:**\n",
        "Develop a Python program that dynamically generates a matrix of random numbers. The program should be designed to accept a random number of rows and columns as input. Additionally, provide functionality to print and display the resulting matrix.\n",
        "\n",
        "Please structure the code professionally and include comments for clarity. Consider utilizing functions to enhance modularity and readability."
      ],
      "metadata": {
        "id": "xFQotFjHRa7o"
      }
    },
    {
      "cell_type": "code",
      "source": [
        "\n",
        "import random\n",
        "\n",
        "def create_random_matrix(rows, cols):\n",
        "    matrix = [[random.randint(1, 20) for i in range(cols)] for j in range(rows)]\n",
        "    return matrix\n",
        "\n",
        "# Example: create a 3x3 matrix\n",
        "rows = random.randint(1,5)\n",
        "cols = random.randint(1,5)\n",
        "random_matrix = create_random_matrix(rows, cols)\n",
        "\n",
        "# Print the matrix\n",
        "for row in random_matrix:\n",
        "    print(row)\n"
      ],
      "metadata": {
        "colab": {
          "base_uri": "https://localhost:8080/"
        },
        "id": "Ermo3qYSPFQi",
        "outputId": "90f527a9-9bfc-45bf-b6c5-ea4897940a0b"
      },
      "execution_count": null,
      "outputs": [
        {
          "output_type": "stream",
          "name": "stdout",
          "text": [
            "[3, 7]\n",
            "[15, 17]\n",
            "[7, 2]\n",
            "[9, 16]\n",
            "[4, 5]\n"
          ]
        }
      ]
    },
    {
      "cell_type": "markdown",
      "source": [
        "Explanation:\n",
        "\n",
        "We created a 3x3 matrix.\n",
        "np.diag(matrix) extracts the diagonal elements of the matrix."
      ],
      "metadata": {
        "id": "Ai062Hq2tGT2"
      }
    },
    {
      "cell_type": "markdown",
      "source": [
        "Create a Random 2D Array and Perform Slicing\n",
        "python\n"
      ],
      "metadata": {
        "id": "JW2952TCtJnf"
      }
    },
    {
      "cell_type": "code",
      "source": [
        "import numpy as np\n",
        "\n",
        "# Create a random 3x4 matrix\n",
        "random_matrix = np.random.rand(3, 4)\n",
        "\n",
        "# Slice a submatrix from the original matrix\n",
        "submatrix = random_matrix[1:3, 0:2]\n",
        "\n",
        "# Print the results\n",
        "print(\"Random Matrix:\")\n",
        "print(random_matrix)\n",
        "print(\"\\nSubmatrix:\")\n",
        "print(submatrix)\n"
      ],
      "metadata": {
        "colab": {
          "base_uri": "https://localhost:8080/"
        },
        "id": "wXWnEPWotKdt",
        "outputId": "9d7c37a9-5226-4b21-a0ab-ff1415a5a53d"
      },
      "execution_count": null,
      "outputs": [
        {
          "output_type": "stream",
          "name": "stdout",
          "text": [
            "Random Matrix:\n",
            "[[0.42320534 0.19400811 0.88398434 0.95879156]\n",
            " [0.19028494 0.7945481  0.10314774 0.54153298]\n",
            " [0.90801529 0.04049576 0.99591124 0.87791685]]\n",
            "\n",
            "Submatrix:\n",
            "[[0.19028494 0.7945481 ]\n",
            " [0.90801529 0.04049576]]\n"
          ]
        }
      ]
    },
    {
      "cell_type": "code",
      "source": [
        "import numpy as np\n",
        "\n",
        "# Set the range for random numbers\n",
        "lower_limit = 1\n",
        "upper_limit = 30\n",
        "\n",
        "# Generate a 3x4 matrix of random integers between 1 and 30\n",
        "random_matrix = np.random.randint(lower_limit, upper_limit + 1, size=(3, 4))\n",
        "\n",
        "# Print the matrix\n",
        "print(random_matrix)\n"
      ],
      "metadata": {
        "colab": {
          "base_uri": "https://localhost:8080/"
        },
        "id": "v0mLZhbxSTp9",
        "outputId": "ab5978b5-3dd6-4ad1-daba-1e33e8fc86aa"
      },
      "execution_count": null,
      "outputs": [
        {
          "output_type": "stream",
          "name": "stdout",
          "text": [
            "[[ 8  2  3 30]\n",
            " [10 19  5 30]\n",
            " [13  3  3 18]]\n"
          ]
        }
      ]
    },
    {
      "cell_type": "markdown",
      "source": [
        "Explanation:\n",
        "\n",
        "We created a random 3x4 matrix using np.random.rand.\n",
        "submatrix is a sliced portion of the original matrix, containing rows from index 1 to 2 and columns from index 0 to 1."
      ],
      "metadata": {
        "id": "T7f3sNL2tPML"
      }
    },
    {
      "cell_type": "markdown",
      "source": [
        "Matrix Multiplication"
      ],
      "metadata": {
        "id": "zhSkRjobygMV"
      }
    },
    {
      "cell_type": "code",
      "source": [
        "import numpy as np\n",
        "\n",
        "# Create two matrices\n",
        "matrix_a = np.array([[1, 2, 3], [4, 5, 6]])\n",
        "matrix_b = np.array([[7, 8], [9, 10], [11, 12]])\n",
        "\n",
        "# Perform matrix multiplication\n",
        "result_matrix = np.dot(matrix_a, matrix_b)\n",
        "\n",
        "# Print the result\n",
        "print(\"Matrix A:\")\n",
        "print(matrix_a)\n",
        "print(\"\\nMatrix B:\")\n",
        "print(matrix_b)\n",
        "print(\"\\nResult Matrix (Matrix Multiplication):\")\n",
        "print(result_matrix)\n"
      ],
      "metadata": {
        "colab": {
          "base_uri": "https://localhost:8080/"
        },
        "id": "dhgdsv_1yg40",
        "outputId": "d8811795-2a19-4d0d-ae1c-1d53510849b7"
      },
      "execution_count": null,
      "outputs": [
        {
          "output_type": "stream",
          "name": "stdout",
          "text": [
            "Matrix A:\n",
            "[[1 2 3]\n",
            " [4 5 6]]\n",
            "\n",
            "Matrix B:\n",
            "[[ 7  8]\n",
            " [ 9 10]\n",
            " [11 12]]\n",
            "\n",
            "Result Matrix (Matrix Multiplication):\n",
            "[[ 58  64]\n",
            " [139 154]]\n"
          ]
        }
      ]
    },
    {
      "cell_type": "markdown",
      "source": [
        "Explanation:\n",
        "\n",
        "We created two matrices, A and B.\n",
        "The np.dot(matrix_a, matrix_b) performs matrix multiplication.\n",
        "The resulting matrix is the product of matrix A and matrix B."
      ],
      "metadata": {
        "id": "3UTbO_LeylOB"
      }
    },
    {
      "cell_type": "markdown",
      "source": [
        "Element-wise Addition and Subtraction"
      ],
      "metadata": {
        "id": "O35d-tdhyqMZ"
      }
    },
    {
      "cell_type": "code",
      "source": [
        "import numpy as np\n",
        "\n",
        "# Create two matrices\n",
        "matrix_x = np.array([[1, 2], [3, 4]])\n",
        "matrix_y = np.array([[5, 6], [7, 8]])\n",
        "\n",
        "# Perform element-wise addition and subtraction\n",
        "addition_result = matrix_x + matrix_y\n",
        "subtraction_result = matrix_x - matrix_y\n",
        "\n",
        "# Print the results\n",
        "print(\"Matrix X:\")\n",
        "print(matrix_x)\n",
        "print(\"\\nMatrix Y:\")\n",
        "print(matrix_y)\n",
        "print(\"\\nElement-wise Addition Result:\")\n",
        "print(addition_result)\n",
        "print(\"\\nElement-wise Subtraction Result:\")\n",
        "print(subtraction_result)\n"
      ],
      "metadata": {
        "colab": {
          "base_uri": "https://localhost:8080/"
        },
        "id": "OuWUQvsTyqph",
        "outputId": "423c75c7-feb9-4b9a-f883-77bd90a1f1b3"
      },
      "execution_count": null,
      "outputs": [
        {
          "output_type": "stream",
          "name": "stdout",
          "text": [
            "Matrix X:\n",
            "[[1 2]\n",
            " [3 4]]\n",
            "\n",
            "Matrix Y:\n",
            "[[5 6]\n",
            " [7 8]]\n",
            "\n",
            "Element-wise Addition Result:\n",
            "[[ 6  8]\n",
            " [10 12]]\n",
            "\n",
            "Element-wise Subtraction Result:\n",
            "[[-4 -4]\n",
            " [-4 -4]]\n"
          ]
        }
      ]
    },
    {
      "cell_type": "markdown",
      "source": [
        "Explanation:\n",
        "\n",
        "We created two matrices, X and Y.\n",
        "matrix_x + matrix_y performs element-wise addition.\n",
        "matrix_x - matrix_y performs element-wise subtraction."
      ],
      "metadata": {
        "id": "4_d5p8HuywoK"
      }
    },
    {
      "cell_type": "markdown",
      "source": [
        "Transpose of a Matrix"
      ],
      "metadata": {
        "id": "u9Jn7aJayzN8"
      }
    },
    {
      "cell_type": "code",
      "source": [
        "import numpy as np\n",
        "\n",
        "# Create a matrix\n",
        "original_matrix = np.array([[1, 2, 3], [4, 5, 6]])\n",
        "\n",
        "# Calculate the transpose of the matrix\n",
        "transposed_matrix = original_matrix.T\n",
        "\n",
        "# Print the results\n",
        "print(\"Original Matrix:\")\n",
        "print(original_matrix)\n",
        "print(\"\\nTransposed Matrix:\")\n",
        "print(transposed_matrix)\n"
      ],
      "metadata": {
        "colab": {
          "base_uri": "https://localhost:8080/"
        },
        "id": "E-7d9zoWyz0p",
        "outputId": "c7087a3b-4790-4c2f-d5ae-8296160d1b51"
      },
      "execution_count": null,
      "outputs": [
        {
          "output_type": "stream",
          "name": "stdout",
          "text": [
            "Original Matrix:\n",
            "[[1 2 3]\n",
            " [4 5 6]]\n",
            "\n",
            "Transposed Matrix:\n",
            "[[1 4]\n",
            " [2 5]\n",
            " [3 6]]\n"
          ]
        }
      ]
    },
    {
      "cell_type": "markdown",
      "source": [
        "Explanation:\n",
        "\n",
        "We created a matrix, original_matrix.\n",
        ".T is used to calculate the transpose of the matrix, swapping rows with columns."
      ],
      "metadata": {
        "id": "eXwCPP38y5Un"
      }
    },
    {
      "cell_type": "markdown",
      "source": [
        "Array Indexing and Boolean Indexing"
      ],
      "metadata": {
        "id": "WShjhFGRy6MC"
      }
    },
    {
      "cell_type": "code",
      "source": [
        "import numpy as np\n",
        "\n",
        "# Create an array\n",
        "num_array = np.array([1, 2, 3, 4, 5])\n",
        "\n",
        "# Access elements using indexing\n",
        "third_element = num_array[2]\n",
        "\n",
        "# Boolean indexing to filter elements\n",
        "filtered_elements = num_array[num_array > 2]\n",
        "\n",
        "# Print the results\n",
        "print(\"Original Array:\")\n",
        "print(num_array)\n",
        "print(\"\\nThird Element:\")\n",
        "print(third_element)\n",
        "print(\"\\nFiltered Elements (greater than 2):\")\n",
        "print(filtered_elements)\n"
      ],
      "metadata": {
        "colab": {
          "base_uri": "https://localhost:8080/"
        },
        "id": "hk8D_jI4y-vu",
        "outputId": "3f90529b-f67a-4806-d6ae-368faf992716"
      },
      "execution_count": null,
      "outputs": [
        {
          "output_type": "stream",
          "name": "stdout",
          "text": [
            "Original Array:\n",
            "[1 2 3 4 5]\n",
            "\n",
            "Third Element:\n",
            "3\n",
            "\n",
            "Filtered Elements (greater than 2):\n",
            "[3 4 5]\n"
          ]
        }
      ]
    },
    {
      "cell_type": "markdown",
      "source": [
        "Explanation:\n",
        "\n",
        "We created a NumPy array, num_array.\n",
        "num_array[2] accesses the third element (index 2) of the array.\n",
        "num_array[num_array > 2] uses boolean indexing to filter elements greater than 2."
      ],
      "metadata": {
        "id": "E2sNHLe9zCUZ"
      }
    },
    {
      "cell_type": "markdown",
      "source": [
        "Factorial: Write a recursive function to compute the factorial of a given number. The factorial of n is defined as the product of all positive integers from 1 to n."
      ],
      "metadata": {
        "id": "MZN-bitH52XN"
      }
    },
    {
      "cell_type": "code",
      "source": [
        "def factorial(n):\n",
        "    if n == 0:  # Base case: if n equals 0\n",
        "        return 1  # Return 1 (as 0! equals 1)\n",
        "    else:  # If n is not equal to 0\n",
        "        # Recursively call the function with n-1 as the argument and multiply the result by n\n",
        "        return n * factorial(n-1)\n",
        "# input a number by user\n",
        "number=int(input(\"Enter a number:\"))\n",
        "# if number is a negative than factorial can not be possible.\n",
        "if number<0:\n",
        "    print(\"Sorry! factorial is can not be calculated on -ve number.\")\n",
        "# Factorial of 1 is 1\n",
        "elif number==1:\n",
        "    print(f\"Factorial of {number} is 1\")\n",
        "# call the factorial function and print it\n",
        "else:\n",
        "    print(f\"Factorial of {number} is {factorial(number)}\")\n",
        "\n",
        "# Example usage\n",
        "# print(factorial(5))  # Output: 120 (as 5! equals 120)\n"
      ],
      "metadata": {
        "colab": {
          "base_uri": "https://localhost:8080/"
        },
        "id": "ZSD8hVwSj5H1",
        "outputId": "febb2d93-7f04-47f3-818c-fe17b2326a38"
      },
      "execution_count": null,
      "outputs": [
        {
          "output_type": "stream",
          "name": "stdout",
          "text": [
            "Enter a number:5\n",
            "Factorial of 5 is 120\n",
            "120\n"
          ]
        }
      ]
    },
    {
      "cell_type": "markdown",
      "source": [
        "Fibonacci sequence: Write a recursive function to compute the nth number in the Fibonacci sequence. The Fibonacci sequence is a sequence of numbers where each number is the sum of the two preceding ones, starting from 0 and 1."
      ],
      "metadata": {
        "id": "GJ1R8FHI6ZIB"
      }
    },
    {
      "cell_type": "code",
      "source": [
        "def fibonacci(n):\n",
        "    if n <= 1:  # Base case: if n is less than or equal to 1\n",
        "        return n  # Return n (i.e., 0 if n is 0, 1 if n is 1)\n",
        "    else:  # If n is greater than 1\n",
        "        # Recursively call the function with n-1 and n-2 as the arguments and add the results\n",
        "        return fibonacci(n-1) + fibonacci(n-2)\n",
        "\n",
        "# Example usage\n",
        "print(fibonacci(10))  # Output: 13 (as the 7th Fibonacci number is 13)"
      ],
      "metadata": {
        "colab": {
          "base_uri": "https://localhost:8080/"
        },
        "id": "Vm0TCm__6aAq",
        "outputId": "cb204d64-f295-43b9-eb86-ed7a6cc427e9"
      },
      "execution_count": null,
      "outputs": [
        {
          "output_type": "stream",
          "name": "stdout",
          "text": [
            "55\n"
          ]
        }
      ]
    },
    {
      "cell_type": "markdown",
      "source": [
        "### **Write a program to find the sum of natural numbers up to n using recursion.**"
      ],
      "metadata": {
        "id": "jd9si-4wK9-J"
      }
    },
    {
      "cell_type": "code",
      "source": [
        "def sum_number(n):\n",
        "    if n == 1:      #base-case\n",
        "        return 1\n",
        "    else:\n",
        "        return n+sum_number(n-1)    #recursive call\n",
        "number=int(input(\"Enter a number to find sum upto that number: \"))\n",
        "# not allowed -ve number\n",
        "if number<0:\n",
        "    print(\"Invalid number. Enter a positive number.\")\n",
        "else:\n",
        "    print(f\"Sum of natural number upto {number} is {sum_number(number)}\")\n"
      ],
      "metadata": {
        "colab": {
          "base_uri": "https://localhost:8080/"
        },
        "id": "ppmq0pUZ_GH2",
        "outputId": "6436e0dc-8640-4c9f-bd1e-acefa778739f"
      },
      "execution_count": null,
      "outputs": [
        {
          "output_type": "stream",
          "name": "stdout",
          "text": [
            "Enter a number to find sum upto that number12\n",
            "Sum of natural number upto 12 is 78\n"
          ]
        }
      ]
    },
    {
      "cell_type": "markdown",
      "source": [
        "### **Write a program to print the Fibonacci series up to n terms using recursion.**"
      ],
      "metadata": {
        "id": "A3k_6b-XLIOz"
      }
    },
    {
      "cell_type": "code",
      "source": [
        "def fibonacci(n):\n",
        "    if n<=1:\n",
        "        return n\n",
        "    else:\n",
        "        return fibonacci(n-1)+fibonacci(n-2)\n",
        "num=int(input(\"Enter a number: \"))\n",
        "# Checking if the input is valid\n",
        "if num <= 0:\n",
        "    print(\"Invalid input. Please enter a positive integer.\")\n",
        "else:\n",
        "    print(\"Fibonacci series:\")\n",
        "    for i in range(num):\n",
        "        print(fibonacci(i))\n"
      ],
      "metadata": {
        "colab": {
          "base_uri": "https://localhost:8080/"
        },
        "id": "Q4CDrjhpBcsw",
        "outputId": "b788f2a1-f84f-4be1-c1a5-b0f7936fb694"
      },
      "execution_count": null,
      "outputs": [
        {
          "output_type": "stream",
          "name": "stdout",
          "text": [
            "Enter a number: 5\n",
            "Fibonacci series:\n",
            "0\n",
            "1\n",
            "1\n",
            "2\n",
            "3\n"
          ]
        }
      ]
    },
    {
      "cell_type": "markdown",
      "source": [
        "### **Write a program to find the nth term in the Tribonacci sequence using recursion.**"
      ],
      "metadata": {
        "id": "oPbc7_6uMBgO"
      }
    },
    {
      "cell_type": "code",
      "source": [
        "def tribonacci(n):\n",
        "    if n == 0 or n == 1:\n",
        "        return 0\n",
        "    elif n == 2:\n",
        "        return 1\n",
        "    else:\n",
        "        return tribonacci(n-1) + tribonacci(n-2) + tribonacci(n-3)\n",
        "\n",
        "# Taking input from user\n",
        "num = int(input(\"Enter a number: \"))\n",
        "\n",
        "# Checking if the input is valid\n",
        "if num <= 0:\n",
        "    print(\"Invalid input. Please enter a positive integer.\")\n",
        "else:\n",
        "    print(\"tribonacci series:\")\n",
        "    for i in range(num):\n",
        "        print(tribonacci(i))"
      ],
      "metadata": {
        "colab": {
          "base_uri": "https://localhost:8080/"
        },
        "id": "Vcv41A2pMWR-",
        "outputId": "01a289bc-a996-4737-a277-26ca163fb29e"
      },
      "execution_count": null,
      "outputs": [
        {
          "output_type": "stream",
          "name": "stdout",
          "text": [
            "Enter a number: 6\n",
            "tribonacci series:\n",
            "0\n",
            "0\n",
            "1\n",
            "1\n",
            "2\n",
            "4\n"
          ]
        }
      ]
    },
    {
      "cell_type": "markdown",
      "source": [
        "### **Write a program to find the sum of digits of a given number using recursion.**"
      ],
      "metadata": {
        "id": "dPoy1-OWM4Rg"
      }
    },
    {
      "cell_type": "code",
      "source": [
        "def sum_of_digits(n):\n",
        "    if n == 0:\n",
        "        return 0\n",
        "    else:\n",
        "        return n%10 + sum_of_digits(n//10)\n",
        "\n",
        "# Taking input from user\n",
        "num = int(input(\"Enter a number: \"))\n",
        "\n",
        "# Checking if the input is valid\n",
        "if num < 0:\n",
        "    print(\"Invalid input. Please enter a non-negative integer.\")\n",
        "else:\n",
        "    print(\"The sum of digits of\", num, \"is\", sum_of_digits(num))"
      ],
      "metadata": {
        "colab": {
          "base_uri": "https://localhost:8080/"
        },
        "id": "CiFVnaAZM7Jk",
        "outputId": "faf87894-5bc1-4884-e2ac-ca94cf77382f"
      },
      "execution_count": null,
      "outputs": [
        {
          "output_type": "stream",
          "name": "stdout",
          "text": [
            "Enter a number: 4\n",
            "The sum of digits of 4 is 4\n"
          ]
        }
      ]
    },
    {
      "cell_type": "code",
      "source": [
        "# linear search\n",
        "import array\n",
        "def linear_search(arr,search_item):\n",
        "    for i in range(len(arr)):\n",
        "        if arr[i]==search_item:\n",
        "            return i\n",
        "    return -1\n",
        "arr=array.array('i',[1,2,3,4,5,6,7])\n",
        "search_item=6\n",
        "result=linear_search(arr,search_item)\n",
        "if result!=-1:\n",
        "    print(f\"{search_item} found in index {result}\")\n",
        "else:\n",
        "    print(\"Not found\")\n"
      ],
      "metadata": {
        "colab": {
          "base_uri": "https://localhost:8080/"
        },
        "id": "aginb6liDAZw",
        "outputId": "ece8acd8-fab2-4c73-d20c-e4326ba38bcb"
      },
      "execution_count": null,
      "outputs": [
        {
          "output_type": "stream",
          "name": "stdout",
          "text": [
            "6 found in index 5\n"
          ]
        }
      ]
    },
    {
      "cell_type": "code",
      "source": [
        "# recursive linear search\n",
        "import array\n",
        "def recursive_linear_search(arr,search_item,index):\n",
        "    if index >= len(arr):\n",
        "        return -1\n",
        "    elif search_item == arr[index]:\n",
        "        return index\n",
        "    else:\n",
        "        return recursive_linear_search(arr,search_item, index+1)\n",
        "\n",
        "arr=array.array('i',[1,2,3,4,5,7])\n",
        "search_item=2\n",
        "result=recursive_linear_search(arr,search_item,0)\n",
        "if result!=-1:\n",
        "    print(f\"{search_item} found in index {result}\")\n",
        "else:\n",
        "    print(\"Not found\")\n",
        "\n"
      ],
      "metadata": {
        "colab": {
          "base_uri": "https://localhost:8080/"
        },
        "id": "dIAdOTqvP-u_",
        "outputId": "f3a3fece-b8f1-4dd9-9b03-9b04906da991"
      },
      "execution_count": null,
      "outputs": [
        {
          "output_type": "stream",
          "name": "stdout",
          "text": [
            "2 found in index 1\n"
          ]
        }
      ]
    },
    {
      "cell_type": "code",
      "source": [
        "# @title count path program\n",
        "def count_paths(row, col, m, n):\n",
        "    if row == m - 1 and col == n - 1:\n",
        "        return 1\n",
        "\n",
        "    if row >= m or col >= n:\n",
        "        return 0\n",
        "\n",
        "    right_path_count = count_paths(row, col + 1, m, n)\n",
        "    down_path_count = count_paths(row + 1, col, m, n)\n",
        "\n",
        "    return right_path_count + down_path_count\n",
        "\n",
        "# Example usage:\n",
        "m, n = 4, 5  # Dimensions of the grid\n",
        "total_paths = count_paths(0, 0, m, n)\n",
        "\n",
        "print(f\"The total number of paths in a {m}x{n} grid is: {total_paths}\")\n"
      ],
      "metadata": {
        "colab": {
          "base_uri": "https://localhost:8080/"
        },
        "id": "u_3v_SfFXlEe",
        "outputId": "95cf44d2-a08c-471d-e60c-dcb976b52a6f"
      },
      "execution_count": null,
      "outputs": [
        {
          "output_type": "stream",
          "name": "stdout",
          "text": [
            "The total number of paths in a 4x5 grid is: 35\n"
          ]
        }
      ]
    },
    {
      "cell_type": "code",
      "source": [
        "def count_paths(row, col):\n",
        "    # Base case: if at the bottom-right corner, there is only one path\n",
        "    if row == 0 and col == 0:\n",
        "        return 1\n",
        "\n",
        "    # If out of bounds, there are no paths\n",
        "    if row < 0 or col < 0:\n",
        "        return 0\n",
        "\n",
        "    # Recursively count paths by moving right and down\n",
        "    return count_paths(row - 1, col) + count_paths(row, col - 1)\n",
        "\n",
        "# Example grid size (rows x cols)\n",
        "rows, cols = 4, 5\n",
        "\n",
        "# Count paths from top-left to bottom-right\n",
        "result = count_paths(rows - 1, cols - 1)\n",
        "print(f\"Number of paths in a {rows}x{cols} grid: {result}\")\n"
      ],
      "metadata": {
        "colab": {
          "base_uri": "https://localhost:8080/"
        },
        "id": "Xg0JTQ_D_fSJ",
        "outputId": "f2b1b0be-16a8-4313-bc9b-b5a50a87ea06"
      },
      "execution_count": null,
      "outputs": [
        {
          "output_type": "stream",
          "name": "stdout",
          "text": [
            "Number of paths in a 4x5 grid: 35\n"
          ]
        }
      ]
    },
    {
      "cell_type": "markdown",
      "source": [
        "Write a Python program that takes an array of integers as input and returns a new array that contains all the subsets of the original array."
      ],
      "metadata": {
        "id": "0tPX69Qc6b9d"
      }
    },
    {
      "cell_type": "code",
      "source": [
        "import numpy as np\n",
        "def get_subset(arr):\n",
        "    subset=[[]]\n",
        "    for num in arr:\n",
        "        for i in range(len(subset)):\n",
        "            temp=subset[i]\n",
        "            subset.append(temp+[num])\n",
        "    return subset\n",
        "arr=np.array([1,2,3,7])\n",
        "subset=get_subset(arr)\n",
        "for num in subset:\n",
        "    print(num)\n"
      ],
      "metadata": {
        "id": "nhHde67c6H3O",
        "colab": {
          "base_uri": "https://localhost:8080/"
        },
        "outputId": "f12a39d5-274c-4361-b631-2f28df8782e4"
      },
      "execution_count": null,
      "outputs": [
        {
          "output_type": "stream",
          "name": "stdout",
          "text": [
            "[]\n",
            "[1]\n",
            "[2]\n",
            "[1, 2]\n",
            "[3]\n",
            "[1, 3]\n",
            "[2, 3]\n",
            "[1, 2, 3]\n",
            "[7]\n",
            "[1, 7]\n",
            "[2, 7]\n",
            "[1, 2, 7]\n",
            "[3, 7]\n",
            "[1, 3, 7]\n",
            "[2, 3, 7]\n",
            "[1, 2, 3, 7]\n"
          ]
        }
      ]
    },
    {
      "cell_type": "code",
      "source": [
        "def longest_common_subsequence(string1, string2):\n",
        "    m,n = len(string1), len(string2)\n",
        "    dp=[[0]*(m+1) for i in range(n+1)]\n",
        "    for i in range(1,m+1):\n",
        "        for j in range(1,n+1):\n",
        "            if string1[i-1] == string2[j-1]:\n",
        "                dp[i][j] = dp[i-1][j-1]+1\n",
        "            else:\n",
        "                dp[i][j] = max(dp[i-1][j],dp[i][j-1])\n",
        "    return dp[-1][-1]\n",
        "\n",
        "string1 = \"ArrvGH\"\n",
        "string2 = \"AEDFHR\"\n",
        "lcs_length = longest_common_subsequence(string1, string2)\n",
        "\n",
        "print(\"The length of the longest common subsequence between\", string1, \"and\", string2, \"is:\", lcs_length)\n"
      ],
      "metadata": {
        "id": "oo2GZwE4_j3u"
      },
      "execution_count": null,
      "outputs": []
    },
    {
      "cell_type": "markdown",
      "source": [
        "   0 1 2 3 4 5 <BR>\n",
        "  A B C D G H <BR>\n",
        "   A E D F H R<BR>\n",
        "\n",
        "__A B C D G H <BR>\n",
        "\n",
        "\n",
        "__0 0 0 0 0 0<BR>\n",
        "A 1 1 1 1 1 1<BR>\n",
        "E 1 1 1 1 1 1<BR>\n",
        "D 1 1 1 2 2 2<BR>\n",
        "F 1 1 1 2 2 2 <BR>\n",
        "H 1 1 1 2 2 3<BR>\n",
        "R 1 1 1 2 2 3<BR>"
      ],
      "metadata": {
        "id": "Gz-L4RqfER9h"
      }
    },
    {
      "cell_type": "markdown",
      "source": [
        "Write a Python program that takes an array of integers as input and returns the length of the longest increasing subsequence (not necessarily contiguous) in the array."
      ],
      "metadata": {
        "id": "woZvNtYNT86z"
      }
    },
    {
      "cell_type": "code",
      "source": [
        "def lon_inc_subseq(array):\n",
        "    lis = [1]*len(array)\n",
        "    for i in range(len(array)):\n",
        "        for j in range(i):\n",
        "            if array[j]<array[i]:\n",
        "                lis[i]=max(lis[i],lis[j]+1)\n",
        "    return lis[-1]\n",
        "array = [10, 22, 9, 33, 21, 50, 41, 60]\n",
        "lis_length = lon_inc_subseq(array)\n",
        "\n",
        "print(\"The length of the longest increasing subsequence in\", array, \"is:\", lis_length)"
      ],
      "metadata": {
        "id": "giNwyrFST7aO",
        "colab": {
          "base_uri": "https://localhost:8080/"
        },
        "outputId": "9173c3ef-f877-48ea-a5fa-2f9c7d30de6d"
      },
      "execution_count": null,
      "outputs": [
        {
          "output_type": "stream",
          "name": "stdout",
          "text": [
            "The length of the longest increasing subsequence in [10, 22, 9, 33, 21, 50, 41, 60] is: 5\n"
          ]
        }
      ]
    },
    {
      "cell_type": "markdown",
      "source": [
        "\n",
        "This is the performance stages:\n",
        "```\n",
        "[10,22,9,33,21,50,41,60]\n",
        "[1, 1, 1, 1, 1, 1, 1, 1]\n",
        "[1, 2, 1, 1, 1, 1, 1, 1]\n",
        "[1, 2, 1, 3, 1, 1, 1, 1]\n",
        "[1, 2, 1, 3, 2, 4, 1, 1]\n",
        "[1, 2, 1, 3, 2, 4, 4, 1]\n",
        "[1, 2, 1, 3, 2, 4, 4, 5]\n",
        "```\n",
        "\n",
        "\n"
      ],
      "metadata": {
        "id": "HbKHswNc6vWo"
      }
    },
    {
      "cell_type": "code",
      "source": [
        "# import numpy module\n",
        "import numpy as np\n",
        "# this function will display the all array elements by executing recursively\n",
        "def display(arr,index):\n",
        "    # base case if it reaches the last element\n",
        "    if index==len(arr):\n",
        "        return\n",
        "    # print the current element and continue recursion\n",
        "    else:\n",
        "        print(arr[index])\n",
        "        return display(arr,index+1)\n",
        "\n",
        "#printing stopping condition\n",
        "print(\"Enter q/Q to stop input:\")\n",
        "# empty list to store inputs from user\n",
        "numbers=[]\n",
        "# this loop will be executed until break encounter\n",
        "while True:\n",
        "    # receives a input\n",
        "    num=int(input())\n",
        "    # checks if it is 0 or not\n",
        "    if num==0:\n",
        "        break\n",
        "    #append the value to numbers list\n",
        "    else:\n",
        "        numbers.append(num)\n",
        "# convert list into array\n",
        "arr=np.array(numbers)\n",
        "# print the array by calling display function\n",
        "print(display(arr,0))"
      ],
      "metadata": {
        "id": "YehSsRdKznIO"
      },
      "execution_count": null,
      "outputs": []
    },
    {
      "cell_type": "code",
      "source": [
        "def find_paths(board, row=0, col=0):\n",
        "    # Base case: If the current position is out of bounds or an obstacle, return 0\n",
        "    if row >= len(board) or col >= len(board[0]) or board[row][col] == 1:\n",
        "        return 0\n",
        "\n",
        "    # Base case: If we reach the bottom-right corner, return 1 (one valid path found)\n",
        "    if row == len(board) - 1 and col == len(board[0]) - 1:\n",
        "        return 1\n",
        "\n",
        "    # Recursive case: Move right and down, and sum the paths\n",
        "    move_right = find_paths(board, row, col + 1)\n",
        "    move_down = find_paths(board, row + 1, col)\n",
        "\n",
        "    return move_right + move_down\n",
        "\n",
        "# Example Usage\n",
        "board = [\n",
        "    [0, 0, 0, 0],\n",
        "    [0, 0, 1, 0],\n",
        "    [0, 1, 0, 1],\n",
        "    [0, 0, 0, 0]\n",
        "]\n",
        "\n",
        "result = find_paths(board)\n",
        "print(result)  # Output: 2\n"
      ],
      "metadata": {
        "id": "7_Car79pz9Fy",
        "colab": {
          "base_uri": "https://localhost:8080/"
        },
        "outputId": "dfdfdfb9-6ce0-491c-b5c6-9b8b9c710fb5"
      },
      "execution_count": null,
      "outputs": [
        {
          "output_type": "stream",
          "name": "stdout",
          "text": [
            "1\n"
          ]
        }
      ]
    },
    {
      "cell_type": "code",
      "source": [
        "# write a program such that all the values of list should sum of a given number; not less than nor greater than.\n",
        "# print how many combinations are possible .\n",
        "\n",
        "def print_combinations(target_sum, current_sum, start_num, combination):\n",
        "    if current_sum == target_sum:\n",
        "        print(combination)\n",
        "    elif current_sum > target_sum:\n",
        "        return\n",
        "    else:\n",
        "        for i in range(start_num, target_sum - current_sum + 1):\n",
        "            print_combinations(target_sum, current_sum+i, i, combination+[i])\n",
        "\n",
        "\n",
        "# Example usage:\n",
        "print_combinations(4, 0, 1, [])"
      ],
      "metadata": {
        "id": "ttlPMzNgk3I9",
        "colab": {
          "base_uri": "https://localhost:8080/"
        },
        "outputId": "63c4cffb-6d22-4c52-c43f-ba12e8d5df8c"
      },
      "execution_count": null,
      "outputs": [
        {
          "output_type": "stream",
          "name": "stdout",
          "text": [
            "[1, 1, 1, 1]\n",
            "[1, 1, 2]\n",
            "[1, 3]\n",
            "[2, 2]\n",
            "[4]\n"
          ]
        }
      ]
    },
    {
      "cell_type": "markdown",
      "source": [
        "Add elements of two arrays into a new array"
      ],
      "metadata": {
        "id": "7ZZpjtsvtM00"
      }
    },
    {
      "cell_type": "code",
      "source": [
        "def add_arrays(arr1,arr2):\n",
        "    if len(arr1)!= len(arr2):\n",
        "        return \"Both arrays must have same length\"\n",
        "    else:\n",
        "        result=[]\n",
        "        for i in range(len(arr1)):\n",
        "            result.append(arr1[i]+arr2[i])\n",
        "        return result\n",
        "arr1 = [1, 2, 3, 4]\n",
        "arr2 = [5, 6, 7, 8]\n",
        "print(add_arrays(arr1, arr2))\n",
        "\n",
        "arr3 = [1, 2, 3]\n",
        "arr4 = [4, 5, 6, 7]\n",
        "print(add_arrays(arr3, arr4))"
      ],
      "metadata": {
        "id": "JoPlKr00tOGc",
        "colab": {
          "base_uri": "https://localhost:8080/"
        },
        "outputId": "dabce3cf-816d-4c04-d8fd-b2de2a9c9317"
      },
      "execution_count": null,
      "outputs": [
        {
          "output_type": "stream",
          "name": "stdout",
          "text": [
            "[6, 8, 10, 12]\n",
            "Both arrays must have same length\n"
          ]
        }
      ]
    },
    {
      "cell_type": "markdown",
      "source": [
        "**NUMBER TO WORD CONVERSION**"
      ],
      "metadata": {
        "id": "cBlE0z5V1ORB"
      }
    },
    {
      "cell_type": "code",
      "source": [
        "def number_to_words(num):\n",
        "    if num == 0:\n",
        "        return 'Zero'\n",
        "    ones = ['','One','Two','Three','Four','Five','Six','Seven','Eight','Nine']\n",
        "    tens = ['','','Twenty','Thirty','Forty','Fifty','Sixty','Seventy','Eighty','Ninety']\n",
        "    teens = ['Ten','Eleven','Twelve','Thirteen','Fourteen','Fifteen','Sixteen','Seventeen','Eighteen','Nineteen']\n",
        "    thousands = ['','Thousand','Million','Billion','Trillion']\n",
        "\n",
        "    def convert_below_1000(n):\n",
        "        if n == 0:\n",
        "            return ''\n",
        "        elif n < 10:\n",
        "            return ones[n]\n",
        "        elif n < 20:                            #10,03,040, 40, 1003, 3040,\n",
        "            return teens[n-10]\n",
        "        elif n < 100:\n",
        "            return tens[n//10] + ' ' + ones[n%10]\n",
        "        else:\n",
        "            return ones[n//100] + ' Hundred ' + convert_below_1000(n%100)\n",
        "\n",
        "    words = ''\n",
        "    i = 0\n",
        "    while num > 0:\n",
        "        if num % 1000 != 0:\n",
        "            words = convert_below_1000(num % 1000) + thousands[i] + ' ' + words\n",
        "        num //= 1000\n",
        "        i += 1\n",
        "    return words.strip()\n",
        "\n",
        "# Example\n",
        "num = 1003040\n",
        "print(number_to_words(num))"
      ],
      "metadata": {
        "id": "par63xsgkIDZ",
        "colab": {
          "base_uri": "https://localhost:8080/"
        },
        "outputId": "705480d3-7d8f-4ab0-cac5-906a452ef9d1"
      },
      "execution_count": null,
      "outputs": [
        {
          "output_type": "stream",
          "name": "stdout",
          "text": [
            "OneMillion ThreeThousand Forty\n"
          ]
        }
      ]
    },
    {
      "cell_type": "code",
      "source": [
        "def n_digit_numbers_sum(n_digit, sum, num=''):\n",
        "    if n_digit == 0:\n",
        "        if sum == 0:\n",
        "            return [num]\n",
        "        else:\n",
        "            return []\n",
        "    res = []\n",
        "    for i in range(10):\n",
        "        if sum - i >= 0:\n",
        "            res += n_digit_numbers_sum(n_digit-1, sum-i, num+str(i))\n",
        "    return res\n",
        "# Example\n",
        "n = 3\n",
        "s = 6\n",
        "result=n_digit_numbers_sum(n, s)\n",
        "print(result)\n",
        "print(\"total=\",len(result))"
      ],
      "metadata": {
        "id": "XGIh3Y8vj2Tm",
        "colab": {
          "base_uri": "https://localhost:8080/"
        },
        "outputId": "122f26fd-4a4b-43d3-f919-41850084ef7c"
      },
      "execution_count": null,
      "outputs": [
        {
          "output_type": "stream",
          "name": "stdout",
          "text": [
            "['006', '015', '024', '033', '042', '051', '060', '105', '114', '123', '132', '141', '150', '204', '213', '222', '231', '240', '303', '312', '321', '330', '402', '411', '420', '501', '510', '600']\n",
            "total= 28\n"
          ]
        }
      ]
    },
    {
      "cell_type": "code",
      "source": [
        "# Remove adjacent duplicate characters from a string Using Recursion\n",
        "def remove_adj_duplicate(s):\n",
        "    result=[]\n",
        "    for ch in s:\n",
        "        if ch not in result or ch!=result[-1]:\n",
        "            result.append(ch)\n",
        "    return ''.join(result)\n",
        "s='afdffdds'\n",
        "print(remove_adj_duplicate(s))"
      ],
      "metadata": {
        "id": "UJkbvC_5KSp7"
      },
      "execution_count": null,
      "outputs": []
    },
    {
      "cell_type": "code",
      "source": [
        "# Determine whether a string is a palindrome or not\n",
        "def is_palindrome(s):\n",
        "    s=s.lower()\n",
        "    s=''.join(c for c in s if c.isalnum())\n",
        "    return s==s[::-1]\n",
        "# example usage\n",
        "s1 = \"A man, a plan, a canal: Panama\"\n",
        "s2 = \"race a car\"\n",
        "print(is_palindrome(s1))\n",
        "print(is_palindrome(s2))"
      ],
      "metadata": {
        "id": "S8nvkTTEMLc6"
      },
      "execution_count": null,
      "outputs": []
    },
    {
      "cell_type": "code",
      "source": [
        "# Write a recursive function to find the sum of all possible subsequences of a given sequence.\n",
        "\n",
        "def sub_sequence(seq):\n",
        "    if not seq:\n",
        "        return 0\n",
        "    else:\n",
        "        return sub_sequence(seq[1:])+ seq[0] + sub_sequence(seq[1:])\n",
        "\n",
        "sub_sequence([1, 2])"
      ],
      "metadata": {
        "id": "q5POmfP9M9m4"
      },
      "execution_count": null,
      "outputs": []
    },
    {
      "cell_type": "code",
      "source": [
        "# What is the output of the following Python code?\n",
        "\n",
        "def subsequence(inp, out):\n",
        "    if len(inp) == 0:\n",
        "        print(out)\n",
        "        return\n",
        "    subsequence(inp[1:], out)\n",
        "    subsequence(inp[1:], out + inp[0])\n",
        "\n",
        "subsequence(\"abc\", \"\")\n",
        "\n",
        "\n"
      ],
      "metadata": {
        "id": "W2oWgkdrVkFF"
      },
      "execution_count": null,
      "outputs": []
    },
    {
      "cell_type": "code",
      "source": [
        "# What is the output of the following Python code?\n",
        "\n",
        "def find_data(arr, target, i=0):\n",
        "    if i == len(arr):\n",
        "        return False\n",
        "    elif arr[i] == target:\n",
        "        return True\n",
        "    else:\n",
        "        return find_data(arr, target, i+1)\n",
        "\n",
        "arr = [1, 2, 3, 4, 5]\n",
        "target = 6\n",
        "print(find_data(arr, target))"
      ],
      "metadata": {
        "id": "mqZH_7PbV_xN"
      },
      "execution_count": null,
      "outputs": []
    },
    {
      "cell_type": "code",
      "source": [
        "# What is the output of the following Python code?\n",
        "\n",
        "def subsequences(arr, index, ans):\n",
        "    if index == len(arr):\n",
        "        print(ans)\n",
        "        return\n",
        "    subsequences(arr, index + 1, ans)\n",
        "    subsequences(arr, index + 1, ans + str(arr[index]))\n",
        "\n",
        "subsequences([1, 2, 3], 0, \"\")"
      ],
      "metadata": {
        "id": "qVY-HZeiVupd"
      },
      "execution_count": null,
      "outputs": []
    },
    {
      "cell_type": "code",
      "source": [
        "# What is the output of the following code snippet?\n",
        "\n",
        "def fibonacci(n):\n",
        "    if n == 0:\n",
        "        return 0\n",
        "    elif n == 1:\n",
        "        return 1\n",
        "    else:\n",
        "        return fibonacci(n-1) + fibonacci(n-2)\n",
        "\n",
        "print(fibonacci(7))\n",
        "# time complexity: O(2^n).\n",
        "# space complexity: O(n)."
      ],
      "metadata": {
        "id": "LKIf4e6UVye9"
      },
      "execution_count": null,
      "outputs": []
    },
    {
      "cell_type": "code",
      "source": [
        "# What is the output of the following Python code?\n",
        "\n",
        "def find_data(arr, target):\n",
        "    if len(arr) == 0:\n",
        "        return False\n",
        "    elif arr[len(arr)//2] == target:\n",
        "        return True\n",
        "    elif arr[len(arr)//2] < target:\n",
        "        return find_data(arr[len(arr)//2+1:], target)\n",
        "    else:\n",
        "        return find_data(arr[:len(arr)//2], target)\n",
        "\n",
        "arr = [1, 2, 3, 4, 5]\n",
        "target = 3\n",
        "print(find_data(arr, target))\n",
        "\n",
        "# Time Complexity: O(log N)\n",
        "# Space Complexity: O(log N)"
      ],
      "metadata": {
        "id": "zoIuj8FSV2nV"
      },
      "execution_count": null,
      "outputs": []
    },
    {
      "cell_type": "markdown",
      "source": [
        "Sure, I can simplify the paragraph for you:\n",
        "\n",
        "An algorithm is like a recipe for a computer program, providing step-by-step instructions to solve a problem. It's widely used in computer science and other fields to automate tasks. In computing, it's like a treasure map guiding the way to complete a task, written in programming languages and executed by a computer.\n",
        "\n",
        "Algorithms are essential in software development and used in applications like search engines, cryptography, artificial intelligence, and data analysis. They come in various types, such as sorting algorithms (arranging data) and search algorithms (finding data).\n",
        "\n",
        "Think of algorithms as computing superheroes, making complex tasks simple and manageable, like a magical wand. Sorting and searching algorithms are fundamental, widely used tools in computer science, each with its advantages and disadvantages.\n",
        "\n",
        "For example, bubble sort is a common sorting algorithm, and linear search efficiently finds data in a sorted list. These algorithms play a crucial role in making computer processes efficient and solving problems effectively."
      ],
      "metadata": {
        "id": "De423D5WXrP2"
      }
    },
    {
      "cell_type": "code",
      "source": [
        "include_first = [[elements[0]] + rest for rest in generate_combinations(elements[1:], k-1)]\n"
      ],
      "metadata": {
        "id": "EqYQZqLYhUWw"
      },
      "execution_count": null,
      "outputs": []
    },
    {
      "cell_type": "code",
      "source": [
        "def bubble_sort(arr):\n",
        "    # storing length of the array\n",
        "    n = len(arr)\n",
        "\n",
        "    # Traverse through all array elements\n",
        "    for i in range(n):\n",
        "\n",
        "        # Last i elements are already in place\n",
        "        for j in range(0, n-i-1):\n",
        "            # Traverse the array from 0 to n-i-1\n",
        "            # Swap if the element found is greater than the next element\n",
        "            if arr[j] > arr[j+1] :\n",
        "                arr[j], arr[j+1] = arr[j+1], arr[j]\n",
        "\n",
        "\n",
        "arr = [15, 24, 27, 37, 11, 18, 6, 14]\n",
        "\n",
        "bubble_sort(arr)\n",
        "print(\"Sorted array is:\")\n",
        "for i in range(len(arr)):\n",
        "    print(\"%d\" %arr[i])"
      ],
      "metadata": {
        "colab": {
          "base_uri": "https://localhost:8080/"
        },
        "id": "cP8ATi8ziZwd",
        "outputId": "23f7ba58-5554-4074-d929-9bec99899d9b"
      },
      "execution_count": null,
      "outputs": [
        {
          "output_type": "stream",
          "name": "stdout",
          "text": [
            "Sorted array is:\n",
            "6\n",
            "11\n",
            "14\n",
            "15\n",
            "18\n",
            "24\n",
            "27\n",
            "37\n"
          ]
        }
      ]
    },
    {
      "cell_type": "code",
      "source": [
        "# Define the linear search function that takes a list of data and a target value\n",
        "def linear_search(data, target):\n",
        "    # Loop over each element in the list of data\n",
        "    for i in range(len(data)):\n",
        "        # If the current element is equal to the target value, return the index of the element\n",
        "        if data[i] == target:\n",
        "            return i\n",
        "    # If the target value is not found in the list of data, return -1\n",
        "    return -1\n",
        "\n",
        "# Get user input for the list of data and the target value\n",
        "data = list(map(int, input(\"Enter the list of data, separated by spaces: \").split()))\n",
        "target = int(input(\"Enter the target value: \"))\n",
        "\n",
        "# Call the linear search function with the list of data and the target value\n",
        "index = linear_search(data, target)\n",
        "\n",
        "# If the target value is found in the list of data, print a message with the index of the element\n",
        "if index != -1:\n",
        "    print(f\"Target {target} found at index {index}\")\n",
        "# If the target value is not found in the list of data, print a message indicating it was not found\n",
        "else:\n",
        "    print(f\"Target {target} not found in data\")\n",
        "\n"
      ],
      "metadata": {
        "colab": {
          "base_uri": "https://localhost:8080/"
        },
        "id": "e4gcepaDAh2a",
        "outputId": "7351aeec-ebe3-40c0-8060-38349e46aea2"
      },
      "execution_count": null,
      "outputs": [
        {
          "output_type": "stream",
          "name": "stdout",
          "text": [
            "Enter the list of data, separated by spaces: 1 2 3 4 5 6 8 9\n",
            "Enter the target value: 2\n",
            "Target 2 found at index 1\n"
          ]
        }
      ]
    },
    {
      "cell_type": "markdown",
      "source": [
        "🤖💡🐍 Algorithm Fundamentals in Python:\n",
        "\n",
        "* 📚 Algorithms are a set of instructions used to solve a problem or complete a task.\n",
        "\n",
        "* 🧐 Types of algorithms include Brute Force Algorithm, Divide and Conquer Algorithm, Dynamic Programming Algorithm, Greedy Algorithm, and Backtracking Algorithm.\n",
        "\n",
        "* 🤔 Searching algorithms include Linear Search Algorithms and Binary Search algorithms.\n",
        "\n",
        "* 💭 Sorting algorithms include Bubble Sort Algorithm, Selection Sort Algorithm, Insertion Sort Algorithm, Merge Sort Algorithm, and Quick Sort Algorithm."
      ],
      "metadata": {
        "id": "W-9x86hqQSrI"
      }
    },
    {
      "cell_type": "code",
      "source": [
        "# define a function selection_sort that takes an array as an input\n",
        "def selection_sort(arr):\n",
        "    # get the length of the array\n",
        "    n = len(arr)\n",
        "\n",
        "    # iterate through the array\n",
        "    for i in range(n-1):\n",
        "        # set the minimum index to the current index\n",
        "        min_index = i\n",
        "\n",
        "        # iterate through the remaining elements to find the minimum element\n",
        "        for j in range(i+1, n):\n",
        "            # if the current element is less than the minimum element, update the minimum index\n",
        "            if arr[j] < arr[min_index]:\n",
        "                min_index = j\n",
        "\n",
        "        # swap the minimum element with the first unsorted element\n",
        "        arr[i], arr[min_index] = arr[min_index], arr[i]\n",
        "\n",
        "    # return the sorted array\n",
        "    return arr\n",
        "\n",
        "# define an array to be sorted\n",
        "arr = [5, 3, 4, 1, 2]\n",
        "print(\"Given array:\", arr)\n",
        "\n",
        "# call the selection_sort function and assign the sorted array to a new variable\n",
        "sorted_arr = selection_sort(arr)\n",
        "\n",
        "# print the sorted array\n",
        "print(\"Sorted array is:\", sorted_arr)\n",
        "\n"
      ],
      "metadata": {
        "id": "RYVQmJcB7-W-"
      },
      "execution_count": null,
      "outputs": []
    },
    {
      "cell_type": "code",
      "source": [
        "def merge_sort(arr):\n",
        "    # Check if the input array is only one element or empty, if so, return it\n",
        "    if len(arr) <= 1:\n",
        "        return arr\n",
        "\n",
        "    # Divide the array into two halves\n",
        "    mid = len(arr) // 2\n",
        "    left_half = arr[:mid]\n",
        "    right_half = arr[mid:]\n",
        "\n",
        "    # Recursively call merge_sort on each half\n",
        "    left_half = merge_sort(left_half)\n",
        "    right_half = merge_sort(right_half)\n",
        "\n",
        "    # Merge the two sorted halves\n",
        "    i = j = 0  # Initialize two counters for the left and right halves\n",
        "    merged_arr = []  # Create an empty list to store the merged array\n",
        "    while i < len(left_half) and j < len(right_half):\n",
        "        # Compare the first element of each half and add the smaller one to the merged array\n",
        "        if left_half[i] < right_half[j]:\n",
        "            merged_arr.append(left_half[i])\n",
        "            i += 1\n",
        "        else:\n",
        "            merged_arr.append(right_half[j])\n",
        "            j += 1\n",
        "\n",
        "    # Append any remaining elements from the left or right halves to the merged array\n",
        "    merged_arr += left_half[i:]\n",
        "    merged_arr += right_half[j:]\n",
        "\n",
        "    return merged_arr\n",
        "\n",
        "arr = [64, 25, 12, 22, 11]\n",
        "sorted_arr = merge_sort(arr)\n",
        "print(\"Sorted array is:\", sorted_arr)\n"
      ],
      "metadata": {
        "id": "cSOzANBX7-XB"
      },
      "execution_count": null,
      "outputs": []
    },
    {
      "cell_type": "code",
      "source": [
        "def insertion_sort(arr):\n",
        "    n = len(arr)\n",
        "\n",
        "    # Traverse through 1 to n\n",
        "    for i in range(1, n):\n",
        "        key = arr[i]  # Select the key value to be inserted at the correct position\n",
        "        j = i - 1     # Set the previous element index\n",
        "\n",
        "        # Move elements of arr[0..i-1], that are greater than key, to one position ahead of their current position\n",
        "        while j >= 0 and key < arr[j]:\n",
        "            arr[j+1] = arr[j]\n",
        "            j -= 1\n",
        "\n",
        "        arr[j+1] = key  # Insert the key value in its correct position\n",
        "\n",
        "    return arr\n",
        "\n",
        "arr = [64, 25, 12, 22, 11]\n",
        "print(\"Given arrayL\", arr)\n",
        "sorted_arr = insertion_sort(arr)\n",
        "print(\"Sorted array is:\", sorted_arr)\n",
        "\n"
      ],
      "metadata": {
        "id": "gjp6SV-l5Rqu"
      },
      "execution_count": null,
      "outputs": []
    },
    {
      "cell_type": "code",
      "source": [
        "def quick_sort(arr):\n",
        "    # Base case\n",
        "    if len(arr) <= 1:\n",
        "        return arr\n",
        "\n",
        "    # Selecting the first element as pivot\n",
        "    pivot = arr[0]\n",
        "\n",
        "    # Initializing empty arrays to store elements\n",
        "    # smaller than pivot and greater than pivot\n",
        "    left = []\n",
        "    right = []\n",
        "\n",
        "    # Iterating over the elements in the array,\n",
        "    # excluding the pivot\n",
        "    for i in range(1, len(arr)):\n",
        "        # If the element is smaller than pivot,\n",
        "        # add it to the left array\n",
        "        if arr[i] < pivot:\n",
        "            left.append(arr[i])\n",
        "        # Otherwise, add it to the right array\n",
        "        else:\n",
        "            right.append(arr[i])\n",
        "\n",
        "    # Recursively sorting the left and right arrays,\n",
        "    # and concatenating the sorted arrays with the pivot\n",
        "    return quick_sort(left) + [pivot] + quick_sort(right)\n",
        "\n",
        "# Testing the function\n",
        "arr = [65, 33, 54, 1, 12]\n",
        "print(\"Given array:\", arr)\n",
        "sorted_arr = quick_sort(arr)\n",
        "print(\"Sorted array is:\", sorted_arr)\n"
      ],
      "metadata": {
        "id": "VVqMkSaOw9jU",
        "colab": {
          "base_uri": "https://localhost:8080/"
        },
        "outputId": "37b2ac83-8ef6-4987-ea00-e714ce7152c0"
      },
      "execution_count": null,
      "outputs": [
        {
          "output_type": "stream",
          "name": "stdout",
          "text": [
            "Given array: [65, 33, 54, 1, 12]\n",
            "Sorted array is: [1, 12, 33, 54, 65]\n"
          ]
        }
      ]
    },
    {
      "cell_type": "code",
      "source": [
        "# This function implements binary search algorithm to find the index of the target element in a given list of data.\n",
        "def binary_search(data, target):\n",
        "    left = 0   # Initialize the left pointer to the first index of the list.\n",
        "    right = len(data) - 1   # Initialize the right pointer to the last index of the list.\n",
        "    while left <= right:   # Loop until left pointer becomes greater than right pointer.\n",
        "        mid = (left + right) // 2   # Calculate the middle index of the current search space.\n",
        "        if data[mid] == target:   # If the middle element is the target element, return its index.\n",
        "            return mid\n",
        "        elif data[mid] < target:   # If the middle element is smaller than the target element, update the left pointer to mid+1.\n",
        "            left = mid + 1\n",
        "        else:   # If the middle element is larger than the target element, update the right pointer to mid-1.\n",
        "            right = mid - 1\n",
        "    return -1   # Target element was not found in the list, so return -1.\n",
        "\n",
        "# Get user input for the list of data and the target value\n",
        "data = list(map(int, input(\"Enter the list of data, separated by spaces: \").split()))\n",
        "target = int(input(\"Enter the target value: \"))\n",
        "\n",
        "# Call the binary search function with the list of data and the target value\n",
        "index = binary_search(data, target)\n",
        "\n",
        "# If the target value is found in the list of data, print a message with the index of the element\n",
        "if index != -1:\n",
        "    print(f\"Target {target} found at index {index}\")\n",
        "# If the target value is not found in the list of data, print a message indicating it was not found\n",
        "else:\n",
        "    print(f\"Target {target} not found in data\")\n"
      ],
      "metadata": {
        "colab": {
          "base_uri": "https://localhost:8080/"
        },
        "id": "f21yAkqNFWt5",
        "outputId": "d8e698df-039d-45cd-af5f-1d6680e947a3"
      },
      "execution_count": null,
      "outputs": [
        {
          "output_type": "stream",
          "name": "stdout",
          "text": [
            "Enter the list of data, separated by spaces:   1 2 3 4 5 6 7 8 9       \n",
            "Enter the target value: 6\n",
            "Target 6 found at index 5\n"
          ]
        }
      ]
    },
    {
      "cell_type": "code",
      "source": [
        "# This function implements Interpolation search algorithm to find the index of the target element in a given list of data.\n",
        "def interpolation_search(data, target):\n",
        "    # Set the initial search range\n",
        "    low = 0\n",
        "    high = len(data) - 1\n",
        "\n",
        "    # Continue searching while the search range is valid and the target value might be in the range\n",
        "    while low <= high and target >= data[low] and target <= data[high]:\n",
        "        # Calculate the estimated position of the target element using interpolation\n",
        "        pos = low + ((high - low) // (data[high] - data[low])) * (target - data[low])\n",
        "\n",
        "        # Check if the estimated position contains the target element\n",
        "        if data[pos] == target:\n",
        "            # Return the index of the target element\n",
        "            return pos\n",
        "        elif data[pos] < target:\n",
        "            # If the estimated position is less than the target, search the upper half of the range\n",
        "            low = pos + 1\n",
        "        else:\n",
        "            # If the estimated position is greater than the target, search the lower half of the range\n",
        "            high = pos - 1\n",
        "\n",
        "    # If the target element is not found, return -1\n",
        "    return -1\n",
        "\n",
        "# Get user input for the list of data and the target value\n",
        "data = list(map(int, input(\"Enter the list of data, separated by spaces: \").split()))\n",
        "target = int(input(\"Enter the target value: \"))\n",
        "\n",
        "# Call the interpolation search function with the list of data and the target value\n",
        "index = interpolation_search(data, target)\n",
        "\n",
        "# If the target value is found in the list of data, print a message with the index of the element\n",
        "if index != -1:\n",
        "    print(f\"Target {target} found at index {index}\")\n",
        "# If the target value is not found in the list of data, print a message indicating it was not found\n",
        "else:\n",
        "    print(f\"Target {target} not found in data\")\n",
        "\n"
      ],
      "metadata": {
        "colab": {
          "base_uri": "https://localhost:8080/"
        },
        "id": "aTQFaUZsNhPi",
        "outputId": "4b5d673e-8457-4f27-d1d4-a72e8063541e"
      },
      "execution_count": null,
      "outputs": [
        {
          "output_type": "stream",
          "name": "stdout",
          "text": [
            "Enter the list of data, separated by spaces: 2 5 9 15 26 35 57 69 84\n",
            "Enter the target value: 35\n",
            "Target 35 found at index 5\n"
          ]
        }
      ]
    },
    {
      "cell_type": "code",
      "source": [
        "1+(7//79)*(35-5)\n",
        "8//82"
      ],
      "metadata": {
        "colab": {
          "base_uri": "https://localhost:8080/"
        },
        "id": "HpNMnOHtL2mz",
        "outputId": "1c3a242c-7c9d-498b-a43d-664c9cc689d5"
      },
      "execution_count": null,
      "outputs": [
        {
          "output_type": "execute_result",
          "data": {
            "text/plain": [
              "0"
            ]
          },
          "metadata": {},
          "execution_count": 27
        }
      ]
    },
    {
      "cell_type": "markdown",
      "source": [
        "###**Activity 1:**\n",
        "Imagine you have a list of animals with their corresponding weights in pounds. You want to arrange the animals in ascending order based on their weight, starting from the lightest animal to the heaviest animal. For example, if you have a list of animals with the following weights: 🐘 elephant (5000 lbs), 🦒 giraffe (2000 lbs), 🦓 zebra (1000 lbs), and 🐰 rabbit (5 lbs), you want to arrange them in the following order: 🐰 rabbit, 🦓 zebra, 🦒 giraffe, 🐘 elephant.\n",
        "\n",
        "Here's how you can use bubble sort to accomplish this task:\n",
        "\n",
        "Create a list of animals and their corresponding weights in pounds.\n",
        "Implement the bubble sort algorithm to sort the animals based on their weights.\n",
        "Create a new list with the original animals assigned to the sorted weights."
      ],
      "metadata": {
        "id": "N4LDrCjPGIfn"
      }
    },
    {
      "cell_type": "code",
      "source": [
        "def bubble_sort_animals(animals,weights):\n",
        "    n=len(weights)\n",
        "    for i in range(n):\n",
        "        for j in range(0,n-i-1):\n",
        "            if weights[j]>weights[j+1]:\n",
        "                weights[j],weights[j+1]=weights[j+1],weights[j]\n",
        "                animals[j],animals[j+1]=animals[j+1],animals[j]\n",
        "\n",
        "\n",
        "animals=['elephants','giraffe','zebra','rabbit']\n",
        "weights=[5000,2000,1000,5]\n",
        "\n",
        "# Apply bubble sort to arrange animals based on weights\n",
        "bubble_sort_animals(animals, weights)\n",
        "\n",
        "# Display the sorted list\n",
        "for animal, weight in zip(animals, weights):\n",
        "    print(f\"{animal} ({weight} lbs)\")"
      ],
      "metadata": {
        "id": "J6y94_d2VOCl",
        "colab": {
          "base_uri": "https://localhost:8080/"
        },
        "outputId": "d216c48f-6067-4334-a62a-fc53f48277fa"
      },
      "execution_count": null,
      "outputs": [
        {
          "output_type": "stream",
          "name": "stdout",
          "text": [
            "rabbit (5 lbs)\n",
            "zebra (1000 lbs)\n",
            "giraffe (2000 lbs)\n",
            "elephants (5000 lbs)\n"
          ]
        }
      ]
    },
    {
      "cell_type": "markdown",
      "source": [
        "###**Activity 2:**\n",
        "🛒 You can use bubble sort to sort a list of groceries based on their prices. Imagine you have a shopping list 📝 of groceries 🍎🥦🍞 in no particular order, and you want to arrange the groceries in ascending order ⬆️ based on their prices 💰, starting from the cheapest item to the most expensive item.\n",
        "\n",
        "Here's how you can use bubble sort to accomplish this task:\n",
        "\n",
        "1️⃣ Use this given list of groceries and their prices. ('Eggs', 2.5), ('Milk', 3.0), ('Bread', 1.5), ('Apples', 0.75), ('Cheese', 5.0)\n",
        "\n",
        "2️⃣ Implement the bubble sort algorithm to sort the groceries based on their prices.\n",
        "\n",
        "3️⃣ Create a new list with the original groceries assigned to the sorted prices."
      ],
      "metadata": {
        "id": "dBvR-FvUGtKN"
      }
    },
    {
      "cell_type": "code",
      "source": [
        "def bubble_sort_groceries(groceries):\n",
        "    n=len(groceries)\n",
        "    for i in range(n):\n",
        "        for j in range(0,n-i-1):\n",
        "            if groceries[j][1]> groceries[j+1][1]:\n",
        "                groceries[j+1],groceries[j]=groceries[j],groceries[j+1]\n",
        "    print( groceries)\n",
        "\n",
        "\n",
        "groceries=[('Eggs', 2.5), ('Milk', 3.0), ('Bread', 1.5), ('Apples', 0.75), ('Cheese', 5.0)]\n",
        "bubble_sort_groceries(groceries)"
      ],
      "metadata": {
        "colab": {
          "base_uri": "https://localhost:8080/"
        },
        "id": "flKBrOsgYjE2",
        "outputId": "08c30e0a-5145-43db-ee42-3158a4b32d82"
      },
      "execution_count": null,
      "outputs": [
        {
          "output_type": "execute_result",
          "data": {
            "text/plain": [
              "[('Apples', 0.75),\n",
              " ('Bread', 1.5),\n",
              " ('Eggs', 2.5),\n",
              " ('Milk', 3.0),\n",
              " ('Cheese', 5.0)]"
            ]
          },
          "metadata": {},
          "execution_count": 1
        }
      ]
    },
    {
      "cell_type": "markdown",
      "source": [
        "###**Activity 3:**\n",
        "Imagine you have a bookshelf with a random assortment of books 📚 on it, and you're looking for a specific book with the title \"The Great Gatsby\" 🎩. You don't know where the book is located on the bookshelf 🤷‍♂️, so you'll need to search through each book 📖 until you find the one you're looking for.\n",
        "\n",
        "Here's how you can use linear search to accomplish this task:\n",
        "\n",
        "Create a list 📃 of books on the bookshelf 📚, including \"The Great Gatsby\" and other random books.\n",
        "Implement the linear search algorithm to search through the list of books for \"The Great Gatsby\" 🔍.\n",
        "Output the position of \"The Great Gatsby\" on the bookshelf 📚."
      ],
      "metadata": {
        "id": "Bs9F8XalG53i"
      }
    },
    {
      "cell_type": "code",
      "source": [
        "def search_book(books,find_book):\n",
        "    n=len(books)\n",
        "    for i in range(n):\n",
        "        if books[i]==find_book:\n",
        "            return i+1\n",
        "    return -1\n",
        "books=[\"Whispers of the Forgotten\",\n",
        "\"Ephemeral Echoes\",\n",
        "\"The Enigma Cipher\",\n",
        "\"Chronicles of Celestial Dreams\",\n",
        "\"Midnight Serenade\",\n",
        "\"The Great Gatsby\",\n",
        "\"Spectral Visions\",\n",
        "\"Echoes from the Abyss\"]\n",
        "print(books)\n",
        "find_book=\"The Great Gatsby\"\n",
        "index=search_book(books,find_book)\n",
        "if index!=-1:\n",
        "    print(f\"The book {books[index-1]} found in self {index}\")\n",
        "else:\n",
        "    print(\"Sorry! We cannot found .\")"
      ],
      "metadata": {
        "colab": {
          "base_uri": "https://localhost:8080/"
        },
        "id": "e5uTa-2czUzM",
        "outputId": "61c27d72-5ff2-4989-bd2f-e7a2624d0839"
      },
      "execution_count": null,
      "outputs": [
        {
          "output_type": "stream",
          "name": "stdout",
          "text": [
            "['Whispers of the Forgotten', 'Ephemeral Echoes', 'The Enigma Cipher', 'Chronicles of Celestial Dreams', 'Midnight Serenade', 'The Great Gatsby', 'Spectral Visions', 'Echoes from the Abyss']\n",
            "The book The Great Gatsby found in self 6\n"
          ]
        }
      ]
    },
    {
      "cell_type": "markdown",
      "source": [
        "###**Activity 4:**\n",
        "👫👬👭 You have a list of your friends' names, represented as strings. Write a program that uses linear search to find the friend with the shortest name.\n",
        "\n",
        "📝 Create a list of your friends' names, e.g. : [\"Alice\", \"Bob\", \"Charlie\", \"David\", \"Eve\", \"Frank\"]\n",
        "\n",
        "💻 Implement a linear_search function that takes a list of names as a parameter and returns the name with the shortest length.\n",
        "\n",
        "🔍 Call the linear_search function with the list of friends' names as an argument.\n",
        "\n",
        "📣 Output the name of the friend with the shortest name using a print statement.\n",
        "\n",
        "👨‍💻 Happy coding!"
      ],
      "metadata": {
        "id": "G8egSZEqHPl1"
      }
    },
    {
      "cell_type": "code",
      "source": [
        "def shortest_name(friends):\n",
        "    short=friends[0]\n",
        "    for i in range(len(friends)):\n",
        "        if len(friends[i])<len(short):\n",
        "            short=friends[i]\n",
        "    print(short)\n",
        "friends=[\"Alice\", \"Bob\", \"ie\", \"David\", \"Eve\", \"Frank\"]\n",
        "shortest_name(friends)"
      ],
      "metadata": {
        "colab": {
          "base_uri": "https://localhost:8080/"
        },
        "id": "0qdaO9Oi0qcc",
        "outputId": "410c9377-cdcc-42c5-e185-7fbdfbdf75c6"
      },
      "execution_count": null,
      "outputs": [
        {
          "output_type": "stream",
          "name": "stdout",
          "text": [
            "ie\n"
          ]
        }
      ]
    },
    {
      "cell_type": "markdown",
      "source": [
        "###**Activity 5:**\n",
        "Imagine you have a list of candies with their corresponding sugar content in grams. You want to arrange the candies in descending order based on their sugar content, starting from the candy with the most sugar to the candy with the least sugar. For example, if you have a list of candies with the following sugar content: 🍭 lollipop (30 g), 🍬 gumdrop (20 g), 🍫 chocolate (15 g), and 🍮 jelly bean (10 g), you want to arrange them in the following order: 🍭 lollipop, 🍬 gumdrop, 🍫 chocolate, 🍮 jelly bean.\n",
        "\n",
        "Here's how you can use merge sort to accomplish this task:\n",
        "\n",
        "Create a list of candies and their corresponding sugar content in grams.\n",
        "\n",
        "Implement the merge sort algorithm to sort the candies based on their sugar content.\n",
        "\n",
        "Create a new list with the original candies assigned to the sorted sugar content."
      ],
      "metadata": {
        "id": "vsvsWIt0SBQr"
      }
    },
    {
      "cell_type": "code",
      "source": [
        "def merge_sort_candy(candies):\n",
        "    if len(candies)<=1:\n",
        "        return candies\n",
        "    mid=len(candies)//2\n",
        "    left=candies[:mid]\n",
        "    right=candies[mid:]\n",
        "\n",
        "    left=merge_sort_candy(left)\n",
        "    right=merge_sort_candy(right)\n",
        "\n",
        "    i=j=0\n",
        "    merge_candy=[]\n",
        "    while i < len(left) and j < len(right):\n",
        "        if left[i][1] > right[j][1]:\n",
        "            merge_candy.append(left[i])\n",
        "            i += 1\n",
        "        else:\n",
        "            merge_candy.append(right[j])\n",
        "            j += 1\n",
        "    merge_candy.extend(left[i:])\n",
        "    merge_candy.extend(right[j:])\n",
        "    return merge_candy\n",
        "\n",
        "candies=[('lollopop',30),('chocolate',15),('gumdrop',20),('jelly bean',10)]\n",
        "print(merge_sort_candy(candies))\n",
        "\n"
      ],
      "metadata": {
        "colab": {
          "base_uri": "https://localhost:8080/"
        },
        "id": "vzSxji-p3ioM",
        "outputId": "7794cc3a-4925-41ad-9f2b-d3f2f73272ca"
      },
      "execution_count": null,
      "outputs": [
        {
          "output_type": "stream",
          "name": "stdout",
          "text": [
            "[('lollopop', 30), ('gumdrop', 20), ('chocolate', 15), ('jelly bean', 10)]\n"
          ]
        }
      ]
    },
    {
      "cell_type": "markdown",
      "source": [
        "**Time and Space Complexities of Searching and Sorting Algorithms**\n",
        "\n",
        "### Searching Algorithms:\n",
        "\n",
        "| Algorithm       | Time Complexity           | Space Complexity         |\n",
        "|-----------------|---------------------------|--------------------------|\n",
        "| Linear Search   | O(n)                      | O(1)                     |\n",
        "| Binary Search   | O(log n)                  | O(1)                     |\n",
        "| Hashing         | O(1) (Average Case)       | O(n)                     |\n",
        "\n",
        "### Sorting Algorithms:\n",
        "\n",
        "| Algorithm       | Time Complexity           | Space Complexity         |\n",
        "|-----------------|---------------------------|--------------------------|\n",
        "| Bubble Sort     | O(n^2) (worst, avg), O(n) (best)| O(1)                 |\n",
        "| Selection Sort  | O(n^2)                    | O(1)                     |\n",
        "| Insertion Sort  | O(n^2) (worst, avg), O(n) (best)| O(1)                 |\n",
        "| Merge Sort      | O(n log n)                | O(n)                     |\n",
        "| Quick Sort      | O(n^2) (worst), O(n log n) (avg), O(n log n) (best with good pivot)| O(log n) (avg), O(n) (worst)|\n",
        "| Heap Sort       | O(n log n)                | O(1)                     |\n",
        "| Counting Sort   | O(n + k)                  | O(k)                     |\n",
        "| Radix Sort      | O(d * (n + k))            | O(n + k)                 |\n",
        "\n",
        "These complexities provide an overview of the time and space requirements for each algorithm. Remember that the actual performance can depend on various factors, and these are generalizations."
      ],
      "metadata": {
        "id": "ZBFYWLon9QQE"
      }
    },
    {
      "cell_type": "code",
      "source": [
        "# How can you efficiently find the longest common prefix among a set of strings?\n",
        "def longest_common_prefix(strings):\n",
        "    if not strings:\n",
        "        return \"\"\n",
        "\n",
        "    # Start with the first string as the initial common prefix\n",
        "    prefix = strings[0]\n",
        "\n",
        "    for string in strings[1:]:\n",
        "        i = 0\n",
        "        while i < len(prefix) and i < len(string) and prefix[i] == string[i]:\n",
        "            i += 1\n",
        "\n",
        "        # Update the common prefix\n",
        "        prefix = prefix[:i]\n",
        "\n",
        "        # If the common prefix becomes empty, no need to check further\n",
        "        if not prefix:\n",
        "            break\n",
        "\n",
        "    return prefix\n",
        "\n",
        "# Example usage:\n",
        "string_list = [\"apple\", \"appetizer\", \"applicable\"]\n",
        "result = longest_common_prefix(string_list)\n",
        "print(result)\n"
      ],
      "metadata": {
        "colab": {
          "base_uri": "https://localhost:8080/"
        },
        "id": "xBQm0zfcALvx",
        "outputId": "277da39b-cbaf-4c2a-bd12-65d13cde3341"
      },
      "execution_count": null,
      "outputs": [
        {
          "output_type": "stream",
          "name": "stdout",
          "text": [
            "app\n"
          ]
        }
      ]
    },
    {
      "cell_type": "markdown",
      "source": [
        "Write a memoized version of the Fibonacci function."
      ],
      "metadata": {
        "id": "XsgWj42QBFXO"
      }
    },
    {
      "cell_type": "code",
      "source": [
        "fibonacci_cache = {}\n",
        "\n",
        "def fibonacci_memo(n):\n",
        "    if n in fibonacci_cache:\n",
        "        return fibonacci_cache[n]\n",
        "    elif n == 0:\n",
        "        return 0\n",
        "    elif n == 1:\n",
        "        return 1\n",
        "    else:\n",
        "        result = fibonacci_memo(n-1) + fibonacci_memo(n-2)\n",
        "        fibonacci_cache[n] = result\n",
        "        return result\n",
        "print(fibonacci_memo(6))"
      ],
      "metadata": {
        "colab": {
          "base_uri": "https://localhost:8080/"
        },
        "id": "2Jbv6G2TBCKK",
        "outputId": "0f9e2910-d81e-4d48-8c78-83fbc06b128f"
      },
      "execution_count": null,
      "outputs": [
        {
          "output_type": "stream",
          "name": "stdout",
          "text": [
            "8\n"
          ]
        }
      ]
    },
    {
      "cell_type": "code",
      "source": [
        "Find the Missing Number in an Array"
      ],
      "metadata": {
        "id": "CRUdxFZDKOP1"
      },
      "execution_count": null,
      "outputs": []
    }
  ]
}