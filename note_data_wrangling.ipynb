{
  "nbformat": 4,
  "nbformat_minor": 0,
  "metadata": {
    "colab": {
      "provenance": [],
      "authorship_tag": "ABX9TyOAXHPDkhedqxyGD3e3gH6o",
      "include_colab_link": true
    },
    "kernelspec": {
      "name": "python3",
      "display_name": "Python 3"
    },
    "language_info": {
      "name": "python"
    }
  },
  "cells": [
    {
      "cell_type": "markdown",
      "metadata": {
        "id": "view-in-github",
        "colab_type": "text"
      },
      "source": [
        "<a href=\"https://colab.research.google.com/github/manishaachary13/Alma_study/blob/main/note_data_wrangling.ipynb\" target=\"_parent\"><img src=\"https://colab.research.google.com/assets/colab-badge.svg\" alt=\"Open In Colab\"/></a>"
      ]
    },
    {
      "cell_type": "code",
      "execution_count": null,
      "metadata": {
        "colab": {
          "base_uri": "https://localhost:8080/"
        },
        "id": "6My02b4_FXC4",
        "outputId": "54fcc9e0-86d3-49cd-af72-033ca68b066e"
      },
      "outputs": [
        {
          "output_type": "stream",
          "name": "stdout",
          "text": [
            "happy coding\n"
          ]
        }
      ],
      "source": [
        "print('happy coding')"
      ]
    },
    {
      "cell_type": "markdown",
      "source": [
        "🔍 Data wrangling involves cleaning, transforming, and preparing raw data for analysis, which can be computationally intensive and time-consuming.\n",
        "\n",
        "💻 Code optimization is the process of improving the performance of code by reducing its resource usage, improving its efficiency, and making it more maintainable.\n",
        "\n",
        "🌟 By optimizing their code for data wrangling, developers can reduce the time and resources required to perform tasks such as cleaning, transforming, and merging data.\n",
        "\n",
        "📈 Code optimization can also improve the scalability of data wrangling tasks, allowing data analysts and data scientists to work with larger datasets more efficiently.\n",
        "\n",
        "🚀 Some techniques for code optimization in data wrangling include:\n",
        "\n",
        "1. Vectorization, which involves performing operations on entire arrays or matrices of data rather than on individual elements\n",
        "\n",
        "2. Caching, which involves storing the results of computationally intensive operations in memory for faster access\n",
        "\n",
        "3. Parallelization, which involves splitting up a task into smaller, independent parts that can be executed simultaneously on multiple processors or cores\n",
        "\n",
        "4. Concurrency, which involves the ability to execute multiple tasks or processes simultaneously, either on the same processor/core (using techniques such as threads or asyncio) or across multiple processors/cores (using techniques such as multiprocessing or distributed computing).\n"
      ],
      "metadata": {
        "id": "FAvJVgYmbSQ6"
      }
    },
    {
      "cell_type": "code",
      "source": [
        "# calculate dot product of two array using normal way\n",
        "import numpy as np\n",
        "a=np.array([1,2,3])\n",
        "b=np.array([3,2,1])\n",
        "dot_product=0\n",
        "for i in range(len(a)):\n",
        "    dot_product+=a[i] * b[i]\n",
        "dot_product"
      ],
      "metadata": {
        "colab": {
          "base_uri": "https://localhost:8080/"
        },
        "id": "_Iq4T5gzGKyS",
        "outputId": "63e68eb9-47c2-4298-e956-f87721c8bddc"
      },
      "execution_count": null,
      "outputs": [
        {
          "output_type": "execute_result",
          "data": {
            "text/plain": [
              "10"
            ]
          },
          "metadata": {},
          "execution_count": 2
        }
      ]
    },
    {
      "cell_type": "code",
      "source": [
        "# calculate dot prosuct using built-in function\n",
        "dot_product=np.dot(a,b)\n",
        "dot_product"
      ],
      "metadata": {
        "colab": {
          "base_uri": "https://localhost:8080/"
        },
        "id": "O_upG_mPG9YY",
        "outputId": "abdcc466-17db-4d7d-a846-854711292591"
      },
      "execution_count": null,
      "outputs": [
        {
          "output_type": "execute_result",
          "data": {
            "text/plain": [
              "10"
            ]
          },
          "metadata": {},
          "execution_count": 3
        }
      ]
    },
    {
      "cell_type": "code",
      "source": [
        "# caching\n",
        "from joblib import Memory\n",
        "mem=Memory(location='cache')\n",
        "@mem.cache\n",
        "def calc_mean(arr):\n",
        "    print('calculating mean.....')\n",
        "    return sum(arr)/len(arr)\n",
        "\n",
        "\n",
        "# define a list of numbers to use for testing\n",
        "my_list = [1, 2, 3, 4, 5]\n",
        "# call the function the first time, which will calculate the mean and cache the result\n",
        "result1 = calc_mean(my_list)\n",
        "\n",
        "# call the function again with the same argument, which will retrieve the cached result instead of recalculating it\n",
        "result2 = calc_mean(my_list)\n",
        "\n",
        "# print the results\n",
        "print(result1)  # should be 3.0\n",
        "print(result2)  # should also be 3.0, and the \"Calculating mean...\" message should not be printed\n"
      ],
      "metadata": {
        "colab": {
          "base_uri": "https://localhost:8080/"
        },
        "id": "BvLty9plHOm3",
        "outputId": "80b6a5d1-6489-43f5-fb65-1e1ed70bec8c"
      },
      "execution_count": null,
      "outputs": [
        {
          "output_type": "stream",
          "name": "stdout",
          "text": [
            "________________________________________________________________________________\n",
            "[Memory] Calling __main__--content-<ipython-input-e2b81c55e9b0>.calc_mean...\n",
            "calc_mean([1, 2, 3, 4, 5])\n",
            "calculating mean.....\n",
            "________________________________________________________calc_mean - 0.0s, 0.0min\n",
            "3.0\n",
            "3.0\n"
          ]
        }
      ]
    },
    {
      "cell_type": "code",
      "source": [
        "pip install pandarallel\n"
      ],
      "metadata": {
        "colab": {
          "base_uri": "https://localhost:8080/"
        },
        "id": "qGd-JkqvKXg6",
        "outputId": "0b78d049-aa16-45c6-f35b-c29e2bae1c44"
      },
      "execution_count": null,
      "outputs": [
        {
          "output_type": "stream",
          "name": "stdout",
          "text": [
            "Collecting pandarallel\n",
            "  Downloading pandarallel-1.6.5.tar.gz (14 kB)\n",
            "  Preparing metadata (setup.py) ... \u001b[?25l\u001b[?25hdone\n",
            "Collecting dill>=0.3.1 (from pandarallel)\n",
            "  Downloading dill-0.3.7-py3-none-any.whl (115 kB)\n",
            "\u001b[2K     \u001b[90m━━━━━━━━━━━━━━━━━━━━━━━━━━━━━━━━━━━━━━━━\u001b[0m \u001b[32m115.3/115.3 kB\u001b[0m \u001b[31m1.4 MB/s\u001b[0m eta \u001b[36m0:00:00\u001b[0m\n",
            "\u001b[?25hRequirement already satisfied: pandas>=1 in /usr/local/lib/python3.10/dist-packages (from pandarallel) (1.5.3)\n",
            "Requirement already satisfied: psutil in /usr/local/lib/python3.10/dist-packages (from pandarallel) (5.9.5)\n",
            "Requirement already satisfied: python-dateutil>=2.8.1 in /usr/local/lib/python3.10/dist-packages (from pandas>=1->pandarallel) (2.8.2)\n",
            "Requirement already satisfied: pytz>=2020.1 in /usr/local/lib/python3.10/dist-packages (from pandas>=1->pandarallel) (2023.3.post1)\n",
            "Requirement already satisfied: numpy>=1.21.0 in /usr/local/lib/python3.10/dist-packages (from pandas>=1->pandarallel) (1.23.5)\n",
            "Requirement already satisfied: six>=1.5 in /usr/local/lib/python3.10/dist-packages (from python-dateutil>=2.8.1->pandas>=1->pandarallel) (1.16.0)\n",
            "Building wheels for collected packages: pandarallel\n",
            "  Building wheel for pandarallel (setup.py) ... \u001b[?25l\u001b[?25hdone\n",
            "  Created wheel for pandarallel: filename=pandarallel-1.6.5-py3-none-any.whl size=16672 sha256=d143e786b0b07b0f274c6949a037b3a72f182e82269b4b2f037220598fbdaf1e\n",
            "  Stored in directory: /root/.cache/pip/wheels/50/4f/1e/34e057bb868842209f1623f195b74fd7eda229308a7352d47f\n",
            "Successfully built pandarallel\n",
            "Installing collected packages: dill, pandarallel\n",
            "Successfully installed dill-0.3.7 pandarallel-1.6.5\n"
          ]
        }
      ]
    },
    {
      "cell_type": "code",
      "source": [
        "import pandas as pd\n",
        "from pandarallel import pandarallel\n",
        "\n",
        "# initialize pandarallel\n",
        "pandarallel.initialize()\n",
        "\n",
        "# create a sample dataframe\n",
        "df = pd.DataFrame({'A': [1, 2, 3, 4, 5], 'B': [6, 7, 8, 9, 10]})\n",
        "\n",
        "# define a function to apply to each row of the dataframe\n",
        "def my_func(row):\n",
        "    return row['A'] + row['B']\n",
        "\n",
        "# use pandarallel to apply the function to each row in parallel\n",
        "result = df.parallel_apply(my_func, axis=1)\n",
        "\n",
        "# print the result\n",
        "print(result)\n"
      ],
      "metadata": {
        "colab": {
          "base_uri": "https://localhost:8080/"
        },
        "id": "_fKDqhq4Bpnh",
        "outputId": "dbf1ed3b-9e7e-47b2-f4d8-5d468f3999c3"
      },
      "execution_count": null,
      "outputs": [
        {
          "output_type": "stream",
          "name": "stdout",
          "text": [
            "INFO: Pandarallel will run on 1 workers.\n",
            "INFO: Pandarallel will use Memory file system to transfer data between the main process and workers.\n",
            "0     7\n",
            "1     9\n",
            "2    11\n",
            "3    13\n",
            "4    15\n",
            "dtype: int64\n"
          ]
        }
      ]
    },
    {
      "cell_type": "markdown",
      "source": [
        "concurrency is about executing multiple tasks simultaneously on the same processor or core, while parallelization is about executing multiple tasks simultaneously on multiple processors or cores. Both techniques can be used to achieve efficient use of computer resources, but they have different advantages and limitations depending on the task at hand."
      ],
      "metadata": {
        "id": "euqNi6g7MsE8"
      }
    },
    {
      "cell_type": "code",
      "source": [
        "import threading\n",
        "import time\n",
        "\n",
        "def task(name):\n",
        "    print(f'Starting task {name} ')\n",
        "    time.sleep(2) # simulate some work\n",
        "    print(f'Ending task {name} ')\n",
        "\n",
        "if __name__ == '__main__':\n",
        "    # Create 5 threads\n",
        "    threads = [threading.Thread(target=task, args=(i,)) for i in range(5)]\n",
        "\n",
        "    # Start the threads\n",
        "    for t in threads:\n",
        "        t.start()\n",
        "\n",
        "    # Wait for all threads to complete\n",
        "    for t in threads:\n",
        "        t.join()\n",
        "\n",
        "    print('All tasks completed')\n"
      ],
      "metadata": {
        "colab": {
          "base_uri": "https://localhost:8080/"
        },
        "outputId": "879ba59a-d8af-4c86-ef45-0387157a080d",
        "id": "BoF_cKkq50Va"
      },
      "execution_count": null,
      "outputs": [
        {
          "output_type": "stream",
          "name": "stdout",
          "text": [
            "Starting task 0 \n",
            "Starting task 1 \n",
            "Starting task 2 \n",
            "Starting task 3 \n",
            "Starting task 4 \n",
            "Ending task 0 \n",
            "Ending task 1 \n",
            "Ending task 2 \n",
            "Ending task 4 \n",
            "Ending task 3 \n",
            "All tasks completed\n"
          ]
        }
      ]
    },
    {
      "cell_type": "code",
      "source": [
        "import pandas as pd\n",
        "\n",
        "# Create a sample data frame\n",
        "df = pd.DataFrame({'A': [1, 2, 3], 'B': [4, 5, 6]})\n",
        "\n",
        "# Multiply each element in column A by 2 using vectorization\n",
        "df['A'] = df['A'] * 2\n",
        "\n",
        "# Print the updated data frame\n",
        "print(df)"
      ],
      "metadata": {
        "id": "CipQ9ODiPxjI",
        "outputId": "c33b5a21-b663-4702-98ae-8aece6e93149",
        "colab": {
          "base_uri": "https://localhost:8080/"
        }
      },
      "execution_count": null,
      "outputs": [
        {
          "output_type": "stream",
          "name": "stdout",
          "text": [
            "   A  B\n",
            "0  2  4\n",
            "1  4  5\n",
            "2  6  6\n"
          ]
        }
      ]
    },
    {
      "cell_type": "code",
      "metadata": {
        "id": "A4zyDuP1k1U2"
      },
      "source": [
        " # Group the data frame by year and item and extract a number of stats from each group\n",
        "# imdb_df.groupby(['release_year', 'original_language'],as_index=False).agg({'runtime':\"mean\",'revenue': \"sum\",'imdb_id':\"count\"}).sort_values(by='release_year').rename(columns ={'runtime':'avg_runtime','revenue':'total_revenue','imdb_id':'num_movies'})"
      ],
      "execution_count": null,
      "outputs": []
    },
    {
      "cell_type": "markdown",
      "source": [
        "\n",
        "### what is data munging?\n",
        "Data Munging, commonly referred to as Data Wrangling, is the cleaning and transforming of one type of data to another type to make it more appropriate into a processed format. Data wrangling involves processing the data in various formats and analyzes and get them to be used with another set of data and bringing them together into valuable insights.\n"
      ],
      "metadata": {
        "id": "3kU4gNIgjRfi"
      }
    },
    {
      "cell_type": "markdown",
      "source": [
        "Code optimization, in simple terms, means reducing the number of operations to execute any task while producing the correct results."
      ],
      "metadata": {
        "id": "2JLf6sdqjhWi"
      }
    },
    {
      "cell_type": "code",
      "source": [
        "'''\n",
        "Optimizing Codes - Apply Function\n",
        "'''\n",
        "\n",
        "# importing required libraries\n",
        "import pandas as pd\n",
        "import numpy as np\n",
        "import time\n",
        "import math\n",
        "\n",
        "data = pd.read_csv('train_.csv')\n",
        "\n",
        "# print the head\n",
        "print(data.head())\n",
        "\n",
        "# calculate Number of Words using Dataframe iterrows\n",
        "\n",
        "print('\\n\\nUsing Iterrows\\n\\n')\n",
        "start_time = time.time()\n",
        "data_1 = data.copy()\n",
        "n_words = []\n",
        "for i, row in data_1.iterrows():\n",
        "  n_words.append(len(row['tweet'].split()))\n",
        "\n",
        "data_1['n_words'] = n_words\n",
        "\n",
        "print(data_1[['id','n_words']].head())\n",
        "end_time = time.time()\n",
        "\n",
        "print('\\nTime taken to calculate No. of Words by iterrows :',\n",
        "(end_time-start_time),'seconds')\n",
        "\n",
        "\n",
        "# Calculate Number of Words using numpy array\n",
        "\n",
        "print('\\n\\nUsing Numpy Arrays\\n\\n')\n",
        "start_time = time.time()\n",
        "data_2 = data.copy()\n",
        "n_words_2 = []\n",
        "\n",
        "for row in data_2.values:\n",
        "  n_words_2.append(len(row[2].split()))\n",
        "\n",
        "data_2['n_words'] = n_words_2\n",
        "print(data_2[['id','n_words']].head())\n",
        "\n",
        "end_time = time.time()\n",
        "print('\\nTime taken to calculate No. of Words by numpy array : ',\n",
        "(end_time-start_time),'seconds')\n",
        "\n",
        "\n",
        "# Calculate Number of Words by apply method:\n",
        "print('\\n\\nUsing Apply Method\\n\\n')\n",
        "start_time = time.time()\n",
        "data_3 = data.copy()\n",
        "\n",
        "\n",
        "data_3['n_words'] = data_3['tweet'].apply(lambda x : len(x.split()))\n",
        "print(data_3[['id','n_words']].head())\n",
        "\n",
        "end_time = time.time()\n",
        "print('\\nTime taken to calculate No. of Words by Apply Method : ',\n",
        "(end_time-start_time),'seconds')"
      ],
      "metadata": {
        "id": "-DkgNMaXtsS7",
        "colab": {
          "base_uri": "https://localhost:8080/",
          "height": 423
        },
        "outputId": "0faad445-d107-4a68-ef70-ab2f3c5139a1"
      },
      "execution_count": null,
      "outputs": [
        {
          "output_type": "error",
          "ename": "FileNotFoundError",
          "evalue": "ignored",
          "traceback": [
            "\u001b[0;31m---------------------------------------------------------------------------\u001b[0m",
            "\u001b[0;31mFileNotFoundError\u001b[0m                         Traceback (most recent call last)",
            "\u001b[0;32m<ipython-input-10-927ca599f28b>\u001b[0m in \u001b[0;36m<cell line: 11>\u001b[0;34m()\u001b[0m\n\u001b[1;32m      9\u001b[0m \u001b[0;32mimport\u001b[0m \u001b[0mmath\u001b[0m\u001b[0;34m\u001b[0m\u001b[0;34m\u001b[0m\u001b[0m\n\u001b[1;32m     10\u001b[0m \u001b[0;34m\u001b[0m\u001b[0m\n\u001b[0;32m---> 11\u001b[0;31m \u001b[0mdata\u001b[0m \u001b[0;34m=\u001b[0m \u001b[0mpd\u001b[0m\u001b[0;34m.\u001b[0m\u001b[0mread_csv\u001b[0m\u001b[0;34m(\u001b[0m\u001b[0;34m'train_.csv'\u001b[0m\u001b[0;34m)\u001b[0m\u001b[0;34m\u001b[0m\u001b[0;34m\u001b[0m\u001b[0m\n\u001b[0m\u001b[1;32m     12\u001b[0m \u001b[0;34m\u001b[0m\u001b[0m\n\u001b[1;32m     13\u001b[0m \u001b[0;31m# print the head\u001b[0m\u001b[0;34m\u001b[0m\u001b[0;34m\u001b[0m\u001b[0m\n",
            "\u001b[0;32m/usr/local/lib/python3.10/dist-packages/pandas/util/_decorators.py\u001b[0m in \u001b[0;36mwrapper\u001b[0;34m(*args, **kwargs)\u001b[0m\n\u001b[1;32m    209\u001b[0m                 \u001b[0;32melse\u001b[0m\u001b[0;34m:\u001b[0m\u001b[0;34m\u001b[0m\u001b[0;34m\u001b[0m\u001b[0m\n\u001b[1;32m    210\u001b[0m                     \u001b[0mkwargs\u001b[0m\u001b[0;34m[\u001b[0m\u001b[0mnew_arg_name\u001b[0m\u001b[0;34m]\u001b[0m \u001b[0;34m=\u001b[0m \u001b[0mnew_arg_value\u001b[0m\u001b[0;34m\u001b[0m\u001b[0;34m\u001b[0m\u001b[0m\n\u001b[0;32m--> 211\u001b[0;31m             \u001b[0;32mreturn\u001b[0m \u001b[0mfunc\u001b[0m\u001b[0;34m(\u001b[0m\u001b[0;34m*\u001b[0m\u001b[0margs\u001b[0m\u001b[0;34m,\u001b[0m \u001b[0;34m**\u001b[0m\u001b[0mkwargs\u001b[0m\u001b[0;34m)\u001b[0m\u001b[0;34m\u001b[0m\u001b[0;34m\u001b[0m\u001b[0m\n\u001b[0m\u001b[1;32m    212\u001b[0m \u001b[0;34m\u001b[0m\u001b[0m\n\u001b[1;32m    213\u001b[0m         \u001b[0;32mreturn\u001b[0m \u001b[0mcast\u001b[0m\u001b[0;34m(\u001b[0m\u001b[0mF\u001b[0m\u001b[0;34m,\u001b[0m \u001b[0mwrapper\u001b[0m\u001b[0;34m)\u001b[0m\u001b[0;34m\u001b[0m\u001b[0;34m\u001b[0m\u001b[0m\n",
            "\u001b[0;32m/usr/local/lib/python3.10/dist-packages/pandas/util/_decorators.py\u001b[0m in \u001b[0;36mwrapper\u001b[0;34m(*args, **kwargs)\u001b[0m\n\u001b[1;32m    329\u001b[0m                     \u001b[0mstacklevel\u001b[0m\u001b[0;34m=\u001b[0m\u001b[0mfind_stack_level\u001b[0m\u001b[0;34m(\u001b[0m\u001b[0;34m)\u001b[0m\u001b[0;34m,\u001b[0m\u001b[0;34m\u001b[0m\u001b[0;34m\u001b[0m\u001b[0m\n\u001b[1;32m    330\u001b[0m                 )\n\u001b[0;32m--> 331\u001b[0;31m             \u001b[0;32mreturn\u001b[0m \u001b[0mfunc\u001b[0m\u001b[0;34m(\u001b[0m\u001b[0;34m*\u001b[0m\u001b[0margs\u001b[0m\u001b[0;34m,\u001b[0m \u001b[0;34m**\u001b[0m\u001b[0mkwargs\u001b[0m\u001b[0;34m)\u001b[0m\u001b[0;34m\u001b[0m\u001b[0;34m\u001b[0m\u001b[0m\n\u001b[0m\u001b[1;32m    332\u001b[0m \u001b[0;34m\u001b[0m\u001b[0m\n\u001b[1;32m    333\u001b[0m         \u001b[0;31m# error: \"Callable[[VarArg(Any), KwArg(Any)], Any]\" has no\u001b[0m\u001b[0;34m\u001b[0m\u001b[0;34m\u001b[0m\u001b[0m\n",
            "\u001b[0;32m/usr/local/lib/python3.10/dist-packages/pandas/io/parsers/readers.py\u001b[0m in \u001b[0;36mread_csv\u001b[0;34m(filepath_or_buffer, sep, delimiter, header, names, index_col, usecols, squeeze, prefix, mangle_dupe_cols, dtype, engine, converters, true_values, false_values, skipinitialspace, skiprows, skipfooter, nrows, na_values, keep_default_na, na_filter, verbose, skip_blank_lines, parse_dates, infer_datetime_format, keep_date_col, date_parser, dayfirst, cache_dates, iterator, chunksize, compression, thousands, decimal, lineterminator, quotechar, quoting, doublequote, escapechar, comment, encoding, encoding_errors, dialect, error_bad_lines, warn_bad_lines, on_bad_lines, delim_whitespace, low_memory, memory_map, float_precision, storage_options)\u001b[0m\n\u001b[1;32m    948\u001b[0m     \u001b[0mkwds\u001b[0m\u001b[0;34m.\u001b[0m\u001b[0mupdate\u001b[0m\u001b[0;34m(\u001b[0m\u001b[0mkwds_defaults\u001b[0m\u001b[0;34m)\u001b[0m\u001b[0;34m\u001b[0m\u001b[0;34m\u001b[0m\u001b[0m\n\u001b[1;32m    949\u001b[0m \u001b[0;34m\u001b[0m\u001b[0m\n\u001b[0;32m--> 950\u001b[0;31m     \u001b[0;32mreturn\u001b[0m \u001b[0m_read\u001b[0m\u001b[0;34m(\u001b[0m\u001b[0mfilepath_or_buffer\u001b[0m\u001b[0;34m,\u001b[0m \u001b[0mkwds\u001b[0m\u001b[0;34m)\u001b[0m\u001b[0;34m\u001b[0m\u001b[0;34m\u001b[0m\u001b[0m\n\u001b[0m\u001b[1;32m    951\u001b[0m \u001b[0;34m\u001b[0m\u001b[0m\n\u001b[1;32m    952\u001b[0m \u001b[0;34m\u001b[0m\u001b[0m\n",
            "\u001b[0;32m/usr/local/lib/python3.10/dist-packages/pandas/io/parsers/readers.py\u001b[0m in \u001b[0;36m_read\u001b[0;34m(filepath_or_buffer, kwds)\u001b[0m\n\u001b[1;32m    603\u001b[0m \u001b[0;34m\u001b[0m\u001b[0m\n\u001b[1;32m    604\u001b[0m     \u001b[0;31m# Create the parser.\u001b[0m\u001b[0;34m\u001b[0m\u001b[0;34m\u001b[0m\u001b[0m\n\u001b[0;32m--> 605\u001b[0;31m     \u001b[0mparser\u001b[0m \u001b[0;34m=\u001b[0m \u001b[0mTextFileReader\u001b[0m\u001b[0;34m(\u001b[0m\u001b[0mfilepath_or_buffer\u001b[0m\u001b[0;34m,\u001b[0m \u001b[0;34m**\u001b[0m\u001b[0mkwds\u001b[0m\u001b[0;34m)\u001b[0m\u001b[0;34m\u001b[0m\u001b[0;34m\u001b[0m\u001b[0m\n\u001b[0m\u001b[1;32m    606\u001b[0m \u001b[0;34m\u001b[0m\u001b[0m\n\u001b[1;32m    607\u001b[0m     \u001b[0;32mif\u001b[0m \u001b[0mchunksize\u001b[0m \u001b[0;32mor\u001b[0m \u001b[0miterator\u001b[0m\u001b[0;34m:\u001b[0m\u001b[0;34m\u001b[0m\u001b[0;34m\u001b[0m\u001b[0m\n",
            "\u001b[0;32m/usr/local/lib/python3.10/dist-packages/pandas/io/parsers/readers.py\u001b[0m in \u001b[0;36m__init__\u001b[0;34m(self, f, engine, **kwds)\u001b[0m\n\u001b[1;32m   1440\u001b[0m \u001b[0;34m\u001b[0m\u001b[0m\n\u001b[1;32m   1441\u001b[0m         \u001b[0mself\u001b[0m\u001b[0;34m.\u001b[0m\u001b[0mhandles\u001b[0m\u001b[0;34m:\u001b[0m \u001b[0mIOHandles\u001b[0m \u001b[0;34m|\u001b[0m \u001b[0;32mNone\u001b[0m \u001b[0;34m=\u001b[0m \u001b[0;32mNone\u001b[0m\u001b[0;34m\u001b[0m\u001b[0;34m\u001b[0m\u001b[0m\n\u001b[0;32m-> 1442\u001b[0;31m         \u001b[0mself\u001b[0m\u001b[0;34m.\u001b[0m\u001b[0m_engine\u001b[0m \u001b[0;34m=\u001b[0m \u001b[0mself\u001b[0m\u001b[0;34m.\u001b[0m\u001b[0m_make_engine\u001b[0m\u001b[0;34m(\u001b[0m\u001b[0mf\u001b[0m\u001b[0;34m,\u001b[0m \u001b[0mself\u001b[0m\u001b[0;34m.\u001b[0m\u001b[0mengine\u001b[0m\u001b[0;34m)\u001b[0m\u001b[0;34m\u001b[0m\u001b[0;34m\u001b[0m\u001b[0m\n\u001b[0m\u001b[1;32m   1443\u001b[0m \u001b[0;34m\u001b[0m\u001b[0m\n\u001b[1;32m   1444\u001b[0m     \u001b[0;32mdef\u001b[0m \u001b[0mclose\u001b[0m\u001b[0;34m(\u001b[0m\u001b[0mself\u001b[0m\u001b[0;34m)\u001b[0m \u001b[0;34m->\u001b[0m \u001b[0;32mNone\u001b[0m\u001b[0;34m:\u001b[0m\u001b[0;34m\u001b[0m\u001b[0;34m\u001b[0m\u001b[0m\n",
            "\u001b[0;32m/usr/local/lib/python3.10/dist-packages/pandas/io/parsers/readers.py\u001b[0m in \u001b[0;36m_make_engine\u001b[0;34m(self, f, engine)\u001b[0m\n\u001b[1;32m   1733\u001b[0m                 \u001b[0;32mif\u001b[0m \u001b[0;34m\"b\"\u001b[0m \u001b[0;32mnot\u001b[0m \u001b[0;32min\u001b[0m \u001b[0mmode\u001b[0m\u001b[0;34m:\u001b[0m\u001b[0;34m\u001b[0m\u001b[0;34m\u001b[0m\u001b[0m\n\u001b[1;32m   1734\u001b[0m                     \u001b[0mmode\u001b[0m \u001b[0;34m+=\u001b[0m \u001b[0;34m\"b\"\u001b[0m\u001b[0;34m\u001b[0m\u001b[0;34m\u001b[0m\u001b[0m\n\u001b[0;32m-> 1735\u001b[0;31m             self.handles = get_handle(\n\u001b[0m\u001b[1;32m   1736\u001b[0m                 \u001b[0mf\u001b[0m\u001b[0;34m,\u001b[0m\u001b[0;34m\u001b[0m\u001b[0;34m\u001b[0m\u001b[0m\n\u001b[1;32m   1737\u001b[0m                 \u001b[0mmode\u001b[0m\u001b[0;34m,\u001b[0m\u001b[0;34m\u001b[0m\u001b[0;34m\u001b[0m\u001b[0m\n",
            "\u001b[0;32m/usr/local/lib/python3.10/dist-packages/pandas/io/common.py\u001b[0m in \u001b[0;36mget_handle\u001b[0;34m(path_or_buf, mode, encoding, compression, memory_map, is_text, errors, storage_options)\u001b[0m\n\u001b[1;32m    854\u001b[0m         \u001b[0;32mif\u001b[0m \u001b[0mioargs\u001b[0m\u001b[0;34m.\u001b[0m\u001b[0mencoding\u001b[0m \u001b[0;32mand\u001b[0m \u001b[0;34m\"b\"\u001b[0m \u001b[0;32mnot\u001b[0m \u001b[0;32min\u001b[0m \u001b[0mioargs\u001b[0m\u001b[0;34m.\u001b[0m\u001b[0mmode\u001b[0m\u001b[0;34m:\u001b[0m\u001b[0;34m\u001b[0m\u001b[0;34m\u001b[0m\u001b[0m\n\u001b[1;32m    855\u001b[0m             \u001b[0;31m# Encoding\u001b[0m\u001b[0;34m\u001b[0m\u001b[0;34m\u001b[0m\u001b[0m\n\u001b[0;32m--> 856\u001b[0;31m             handle = open(\n\u001b[0m\u001b[1;32m    857\u001b[0m                 \u001b[0mhandle\u001b[0m\u001b[0;34m,\u001b[0m\u001b[0;34m\u001b[0m\u001b[0;34m\u001b[0m\u001b[0m\n\u001b[1;32m    858\u001b[0m                 \u001b[0mioargs\u001b[0m\u001b[0;34m.\u001b[0m\u001b[0mmode\u001b[0m\u001b[0;34m,\u001b[0m\u001b[0;34m\u001b[0m\u001b[0;34m\u001b[0m\u001b[0m\n",
            "\u001b[0;31mFileNotFoundError\u001b[0m: [Errno 2] No such file or directory: 'train_.csv'"
          ]
        }
      ]
    },
    {
      "cell_type": "code",
      "source": [
        "from joblib import Memory\n",
        "import time\n",
        "import pandas as pd\n",
        "mem=Memory(location='cache')\n",
        "@mem.cache\n",
        "def thrice(num):\n",
        "    print(\"Program is running...\")\n",
        "    return num*3\n",
        "nums=pd.DataFrame({'a':[1,2,3,4,5],'b':[5,4,3,2,1]})\n",
        "temp=nums['a']\n",
        "result=thrice(nums['a'])\n",
        "result2=thrice(nums['b'])\n",
        "print(result)\n",
        "print(result)\n",
        "print(result2)"
      ],
      "metadata": {
        "id": "L7sfkAz060Kq",
        "colab": {
          "base_uri": "https://localhost:8080/"
        },
        "outputId": "120ae4be-b7e6-49fe-8c1c-e939a34514bf"
      },
      "execution_count": null,
      "outputs": [
        {
          "output_type": "stream",
          "name": "stdout",
          "text": [
            "________________________________________________________________________________\n",
            "[Memory] Calling __main__--content-<ipython-input-ec58a4e3b815>.thrice...\n",
            "thrice(0    1\n",
            "1    2\n",
            "2    3\n",
            "3    4\n",
            "4    5\n",
            "Name: a, dtype: int64)\n",
            "Program is running...\n",
            "___________________________________________________________thrice - 0.0s, 0.0min\n",
            "________________________________________________________________________________\n",
            "[Memory] Calling __main__--content-<ipython-input-ec58a4e3b815>.thrice...\n",
            "thrice(0    5\n",
            "1    4\n",
            "2    3\n",
            "3    2\n",
            "4    1\n",
            "Name: b, dtype: int64)\n",
            "Program is running...\n",
            "___________________________________________________________thrice - 0.0s, 0.0min\n",
            "0     3\n",
            "1     6\n",
            "2     9\n",
            "3    12\n",
            "4    15\n",
            "Name: a, dtype: int64\n",
            "0     3\n",
            "1     6\n",
            "2     9\n",
            "3    12\n",
            "4    15\n",
            "Name: a, dtype: int64\n",
            "0    15\n",
            "1    12\n",
            "2     9\n",
            "3     6\n",
            "4     3\n",
            "Name: b, dtype: int64\n"
          ]
        }
      ]
    },
    {
      "cell_type": "markdown",
      "source": [
        "Can you use Pandarallel to parallelize a Pandas apply operation on a DataFrame in Google Colab?\n",
        "\n",
        "**Instructions:**\n",
        "\n",
        "1. Create a Pandas DataFrame containing a list of integers.\n",
        "\n",
        "2. Define a custom function that squares a number.\n",
        "\n",
        "3. Use Pandas apply method to apply the custom function to each element of the DataFrame.\n",
        "\n",
        "4. Parallelize the apply operation using Pandarallel.\n",
        "\n",
        "5. Compare the execution times of the apply operation with and without Pandarallel.\n",
        "\n",
        "**Hints:**\n",
        "\n",
        "1. Use the \"pandarallel\" library to enable parallel processing.\n",
        "\n",
        "2. Use the \"apply\" method with the \"parallel=True\" option to parallelize the apply operation.\n"
      ],
      "metadata": {
        "id": "yLg_xU_55tpr"
      }
    },
    {
      "cell_type": "code",
      "source": [
        "import pandas as pd\n",
        "import time\n",
        "from pandarallel import pandarallel\n",
        "pandarallel.initialize()\n",
        "nums=[1,2,3,4,5]\n",
        "nums=pd.DataFrame({'numbers':nums})\n",
        "def sq(num):\n",
        "    return num**2\n",
        "\n",
        "s_time=time.time()\n",
        "nums['parallel']=nums['numbers'].parallel_apply(sq)\n",
        "print('time1=',time.time()-s_time)\n",
        "s_time=time.time()\n",
        "nums['without parallel']=nums['numbers'].apply(sq)\n",
        "print('time2=',time.time())\n",
        "nums\n"
      ],
      "metadata": {
        "id": "wBnNK3Qm67RS",
        "colab": {
          "base_uri": "https://localhost:8080/",
          "height": 279
        },
        "outputId": "3b23b928-4eb1-4370-b4d7-1d24d52773b5"
      },
      "execution_count": null,
      "outputs": [
        {
          "output_type": "stream",
          "name": "stdout",
          "text": [
            "INFO: Pandarallel will run on 1 workers.\n",
            "INFO: Pandarallel will use Memory file system to transfer data between the main process and workers.\n",
            "time1= 0.06117820739746094\n",
            "time2= 1703333751.2916856\n"
          ]
        },
        {
          "output_type": "execute_result",
          "data": {
            "text/plain": [
              "   numbers  parallel  without parallel\n",
              "0        1         1                 1\n",
              "1        2         4                 4\n",
              "2        3         9                 9\n",
              "3        4        16                16\n",
              "4        5        25                25"
            ],
            "text/html": [
              "\n",
              "  <div id=\"df-407fca82-4615-4a63-943f-85b30df13f3f\" class=\"colab-df-container\">\n",
              "    <div>\n",
              "<style scoped>\n",
              "    .dataframe tbody tr th:only-of-type {\n",
              "        vertical-align: middle;\n",
              "    }\n",
              "\n",
              "    .dataframe tbody tr th {\n",
              "        vertical-align: top;\n",
              "    }\n",
              "\n",
              "    .dataframe thead th {\n",
              "        text-align: right;\n",
              "    }\n",
              "</style>\n",
              "<table border=\"1\" class=\"dataframe\">\n",
              "  <thead>\n",
              "    <tr style=\"text-align: right;\">\n",
              "      <th></th>\n",
              "      <th>numbers</th>\n",
              "      <th>parallel</th>\n",
              "      <th>without parallel</th>\n",
              "    </tr>\n",
              "  </thead>\n",
              "  <tbody>\n",
              "    <tr>\n",
              "      <th>0</th>\n",
              "      <td>1</td>\n",
              "      <td>1</td>\n",
              "      <td>1</td>\n",
              "    </tr>\n",
              "    <tr>\n",
              "      <th>1</th>\n",
              "      <td>2</td>\n",
              "      <td>4</td>\n",
              "      <td>4</td>\n",
              "    </tr>\n",
              "    <tr>\n",
              "      <th>2</th>\n",
              "      <td>3</td>\n",
              "      <td>9</td>\n",
              "      <td>9</td>\n",
              "    </tr>\n",
              "    <tr>\n",
              "      <th>3</th>\n",
              "      <td>4</td>\n",
              "      <td>16</td>\n",
              "      <td>16</td>\n",
              "    </tr>\n",
              "    <tr>\n",
              "      <th>4</th>\n",
              "      <td>5</td>\n",
              "      <td>25</td>\n",
              "      <td>25</td>\n",
              "    </tr>\n",
              "  </tbody>\n",
              "</table>\n",
              "</div>\n",
              "    <div class=\"colab-df-buttons\">\n",
              "\n",
              "  <div class=\"colab-df-container\">\n",
              "    <button class=\"colab-df-convert\" onclick=\"convertToInteractive('df-407fca82-4615-4a63-943f-85b30df13f3f')\"\n",
              "            title=\"Convert this dataframe to an interactive table.\"\n",
              "            style=\"display:none;\">\n",
              "\n",
              "  <svg xmlns=\"http://www.w3.org/2000/svg\" height=\"24px\" viewBox=\"0 -960 960 960\">\n",
              "    <path d=\"M120-120v-720h720v720H120Zm60-500h600v-160H180v160Zm220 220h160v-160H400v160Zm0 220h160v-160H400v160ZM180-400h160v-160H180v160Zm440 0h160v-160H620v160ZM180-180h160v-160H180v160Zm440 0h160v-160H620v160Z\"/>\n",
              "  </svg>\n",
              "    </button>\n",
              "\n",
              "  <style>\n",
              "    .colab-df-container {\n",
              "      display:flex;\n",
              "      gap: 12px;\n",
              "    }\n",
              "\n",
              "    .colab-df-convert {\n",
              "      background-color: #E8F0FE;\n",
              "      border: none;\n",
              "      border-radius: 50%;\n",
              "      cursor: pointer;\n",
              "      display: none;\n",
              "      fill: #1967D2;\n",
              "      height: 32px;\n",
              "      padding: 0 0 0 0;\n",
              "      width: 32px;\n",
              "    }\n",
              "\n",
              "    .colab-df-convert:hover {\n",
              "      background-color: #E2EBFA;\n",
              "      box-shadow: 0px 1px 2px rgba(60, 64, 67, 0.3), 0px 1px 3px 1px rgba(60, 64, 67, 0.15);\n",
              "      fill: #174EA6;\n",
              "    }\n",
              "\n",
              "    .colab-df-buttons div {\n",
              "      margin-bottom: 4px;\n",
              "    }\n",
              "\n",
              "    [theme=dark] .colab-df-convert {\n",
              "      background-color: #3B4455;\n",
              "      fill: #D2E3FC;\n",
              "    }\n",
              "\n",
              "    [theme=dark] .colab-df-convert:hover {\n",
              "      background-color: #434B5C;\n",
              "      box-shadow: 0px 1px 3px 1px rgba(0, 0, 0, 0.15);\n",
              "      filter: drop-shadow(0px 1px 2px rgba(0, 0, 0, 0.3));\n",
              "      fill: #FFFFFF;\n",
              "    }\n",
              "  </style>\n",
              "\n",
              "    <script>\n",
              "      const buttonEl =\n",
              "        document.querySelector('#df-407fca82-4615-4a63-943f-85b30df13f3f button.colab-df-convert');\n",
              "      buttonEl.style.display =\n",
              "        google.colab.kernel.accessAllowed ? 'block' : 'none';\n",
              "\n",
              "      async function convertToInteractive(key) {\n",
              "        const element = document.querySelector('#df-407fca82-4615-4a63-943f-85b30df13f3f');\n",
              "        const dataTable =\n",
              "          await google.colab.kernel.invokeFunction('convertToInteractive',\n",
              "                                                    [key], {});\n",
              "        if (!dataTable) return;\n",
              "\n",
              "        const docLinkHtml = 'Like what you see? Visit the ' +\n",
              "          '<a target=\"_blank\" href=https://colab.research.google.com/notebooks/data_table.ipynb>data table notebook</a>'\n",
              "          + ' to learn more about interactive tables.';\n",
              "        element.innerHTML = '';\n",
              "        dataTable['output_type'] = 'display_data';\n",
              "        await google.colab.output.renderOutput(dataTable, element);\n",
              "        const docLink = document.createElement('div');\n",
              "        docLink.innerHTML = docLinkHtml;\n",
              "        element.appendChild(docLink);\n",
              "      }\n",
              "    </script>\n",
              "  </div>\n",
              "\n",
              "\n",
              "<div id=\"df-5f3d0aa5-22a9-4045-b1e8-9ad05ff9c560\">\n",
              "  <button class=\"colab-df-quickchart\" onclick=\"quickchart('df-5f3d0aa5-22a9-4045-b1e8-9ad05ff9c560')\"\n",
              "            title=\"Suggest charts\"\n",
              "            style=\"display:none;\">\n",
              "\n",
              "<svg xmlns=\"http://www.w3.org/2000/svg\" height=\"24px\"viewBox=\"0 0 24 24\"\n",
              "     width=\"24px\">\n",
              "    <g>\n",
              "        <path d=\"M19 3H5c-1.1 0-2 .9-2 2v14c0 1.1.9 2 2 2h14c1.1 0 2-.9 2-2V5c0-1.1-.9-2-2-2zM9 17H7v-7h2v7zm4 0h-2V7h2v10zm4 0h-2v-4h2v4z\"/>\n",
              "    </g>\n",
              "</svg>\n",
              "  </button>\n",
              "\n",
              "<style>\n",
              "  .colab-df-quickchart {\n",
              "      --bg-color: #E8F0FE;\n",
              "      --fill-color: #1967D2;\n",
              "      --hover-bg-color: #E2EBFA;\n",
              "      --hover-fill-color: #174EA6;\n",
              "      --disabled-fill-color: #AAA;\n",
              "      --disabled-bg-color: #DDD;\n",
              "  }\n",
              "\n",
              "  [theme=dark] .colab-df-quickchart {\n",
              "      --bg-color: #3B4455;\n",
              "      --fill-color: #D2E3FC;\n",
              "      --hover-bg-color: #434B5C;\n",
              "      --hover-fill-color: #FFFFFF;\n",
              "      --disabled-bg-color: #3B4455;\n",
              "      --disabled-fill-color: #666;\n",
              "  }\n",
              "\n",
              "  .colab-df-quickchart {\n",
              "    background-color: var(--bg-color);\n",
              "    border: none;\n",
              "    border-radius: 50%;\n",
              "    cursor: pointer;\n",
              "    display: none;\n",
              "    fill: var(--fill-color);\n",
              "    height: 32px;\n",
              "    padding: 0;\n",
              "    width: 32px;\n",
              "  }\n",
              "\n",
              "  .colab-df-quickchart:hover {\n",
              "    background-color: var(--hover-bg-color);\n",
              "    box-shadow: 0 1px 2px rgba(60, 64, 67, 0.3), 0 1px 3px 1px rgba(60, 64, 67, 0.15);\n",
              "    fill: var(--button-hover-fill-color);\n",
              "  }\n",
              "\n",
              "  .colab-df-quickchart-complete:disabled,\n",
              "  .colab-df-quickchart-complete:disabled:hover {\n",
              "    background-color: var(--disabled-bg-color);\n",
              "    fill: var(--disabled-fill-color);\n",
              "    box-shadow: none;\n",
              "  }\n",
              "\n",
              "  .colab-df-spinner {\n",
              "    border: 2px solid var(--fill-color);\n",
              "    border-color: transparent;\n",
              "    border-bottom-color: var(--fill-color);\n",
              "    animation:\n",
              "      spin 1s steps(1) infinite;\n",
              "  }\n",
              "\n",
              "  @keyframes spin {\n",
              "    0% {\n",
              "      border-color: transparent;\n",
              "      border-bottom-color: var(--fill-color);\n",
              "      border-left-color: var(--fill-color);\n",
              "    }\n",
              "    20% {\n",
              "      border-color: transparent;\n",
              "      border-left-color: var(--fill-color);\n",
              "      border-top-color: var(--fill-color);\n",
              "    }\n",
              "    30% {\n",
              "      border-color: transparent;\n",
              "      border-left-color: var(--fill-color);\n",
              "      border-top-color: var(--fill-color);\n",
              "      border-right-color: var(--fill-color);\n",
              "    }\n",
              "    40% {\n",
              "      border-color: transparent;\n",
              "      border-right-color: var(--fill-color);\n",
              "      border-top-color: var(--fill-color);\n",
              "    }\n",
              "    60% {\n",
              "      border-color: transparent;\n",
              "      border-right-color: var(--fill-color);\n",
              "    }\n",
              "    80% {\n",
              "      border-color: transparent;\n",
              "      border-right-color: var(--fill-color);\n",
              "      border-bottom-color: var(--fill-color);\n",
              "    }\n",
              "    90% {\n",
              "      border-color: transparent;\n",
              "      border-bottom-color: var(--fill-color);\n",
              "    }\n",
              "  }\n",
              "</style>\n",
              "\n",
              "  <script>\n",
              "    async function quickchart(key) {\n",
              "      const quickchartButtonEl =\n",
              "        document.querySelector('#' + key + ' button');\n",
              "      quickchartButtonEl.disabled = true;  // To prevent multiple clicks.\n",
              "      quickchartButtonEl.classList.add('colab-df-spinner');\n",
              "      try {\n",
              "        const charts = await google.colab.kernel.invokeFunction(\n",
              "            'suggestCharts', [key], {});\n",
              "      } catch (error) {\n",
              "        console.error('Error during call to suggestCharts:', error);\n",
              "      }\n",
              "      quickchartButtonEl.classList.remove('colab-df-spinner');\n",
              "      quickchartButtonEl.classList.add('colab-df-quickchart-complete');\n",
              "    }\n",
              "    (() => {\n",
              "      let quickchartButtonEl =\n",
              "        document.querySelector('#df-5f3d0aa5-22a9-4045-b1e8-9ad05ff9c560 button');\n",
              "      quickchartButtonEl.style.display =\n",
              "        google.colab.kernel.accessAllowed ? 'block' : 'none';\n",
              "    })();\n",
              "  </script>\n",
              "</div>\n",
              "\n",
              "  <div id=\"id_58416c5e-68be-4609-b32d-1043a0944997\">\n",
              "    <style>\n",
              "      .colab-df-generate {\n",
              "        background-color: #E8F0FE;\n",
              "        border: none;\n",
              "        border-radius: 50%;\n",
              "        cursor: pointer;\n",
              "        display: none;\n",
              "        fill: #1967D2;\n",
              "        height: 32px;\n",
              "        padding: 0 0 0 0;\n",
              "        width: 32px;\n",
              "      }\n",
              "\n",
              "      .colab-df-generate:hover {\n",
              "        background-color: #E2EBFA;\n",
              "        box-shadow: 0px 1px 2px rgba(60, 64, 67, 0.3), 0px 1px 3px 1px rgba(60, 64, 67, 0.15);\n",
              "        fill: #174EA6;\n",
              "      }\n",
              "\n",
              "      [theme=dark] .colab-df-generate {\n",
              "        background-color: #3B4455;\n",
              "        fill: #D2E3FC;\n",
              "      }\n",
              "\n",
              "      [theme=dark] .colab-df-generate:hover {\n",
              "        background-color: #434B5C;\n",
              "        box-shadow: 0px 1px 3px 1px rgba(0, 0, 0, 0.15);\n",
              "        filter: drop-shadow(0px 1px 2px rgba(0, 0, 0, 0.3));\n",
              "        fill: #FFFFFF;\n",
              "      }\n",
              "    </style>\n",
              "    <button class=\"colab-df-generate\" onclick=\"generateWithVariable('nums')\"\n",
              "            title=\"Generate code using this dataframe.\"\n",
              "            style=\"display:none;\">\n",
              "\n",
              "  <svg xmlns=\"http://www.w3.org/2000/svg\" height=\"24px\"viewBox=\"0 0 24 24\"\n",
              "       width=\"24px\">\n",
              "    <path d=\"M7,19H8.4L18.45,9,17,7.55,7,17.6ZM5,21V16.75L18.45,3.32a2,2,0,0,1,2.83,0l1.4,1.43a1.91,1.91,0,0,1,.58,1.4,1.91,1.91,0,0,1-.58,1.4L9.25,21ZM18.45,9,17,7.55Zm-12,3A5.31,5.31,0,0,0,4.9,8.1,5.31,5.31,0,0,0,1,6.5,5.31,5.31,0,0,0,4.9,4.9,5.31,5.31,0,0,0,6.5,1,5.31,5.31,0,0,0,8.1,4.9,5.31,5.31,0,0,0,12,6.5,5.46,5.46,0,0,0,6.5,12Z\"/>\n",
              "  </svg>\n",
              "    </button>\n",
              "    <script>\n",
              "      (() => {\n",
              "      const buttonEl =\n",
              "        document.querySelector('#id_58416c5e-68be-4609-b32d-1043a0944997 button.colab-df-generate');\n",
              "      buttonEl.style.display =\n",
              "        google.colab.kernel.accessAllowed ? 'block' : 'none';\n",
              "\n",
              "      buttonEl.onclick = () => {\n",
              "        google.colab.notebook.generateWithVariable('nums');\n",
              "      }\n",
              "      })();\n",
              "    </script>\n",
              "  </div>\n",
              "\n",
              "    </div>\n",
              "  </div>\n"
            ]
          },
          "metadata": {},
          "execution_count": 12
        }
      ]
    },
    {
      "cell_type": "code",
      "source": [
        "# Import numpy\n",
        "import numpy as np\n",
        "list=[1,5,26,2,17]\n",
        "    # Convert the list to a numpy array\n",
        "numlist=np.array(list)\n",
        "\n",
        "\n",
        "    # Find the elements that are greater than or equal to 5\n",
        "new_array=np.where(numlist >= 5, np.power(numlist,2), numlist)\n",
        "\n",
        "    # Square the selected elements\n",
        "\n",
        "\n",
        "    # Return the modified array as a list\n",
        "new_array\n",
        "    #test case"
      ],
      "metadata": {
        "id": "e__PiYT9twe2",
        "colab": {
          "base_uri": "https://localhost:8080/"
        },
        "outputId": "1b045eba-fe3d-4032-a439-37d4bdac6a22"
      },
      "execution_count": null,
      "outputs": [
        {
          "output_type": "execute_result",
          "data": {
            "text/plain": [
              "array([  1,  25, 676,   2, 289])"
            ]
          },
          "metadata": {},
          "execution_count": 13
        }
      ]
    },
    {
      "cell_type": "code",
      "source": [
        "import numpy as np\n",
        "A=np.round(10*np.random.rand(5,8))\n",
        "A\n",
        "# here axis 0 means sorting will be applicable on colum wise and axis 1 means row wise\n",
        "A.sort(axis=0)\n",
        "A\n"
      ],
      "metadata": {
        "colab": {
          "base_uri": "https://localhost:8080/"
        },
        "id": "KXcLzNfAxK38",
        "outputId": "bee0c30a-610c-4872-a983-57cdb9a8d1ad"
      },
      "execution_count": null,
      "outputs": [
        {
          "output_type": "execute_result",
          "data": {
            "text/plain": [
              "array([[ 2.,  4.,  1.,  2.,  0.,  3.,  1.,  1.],\n",
              "       [ 2.,  6.,  3.,  3.,  7.,  7.,  4.,  4.],\n",
              "       [ 3.,  7.,  7.,  8.,  7.,  7.,  6.,  5.],\n",
              "       [ 8.,  7.,  7.,  8.,  8.,  8.,  8.,  5.],\n",
              "       [ 8.,  9.,  9.,  9.,  9., 10., 10.,  6.]])"
            ]
          },
          "metadata": {},
          "execution_count": 14
        }
      ]
    },
    {
      "cell_type": "code",
      "source": [
        "A[[2,3,4]]\n",
        "# this will print the particular index position values.\n",
        "# if the variable is matrix then it will perform on row-wise else on each values"
      ],
      "metadata": {
        "id": "ZEsVOO7zzaQS",
        "colab": {
          "base_uri": "https://localhost:8080/"
        },
        "outputId": "05f0a8fb-ff22-48b1-e2b4-ef9c85455dcb"
      },
      "execution_count": null,
      "outputs": [
        {
          "output_type": "execute_result",
          "data": {
            "text/plain": [
              "array([[ 3.,  7.,  7.,  8.,  7.,  7.,  6.,  5.],\n",
              "       [ 8.,  7.,  7.,  8.,  8.,  8.,  8.,  5.],\n",
              "       [ 8.,  9.,  9.,  9.,  9., 10., 10.,  6.]])"
            ]
          },
          "metadata": {},
          "execution_count": 15
        }
      ]
    },
    {
      "cell_type": "code",
      "source": [
        "# syntax: A[index_array]\n",
        "x=A[0]\n",
        "# x[[1,4,5]]\n",
        "x[[True, True, False, False, True, False,True,True]]\n",
        "# the above line will perform boolean operation. this will return the array value whose boolean value is True only\n",
        "A[A>5]\n",
        "A[(A<8) & (A>5)]\n",
        "\n"
      ],
      "metadata": {
        "colab": {
          "base_uri": "https://localhost:8080/"
        },
        "id": "iMDNoZor0HRa",
        "outputId": "d065a328-fd36-4bb7-c946-c28921b37c07"
      },
      "execution_count": null,
      "outputs": [
        {
          "output_type": "execute_result",
          "data": {
            "text/plain": [
              "array([6., 7., 7., 7., 7., 7., 7., 6., 7., 7., 6.])"
            ]
          },
          "metadata": {},
          "execution_count": 16
        }
      ]
    },
    {
      "cell_type": "markdown",
      "source": [
        "### Difference between & and 'and' operator\n",
        "    The symbols(&, | and ~) are used on arrays and it returns boolean values;\n",
        "    while the wording format of these operators(and, or, not) are used on only single objects.\n",
        "\n"
      ],
      "metadata": {
        "id": "_TG45S062JLB"
      }
    },
    {
      "cell_type": "code",
      "source": [
        "print(A)\n",
        "A=A+2\n",
        "print(A)"
      ],
      "metadata": {
        "id": "1iF7MY7n28fI",
        "colab": {
          "base_uri": "https://localhost:8080/"
        },
        "outputId": "315b2b1d-5d13-40f3-95b2-6023b4419551"
      },
      "execution_count": null,
      "outputs": [
        {
          "output_type": "stream",
          "name": "stdout",
          "text": [
            "[[ 2.  4.  1.  2.  0.  3.  1.  1.]\n",
            " [ 2.  6.  3.  3.  7.  7.  4.  4.]\n",
            " [ 3.  7.  7.  8.  7.  7.  6.  5.]\n",
            " [ 8.  7.  7.  8.  8.  8.  8.  5.]\n",
            " [ 8.  9.  9.  9.  9. 10. 10.  6.]]\n",
            "[[ 4.  6.  3.  4.  2.  5.  3.  3.]\n",
            " [ 4.  8.  5.  5.  9.  9.  6.  6.]\n",
            " [ 5.  9.  9. 10.  9.  9.  8.  7.]\n",
            " [10.  9.  9. 10. 10. 10. 10.  7.]\n",
            " [10. 11. 11. 11. 11. 12. 12.  8.]]\n"
          ]
        }
      ]
    },
    {
      "cell_type": "code",
      "source": [
        "# np.hstack, vstack, sort\n",
        "arr=np.arange(6).reshape(3,2)\n",
        "arr\n",
        "c=np.hstack(A)\n",
        "c"
      ],
      "metadata": {
        "colab": {
          "base_uri": "https://localhost:8080/"
        },
        "id": "fqSfVCNA3dQL",
        "outputId": "ceaef79c-08bf-4544-d4c4-cad492caf5c6"
      },
      "execution_count": null,
      "outputs": [
        {
          "output_type": "execute_result",
          "data": {
            "text/plain": [
              "array([ 4.,  6.,  3.,  4.,  2.,  5.,  3.,  3.,  4.,  8.,  5.,  5.,  9.,\n",
              "        9.,  6.,  6.,  5.,  9.,  9., 10.,  9.,  9.,  8.,  7., 10.,  9.,\n",
              "        9., 10., 10., 10., 10.,  7., 10., 11., 11., 11., 11., 12., 12.,\n",
              "        8.])"
            ]
          },
          "metadata": {},
          "execution_count": 18
        }
      ]
    },
    {
      "cell_type": "code",
      "source": [
        "# in this we used the permutation with arange and sorting\n",
        "arr1=np.random.permutation(np.arange(10))\n",
        "print(arr1)\n",
        "np.sort(arr1)[::-1]"
      ],
      "metadata": {
        "colab": {
          "base_uri": "https://localhost:8080/"
        },
        "id": "lYVVVSKn4U0A",
        "outputId": "8a2ae5a3-5181-4b73-f056-e9ff3c829730"
      },
      "execution_count": null,
      "outputs": [
        {
          "output_type": "stream",
          "name": "stdout",
          "text": [
            "[8 1 9 5 6 2 7 3 0 4]\n"
          ]
        },
        {
          "output_type": "execute_result",
          "data": {
            "text/plain": [
              "array([9, 8, 7, 6, 5, 4, 3, 2, 1, 0])"
            ]
          },
          "metadata": {},
          "execution_count": 19
        }
      ]
    },
    {
      "cell_type": "code",
      "source": [
        "# the purpose of this code is to figure out the fast of numpy functions with normal py function\n",
        "arr2=np.random.rand(1000)\n",
        "%timeit sum(arr2)\n",
        "%timeit np.sum(arr2)\n",
        "# obviously numpy is faster"
      ],
      "metadata": {
        "id": "V60LhaNo44MB",
        "colab": {
          "base_uri": "https://localhost:8080/"
        },
        "outputId": "3b078b1a-245e-49d5-f408-89de08f7781d"
      },
      "execution_count": null,
      "outputs": [
        {
          "output_type": "stream",
          "name": "stdout",
          "text": [
            "127 µs ± 42.3 µs per loop (mean ± std. dev. of 7 runs, 10000 loops each)\n",
            "5.45 µs ± 597 ns per loop (mean ± std. dev. of 7 runs, 100000 loops each)\n"
          ]
        }
      ]
    },
    {
      "cell_type": "code",
      "source": [
        "%timeit\n",
        "def mysum(n):\n",
        "    s=0\n",
        "    for i in n:\n",
        "        s+=n\n",
        "    return s\n"
      ],
      "metadata": {
        "id": "1ynE0bhL5ztq"
      },
      "execution_count": null,
      "outputs": []
    },
    {
      "cell_type": "code",
      "source": [],
      "metadata": {
        "id": "FnufRUcj-WJb"
      },
      "execution_count": null,
      "outputs": []
    },
    {
      "cell_type": "code",
      "source": [
        "# prompt: armstrong number\n",
        "\n",
        "num = int(input(\"Enter a number: \"))\n",
        "sum = 0\n",
        "temp = num\n",
        "while temp > 0:\n",
        "    digit = temp % 10\n",
        "    sum += digit ** 3\n",
        "    temp //= 10\n",
        "if num == sum:\n",
        "    print(f\"{num} is an Armstrong number\")\n",
        "else:\n",
        "    print(f\"{num} is not an Armstrong number\")\n"
      ],
      "metadata": {
        "id": "79fJkGX166M6",
        "colab": {
          "base_uri": "https://localhost:8080/"
        },
        "outputId": "80133f8f-4f00-4564-f177-417c55c6ce26"
      },
      "execution_count": null,
      "outputs": [
        {
          "output_type": "stream",
          "name": "stdout",
          "text": [
            "Enter a number: 22\n",
            "22 is not an Armstrong number\n"
          ]
        }
      ]
    },
    {
      "cell_type": "code",
      "source": [],
      "metadata": {
        "id": "Sc2eHhjkDO6P"
      },
      "execution_count": null,
      "outputs": []
    },
    {
      "cell_type": "code",
      "source": [
        "table=pd.DataFrame([{'a':1,'b':2},{'b':1,'c':3}])\n",
        "table\n",
        "table.fillna(0)\n",
        "# table.dropna()"
      ],
      "metadata": {
        "colab": {
          "base_uri": "https://localhost:8080/",
          "height": 112
        },
        "id": "pHVNMnRa-XAX",
        "outputId": "5e03cb82-9484-4cc2-e21b-aec7f810a2fc"
      },
      "execution_count": null,
      "outputs": [
        {
          "output_type": "execute_result",
          "data": {
            "text/plain": [
              "     a  b    c\n",
              "0  1.0  2  0.0\n",
              "1  0.0  1  3.0"
            ],
            "text/html": [
              "\n",
              "  <div id=\"df-ce164873-daff-4f92-a76a-e3729c4a0bf5\" class=\"colab-df-container\">\n",
              "    <div>\n",
              "<style scoped>\n",
              "    .dataframe tbody tr th:only-of-type {\n",
              "        vertical-align: middle;\n",
              "    }\n",
              "\n",
              "    .dataframe tbody tr th {\n",
              "        vertical-align: top;\n",
              "    }\n",
              "\n",
              "    .dataframe thead th {\n",
              "        text-align: right;\n",
              "    }\n",
              "</style>\n",
              "<table border=\"1\" class=\"dataframe\">\n",
              "  <thead>\n",
              "    <tr style=\"text-align: right;\">\n",
              "      <th></th>\n",
              "      <th>a</th>\n",
              "      <th>b</th>\n",
              "      <th>c</th>\n",
              "    </tr>\n",
              "  </thead>\n",
              "  <tbody>\n",
              "    <tr>\n",
              "      <th>0</th>\n",
              "      <td>1.0</td>\n",
              "      <td>2</td>\n",
              "      <td>0.0</td>\n",
              "    </tr>\n",
              "    <tr>\n",
              "      <th>1</th>\n",
              "      <td>0.0</td>\n",
              "      <td>1</td>\n",
              "      <td>3.0</td>\n",
              "    </tr>\n",
              "  </tbody>\n",
              "</table>\n",
              "</div>\n",
              "    <div class=\"colab-df-buttons\">\n",
              "\n",
              "  <div class=\"colab-df-container\">\n",
              "    <button class=\"colab-df-convert\" onclick=\"convertToInteractive('df-ce164873-daff-4f92-a76a-e3729c4a0bf5')\"\n",
              "            title=\"Convert this dataframe to an interactive table.\"\n",
              "            style=\"display:none;\">\n",
              "\n",
              "  <svg xmlns=\"http://www.w3.org/2000/svg\" height=\"24px\" viewBox=\"0 -960 960 960\">\n",
              "    <path d=\"M120-120v-720h720v720H120Zm60-500h600v-160H180v160Zm220 220h160v-160H400v160Zm0 220h160v-160H400v160ZM180-400h160v-160H180v160Zm440 0h160v-160H620v160ZM180-180h160v-160H180v160Zm440 0h160v-160H620v160Z\"/>\n",
              "  </svg>\n",
              "    </button>\n",
              "\n",
              "  <style>\n",
              "    .colab-df-container {\n",
              "      display:flex;\n",
              "      gap: 12px;\n",
              "    }\n",
              "\n",
              "    .colab-df-convert {\n",
              "      background-color: #E8F0FE;\n",
              "      border: none;\n",
              "      border-radius: 50%;\n",
              "      cursor: pointer;\n",
              "      display: none;\n",
              "      fill: #1967D2;\n",
              "      height: 32px;\n",
              "      padding: 0 0 0 0;\n",
              "      width: 32px;\n",
              "    }\n",
              "\n",
              "    .colab-df-convert:hover {\n",
              "      background-color: #E2EBFA;\n",
              "      box-shadow: 0px 1px 2px rgba(60, 64, 67, 0.3), 0px 1px 3px 1px rgba(60, 64, 67, 0.15);\n",
              "      fill: #174EA6;\n",
              "    }\n",
              "\n",
              "    .colab-df-buttons div {\n",
              "      margin-bottom: 4px;\n",
              "    }\n",
              "\n",
              "    [theme=dark] .colab-df-convert {\n",
              "      background-color: #3B4455;\n",
              "      fill: #D2E3FC;\n",
              "    }\n",
              "\n",
              "    [theme=dark] .colab-df-convert:hover {\n",
              "      background-color: #434B5C;\n",
              "      box-shadow: 0px 1px 3px 1px rgba(0, 0, 0, 0.15);\n",
              "      filter: drop-shadow(0px 1px 2px rgba(0, 0, 0, 0.3));\n",
              "      fill: #FFFFFF;\n",
              "    }\n",
              "  </style>\n",
              "\n",
              "    <script>\n",
              "      const buttonEl =\n",
              "        document.querySelector('#df-ce164873-daff-4f92-a76a-e3729c4a0bf5 button.colab-df-convert');\n",
              "      buttonEl.style.display =\n",
              "        google.colab.kernel.accessAllowed ? 'block' : 'none';\n",
              "\n",
              "      async function convertToInteractive(key) {\n",
              "        const element = document.querySelector('#df-ce164873-daff-4f92-a76a-e3729c4a0bf5');\n",
              "        const dataTable =\n",
              "          await google.colab.kernel.invokeFunction('convertToInteractive',\n",
              "                                                    [key], {});\n",
              "        if (!dataTable) return;\n",
              "\n",
              "        const docLinkHtml = 'Like what you see? Visit the ' +\n",
              "          '<a target=\"_blank\" href=https://colab.research.google.com/notebooks/data_table.ipynb>data table notebook</a>'\n",
              "          + ' to learn more about interactive tables.';\n",
              "        element.innerHTML = '';\n",
              "        dataTable['output_type'] = 'display_data';\n",
              "        await google.colab.output.renderOutput(dataTable, element);\n",
              "        const docLink = document.createElement('div');\n",
              "        docLink.innerHTML = docLinkHtml;\n",
              "        element.appendChild(docLink);\n",
              "      }\n",
              "    </script>\n",
              "  </div>\n",
              "\n",
              "\n",
              "<div id=\"df-40eea3d1-9597-4e52-9e5b-066a487e2a1a\">\n",
              "  <button class=\"colab-df-quickchart\" onclick=\"quickchart('df-40eea3d1-9597-4e52-9e5b-066a487e2a1a')\"\n",
              "            title=\"Suggest charts\"\n",
              "            style=\"display:none;\">\n",
              "\n",
              "<svg xmlns=\"http://www.w3.org/2000/svg\" height=\"24px\"viewBox=\"0 0 24 24\"\n",
              "     width=\"24px\">\n",
              "    <g>\n",
              "        <path d=\"M19 3H5c-1.1 0-2 .9-2 2v14c0 1.1.9 2 2 2h14c1.1 0 2-.9 2-2V5c0-1.1-.9-2-2-2zM9 17H7v-7h2v7zm4 0h-2V7h2v10zm4 0h-2v-4h2v4z\"/>\n",
              "    </g>\n",
              "</svg>\n",
              "  </button>\n",
              "\n",
              "<style>\n",
              "  .colab-df-quickchart {\n",
              "      --bg-color: #E8F0FE;\n",
              "      --fill-color: #1967D2;\n",
              "      --hover-bg-color: #E2EBFA;\n",
              "      --hover-fill-color: #174EA6;\n",
              "      --disabled-fill-color: #AAA;\n",
              "      --disabled-bg-color: #DDD;\n",
              "  }\n",
              "\n",
              "  [theme=dark] .colab-df-quickchart {\n",
              "      --bg-color: #3B4455;\n",
              "      --fill-color: #D2E3FC;\n",
              "      --hover-bg-color: #434B5C;\n",
              "      --hover-fill-color: #FFFFFF;\n",
              "      --disabled-bg-color: #3B4455;\n",
              "      --disabled-fill-color: #666;\n",
              "  }\n",
              "\n",
              "  .colab-df-quickchart {\n",
              "    background-color: var(--bg-color);\n",
              "    border: none;\n",
              "    border-radius: 50%;\n",
              "    cursor: pointer;\n",
              "    display: none;\n",
              "    fill: var(--fill-color);\n",
              "    height: 32px;\n",
              "    padding: 0;\n",
              "    width: 32px;\n",
              "  }\n",
              "\n",
              "  .colab-df-quickchart:hover {\n",
              "    background-color: var(--hover-bg-color);\n",
              "    box-shadow: 0 1px 2px rgba(60, 64, 67, 0.3), 0 1px 3px 1px rgba(60, 64, 67, 0.15);\n",
              "    fill: var(--button-hover-fill-color);\n",
              "  }\n",
              "\n",
              "  .colab-df-quickchart-complete:disabled,\n",
              "  .colab-df-quickchart-complete:disabled:hover {\n",
              "    background-color: var(--disabled-bg-color);\n",
              "    fill: var(--disabled-fill-color);\n",
              "    box-shadow: none;\n",
              "  }\n",
              "\n",
              "  .colab-df-spinner {\n",
              "    border: 2px solid var(--fill-color);\n",
              "    border-color: transparent;\n",
              "    border-bottom-color: var(--fill-color);\n",
              "    animation:\n",
              "      spin 1s steps(1) infinite;\n",
              "  }\n",
              "\n",
              "  @keyframes spin {\n",
              "    0% {\n",
              "      border-color: transparent;\n",
              "      border-bottom-color: var(--fill-color);\n",
              "      border-left-color: var(--fill-color);\n",
              "    }\n",
              "    20% {\n",
              "      border-color: transparent;\n",
              "      border-left-color: var(--fill-color);\n",
              "      border-top-color: var(--fill-color);\n",
              "    }\n",
              "    30% {\n",
              "      border-color: transparent;\n",
              "      border-left-color: var(--fill-color);\n",
              "      border-top-color: var(--fill-color);\n",
              "      border-right-color: var(--fill-color);\n",
              "    }\n",
              "    40% {\n",
              "      border-color: transparent;\n",
              "      border-right-color: var(--fill-color);\n",
              "      border-top-color: var(--fill-color);\n",
              "    }\n",
              "    60% {\n",
              "      border-color: transparent;\n",
              "      border-right-color: var(--fill-color);\n",
              "    }\n",
              "    80% {\n",
              "      border-color: transparent;\n",
              "      border-right-color: var(--fill-color);\n",
              "      border-bottom-color: var(--fill-color);\n",
              "    }\n",
              "    90% {\n",
              "      border-color: transparent;\n",
              "      border-bottom-color: var(--fill-color);\n",
              "    }\n",
              "  }\n",
              "</style>\n",
              "\n",
              "  <script>\n",
              "    async function quickchart(key) {\n",
              "      const quickchartButtonEl =\n",
              "        document.querySelector('#' + key + ' button');\n",
              "      quickchartButtonEl.disabled = true;  // To prevent multiple clicks.\n",
              "      quickchartButtonEl.classList.add('colab-df-spinner');\n",
              "      try {\n",
              "        const charts = await google.colab.kernel.invokeFunction(\n",
              "            'suggestCharts', [key], {});\n",
              "      } catch (error) {\n",
              "        console.error('Error during call to suggestCharts:', error);\n",
              "      }\n",
              "      quickchartButtonEl.classList.remove('colab-df-spinner');\n",
              "      quickchartButtonEl.classList.add('colab-df-quickchart-complete');\n",
              "    }\n",
              "    (() => {\n",
              "      let quickchartButtonEl =\n",
              "        document.querySelector('#df-40eea3d1-9597-4e52-9e5b-066a487e2a1a button');\n",
              "      quickchartButtonEl.style.display =\n",
              "        google.colab.kernel.accessAllowed ? 'block' : 'none';\n",
              "    })();\n",
              "  </script>\n",
              "</div>\n",
              "\n",
              "    </div>\n",
              "  </div>\n"
            ]
          },
          "metadata": {},
          "execution_count": 23
        }
      ]
    },
    {
      "cell_type": "code",
      "source": [
        "import json as js\n",
        "# open jSON FILE , loaD THEN PRINT\n",
        "\n",
        "with open('/content/cache/employee.json') as f:\n",
        "    employee=js.load(f)\n",
        "print(employee)\n",
        "employee[0]"
      ],
      "metadata": {
        "id": "U0RHDFKZDP82",
        "colab": {
          "base_uri": "https://localhost:8080/"
        },
        "outputId": "a93b1e56-46ae-417c-d4ba-0ec52c62f090"
      },
      "execution_count": null,
      "outputs": [
        {
          "output_type": "stream",
          "name": "stdout",
          "text": [
            "[{'id ': 1, 'name ': 'john', 'age ': 20, 'gender': 'male', 'department': 'hr', 'salary': 500000}, {'id ': 2, 'name ': 'jane', 'age ': 23, 'gender': 'female', 'department': 'marketing', 'salary': 600000}, {'id ': 3, 'name ': 'joey', 'age ': 23, 'gender': 'male', 'department': 'it', 'salary': 300000}, {'id ': 4, 'name ': 'sarah', 'age ': 25, 'gender': 'female', 'department': 'hr', 'salary': 450000}, {'id ': 5, 'name ': 'rose', 'age ': 28, 'gender': 'male', 'department': 'hr', 'salary': 700000}, {'id ': 6, 'name ': 'bing', 'age ': 29, 'gender': 'male', 'department': 'finance', 'salary': 800000}, {'id ': 7, 'name ': 'rach', 'age ': 41, 'gender': 'female', 'department': 'it', 'salary': 600000}, {'id ': 8, 'name ': 'monica', 'age ': 23, 'gender': 'female', 'department': 'marketing', 'salary': 7000000}, {'id ': 9, 'name ': 'pheebe', 'age ': 35, 'gender': 'female', 'department': 'it', 'salary': 4000000}]\n"
          ]
        },
        {
          "output_type": "execute_result",
          "data": {
            "text/plain": [
              "{'id ': 1,\n",
              " 'name ': 'john',\n",
              " 'age ': 20,\n",
              " 'gender': 'male',\n",
              " 'department': 'hr',\n",
              " 'salary': 500000}"
            ]
          },
          "metadata": {},
          "execution_count": 26
        }
      ]
    },
    {
      "cell_type": "code",
      "source": [
        "# accessing json file data\n",
        "data=employee[5]\n",
        "name=data['name ']\n",
        "salary=data['salary']\n",
        "print(f\"name:{name}, salary:{salary}\")"
      ],
      "metadata": {
        "id": "8Z3mfTVZEpfY",
        "colab": {
          "base_uri": "https://localhost:8080/"
        },
        "outputId": "2cd8b505-0039-4924-e52a-716117caa494"
      },
      "execution_count": null,
      "outputs": [
        {
          "output_type": "stream",
          "name": "stdout",
          "text": [
            "name:bing, salary:800000\n"
          ]
        }
      ]
    },
    {
      "cell_type": "code",
      "source": [
        "data2=employee[2]\n",
        "data2['age ']=25\n"
      ],
      "metadata": {
        "id": "ObnKEPTFFUNX"
      },
      "execution_count": null,
      "outputs": []
    },
    {
      "cell_type": "markdown",
      "source": [
        "\n",
        "\n",
        "```\n",
        "Certainly! Let's go through each example line by line:\n",
        "\n",
        "### Example 1: Read JSON File\n",
        "```python\n",
        "import json\n",
        "\n",
        "# Read JSON file\n",
        "with open('example.json', 'r') as file:\n",
        "    data = json.load(file)\n",
        "\n",
        "print(data)\n",
        "```\n",
        "\n",
        "- `import json`: Imports the built-in `json` module for working with JSON data.\n",
        "- `with open('example.json', 'r') as file:`: Opens the JSON file named 'example.json' in read mode. The `with` statement is used to ensure that the file is properly closed after reading.\n",
        "- `data = json.load(file)`: Loads the JSON data from the file into a Python dictionary. The `json.load` function reads the file and parses its contents into a Python data structure.\n",
        "- `print(data)`: Prints the loaded data, which is now a Python dictionary.\n",
        "\n",
        "### Example 2: Write to JSON File\n",
        "```python\n",
        "import json\n",
        "\n",
        "# Data to be written to the JSON file\n",
        "data = {'name': 'John', 'age': 30, 'city': 'New York'}\n",
        "\n",
        "# Write to JSON file\n",
        "with open('output.json', 'w') as file:\n",
        "    json.dump(data, file, indent=2)\n",
        "```\n",
        "\n",
        "- `data = {'name': 'John', 'age': 30, 'city': 'New York'}`: Creates a Python dictionary with sample data.\n",
        "- `with open('output.json', 'w') as file:`: Opens a new JSON file named 'output.json' in write mode.\n",
        "- `json.dump(data, file, indent=2)`: Writes the dictionary `data` to the file in JSON format. The `indent=2` argument adds indentation to make the JSON file more human-readable.\n",
        "\n",
        "### Example 3: Modify JSON Data\n",
        "```python\n",
        "import json\n",
        "\n",
        "# Read JSON file\n",
        "with open('example.json', 'r') as file:\n",
        "    data = json.load(file)\n",
        "\n",
        "# Modify data\n",
        "data['age'] = 31\n",
        "\n",
        "# Write modified data back to JSON file\n",
        "with open('example.json', 'w') as file:\n",
        "    json.dump(data, file, indent=2)\n",
        "```\n",
        "\n",
        "- This example builds upon Example 1. It reads the JSON file, modifies the value of the 'age' key in the loaded dictionary, and then writes the modified data back to the same file.\n",
        "\n",
        "### Example 4: Pretty Print JSON\n",
        "```python\n",
        "import json\n",
        "\n",
        "# Read JSON file\n",
        "with open('example.json', 'r') as file:\n",
        "    data = json.load(file)\n",
        "\n",
        "# Pretty print JSON\n",
        "print(json.dumps(data, indent=2))\n",
        "```\n",
        "\n",
        "- This example reads the JSON file, loads it into a Python dictionary, and then uses `json.dumps` to convert the dictionary back to a JSON-formatted string with indentation (`indent=2`). Finally, it prints the pretty-printed JSON.\n",
        "\n",
        "### Example 5: Check if Key Exists\n",
        "```python\n",
        "import json\n",
        "\n",
        "# Read JSON file\n",
        "with open('example.json', 'r') as file:\n",
        "    data = json.load(file)\n",
        "\n",
        "# Check if a key exists\n",
        "if 'age' in data:\n",
        "    print(f\"Age: {data['age']}\")\n",
        "else:\n",
        "    print(\"Age key does not exist.\")\n",
        "```\n",
        "\n",
        "- This example checks whether the key 'age' exists in the loaded JSON data. If it does, it prints the value associated with the 'age' key; otherwise, it prints a message indicating that the key does not exist.\n",
        "\n",
        "### Example 6: Iterate Over JSON Array\n",
        "```python\n",
        "import json\n",
        "\n",
        "# Read JSON file with an array\n",
        "with open('example_array.json', 'r') as file:\n",
        "    data_array = json.load(file)\n",
        "\n",
        "# Iterate over array elements\n",
        "for item in data_array:\n",
        "    print(item)\n",
        "```\n",
        "\n",
        "- This example reads a JSON file containing an array of objects. It loads the data into a Python list (`data_array`) and then iterates over each element in the list, printing each element.\n",
        "\n",
        "### Example 7: Convert JSON to String and Vice Versa\n",
        "```python\n",
        "import json\n",
        "\n",
        "# Data as a dictionary\n",
        "data_dict = {'name': 'Alice', 'age': 25}\n",
        "\n",
        "# Convert dictionary to JSON string\n",
        "json_string = json.dumps(data_dict)\n",
        "\n",
        "# Convert JSON string to dictionary\n",
        "data_dict_from_json = json.loads(json_string)\n",
        "```\n",
        "\n",
        "- `data_dict = {'name': 'Alice', 'age': 25}`: Creates a Python dictionary.\n",
        "- `json_string = json.dumps(data_dict)`: Converts the dictionary to a JSON-formatted string using `json.dumps`.\n",
        "- `data_dict_from_json = json.loads(json_string)`: Converts the JSON-formatted string back to a Python dictionary using `json.loads`.\n",
        "\n",
        "These examples cover various operations you can perform with JSON files in Python, from reading and writing to modifying data and checking for key existence. Adjustments can be made based on specific requirements and the structure of your JSON data.\n",
        "```\n",
        "\n"
      ],
      "metadata": {
        "id": "3ghkcbmwdNui"
      }
    },
    {
      "cell_type": "code",
      "source": [
        "import json\n",
        "\n",
        "# modify data\n",
        "with open('/content/cache/employee.json','r') as f:\n",
        "    data=json.load(f)\n",
        "\n",
        "\n",
        "with open('/content/cache/employee.json','w') as f:\n",
        "    json.dump(data,f,indent=2)\n",
        "# print(json.dumps(data,indent=2))\n",
        "for item in data:\n",
        "    print(item)\n",
        "\n",
        "if 'gender ' in data[4]:\n",
        "    print('True')\n",
        "else:\n",
        "    print(False)"
      ],
      "metadata": {
        "id": "UOZhJfnidoIP",
        "colab": {
          "base_uri": "https://localhost:8080/"
        },
        "outputId": "d37775bc-cbab-4f77-b98c-1ec6ab1a4c07"
      },
      "execution_count": null,
      "outputs": [
        {
          "output_type": "stream",
          "name": "stdout",
          "text": [
            "{'id ': 1, 'name ': 'john', 'age ': 20, 'gender': 'male', 'department': 'hr', 'salary': 500000}\n",
            "{'id ': 2, 'name ': 'jane', 'age ': 23, 'gender': 'female', 'department': 'marketing', 'salary': 600000}\n",
            "{'id ': 3, 'name ': 'joey', 'age ': 23, 'gender': 'male', 'department': 'it', 'salary': 300000}\n",
            "{'id ': 4, 'name ': 'sarah', 'age ': 25, 'gender': 'female', 'department': 'hr', 'salary': 450000}\n",
            "{'id ': 5, 'name ': 'rose', 'age ': 28, 'gender': 'male', 'department': 'hr', 'salary': 700000}\n",
            "{'id ': 6, 'name ': 'bing', 'age ': 29, 'gender': 'male', 'department': 'finance', 'salary': 800000}\n",
            "{'id ': 7, 'name ': 'rach', 'age ': 41, 'gender': 'female', 'department': 'it', 'salary': 600000}\n",
            "{'id ': 8, 'name ': 'monica', 'age ': 23, 'gender': 'female', 'department': 'marketing', 'salary': 7000000}\n",
            "{'id ': 9, 'name ': 'pheebe', 'age ': 35, 'gender': 'female', 'department': 'it', 'salary': 4000000}\n",
            "False\n"
          ]
        }
      ]
    },
    {
      "cell_type": "code",
      "source": [
        "import xml.etree.ElementTree as et\n",
        "# parse the path\n",
        "tree=et.parse('/content/sample_data/author.xml')\n",
        "# get root element\n",
        "root=tree.getroot()\n",
        "print(root)\n",
        "print(root.tag)\n",
        "\n",
        "# access the elements and attributed\n",
        "for book in root.iter('book'):\n",
        "    # title=book.find('title').text\n",
        "    # pub=book.find('publisher').text\n",
        "    print(book.tag)\n",
        "# print(title)\n",
        "# print(pub)"
      ],
      "metadata": {
        "colab": {
          "base_uri": "https://localhost:8080/"
        },
        "id": "5cJ_q_lpieF9",
        "outputId": "416582b4-32f3-47c5-e82c-1dfcfcc28fbc"
      },
      "execution_count": null,
      "outputs": [
        {
          "output_type": "stream",
          "name": "stdout",
          "text": [
            "<Element 'books' at 0x7e802623b010>\n",
            "books\n",
            "book\n",
            "book\n",
            "book\n"
          ]
        }
      ]
    },
    {
      "cell_type": "code",
      "source": [],
      "metadata": {
        "id": "J6EiMoZznR8d"
      },
      "execution_count": null,
      "outputs": []
    },
    {
      "cell_type": "code",
      "source": [
        "book2=root.find(\"./book[@id='2']\")\n",
        "if book2 is not None:\n",
        "    print(book2.find('author').text)\n",
        "    print(book2.find('title').text)"
      ],
      "metadata": {
        "colab": {
          "base_uri": "https://localhost:8080/"
        },
        "id": "jsJikdJylGqr",
        "outputId": "52719478-de61-44d6-a864-61b5266ee32e"
      },
      "execution_count": null,
      "outputs": [
        {
          "output_type": "stream",
          "name": "stdout",
          "text": [
            "Harper Lee\n",
            "To Kill a Mockingbird\n"
          ]
        }
      ]
    },
    {
      "cell_type": "code",
      "source": [
        "# Create a new book element\n",
        "new_book = et.Element('book', {'id': '4'})\n",
        "title = et.SubElement(new_book, 'title')\n",
        "title.text = 'The Great Gatsby'\n",
        "author = et.SubElement(new_book, 'author')\n",
        "author.text = 'F. Scott Fitzgerald'\n",
        "year = et.SubElement(new_book, 'year')\n",
        "year.text = '1925'\n",
        "publisher = et.SubElement(new_book, 'publisher')\n",
        "publisher.text = \"Charles Scribner's Sons\"\n",
        "\n",
        "# Add the new book element to the root element\n",
        "root.append(new_book)\n",
        "\n",
        "# Write the updated XML file\n",
        "tree.write('books.xml')"
      ],
      "metadata": {
        "id": "oPbtcxxunSjv"
      },
      "execution_count": null,
      "outputs": []
    },
    {
      "cell_type": "code",
      "source": [
        "book4=root.find(\"./book[@id='4']\")\n",
        "if book4 is not None:\n",
        "    print(book4.find('author').text)\n",
        "    print(book4.find('title').text)"
      ],
      "metadata": {
        "colab": {
          "base_uri": "https://localhost:8080/"
        },
        "id": "hI77YJk6ngsj",
        "outputId": "4cb2cd9c-aebd-463e-ef62-3af8d8b1ba08"
      },
      "execution_count": null,
      "outputs": [
        {
          "output_type": "stream",
          "name": "stdout",
          "text": [
            "F. Scott Fitzgerald\n",
            "The Great Gatsby\n"
          ]
        }
      ]
    },
    {
      "cell_type": "code",
      "source": [
        "\n",
        "# Find the book element with an id of 2\n",
        "book_to_remove = root.find(\"./book[@id='2']\")\n",
        "\n",
        "# Remove the book element from the root element\n",
        "root.remove(book_to_remove)\n",
        "\n",
        "# Save the updated XML file\n",
        "tree.write('books.xml')"
      ],
      "metadata": {
        "id": "uBvYNMIMoCk9",
        "colab": {
          "base_uri": "https://localhost:8080/",
          "height": 253
        },
        "outputId": "8c19f355-d24e-47db-b106-8bbcb4ae742b"
      },
      "execution_count": null,
      "outputs": [
        {
          "output_type": "error",
          "ename": "TypeError",
          "evalue": "ignored",
          "traceback": [
            "\u001b[0;31m---------------------------------------------------------------------------\u001b[0m",
            "\u001b[0;31mTypeError\u001b[0m                                 Traceback (most recent call last)",
            "\u001b[0;32m<ipython-input-38-6596330df800>\u001b[0m in \u001b[0;36m<cell line: 5>\u001b[0;34m()\u001b[0m\n\u001b[1;32m      3\u001b[0m \u001b[0;34m\u001b[0m\u001b[0m\n\u001b[1;32m      4\u001b[0m \u001b[0;31m# Remove the book element from the root element\u001b[0m\u001b[0;34m\u001b[0m\u001b[0;34m\u001b[0m\u001b[0m\n\u001b[0;32m----> 5\u001b[0;31m \u001b[0mroot\u001b[0m\u001b[0;34m.\u001b[0m\u001b[0mremove\u001b[0m\u001b[0;34m(\u001b[0m\u001b[0mbook_to_remove\u001b[0m\u001b[0;34m)\u001b[0m\u001b[0;34m\u001b[0m\u001b[0;34m\u001b[0m\u001b[0m\n\u001b[0m\u001b[1;32m      6\u001b[0m \u001b[0;34m\u001b[0m\u001b[0m\n\u001b[1;32m      7\u001b[0m \u001b[0;31m# Save the updated XML file\u001b[0m\u001b[0;34m\u001b[0m\u001b[0;34m\u001b[0m\u001b[0m\n",
            "\u001b[0;31mTypeError\u001b[0m: remove() argument must be xml.etree.ElementTree.Element, not None"
          ]
        }
      ]
    },
    {
      "cell_type": "code",
      "source": [
        "book4=root.find(\"./book[@id='2']\")\n",
        "if book4 is not None:\n",
        "    print(book4.find('author').text)\n",
        "    print(book4.find('title').text)\n",
        "else:\n",
        "    print(\"so.. sad\")"
      ],
      "metadata": {
        "colab": {
          "base_uri": "https://localhost:8080/"
        },
        "id": "D0MU2q7ToO6k",
        "outputId": "f27bc0b6-e3a9-4459-a89d-982954c85727"
      },
      "execution_count": null,
      "outputs": [
        {
          "output_type": "stream",
          "name": "stdout",
          "text": [
            "so.. sad\n"
          ]
        }
      ]
    },
    {
      "cell_type": "markdown",
      "source": [
        "1️⃣ Print the first 5 rows of the data to get a quick overview of the information.\n",
        "\n",
        "2️⃣ Find the mean salary for each gender in the company. This will help you understand if there is a gender pay gap in the company.\n",
        "\n",
        "3️⃣ Calculate the budget allocated to each department by summing up the salaries of all employees in that department. This information will be useful for the management to make informed decisions about budget allocation and resource planning."
      ],
      "metadata": {
        "id": "RFWF6JXOmEki"
      }
    },
    {
      "cell_type": "code",
      "source": [
        "import pandas as pd\n",
        "import numpy as np\n",
        "\n",
        "# Create a DataFrame with missing values\n",
        "data = {'A': [1, 2, np.nan, 4, 5],\n",
        "        'B': [10, np.nan, 30, 40, 50]}\n",
        "\n",
        "df = pd.DataFrame(data)\n",
        "\n",
        "# Interpolate missing values using linear interpolation\n",
        "df.interpolate(method='quadratic', inplace=True)\n",
        "\n",
        "print(df)\n"
      ],
      "metadata": {
        "id": "lDJDhJunmLh3",
        "colab": {
          "base_uri": "https://localhost:8080/",
          "height": 404
        },
        "outputId": "44f7f194-2619-41ee-c7a2-d9906ec17249"
      },
      "execution_count": null,
      "outputs": [
        {
          "output_type": "error",
          "ename": "ValueError",
          "evalue": "ignored",
          "traceback": [
            "\u001b[0;31m---------------------------------------------------------------------------\u001b[0m",
            "\u001b[0;31mValueError\u001b[0m                                Traceback (most recent call last)",
            "\u001b[0;32m<ipython-input-3-74cb57ee5172>\u001b[0m in \u001b[0;36m<cell line: 11>\u001b[0;34m()\u001b[0m\n\u001b[1;32m      9\u001b[0m \u001b[0;34m\u001b[0m\u001b[0m\n\u001b[1;32m     10\u001b[0m \u001b[0;31m# Interpolate missing values using linear interpolation\u001b[0m\u001b[0;34m\u001b[0m\u001b[0;34m\u001b[0m\u001b[0m\n\u001b[0;32m---> 11\u001b[0;31m \u001b[0mdf\u001b[0m\u001b[0;34m.\u001b[0m\u001b[0minterpolate\u001b[0m\u001b[0;34m(\u001b[0m\u001b[0mmethod\u001b[0m\u001b[0;34m=\u001b[0m\u001b[0;34m'spline'\u001b[0m\u001b[0;34m,\u001b[0m \u001b[0minplace\u001b[0m\u001b[0;34m=\u001b[0m\u001b[0;32mTrue\u001b[0m\u001b[0;34m)\u001b[0m\u001b[0;34m\u001b[0m\u001b[0;34m\u001b[0m\u001b[0m\n\u001b[0m\u001b[1;32m     12\u001b[0m \u001b[0;34m\u001b[0m\u001b[0m\n\u001b[1;32m     13\u001b[0m \u001b[0mprint\u001b[0m\u001b[0;34m(\u001b[0m\u001b[0mdf\u001b[0m\u001b[0;34m)\u001b[0m\u001b[0;34m\u001b[0m\u001b[0;34m\u001b[0m\u001b[0m\n",
            "\u001b[0;32m/usr/local/lib/python3.10/dist-packages/pandas/util/_decorators.py\u001b[0m in \u001b[0;36mwrapper\u001b[0;34m(*args, **kwargs)\u001b[0m\n\u001b[1;32m    329\u001b[0m                     \u001b[0mstacklevel\u001b[0m\u001b[0;34m=\u001b[0m\u001b[0mfind_stack_level\u001b[0m\u001b[0;34m(\u001b[0m\u001b[0;34m)\u001b[0m\u001b[0;34m,\u001b[0m\u001b[0;34m\u001b[0m\u001b[0;34m\u001b[0m\u001b[0m\n\u001b[1;32m    330\u001b[0m                 )\n\u001b[0;32m--> 331\u001b[0;31m             \u001b[0;32mreturn\u001b[0m \u001b[0mfunc\u001b[0m\u001b[0;34m(\u001b[0m\u001b[0;34m*\u001b[0m\u001b[0margs\u001b[0m\u001b[0;34m,\u001b[0m \u001b[0;34m**\u001b[0m\u001b[0mkwargs\u001b[0m\u001b[0;34m)\u001b[0m\u001b[0;34m\u001b[0m\u001b[0;34m\u001b[0m\u001b[0m\n\u001b[0m\u001b[1;32m    332\u001b[0m \u001b[0;34m\u001b[0m\u001b[0m\n\u001b[1;32m    333\u001b[0m         \u001b[0;31m# error: \"Callable[[VarArg(Any), KwArg(Any)], Any]\" has no\u001b[0m\u001b[0;34m\u001b[0m\u001b[0;34m\u001b[0m\u001b[0m\n",
            "\u001b[0;32m/usr/local/lib/python3.10/dist-packages/pandas/core/frame.py\u001b[0m in \u001b[0;36minterpolate\u001b[0;34m(self, method, axis, limit, inplace, limit_direction, limit_area, downcast, **kwargs)\u001b[0m\n\u001b[1;32m  11853\u001b[0m         \u001b[0;34m**\u001b[0m\u001b[0mkwargs\u001b[0m\u001b[0;34m,\u001b[0m\u001b[0;34m\u001b[0m\u001b[0;34m\u001b[0m\u001b[0m\n\u001b[1;32m  11854\u001b[0m     ) -> DataFrame | None:\n\u001b[0;32m> 11855\u001b[0;31m         return super().interpolate(\n\u001b[0m\u001b[1;32m  11856\u001b[0m             \u001b[0mmethod\u001b[0m\u001b[0;34m,\u001b[0m\u001b[0;34m\u001b[0m\u001b[0;34m\u001b[0m\u001b[0m\n\u001b[1;32m  11857\u001b[0m             \u001b[0maxis\u001b[0m\u001b[0;34m,\u001b[0m\u001b[0;34m\u001b[0m\u001b[0;34m\u001b[0m\u001b[0m\n",
            "\u001b[0;32m/usr/local/lib/python3.10/dist-packages/pandas/core/generic.py\u001b[0m in \u001b[0;36minterpolate\u001b[0;34m(self, method, axis, limit, inplace, limit_direction, limit_area, downcast, **kwargs)\u001b[0m\n\u001b[1;32m   7566\u001b[0m                 \u001b[0;34m\"those NaNs before interpolating.\"\u001b[0m\u001b[0;34m\u001b[0m\u001b[0;34m\u001b[0m\u001b[0m\n\u001b[1;32m   7567\u001b[0m             )\n\u001b[0;32m-> 7568\u001b[0;31m         new_data = obj._mgr.interpolate(\n\u001b[0m\u001b[1;32m   7569\u001b[0m             \u001b[0mmethod\u001b[0m\u001b[0;34m=\u001b[0m\u001b[0mmethod\u001b[0m\u001b[0;34m,\u001b[0m\u001b[0;34m\u001b[0m\u001b[0;34m\u001b[0m\u001b[0m\n\u001b[1;32m   7570\u001b[0m             \u001b[0maxis\u001b[0m\u001b[0;34m=\u001b[0m\u001b[0maxis\u001b[0m\u001b[0;34m,\u001b[0m\u001b[0;34m\u001b[0m\u001b[0;34m\u001b[0m\u001b[0m\n",
            "\u001b[0;32m/usr/local/lib/python3.10/dist-packages/pandas/core/internals/managers.py\u001b[0m in \u001b[0;36minterpolate\u001b[0;34m(self, **kwargs)\u001b[0m\n\u001b[1;32m    420\u001b[0m \u001b[0;34m\u001b[0m\u001b[0m\n\u001b[1;32m    421\u001b[0m     \u001b[0;32mdef\u001b[0m \u001b[0minterpolate\u001b[0m\u001b[0;34m(\u001b[0m\u001b[0mself\u001b[0m\u001b[0;34m:\u001b[0m \u001b[0mT\u001b[0m\u001b[0;34m,\u001b[0m \u001b[0;34m**\u001b[0m\u001b[0mkwargs\u001b[0m\u001b[0;34m)\u001b[0m \u001b[0;34m->\u001b[0m \u001b[0mT\u001b[0m\u001b[0;34m:\u001b[0m\u001b[0;34m\u001b[0m\u001b[0;34m\u001b[0m\u001b[0m\n\u001b[0;32m--> 422\u001b[0;31m         \u001b[0;32mreturn\u001b[0m \u001b[0mself\u001b[0m\u001b[0;34m.\u001b[0m\u001b[0mapply\u001b[0m\u001b[0;34m(\u001b[0m\u001b[0;34m\"interpolate\"\u001b[0m\u001b[0;34m,\u001b[0m \u001b[0;34m**\u001b[0m\u001b[0mkwargs\u001b[0m\u001b[0;34m)\u001b[0m\u001b[0;34m\u001b[0m\u001b[0;34m\u001b[0m\u001b[0m\n\u001b[0m\u001b[1;32m    423\u001b[0m \u001b[0;34m\u001b[0m\u001b[0m\n\u001b[1;32m    424\u001b[0m     \u001b[0;32mdef\u001b[0m \u001b[0mshift\u001b[0m\u001b[0;34m(\u001b[0m\u001b[0mself\u001b[0m\u001b[0;34m:\u001b[0m \u001b[0mT\u001b[0m\u001b[0;34m,\u001b[0m \u001b[0mperiods\u001b[0m\u001b[0;34m:\u001b[0m \u001b[0mint\u001b[0m\u001b[0;34m,\u001b[0m \u001b[0maxis\u001b[0m\u001b[0;34m:\u001b[0m \u001b[0mint\u001b[0m\u001b[0;34m,\u001b[0m \u001b[0mfill_value\u001b[0m\u001b[0;34m)\u001b[0m \u001b[0;34m->\u001b[0m \u001b[0mT\u001b[0m\u001b[0;34m:\u001b[0m\u001b[0;34m\u001b[0m\u001b[0;34m\u001b[0m\u001b[0m\n",
            "\u001b[0;32m/usr/local/lib/python3.10/dist-packages/pandas/core/internals/managers.py\u001b[0m in \u001b[0;36mapply\u001b[0;34m(self, f, align_keys, ignore_failures, **kwargs)\u001b[0m\n\u001b[1;32m    350\u001b[0m                     \u001b[0mapplied\u001b[0m \u001b[0;34m=\u001b[0m \u001b[0mb\u001b[0m\u001b[0;34m.\u001b[0m\u001b[0mapply\u001b[0m\u001b[0;34m(\u001b[0m\u001b[0mf\u001b[0m\u001b[0;34m,\u001b[0m \u001b[0;34m**\u001b[0m\u001b[0mkwargs\u001b[0m\u001b[0;34m)\u001b[0m\u001b[0;34m\u001b[0m\u001b[0;34m\u001b[0m\u001b[0m\n\u001b[1;32m    351\u001b[0m                 \u001b[0;32melse\u001b[0m\u001b[0;34m:\u001b[0m\u001b[0;34m\u001b[0m\u001b[0;34m\u001b[0m\u001b[0m\n\u001b[0;32m--> 352\u001b[0;31m                     \u001b[0mapplied\u001b[0m \u001b[0;34m=\u001b[0m \u001b[0mgetattr\u001b[0m\u001b[0;34m(\u001b[0m\u001b[0mb\u001b[0m\u001b[0;34m,\u001b[0m \u001b[0mf\u001b[0m\u001b[0;34m)\u001b[0m\u001b[0;34m(\u001b[0m\u001b[0;34m**\u001b[0m\u001b[0mkwargs\u001b[0m\u001b[0;34m)\u001b[0m\u001b[0;34m\u001b[0m\u001b[0;34m\u001b[0m\u001b[0m\n\u001b[0m\u001b[1;32m    353\u001b[0m             \u001b[0;32mexcept\u001b[0m \u001b[0;34m(\u001b[0m\u001b[0mTypeError\u001b[0m\u001b[0;34m,\u001b[0m \u001b[0mNotImplementedError\u001b[0m\u001b[0;34m)\u001b[0m\u001b[0;34m:\u001b[0m\u001b[0;34m\u001b[0m\u001b[0;34m\u001b[0m\u001b[0m\n\u001b[1;32m    354\u001b[0m                 \u001b[0;32mif\u001b[0m \u001b[0;32mnot\u001b[0m \u001b[0mignore_failures\u001b[0m\u001b[0;34m:\u001b[0m\u001b[0;34m\u001b[0m\u001b[0;34m\u001b[0m\u001b[0m\n",
            "\u001b[0;32m/usr/local/lib/python3.10/dist-packages/pandas/core/internals/blocks.py\u001b[0m in \u001b[0;36minterpolate\u001b[0;34m(self, method, axis, index, inplace, limit, limit_direction, limit_area, fill_value, downcast, **kwargs)\u001b[0m\n\u001b[1;32m   1256\u001b[0m         \u001b[0mdata\u001b[0m \u001b[0;34m=\u001b[0m \u001b[0mcast\u001b[0m\u001b[0;34m(\u001b[0m\u001b[0mnp\u001b[0m\u001b[0;34m.\u001b[0m\u001b[0mndarray\u001b[0m\u001b[0;34m,\u001b[0m \u001b[0mdata\u001b[0m\u001b[0;34m)\u001b[0m  \u001b[0;31m# bc overridden by ExtensionBlock\u001b[0m\u001b[0;34m\u001b[0m\u001b[0;34m\u001b[0m\u001b[0m\n\u001b[1;32m   1257\u001b[0m \u001b[0;34m\u001b[0m\u001b[0m\n\u001b[0;32m-> 1258\u001b[0;31m         missing.interpolate_array_2d(\n\u001b[0m\u001b[1;32m   1259\u001b[0m             \u001b[0mdata\u001b[0m\u001b[0;34m,\u001b[0m\u001b[0;34m\u001b[0m\u001b[0;34m\u001b[0m\u001b[0m\n\u001b[1;32m   1260\u001b[0m             \u001b[0mmethod\u001b[0m\u001b[0;34m=\u001b[0m\u001b[0mmethod\u001b[0m\u001b[0;34m,\u001b[0m\u001b[0;34m\u001b[0m\u001b[0;34m\u001b[0m\u001b[0m\n",
            "\u001b[0;32m/usr/local/lib/python3.10/dist-packages/pandas/core/missing.py\u001b[0m in \u001b[0;36minterpolate_array_2d\u001b[0;34m(data, method, axis, index, limit, limit_direction, limit_area, fill_value, coerce, downcast, **kwargs)\u001b[0m\n\u001b[1;32m    247\u001b[0m         \u001b[0;32massert\u001b[0m \u001b[0mindex\u001b[0m \u001b[0;32mis\u001b[0m \u001b[0;32mnot\u001b[0m \u001b[0;32mNone\u001b[0m  \u001b[0;31m# for mypy\u001b[0m\u001b[0;34m\u001b[0m\u001b[0;34m\u001b[0m\u001b[0m\n\u001b[1;32m    248\u001b[0m \u001b[0;34m\u001b[0m\u001b[0m\n\u001b[0;32m--> 249\u001b[0;31m         _interpolate_2d_with_fill(\n\u001b[0m\u001b[1;32m    250\u001b[0m             \u001b[0mdata\u001b[0m\u001b[0;34m=\u001b[0m\u001b[0mdata\u001b[0m\u001b[0;34m,\u001b[0m\u001b[0;34m\u001b[0m\u001b[0;34m\u001b[0m\u001b[0m\n\u001b[1;32m    251\u001b[0m             \u001b[0mindex\u001b[0m\u001b[0;34m=\u001b[0m\u001b[0mindex\u001b[0m\u001b[0;34m,\u001b[0m\u001b[0;34m\u001b[0m\u001b[0;34m\u001b[0m\u001b[0m\n",
            "\u001b[0;32m/usr/local/lib/python3.10/dist-packages/pandas/core/missing.py\u001b[0m in \u001b[0;36m_interpolate_2d_with_fill\u001b[0;34m(data, index, axis, method, limit, limit_direction, limit_area, fill_value, **kwargs)\u001b[0m\n\u001b[1;32m    283\u001b[0m     \"\"\"\n\u001b[1;32m    284\u001b[0m     \u001b[0;31m# validate the interp method\u001b[0m\u001b[0;34m\u001b[0m\u001b[0;34m\u001b[0m\u001b[0m\n\u001b[0;32m--> 285\u001b[0;31m     \u001b[0mclean_interp_method\u001b[0m\u001b[0;34m(\u001b[0m\u001b[0mmethod\u001b[0m\u001b[0;34m,\u001b[0m \u001b[0mindex\u001b[0m\u001b[0;34m,\u001b[0m \u001b[0;34m**\u001b[0m\u001b[0mkwargs\u001b[0m\u001b[0;34m)\u001b[0m\u001b[0;34m\u001b[0m\u001b[0;34m\u001b[0m\u001b[0m\n\u001b[0m\u001b[1;32m    286\u001b[0m \u001b[0;34m\u001b[0m\u001b[0m\n\u001b[1;32m    287\u001b[0m     \u001b[0;32mif\u001b[0m \u001b[0mis_valid_na_for_dtype\u001b[0m\u001b[0;34m(\u001b[0m\u001b[0mfill_value\u001b[0m\u001b[0;34m,\u001b[0m \u001b[0mdata\u001b[0m\u001b[0;34m.\u001b[0m\u001b[0mdtype\u001b[0m\u001b[0;34m)\u001b[0m\u001b[0;34m:\u001b[0m\u001b[0;34m\u001b[0m\u001b[0;34m\u001b[0m\u001b[0m\n",
            "\u001b[0;32m/usr/local/lib/python3.10/dist-packages/pandas/core/missing.py\u001b[0m in \u001b[0;36mclean_interp_method\u001b[0;34m(method, index, **kwargs)\u001b[0m\n\u001b[1;32m    155\u001b[0m \u001b[0;34m\u001b[0m\u001b[0m\n\u001b[1;32m    156\u001b[0m     \u001b[0;32mif\u001b[0m \u001b[0mmethod\u001b[0m \u001b[0;32min\u001b[0m \u001b[0;34m(\u001b[0m\u001b[0;34m\"spline\"\u001b[0m\u001b[0;34m,\u001b[0m \u001b[0;34m\"polynomial\"\u001b[0m\u001b[0;34m)\u001b[0m \u001b[0;32mand\u001b[0m \u001b[0morder\u001b[0m \u001b[0;32mis\u001b[0m \u001b[0;32mNone\u001b[0m\u001b[0;34m:\u001b[0m\u001b[0;34m\u001b[0m\u001b[0;34m\u001b[0m\u001b[0m\n\u001b[0;32m--> 157\u001b[0;31m         \u001b[0;32mraise\u001b[0m \u001b[0mValueError\u001b[0m\u001b[0;34m(\u001b[0m\u001b[0;34m\"You must specify the order of the spline or polynomial.\"\u001b[0m\u001b[0;34m)\u001b[0m\u001b[0;34m\u001b[0m\u001b[0;34m\u001b[0m\u001b[0m\n\u001b[0m\u001b[1;32m    158\u001b[0m \u001b[0;34m\u001b[0m\u001b[0m\n\u001b[1;32m    159\u001b[0m     \u001b[0mvalid\u001b[0m \u001b[0;34m=\u001b[0m \u001b[0mNP_METHODS\u001b[0m \u001b[0;34m+\u001b[0m \u001b[0mSP_METHODS\u001b[0m\u001b[0;34m\u001b[0m\u001b[0;34m\u001b[0m\u001b[0m\n",
            "\u001b[0;31mValueError\u001b[0m: You must specify the order of the spline or polynomial."
          ]
        }
      ]
    }
  ]
}