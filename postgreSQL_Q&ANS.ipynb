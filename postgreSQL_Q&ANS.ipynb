{
  "nbformat": 4,
  "nbformat_minor": 0,
  "metadata": {
    "colab": {
      "provenance": [],
      "authorship_tag": "ABX9TyOPd+CAdJKPjU1O9VfeT7QS",
      "include_colab_link": true
    },
    "kernelspec": {
      "name": "python3",
      "display_name": "Python 3"
    },
    "language_info": {
      "name": "python"
    }
  },
  "cells": [
    {
      "cell_type": "markdown",
      "metadata": {
        "id": "view-in-github",
        "colab_type": "text"
      },
      "source": [
        "<a href=\"https://colab.research.google.com/github/manishaachary13/Alma_study/blob/main/postgreSQL_Q%26ANS.ipynb\" target=\"_parent\"><img src=\"https://colab.research.google.com/assets/colab-badge.svg\" alt=\"Open In Colab\"/></a>"
      ]
    },
    {
      "cell_type": "markdown",
      "source": [
        "From the above dataframes, write a SQL query to find those retailers who have bought 'key board' but not 'mouse'. Return retailer ID.\n",
        "\n",
        "Table-I: item\n",
        "\n",
        "Table-II: sales_info"
      ],
      "metadata": {
        "id": "gbOHn4wILM8y"
      }
    },
    {
      "cell_type": "markdown",
      "source": [
        "\n",
        "```\n",
        "sales_info:\n",
        "distributor_id\titem_code\tretailer_id\tdate_of_sell\tquantity\ttotal_cost\n",
        "5001\t          101\t      1001\t      2020-02-12\t   3\t       8100\n",
        "5001\t          103\t      1002\t      2020-03-15\t   15\t       4500\n",
        "5002\t          101\t      1001\t      2019-06-24\t   2\t       5400\n",
        "5001\t          104\t      1003\t      2019-09-11\t   8\t       2400\n",
        "5003\t          101\t      1003\t      2020-10-21\t   5\t       13500\n",
        "5003\t          104\t      1002\t      2020-12-27\t   10\t       3000\n",
        "5002\t          102\t      1001\t      2019-05-18\t   12\t       9600\n",
        "5002\t          103\t      1004\t      2020-06-17\t   8\t       2400\n",
        "5003\t          103\t      1001\t      2020-04-12\t   3         900\n",
        "\n",
        "item:\n",
        "item_code\titem_desc\t    cost\n",
        "101     \tmother board\t  2700\n",
        "102\t      RAM\t          800\n",
        "103\t      key board\t    300\n",
        "104\t      mouse\t        300\n",
        "```\n",
        "\n"
      ],
      "metadata": {
        "id": "FXpMw2U4LOyJ"
      }
    },
    {
      "cell_type": "code",
      "execution_count": null,
      "metadata": {
        "id": "KQaQBmFCLDS4"
      },
      "outputs": [],
      "source": []
    },
    {
      "cell_type": "markdown",
      "source": [
        "\n",
        "\n",
        "```\n",
        "SELECT DISTINCT retailer_id\n",
        "FROM sales_info\n",
        "WHERE item_code IN (\n",
        "    SELECT item_code\n",
        "    FROM item\n",
        "    WHERE item_desc = 'key board'\n",
        ")\n",
        "AND retailer_id NOT IN (\n",
        "    SELECT retailer_id\n",
        "    FROM sales_info\n",
        "    WHERE item_code IN (\n",
        "        SELECT item_code\n",
        "        FROM item\n",
        "        WHERE item_desc = 'mouse'\n",
        "    )\n",
        ")order by retailer_id;\n",
        "```\n",
        "\n"
      ],
      "metadata": {
        "id": "03y7VvrJMV4K"
      }
    },
    {
      "cell_type": "markdown",
      "source": [
        "Explanation:\n",
        "\n",
        "**Inner Subquery:** The inner subquery retrieves the item_code for the 'key board' from the item table.\n",
        "\n",
        "**Outer Query (Main Query):**\n",
        "\n",
        "The outer query selects distinct retailer_id from the sales_info table.\n",
        "It filters the rows to include only those where item_code is from the 'key board'.\n",
        "\n",
        "It further filters out retailers who have also bought the 'mouse' item by using the NOT IN operator with another subquery that retrieves retailer_id for the 'mouse'.\n",
        "\n",
        "This query effectively finds retailers who have bought the 'key board' but not the 'mouse'."
      ],
      "metadata": {
        "id": "544LSM1OMlth"
      }
    },
    {
      "cell_type": "markdown",
      "source": [
        "\n",
        "\n",
        "```\n",
        "WITH KeyBoardRetailers AS (\n",
        "    SELECT DISTINCT retailer_id\n",
        "    FROM sales_info\n",
        "    WHERE item_code IN (\n",
        "        SELECT item_code\n",
        "        FROM item\n",
        "        WHERE item_desc = 'key board'\n",
        "    )\n",
        "),\n",
        "MouseRetailers AS (\n",
        "    SELECT DISTINCT retailer_id\n",
        "    FROM sales_info\n",
        "    WHERE item_code IN (\n",
        "        SELECT item_code\n",
        "        FROM item\n",
        "        WHERE item_desc = 'mouse'\n",
        "    )\n",
        ")\n",
        "SELECT kr.retailer_id\n",
        "FROM KeyBoardRetailers kr\n",
        "LEFT JOIN MouseRetailers mr ON kr.retailer_id = mr.retailer_id\n",
        "WHERE mr.retailer_id IS NULL;\n",
        "\n",
        "```\n",
        "\n"
      ],
      "metadata": {
        "id": "nAwy-4WWMuPB"
      }
    },
    {
      "cell_type": "markdown",
      "source": [
        "\n",
        "Using a **Common Table Expression (CTE)** can be an effective way to structure the query and improve readability. Here's how you can utilize a CTE to find retailers who have bought 'key board' but not 'mouse':\n",
        "\n",
        "Explanation:\n",
        "\n",
        "**KeyBoardRetailers CTE:** This CTE selects distinct retailer_id from the sales_info table where the item_code is for the 'key board'.\n",
        "\n",
        "**MouseRetailers CTE:** This CTE selects distinct retailer_id from the sales_info table where the item_code is for the 'mouse'.\n",
        "\n",
        "**Main Query:** It selects retailer_id from the KeyBoardRetailers CTE and left joins it with the MouseRetailers CTE on retailer_id.\n",
        "\n",
        "The **LEFT JOIN** ensures all retailers who bought the 'key board' are included.\n",
        "\n",
        "The **WHERE** clause filters out retailers who have also bought the 'mouse' by checking for NULL values in the MouseRetailers CTE.\n",
        "\n",
        "This query effectively finds retailers who have bought the 'key board' but not the 'mouse' using CTEs.\n",
        "\n"
      ],
      "metadata": {
        "id": "mJv8LuCgMv4R"
      }
    }
  ]
}