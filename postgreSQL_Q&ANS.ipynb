{
  "nbformat": 4,
  "nbformat_minor": 0,
  "metadata": {
    "colab": {
      "provenance": [],
      "collapsed_sections": [
        "jDfnFg28RWQa"
      ],
      "authorship_tag": "ABX9TyNO2i0MCuJKh0IK+AaGQ5Xb",
      "include_colab_link": true
    },
    "kernelspec": {
      "name": "python3",
      "display_name": "Python 3"
    },
    "language_info": {
      "name": "python"
    }
  },
  "cells": [
    {
      "cell_type": "markdown",
      "metadata": {
        "id": "view-in-github",
        "colab_type": "text"
      },
      "source": [
        "<a href=\"https://colab.research.google.com/github/manishaachary13/Alma_study/blob/main/postgreSQL_Q%26ANS.ipynb\" target=\"_parent\"><img src=\"https://colab.research.google.com/assets/colab-badge.svg\" alt=\"Open In Colab\"/></a>"
      ]
    },
    {
      "cell_type": "markdown",
      "source": [
        "# Question 1:"
      ],
      "metadata": {
        "id": "zl-AJn8iTRta"
      }
    },
    {
      "cell_type": "markdown",
      "source": [
        "From the above dataframes, write a SQL query to find those retailers who have bought 'key board' but not 'mouse'. Return retailer ID.\n",
        "\n",
        "Table-I: item\n",
        "\n",
        "Table-II: sales_info"
      ],
      "metadata": {
        "id": "gbOHn4wILM8y"
      }
    },
    {
      "cell_type": "markdown",
      "source": [
        "\n",
        "```\n",
        "sales_info:\n",
        "distributor_id\titem_code\tretailer_id\tdate_of_sell\tquantity\ttotal_cost\n",
        "5001\t          101\t      1001\t      2020-02-12\t   3\t       8100\n",
        "5001\t          103\t      1002\t      2020-03-15\t   15\t       4500\n",
        "5002\t          101\t      1001\t      2019-06-24\t   2\t       5400\n",
        "5001\t          104\t      1003\t      2019-09-11\t   8\t       2400\n",
        "5003\t          101\t      1003\t      2020-10-21\t   5\t       13500\n",
        "5003\t          104\t      1002\t      2020-12-27\t   10\t       3000\n",
        "5002\t          102\t      1001\t      2019-05-18\t   12\t       9600\n",
        "5002\t          103\t      1004\t      2020-06-17\t   8\t       2400\n",
        "5003\t          103\t      1001\t      2020-04-12\t   3         900\n",
        "\n",
        "item:\n",
        "item_code\titem_desc\t    cost\n",
        "101     \tmother board\t  2700\n",
        "102\t      RAM\t          800\n",
        "103\t      key board\t    300\n",
        "104\t      mouse\t        300\n",
        "```\n",
        "\n"
      ],
      "metadata": {
        "id": "FXpMw2U4LOyJ"
      }
    },
    {
      "cell_type": "markdown",
      "source": [
        "\n",
        "\n",
        "```\n",
        "SELECT DISTINCT retailer_id\n",
        "FROM sales_info\n",
        "WHERE item_code IN (\n",
        "    SELECT item_code\n",
        "    FROM item\n",
        "    WHERE item_desc = 'key board'\n",
        ")\n",
        "AND retailer_id NOT IN (\n",
        "    SELECT retailer_id\n",
        "    FROM sales_info\n",
        "    WHERE item_code IN (\n",
        "        SELECT item_code\n",
        "        FROM item\n",
        "        WHERE item_desc = 'mouse'\n",
        "    )\n",
        ")order by retailer_id;\n",
        "```\n",
        "\n"
      ],
      "metadata": {
        "id": "03y7VvrJMV4K"
      }
    },
    {
      "cell_type": "markdown",
      "source": [
        "Explanation:\n",
        "\n",
        "**Inner Subquery:** The inner subquery retrieves the item_code for the 'key board' from the item table.\n",
        "\n",
        "**Outer Query (Main Query):**\n",
        "\n",
        "The outer query selects distinct retailer_id from the sales_info table.\n",
        "It filters the rows to include only those where item_code is from the 'key board'.\n",
        "\n",
        "It further filters out retailers who have also bought the 'mouse' item by using the NOT IN operator with another subquery that retrieves retailer_id for the 'mouse'.\n",
        "\n",
        "This query effectively finds retailers who have bought the 'key board' but not the 'mouse'."
      ],
      "metadata": {
        "id": "544LSM1OMlth"
      }
    },
    {
      "cell_type": "markdown",
      "source": [
        "\n",
        "\n",
        "```\n",
        "WITH KeyBoardRetailers AS (\n",
        "    SELECT DISTINCT retailer_id\n",
        "    FROM sales_info\n",
        "    WHERE item_code IN (\n",
        "        SELECT item_code\n",
        "        FROM item\n",
        "        WHERE item_desc = 'key board'\n",
        "    )\n",
        "),\n",
        "MouseRetailers AS (\n",
        "    SELECT DISTINCT retailer_id\n",
        "    FROM sales_info\n",
        "    WHERE item_code IN (\n",
        "        SELECT item_code\n",
        "        FROM item\n",
        "        WHERE item_desc = 'mouse'\n",
        "    )\n",
        ")\n",
        "SELECT kr.retailer_id\n",
        "FROM KeyBoardRetailers kr\n",
        "LEFT JOIN MouseRetailers mr ON kr.retailer_id = mr.retailer_id\n",
        "WHERE mr.retailer_id IS NULL;\n",
        "\n",
        "```\n",
        "\n"
      ],
      "metadata": {
        "id": "nAwy-4WWMuPB"
      }
    },
    {
      "cell_type": "markdown",
      "source": [
        "\n",
        "Using a **Common Table Expression (CTE)** can be an effective way to structure the query and improve readability. Here's how you can utilize a CTE to find retailers who have bought 'key board' but not 'mouse':\n",
        "\n",
        "Explanation:\n",
        "\n",
        "**KeyBoardRetailers CTE:** This CTE selects distinct retailer_id from the sales_info table where the item_code is for the 'key board'.\n",
        "\n",
        "**MouseRetailers CTE:** This CTE selects distinct retailer_id from the sales_info table where the item_code is for the 'mouse'.\n",
        "\n",
        "**Main Query:** It selects retailer_id from the KeyBoardRetailers CTE and left joins it with the MouseRetailers CTE on retailer_id.\n",
        "\n",
        "The **LEFT JOIN** ensures all retailers who bought the 'key board' are included.\n",
        "\n",
        "The **WHERE** clause filters out retailers who have also bought the 'mouse' by checking for NULL values in the MouseRetailers CTE.\n",
        "\n",
        "This query effectively finds retailers who have bought the 'key board' but not the 'mouse' using CTEs.\n",
        "\n"
      ],
      "metadata": {
        "id": "mJv8LuCgMv4R"
      }
    },
    {
      "cell_type": "markdown",
      "source": [
        "# question2:"
      ],
      "metadata": {
        "id": "jDfnFg28RWQa"
      }
    },
    {
      "cell_type": "markdown",
      "source": [
        "Compute total number of students\n",
        "Easy\n",
        "+10 APs\n",
        "solved\n",
        "From the tables write a SQL query to compute total number of students who appeared for the first year of each examination of every subject. Return examination ID, subject name, first year, number of students.\n",
        "\n",
        "Table-I: exam_test\n",
        "\n",
        "Table-II: subject_test\n",
        "\n",
        "\n",
        "```\n",
        "**subject_test**\n",
        "\n",
        "subject_id\tsubject_name\n",
        "201\t        Mathematics\n",
        "202\t        Physics\n",
        "203\t        Chemistry\n",
        "\n",
        "**exam_test**\n",
        "exam_id\tsubject_id\texam_year\tno_of_student\n",
        "71\t     201\t        2017\t     5146\n",
        "71\t     201\t        2018\t     3545\n",
        "71\t     202\t        2018\t     5945\n",
        "71\t     202\t        2019\t     2500\n",
        "71\t     203\t        2017\t     2500\n",
        "72\t     201\t        2018\t     3500\n",
        "72\t     202\t        2017\t     3651\n",
        "73\t     201\t        2018\t     2647\n",
        "73\t     201\t        2019\t     2647\n",
        "73\t     202\t        2018\t     4501\n",
        "```\n",
        "\n",
        "\n",
        "\n"
      ],
      "metadata": {
        "id": "wvc2yMm2SPxy"
      }
    },
    {
      "cell_type": "markdown",
      "source": [
        "\n",
        "\n",
        "```\n",
        "SELECT\n",
        "    et.exam_id,\n",
        "    st.subject_name,\n",
        "    et.exam_year AS first_year,\n",
        "    et.no_of_student\n",
        "FROM\n",
        "    exam_test et\n",
        "JOIN\n",
        "    subject_test st ON et.subject_id = st.subject_id\n",
        "JOIN\n",
        "    (SELECT\n",
        "         subject_id,\n",
        "         MIN(exam_year) AS min_year\n",
        "     FROM\n",
        "         exam_test\n",
        "     GROUP BY\n",
        "         subject_id) AS min_years\n",
        "ON et.subject_id = min_years.subject_id\n",
        "AND et.exam_year = min_years.min_year;\n",
        "\n",
        "```\n",
        "\n"
      ],
      "metadata": {
        "id": "OXFrtGo-RZ25"
      }
    },
    {
      "cell_type": "markdown",
      "source": [
        "Output:\n",
        "\n",
        "\n",
        "```\n",
        "exam_id\tsubject_name\tfirst_year\tno_of_student\n",
        "71\t     Mathematics\t  2017\t      5146\n",
        "71\t     Chemistry\t    2017\t      2500\n",
        "72\t     Physics      \t2017      \t3651\n",
        "```\n",
        "\n"
      ],
      "metadata": {
        "id": "6nu1osDMTDNy"
      }
    },
    {
      "cell_type": "markdown",
      "source": [
        "**Explanation:**\n",
        "\n",
        "**Main Query Selection:**\n",
        "\n",
        "The SELECT statement specifies the columns to be retrieved in the result set.\n",
        "\n",
        "It selects exam_id, subject_name, exam_year (aliased as first_year), and no_of_student.\n",
        "\n",
        "**Joining Tables:**\n",
        "\n",
        "The main query joins the exam_test table (et) with the subject_test table (st) based on the subject_id. This allows us to get the subject name corresponding to each examination.\n",
        "\n",
        "**Subquery for Minimum Years:**\n",
        "\n",
        "The main query further joins with a subquery that calculates the minimum exam_year for each subject_id.\n",
        "\n",
        "The subquery (SELECT subject_id, MIN(exam_year) AS min_year FROM exam_test GROUP BY subject_id) groups the data by subject_id and calculates the minimum exam_year for each group.\n",
        "\n",
        "**Joining with Subquery:**\n",
        "\n",
        "The main query joins with the subquery (min_years) based on the subject_id and exam_year.\n",
        "\n",
        "This ensures that we only retrieve data for examinations that occurred in the minimum year for each subject.\n",
        "\n",
        "**Result:**\n",
        "\n",
        "The result set contains information about the examination ID, subject name, first year of examination (exam_year aliased as first_year), and the number of students (no_of_student) for each examination in the first year of every subject.\n",
        "\n",
        "**In summary**, this SQL query efficiently retrieves data about the first year of each examination of every subject by joining the exam_test and subject_test tables and utilizing a subquery to find the minimum examination year for each subject.\n"
      ],
      "metadata": {
        "id": "9CgunvqiRrQZ"
      }
    }
  ]
}