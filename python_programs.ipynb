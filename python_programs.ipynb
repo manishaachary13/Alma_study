{
  "nbformat": 4,
  "nbformat_minor": 0,
  "metadata": {
    "colab": {
      "provenance": [],
      "authorship_tag": "ABX9TyNd8lIpV6RKBEfhUwFpSsSu",
      "include_colab_link": true
    },
    "kernelspec": {
      "name": "python3",
      "display_name": "Python 3"
    },
    "language_info": {
      "name": "python"
    }
  },
  "cells": [
    {
      "cell_type": "markdown",
      "metadata": {
        "id": "view-in-github",
        "colab_type": "text"
      },
      "source": [
        "<a href=\"https://colab.research.google.com/github/manishaachary13/Alma_study/blob/main/python_programs.ipynb\" target=\"_parent\"><img src=\"https://colab.research.google.com/assets/colab-badge.svg\" alt=\"Open In Colab\"/></a>"
      ]
    },
    {
      "cell_type": "code",
      "execution_count": null,
      "metadata": {
        "id": "O6zrOZwPC_9S",
        "colab": {
          "base_uri": "https://localhost:8080/"
        },
        "outputId": "24c3b653-5cfc-4d87-fad5-80826c7cd5b6"
      },
      "outputs": [
        {
          "output_type": "stream",
          "name": "stdout",
          "text": [
            "5\n"
          ]
        }
      ],
      "source": [
        "x = (lambda x, y, z: x**2 + y**2 + z**2)(1, 2, 0)\n",
        "print(x)\n"
      ]
    },
    {
      "cell_type": "code",
      "source": [
        "(lambda x: 100 if x > 100 else (50 if x > 50 else x))(75)"
      ],
      "metadata": {
        "colab": {
          "base_uri": "https://localhost:8080/"
        },
        "id": "eJ88dMmdDcMB",
        "outputId": "250abe66-eb7c-4c88-cab8-777b1ecf4228"
      },
      "execution_count": null,
      "outputs": [
        {
          "output_type": "execute_result",
          "data": {
            "text/plain": [
              "50"
            ]
          },
          "metadata": {},
          "execution_count": 49
        }
      ]
    },
    {
      "cell_type": "code",
      "source": [
        "welcome_msg = lambda name : print('Hi', name + '! This is your computer.')\n",
        "welcome_msg(\"Vidhi\")"
      ],
      "metadata": {
        "colab": {
          "base_uri": "https://localhost:8080/"
        },
        "id": "WLhR_3zhEMHv",
        "outputId": "2f842eaa-94b1-4f21-e188-6134777ae84f"
      },
      "execution_count": null,
      "outputs": [
        {
          "output_type": "stream",
          "name": "stdout",
          "text": [
            "Hi Vidhi! This is your computer.\n"
          ]
        }
      ]
    },
    {
      "cell_type": "code",
      "source": [
        "(lambda x, y : x**y)(2,3)"
      ],
      "metadata": {
        "colab": {
          "base_uri": "https://localhost:8080/"
        },
        "id": "_D174ABQEvj4",
        "outputId": "c57dafcf-81b6-479c-8e9d-4ef4a2694b4e"
      },
      "execution_count": null,
      "outputs": [
        {
          "output_type": "execute_result",
          "data": {
            "text/plain": [
              "8"
            ]
          },
          "metadata": {},
          "execution_count": 51
        }
      ]
    },
    {
      "cell_type": "code",
      "source": [
        "print(list(map(lambda x: x**2, range(1,11))))"
      ],
      "metadata": {
        "colab": {
          "base_uri": "https://localhost:8080/"
        },
        "id": "NgryoPORFKgO",
        "outputId": "b3d89706-39ea-4d74-9378-cf1f3c08e413"
      },
      "execution_count": null,
      "outputs": [
        {
          "output_type": "stream",
          "name": "stdout",
          "text": [
            "[1, 4, 9, 16, 25, 36, 49, 64, 81, 100]\n"
          ]
        }
      ]
    },
    {
      "cell_type": "code",
      "source": [
        "from functools import reduce\n",
        "print(reduce((lambda x, y: x * y), range(1,5)))\n"
      ],
      "metadata": {
        "id": "rXkDXTKHFmIV",
        "outputId": "588014e3-9305-4c2e-f6b4-0e2c50594ed4",
        "colab": {
          "base_uri": "https://localhost:8080/"
        }
      },
      "execution_count": null,
      "outputs": [
        {
          "output_type": "stream",
          "name": "stdout",
          "text": [
            "24\n"
          ]
        }
      ]
    },
    {
      "cell_type": "code",
      "source": [
        "def x():\n",
        "    i = 5\n",
        "print(callable(x))\n",
        "def name():\n",
        "  print(\"mani\")\n",
        "print(callable(name))\n",
        "nam=\"mani\"\n",
        "print(callable(nam))"
      ],
      "metadata": {
        "colab": {
          "base_uri": "https://localhost:8080/"
        },
        "id": "QPWr2e-LrrzP",
        "outputId": "d9bc6cc2-19c8-4f83-cf13-9ac84154530f"
      },
      "execution_count": null,
      "outputs": [
        {
          "output_type": "stream",
          "name": "stdout",
          "text": [
            "True\n",
            "True\n",
            "False\n"
          ]
        }
      ]
    },
    {
      "cell_type": "code",
      "source": [
        "name=\"mani\"\n",
        "print(name)"
      ],
      "metadata": {
        "id": "pL_PWiFpsZnH",
        "outputId": "7ce78ea4-8498-491d-c756-93d6206f8e12",
        "colab": {
          "base_uri": "https://localhost:8080/"
        }
      },
      "execution_count": null,
      "outputs": [
        {
          "output_type": "stream",
          "name": "stdout",
          "text": [
            "mani\n"
          ]
        }
      ]
    },
    {
      "cell_type": "code",
      "source": [
        "x=\"景太郎\"\n",
        "print(x)\n",
        "print(ascii(\"景太\"))"
      ],
      "metadata": {
        "colab": {
          "base_uri": "https://localhost:8080/"
        },
        "id": "Q5mTgNoBs1aI",
        "outputId": "1e30bd08-f596-4499-e55d-05d7eaa84ab8"
      },
      "execution_count": null,
      "outputs": [
        {
          "output_type": "stream",
          "name": "stdout",
          "text": [
            "景太郎\n",
            "'\\u666f\\u592a'\n"
          ]
        }
      ]
    },
    {
      "cell_type": "code",
      "source": [
        "words = ['cat', 'window', 'defenestrate']\n",
        "for animal in words:\n",
        "  print(animal, len(animal))"
      ],
      "metadata": {
        "colab": {
          "base_uri": "https://localhost:8080/"
        },
        "id": "mUmCDfDyuUkH",
        "outputId": "55edcbec-58dd-4f5d-8290-d8af35d5956f"
      },
      "execution_count": null,
      "outputs": [
        {
          "output_type": "stream",
          "name": "stdout",
          "text": [
            "cat 3\n",
            "window 6\n",
            "defenestrate 12\n"
          ]
        }
      ]
    },
    {
      "cell_type": "code",
      "source": [
        "users = {'Hans': 'active', 'Éléonore': 'inactive', '景太郎': 'active'}\n",
        "for user, status in users.copy().items():\n",
        "    if status == 'inactive':\n",
        "        del users[user]\n",
        "print(users)\n",
        "# Strategy:  Create a new collection\n",
        "active_users = {}\n",
        "for user, status in users.items():\n",
        "    if status == 'active':\n",
        "        active_users[user] = status\n",
        "print(active_users)"
      ],
      "metadata": {
        "colab": {
          "base_uri": "https://localhost:8080/"
        },
        "id": "ynASjrtOuoqq",
        "outputId": "039ff301-7c25-41fd-947f-2cf60938e14d"
      },
      "execution_count": null,
      "outputs": [
        {
          "output_type": "stream",
          "name": "stdout",
          "text": [
            "{'Hans': 'active', '景太郎': 'active'}\n",
            "{'Hans': 'active', '景太郎': 'active'}\n"
          ]
        }
      ]
    },
    {
      "cell_type": "code",
      "source": [
        "list=[]\n",
        "for i in range(5):\n",
        "  list.append(i)\n",
        "print(list)\n",
        "for i in range(5,90,15):\n",
        "  print(i,end=\" \")\n",
        "print()\n",
        "for i in range(50,5,-5):\n",
        "  print(i,end=\" \")"
      ],
      "metadata": {
        "colab": {
          "base_uri": "https://localhost:8080/"
        },
        "id": "QgsnThXMvjHX",
        "outputId": "28765e5b-fe0b-4805-e1cf-628c8f72ba3b"
      },
      "execution_count": null,
      "outputs": [
        {
          "output_type": "stream",
          "name": "stdout",
          "text": [
            "[0, 1, 2, 3, 4]\n",
            "5 20 35 50 65 80 \n",
            "50 45 40 35 30 25 20 15 10 "
          ]
        }
      ]
    },
    {
      "cell_type": "code",
      "source": [
        "#  count the number of odd and even numbers in the list\n",
        "numbers = [\n",
        "    [2, 5, 11, 20, 8],\n",
        "    [9, 4, 15, 28, 17],\n",
        "    [1, 6, 21, 18, 3],\n",
        "    [10, 13, 25, 33, 30],\n",
        "    [14, 7, 16, 19, 22]\n",
        "]\n",
        "\n",
        "even,odd=0,0\n",
        "\n",
        "for sub_list in numbers:\n",
        "  for i in sub_list:\n",
        "    if i%2==0:\n",
        "      even+=1\n",
        "    else:\n",
        "      odd+=1\n",
        "print(even,odd)\n"
      ],
      "metadata": {
        "id": "TitqudqmwohY",
        "colab": {
          "base_uri": "https://localhost:8080/"
        },
        "outputId": "c52a9c81-13f9-4239-a0b4-90df5c784793"
      },
      "execution_count": null,
      "outputs": [
        {
          "output_type": "stream",
          "name": "stdout",
          "text": [
            "12 13\n"
          ]
        }
      ]
    },
    {
      "cell_type": "code",
      "source": [
        "year = int(input())\n",
        "month = int(input())\n",
        "day = int(input())\n",
        "\n",
        "if (year % 400 == 0):\n",
        "  leap_year = True\n",
        "elif (year % 100 == 0):\n",
        "  leap_year = False\n",
        "elif (year % 4 == 0):\n",
        "  leap_year = True\n",
        "else:\n",
        "  leap_year = False\n",
        "\n",
        "\n",
        "if month in (1, 3, 5, 7, 8, 10, 12):\n",
        "  month_length = 31\n",
        "elif month == 2:\n",
        "  if leap_year:\n",
        "    month_length = 29\n",
        "  else:\n",
        "    month_length = 28\n",
        "else:\n",
        "  month_length = 30\n",
        "\n",
        "if day < month_length:\n",
        "  day += 1\n",
        "else:\n",
        "  day = 1\n",
        "  if month == 12:\n",
        "    month = 1\n",
        "    year += 1\n",
        "  else:\n",
        "    month += 1\n",
        "print (\"The next date is [yyyy-mm-dd] %d-%d-%d.\" % (year, month, day))"
      ],
      "metadata": {
        "id": "SGoIYQDbLwqY",
        "colab": {
          "base_uri": "https://localhost:8080/",
          "height": 390
        },
        "outputId": "026a7d88-8296-45db-ed94-b69a2cccf871"
      },
      "execution_count": null,
      "outputs": [
        {
          "output_type": "error",
          "ename": "KeyboardInterrupt",
          "evalue": "ignored",
          "traceback": [
            "\u001b[0;31m---------------------------------------------------------------------------\u001b[0m",
            "\u001b[0;31mKeyboardInterrupt\u001b[0m                         Traceback (most recent call last)",
            "\u001b[0;32m<ipython-input-61-60ac21efce7e>\u001b[0m in \u001b[0;36m<cell line: 1>\u001b[0;34m()\u001b[0m\n\u001b[0;32m----> 1\u001b[0;31m \u001b[0myear\u001b[0m \u001b[0;34m=\u001b[0m \u001b[0mint\u001b[0m\u001b[0;34m(\u001b[0m\u001b[0minput\u001b[0m\u001b[0;34m(\u001b[0m\u001b[0;34m)\u001b[0m\u001b[0;34m)\u001b[0m\u001b[0;34m\u001b[0m\u001b[0;34m\u001b[0m\u001b[0m\n\u001b[0m\u001b[1;32m      2\u001b[0m \u001b[0mmonth\u001b[0m \u001b[0;34m=\u001b[0m \u001b[0mint\u001b[0m\u001b[0;34m(\u001b[0m\u001b[0minput\u001b[0m\u001b[0;34m(\u001b[0m\u001b[0;34m)\u001b[0m\u001b[0;34m)\u001b[0m\u001b[0;34m\u001b[0m\u001b[0;34m\u001b[0m\u001b[0m\n\u001b[1;32m      3\u001b[0m \u001b[0mday\u001b[0m \u001b[0;34m=\u001b[0m \u001b[0mint\u001b[0m\u001b[0;34m(\u001b[0m\u001b[0minput\u001b[0m\u001b[0;34m(\u001b[0m\u001b[0;34m)\u001b[0m\u001b[0;34m)\u001b[0m\u001b[0;34m\u001b[0m\u001b[0;34m\u001b[0m\u001b[0m\n\u001b[1;32m      4\u001b[0m \u001b[0;34m\u001b[0m\u001b[0m\n\u001b[1;32m      5\u001b[0m \u001b[0;32mif\u001b[0m \u001b[0;34m(\u001b[0m\u001b[0myear\u001b[0m \u001b[0;34m%\u001b[0m \u001b[0;36m400\u001b[0m \u001b[0;34m==\u001b[0m \u001b[0;36m0\u001b[0m\u001b[0;34m)\u001b[0m\u001b[0;34m:\u001b[0m\u001b[0;34m\u001b[0m\u001b[0;34m\u001b[0m\u001b[0m\n",
            "\u001b[0;32m/usr/local/lib/python3.10/dist-packages/ipykernel/kernelbase.py\u001b[0m in \u001b[0;36mraw_input\u001b[0;34m(self, prompt)\u001b[0m\n\u001b[1;32m    849\u001b[0m                 \u001b[0;34m\"raw_input was called, but this frontend does not support input requests.\"\u001b[0m\u001b[0;34m\u001b[0m\u001b[0;34m\u001b[0m\u001b[0m\n\u001b[1;32m    850\u001b[0m             )\n\u001b[0;32m--> 851\u001b[0;31m         return self._input_request(str(prompt),\n\u001b[0m\u001b[1;32m    852\u001b[0m             \u001b[0mself\u001b[0m\u001b[0;34m.\u001b[0m\u001b[0m_parent_ident\u001b[0m\u001b[0;34m,\u001b[0m\u001b[0;34m\u001b[0m\u001b[0;34m\u001b[0m\u001b[0m\n\u001b[1;32m    853\u001b[0m             \u001b[0mself\u001b[0m\u001b[0;34m.\u001b[0m\u001b[0m_parent_header\u001b[0m\u001b[0;34m,\u001b[0m\u001b[0;34m\u001b[0m\u001b[0;34m\u001b[0m\u001b[0m\n",
            "\u001b[0;32m/usr/local/lib/python3.10/dist-packages/ipykernel/kernelbase.py\u001b[0m in \u001b[0;36m_input_request\u001b[0;34m(self, prompt, ident, parent, password)\u001b[0m\n\u001b[1;32m    893\u001b[0m             \u001b[0;32mexcept\u001b[0m \u001b[0mKeyboardInterrupt\u001b[0m\u001b[0;34m:\u001b[0m\u001b[0;34m\u001b[0m\u001b[0;34m\u001b[0m\u001b[0m\n\u001b[1;32m    894\u001b[0m                 \u001b[0;31m# re-raise KeyboardInterrupt, to truncate traceback\u001b[0m\u001b[0;34m\u001b[0m\u001b[0;34m\u001b[0m\u001b[0m\n\u001b[0;32m--> 895\u001b[0;31m                 \u001b[0;32mraise\u001b[0m \u001b[0mKeyboardInterrupt\u001b[0m\u001b[0;34m(\u001b[0m\u001b[0;34m\"Interrupted by user\"\u001b[0m\u001b[0;34m)\u001b[0m \u001b[0;32mfrom\u001b[0m \u001b[0;32mNone\u001b[0m\u001b[0;34m\u001b[0m\u001b[0;34m\u001b[0m\u001b[0m\n\u001b[0m\u001b[1;32m    896\u001b[0m             \u001b[0;32mexcept\u001b[0m \u001b[0mException\u001b[0m \u001b[0;32mas\u001b[0m \u001b[0me\u001b[0m\u001b[0;34m:\u001b[0m\u001b[0;34m\u001b[0m\u001b[0;34m\u001b[0m\u001b[0m\n\u001b[1;32m    897\u001b[0m                 \u001b[0mself\u001b[0m\u001b[0;34m.\u001b[0m\u001b[0mlog\u001b[0m\u001b[0;34m.\u001b[0m\u001b[0mwarning\u001b[0m\u001b[0;34m(\u001b[0m\u001b[0;34m\"Invalid Message:\"\u001b[0m\u001b[0;34m,\u001b[0m \u001b[0mexc_info\u001b[0m\u001b[0;34m=\u001b[0m\u001b[0;32mTrue\u001b[0m\u001b[0;34m)\u001b[0m\u001b[0;34m\u001b[0m\u001b[0;34m\u001b[0m\u001b[0m\n",
            "\u001b[0;31mKeyboardInterrupt\u001b[0m: Interrupted by user"
          ]
        }
      ]
    },
    {
      "cell_type": "code",
      "source": [
        "# leap year program\n",
        "\n",
        "year = int(input())\n",
        "month = int(input())\n",
        "day = int(input())\n",
        "\n",
        "if (year % 4 == 0 and year % 100 != 0) or (year % 400 == 0):\n",
        "        leap_yr=True\n",
        "else:\n",
        "        leap_yr=False\n",
        "\n",
        "if month in (1,3,5,7,8,10,12):\n",
        "  month_len=31\n",
        "if month==2:\n",
        "  if leap_yr:\n",
        "    month_len=29\n",
        "  else:\n",
        "    month_len=28\n",
        "else:\n",
        "  month_len=30\n",
        "\n",
        "if day<month_len:\n",
        "  day+=1\n",
        "else:\n",
        "  day=1\n",
        "  if month<12:\n",
        "    month+=1\n",
        "  else:\n",
        "    month=1\n",
        "    year+=1\n",
        "\n",
        "print(f\"The next date is [yyyy-mm-dd] {year}-{month}-{day}.\")\n",
        "\n"
      ],
      "metadata": {
        "id": "wmTstqK08K4Z"
      },
      "execution_count": null,
      "outputs": []
    },
    {
      "cell_type": "code",
      "source": [
        "# Input:\n",
        "# 7548\n",
        "\n",
        "# Output:\n",
        "# Step-1 Sum: 24\n",
        "\n",
        "# Step-2 Sum: 6\n",
        "\n",
        "n=int(input())\n",
        "print(\"number=\",n)\n",
        "count=1\n",
        "while n>9:\n",
        "  sum=0\n",
        "  while n:\n",
        "    rem=n%10\n",
        "    sum+=rem\n",
        "    n//=10\n",
        "  print(\"step1-sum:\",sum)\n",
        "  count+=1\n",
        "  n=sum\n",
        "\n"
      ],
      "metadata": {
        "id": "CtP73sf5ZUGS"
      },
      "execution_count": null,
      "outputs": []
    },
    {
      "cell_type": "code",
      "source": [
        "# Create a program that checks if a given number is even or odd.\n",
        "number= int(input(\"Enter a number:\"))\n",
        "if number%2==0:\n",
        "  print(number,\"is an even number.\")\n",
        "else:\n",
        "  print(number,\"is an odd number.\")"
      ],
      "metadata": {
        "id": "iwStkpHEol08"
      },
      "execution_count": null,
      "outputs": []
    },
    {
      "cell_type": "code",
      "source": [
        "# Write a function to find the factorial of a number using a loop.\n",
        "def factorial(n):\n",
        "  fact=1\n",
        "  while n>0:0\n",
        "    fact=fact*n\n",
        "    n=n-1\n",
        "  return fact\n",
        "\n",
        "number=int(input(\"Enter a number:\"))\n",
        "fact=factorial(number)\n",
        "print(f\"Factorial of {number} is \",fact)"
      ],
      "metadata": {
        "id": "2Xtj5c4EpK_l"
      },
      "execution_count": null,
      "outputs": []
    },
    {
      "cell_type": "code",
      "source": [
        "# Develop a program that checks whether a given year is a leap year.\n",
        "def is_leap_year(year):\n",
        "    if (year % 4 == 0 and year % 100 != 0) or (year % 400 == 0):\n",
        "        return True\n",
        "    else:\n",
        "        return False\n",
        "\n",
        "# Input year from the user\n",
        "year = int(input(\"Enter a year: \"))\n",
        "\n",
        "if is_leap_year(year):\n",
        "    print(f\"{year} is a leap year.\")\n",
        "else:\n",
        "    print(f\"{year} is not a leap year.\")\n"
      ],
      "metadata": {
        "id": "K7lMJm81qJcf"
      },
      "execution_count": null,
      "outputs": []
    },
    {
      "cell_type": "code",
      "source": [
        "# Create a simple calculator that can perform basic arithmetic operations (+, -, *, /).\n",
        "def add(x,y):\n",
        "  return x+y\n",
        "def sub(x,y):\n",
        "  return x-y\n",
        "def mul(x,y):\n",
        "  return x*y\n",
        "def div(x,y):\n",
        "  if y==0:\n",
        "    return \"Cannot divide by zero\"\n",
        "  else:\n",
        "    return x/y\n",
        "\n",
        "while True:\n",
        "  print(\"Options:\")\n",
        "  print(\"Enter 'add' for addition\")\n",
        "  print(\"Enter 'sub' for subtraction\")\n",
        "  print(\"Enter 'mul' for multiplication\")\n",
        "  print(\"Enter 'div' for division\")\n",
        "  print(\"Enter 'quit' to end the program\")\n",
        "  user_input = input(\": \")\n",
        "\n",
        "  if user_input == \"quit\":\n",
        "      break\n",
        "  elif user_input in (\"add\", \"sub\", \"mul\", \"div\"):\n",
        "      num1 = float(input(\"Enter first number: \"))\n",
        "      num2 = float(input(\"Enter second number: \"))\n",
        "  if user_input == \"add\":\n",
        "    print(\"Result:\", add(num1, num2))\n",
        "  elif user_input == \"sub\":\n",
        "    print(\"Result:\", sub(num1, num2))\n",
        "  elif user_input == \"mul\":\n",
        "    print(\"Result:\", mul(num1, num2))\n",
        "  elif user_input == \"div\":\n",
        "    result = div(num1, num2)\n",
        "    if result == \"Cannot divide by zero\":\n",
        "      print(result)\n",
        "    else:\n",
        "      print(\"Result:\", result)\n",
        "  else:\n",
        "      print(\"Invalid input\")\n",
        "else:\n",
        "      print(\"Invalid input\")\n",
        "# This program defines functions for addition, subtraction, multiplication, and division.\n",
        "# It then presents a simple menu to the user, allowing them to choose an operation.\n",
        "# The program takes two numbers as input and performs the selected operation, displaying the result.\n",
        "# 5The loop continues until the user enters \"quit\" to exit the program.\n",
        "\n",
        "\n",
        "\n",
        "\n",
        "\n"
      ],
      "metadata": {
        "id": "5fOcJPXBrk4S"
      },
      "execution_count": null,
      "outputs": []
    },
    {
      "cell_type": "code",
      "source": [
        "# To-do list\n",
        "\n",
        "# Create an empty list to store tasks\n",
        "tasks = []\n",
        "\n",
        "# Function to add a task\n",
        "def add_task(task):\n",
        "    tasks.append(task)\n",
        "    print(f\"Task '{task}' added to the to-do list.\")\n",
        "\n",
        "# Function to remove a task\n",
        "def remove_task(task):\n",
        "\n",
        "    if task in tasks:\n",
        "        tasks.remove(task)\n",
        "        print(f\"Task '{task}' removed from the to-do list.\")\n",
        "    else:\n",
        "        print(f\"Task '{task}' not found in the to-do list.\")\n",
        "\n",
        "# Function to display tasks\n",
        "def display_tasks():\n",
        "    if tasks:\n",
        "        print(\"To-Do List:\")\n",
        "        for index, task in enumerate(tasks, 1):\n",
        "            print(f\"{index}. {task}\")\n",
        "    else:\n",
        "        print(\"Your to-do list is empty.\")\n",
        "\n",
        "# Main to-do list loop\n",
        "while True:\n",
        "    print(\"Options:\")\n",
        "    print(\"Enter 'add' to add a task\")\n",
        "    print(\"Enter 'remove' to remove a task\")\n",
        "    print(\"Enter 'display' to view tasks\")\n",
        "    print(\"Enter 'quit' to exit the program\")\n",
        "\n",
        "    user_input = input(\": \")\n",
        "\n",
        "    if user_input == \"quit\":\n",
        "        break\n",
        "    elif user_input == \"add\":\n",
        "        task = input(\"Enter the task: \")\n",
        "        add_task(task)\n",
        "    elif user_input == \"remove\":\n",
        "        task = input(\"Enter the task to remove: \")\n",
        "        remove_task(task)\n",
        "    elif user_input == \"display\":\n",
        "        display_tasks()\n",
        "    else:\n",
        "        print(\"Invalid input. Please try again.\")\n"
      ],
      "metadata": {
        "id": "-BPTBH8fuZDI"
      },
      "execution_count": null,
      "outputs": []
    },
    {
      "cell_type": "code",
      "source": [
        "# Use of append() and extend()\n",
        "# Start with empty list\n",
        "movie_collection=[]\n",
        "movie_collection.append(\"kgf\")\n",
        "movie_collection.append(\"abc\")\n",
        "movie_collection.append(\"xyz\")\n",
        "movie_collection.append(\"jdnf\")\n",
        "\n",
        "print(movie_collection)\n",
        "\n",
        "\n",
        "print(movie_collection)"
      ],
      "metadata": {
        "id": "xrt39e52TwZ-"
      },
      "execution_count": null,
      "outputs": []
    },
    {
      "cell_type": "code",
      "source": [
        "# Create a program that converts temperatures between Celsius and Fahrenheit.\n",
        "# Function to convert Celsius to Fahrenheit\n",
        "def celsiusTOfahrenheit(celsius):\n",
        "  fahrenheit=(celsius*9/5)+32\n",
        "  return fahrenheit\n",
        "\n",
        "# Function to convert Fahrenheit to Celsius\n",
        "def fahrenheitTOcelsius(fahrenheit):\n",
        "  celsius=(fahrenheit-32)*5/9\n",
        "  return celsius\n",
        "\n",
        "\n",
        "while True:\n",
        "  print(\"Options:\")\n",
        "  print(\"Enter '1' to convert from Celsius to Fahrenheit\")\n",
        "  print(\"Enter '2' to convert from fahrenheit to celsius\")\n",
        "  print(\"Enter 'quit' to exit the program.\")\n",
        "\n",
        "  option=input(\":\")\n",
        "  if option == \"1\":\n",
        "    celsius= float(input(\"Enter temp in celsius:\"))\n",
        "    fahrenheit=celsiusTOfahrenheit(celsius)\n",
        "    # f\"{celsius}°C is equal to {fahrenheit}°F\")\n",
        "    print(f\"{celsius} \")\n"
      ],
      "metadata": {
        "id": "VnApt8owxCuF"
      },
      "execution_count": null,
      "outputs": []
    },
    {
      "cell_type": "code",
      "source": [
        "# Develop a simple number guessing game where the computer generates a random number, and the user must guess it.\n",
        "import random\n",
        "\n",
        "# Generate a random number between 1 and 100\n",
        "random_number = random.randint(1, 100)\n",
        "\n",
        "# Initialize the number of guesses and set it to 0\n",
        "guesses = 0\n",
        "\n",
        "print(\"Welcome to the Number Guessing Game!\")\n",
        "print(\"I'm thinking of a number between 1 and 100.\")\n",
        "\n",
        "# Main game loop\n",
        "while True:\n",
        "    # Get a user's guess\n",
        "    user_guess = int(input(\"Guess the number: \"))\n",
        "    guesses += 1\n",
        "\n",
        "    # Check if the user's guess is correct\n",
        "    if user_guess == random_number:\n",
        "        print(f\"Congratulations! You guessed the number {random_number} in {guesses} tries.\")\n",
        "        break\n",
        "    elif user_guess < random_number:\n",
        "        print(\"Try a higher number.\")\n",
        "    else:\n",
        "        print(\"Try a lower number\")\n"
      ],
      "metadata": {
        "id": "JfXGD3y_90Gm"
      },
      "execution_count": null,
      "outputs": []
    },
    {
      "cell_type": "code",
      "source": [
        "strng = input()\n",
        "count=0\n",
        "char_dic={}\n",
        "for c in strng:\n",
        "    if c in char_dic:\n",
        "        char_dic[c]+=1\n",
        "    else:\n",
        "        char_dic[c]=1\n",
        "\n",
        "print(char_dic)"
      ],
      "metadata": {
        "id": "RQOTOVoZwrnT"
      },
      "execution_count": null,
      "outputs": []
    },
    {
      "cell_type": "code",
      "source": [
        "starts_with = lambda string, char: string.startswith(char)\n",
        "\n",
        "# Input the string and the character you want to check\n",
        "input_string = input(\"Enter a string: \")\n",
        "character_to_check = input(\"Enter a character to check if the string starts with: \")\n",
        "\n",
        "# Use the lambda function to check if the string starts with the character\n",
        "result = starts_with(input_string, character_to_check)\n",
        "\n",
        "# Display the result\n",
        "if result:\n",
        "    print(f\"The string '{input_string}' starts with the character '{character_to_check}'.\")\n",
        "else:\n",
        "    print(f\"The string '{input_string}' does not start with the character '{character_to_check}'.\")"
      ],
      "metadata": {
        "id": "ZXfWTg3WyD80"
      },
      "execution_count": null,
      "outputs": []
    },
    {
      "cell_type": "code",
      "source": [
        "def harmonic_sum(n):\n",
        "    if n <= 1:\n",
        "        return 0\n",
        "    else:\n",
        "        # Calculate the harmonic sum\n",
        "        result = 0\n",
        "        for i in range(1, n):\n",
        "            result += 1 / i\n",
        "        return result\n",
        "\n",
        "# Input the value of n\n",
        "n = int(input(\"Enter a positive integer (n): \"))\n",
        "\n",
        "# Calculate and display the harmonic sum of n-1\n",
        "if n < 2:\n",
        "    print(\"The harmonic sum for n-1 is 0 because n should be greater than or equal to 2.\")\n",
        "else:\n",
        "    result = harmonic_sum(n)\n",
        "    print(f\"The harmonic sum of {n-1} is approximately {result:.4f}\")\n"
      ],
      "metadata": {
        "id": "8RaVZ6_K1akQ"
      },
      "execution_count": null,
      "outputs": []
    },
    {
      "cell_type": "code",
      "source": [
        "def test(strs):\n",
        "    return \" \".join(strs for strs in strs.split() if is_prime(len(strs)))\n",
        "def is_prime(n):\n",
        "    return n > 1 and all(n % j for j in range(2, int(n ** 0.5) + 1))\n",
        "strs = input()\n",
        "print(test(strs))"
      ],
      "metadata": {
        "id": "ZPiAqjn8Chw0"
      },
      "execution_count": null,
      "outputs": []
    },
    {
      "cell_type": "code",
      "source": [
        "# Sum of Numbers: Calculate the sum of all numbers from 1 to a given number.\n",
        "n=int(input())\n",
        "sum=0\n",
        "for i in range(1,n+1):\n",
        "  sum+=i\n",
        "print(sum)"
      ],
      "metadata": {
        "id": "SbmIw4lbOZVA"
      },
      "execution_count": null,
      "outputs": []
    },
    {
      "cell_type": "code",
      "source": [
        "# Print Multiplication Table: Generate a multiplication table for a given number.\n",
        "\n",
        "n=int(input())\n",
        "for i in range(1,11):\n",
        "  print(f\"{n}*{i} = {(n*i)}\")\n"
      ],
      "metadata": {
        "id": "TgrBDTR9O2jD"
      },
      "execution_count": null,
      "outputs": []
    },
    {
      "cell_type": "markdown",
      "source": [
        "# **Password Generator**: Create a program that generates strong passwords with specified criteria, such as length and character types, using built-in string and random functions."
      ],
      "metadata": {
        "id": "HrlrU0gp4zUg"
      }
    },
    {
      "cell_type": "code",
      "source": [
        "# password generator\n",
        "import random\n",
        "import string\n",
        "\n",
        "def generate_password(length, use_uppercase, use_lowercase, use_digits, use_special_chars):\n",
        "    # Define character sets based on user preferences\n",
        "    characters = \"\"\n",
        "    if use_uppercase:\n",
        "        characters += string.ascii_uppercase\n",
        "    if use_lowercase:\n",
        "        characters += string.ascii_lowercase\n",
        "    if use_digits:\n",
        "        characters += string.digits\n",
        "    if use_special_chars:\n",
        "        characters += string.punctuation\n",
        "\n",
        "    # Check if at least one character type is selected\n",
        "    if not characters:\n",
        "        return \"Please select at least one character type.\"\n",
        "\n",
        "    # Generate the password\n",
        "    password = ''.join(random.choice(characters) for _ in range(length))\n",
        "    return password\n",
        "\n",
        "# User input\n",
        "length = int(input(\"Enter the desired password length: \"))\n",
        "use_uppercase = input(\"Include uppercase letters (yes/no): \").lower() == \"yes\"\n",
        "use_lowercase = input(\"Include lowercase letters (yes/no): \").lower() == \"yes\"\n",
        "use_digits = input(\"Include digits (yes/no): \").lower() == \"yes\"\n",
        "use_special_chars = input(\"Include special characters (yes/no): \").lower() == \"yes\"\n",
        "\n",
        "# Generate and print the password\n",
        "password = generate_password(length, use_uppercase, use_lowercase, use_digits, use_special_chars)\n",
        "print(\"Generated Password:\", password)\n"
      ],
      "metadata": {
        "id": "Mjuk_qVbPr8_"
      },
      "execution_count": null,
      "outputs": []
    },
    {
      "cell_type": "code",
      "source": [
        "\n",
        "numbers= eval(input())\n",
        "n = int(input())\n",
        "print(numbers[n - 1::n])"
      ],
      "metadata": {
        "id": "PF6qip4XhPC8"
      },
      "execution_count": null,
      "outputs": []
    },
    {
      "cell_type": "code",
      "source": [
        "# Write a Python program to print a specified list after removing the 0th, 4th and 5th elements\n",
        "\n",
        "def  main():\n",
        "  lst = eval( input())\n",
        "  lst.pop(0)\n",
        "  lst.pop(4)\n",
        "  lst.pop(5)\n",
        "  print(lst)\n",
        "\n",
        "main();"
      ],
      "metadata": {
        "id": "j4WSWkO5q9P7"
      },
      "execution_count": null,
      "outputs": []
    },
    {
      "cell_type": "markdown",
      "source": [
        "# Write a Python program to print a specified list after removing the 0th, 4th and 5th elements"
      ],
      "metadata": {
        "id": "Ubs-qrSF4Mq6"
      }
    },
    {
      "cell_type": "code",
      "source": [
        "# your code goes here\n",
        "lst = eval(input())\n",
        "lst = [x for (i,x) in enumerate(lst) if i not in (0,4,5)]\n",
        "print(lst)"
      ],
      "metadata": {
        "id": "xh-5L21gr6K6"
      },
      "execution_count": null,
      "outputs": []
    },
    {
      "cell_type": "code",
      "source": [
        "lst= eval(input())\n",
        "lst=[x for (i,x) in enumerate(lst) if x%10==0 ]\n",
        "print(sorted(lst))"
      ],
      "metadata": {
        "id": "fEfc0FAb2z9K"
      },
      "execution_count": null,
      "outputs": []
    },
    {
      "cell_type": "markdown",
      "source": [
        "# Smallest element of list"
      ],
      "metadata": {
        "id": "AltrKbkh4CA8"
      }
    },
    {
      "cell_type": "code",
      "source": [
        "from functools import reduce\n",
        "\n",
        "numbers = enumerate(input())\n",
        "min_value = reduce(lambda x, y: x if x < y else y, numbers)\n",
        "print(min_value)\n"
      ],
      "metadata": {
        "id": "H_YG0yKP3u3r"
      },
      "execution_count": null,
      "outputs": []
    },
    {
      "cell_type": "markdown",
      "source": [
        "# Greater than a number\n",
        "Write a Python program to test whether all numbers of a list is greater than a certain number."
      ],
      "metadata": {
        "id": "sP2cc7pf7AXg"
      }
    },
    {
      "cell_type": "code",
      "source": [
        "\n",
        "lst=eval(input())\n",
        "num=int(input())\n",
        "result = all( x > num for x in lst )\n",
        "print(result)"
      ],
      "metadata": {
        "id": "AI1FuX1b6_X7"
      },
      "execution_count": null,
      "outputs": []
    },
    {
      "cell_type": "code",
      "source": [
        "# Write a Python program to test whether any of numbers of a list is greater than a certain number\n",
        "lst=eval(input())\n",
        "num=int(input())\n",
        "result=any(x>=num for x in lst)\n",
        "print(result)"
      ],
      "metadata": {
        "id": "4_h-Lups7Qj1"
      },
      "execution_count": null,
      "outputs": []
    },
    {
      "cell_type": "markdown",
      "source": [
        "### Write a Python program to add two objects if both objects are an integer type."
      ],
      "metadata": {
        "id": "HuwIZI1Q_XBs"
      }
    },
    {
      "cell_type": "code",
      "source": [
        "# your code goes here\n",
        "def add_numbers(a, b):\n",
        "   if not (isinstance(a, int) and isinstance(b, int)):\n",
        "       return \"Inputs must be integers!\"\n",
        "   return a + b\n",
        "\n",
        "n1 = eval(input())\n",
        "n2 = eval(input())\n",
        "print(add_numbers(n1, n2))"
      ],
      "metadata": {
        "id": "AbS0Unwt-iEF"
      },
      "execution_count": null,
      "outputs": []
    },
    {
      "cell_type": "code",
      "source": [
        "# Write a Python program to check a list is empty or not.\n",
        "def  main():\n",
        "  lst=eval(input())\n",
        "  if len(lst)==0:\n",
        "    print(\"List is empty\")\n",
        "  else:\n",
        "    print(\"List is not empty\")\n",
        "\n",
        "main();"
      ],
      "metadata": {
        "id": "FFSVtD3M_rFc"
      },
      "execution_count": null,
      "outputs": []
    },
    {
      "cell_type": "code",
      "source": [
        "# Write a program which would calculate the count of each unique characters in a words and returns an appropriate dictionary.\n",
        "# Use a custom function to achieve this.\n",
        "\n",
        "def count_word(words):\n",
        "  word_dict={}\n",
        "  for l in words:\n",
        "    # check if letter is alphabet or not\n",
        "    if l.isalpha():\n",
        "      # convert into lowercase\n",
        "      l=l.lower()\n",
        "      # check if the letter is already present or not, if yes then value increment by one.\n",
        "      # else the value is assined as 0 and increment by one\n",
        "      word_dict[l]=word_dict.get(l,0) + 1\n",
        "  return word_dict\n",
        "\n",
        "\n",
        "word = input()\n",
        "result = count_word(word)\n",
        "print(result)"
      ],
      "metadata": {
        "id": "bl1Cb38yIzGB"
      },
      "execution_count": null,
      "outputs": []
    },
    {
      "cell_type": "code",
      "source": [
        "# Declare a global variable\n",
        "global_variable = \"I am a global variable\"\n",
        "\n",
        "def print_global():\n",
        "    # Access and print the global variable\n",
        "    print(global_variable)\n",
        "\n",
        "def modify_global():\n",
        "    global global_variable  # Use the global keyword to modify\n",
        "    global_variable = \"I was modified in a function\"\n",
        "\n",
        "# Access the global variable\n",
        "print(\"Initial global variable:\", global_variable)\n",
        "\n",
        "# Call the functions\n",
        "print_global()\n",
        "modify_global()\n",
        "\n",
        "# Check the modified global variable\n",
        "print(\"Modified global variable:\", global_variable)\n"
      ],
      "metadata": {
        "id": "EqOA8lyKNyvw"
      },
      "execution_count": null,
      "outputs": []
    },
    {
      "cell_type": "code",
      "source": [
        "# Write a function which takes a string arguments and returns the reversed string to the user.\n",
        "def rev_str(string):\n",
        "  rev_string = string[::-1]\n",
        "  return rev_string\n",
        "string = input()\n",
        "print(\"Reversed string is: \",rev_str(string))"
      ],
      "metadata": {
        "id": "7vkrLsQoOiD0"
      },
      "execution_count": null,
      "outputs": []
    },
    {
      "cell_type": "code",
      "source": [
        "# This is not allowed, since non-default parameter follows default parameter\n",
        "def my_function(y=10, x):\n",
        "  return x+y\n",
        "    # do something with x and y\n",
        "\n",
        "my_function(10)"
      ],
      "metadata": {
        "id": "13jqflLTQpnS"
      },
      "execution_count": null,
      "outputs": []
    },
    {
      "cell_type": "code",
      "source": [
        "# Write a function that uses a while loop to calculate calories burned.\n",
        "# The function takes workout duration and activity type as input and calculates calories burned based on the duration and activity type.\n",
        "# Refer to following chart: Running- Burns 10 calories per minute, Swimming- Burns 8 calories per minute ,Cycling- Burn 6 calories per minute.\n",
        "\n",
        "def calories_burned(activity, duration):\n",
        "  calori=0\n",
        "  while duration > 0:\n",
        "    if activity.lower() == 'running':\n",
        "      calori +=10\n",
        "    elif activity.lower() == 'swimming':\n",
        "      calori +=8\n",
        "    elif activity.lower() == 'cycling':\n",
        "      calori +=6\n",
        "    else:\n",
        "      calori=0\n",
        "    duration -=13\n",
        "  return calori\n",
        "\n",
        "activity= input(\"Enter activity:\")\n",
        "duration = int(input(\"Enter duration in minute:\"))\n",
        "print(\"Total calori burned is:\",calories_burned(activity,duration))"
      ],
      "metadata": {
        "id": "Qe-3JEzMUhqG"
      },
      "execution_count": null,
      "outputs": []
    },
    {
      "cell_type": "markdown",
      "source": [
        "A bookstore wants to keep track of their inventory and generate a report of the books that need to be restocked. They want to create a custom function in Python to calculate the quantity of books to order for each title. They have a list of books and their current stock quantity. They want to calculate the quantity of books to order such that the inventory of each books is at least 10. The function takes a dictionary of book titles as keys and current stock as values, as the input and should return a dictionary consisting of title as the key and number of books to be ordered as the value.:"
      ],
      "metadata": {
        "id": "7UCzdA7p5_L6"
      }
    },
    {
      "cell_type": "code",
      "source": [
        "# List of books and their current stock\n",
        "books = {\n",
        "    \"Harry Potter\": 10,\n",
        "    \"Lord of the Rings\": 5,\n",
        "    \"Game of Thrones\": 2,\n",
        "    \"The Hunger Games\": 8,\n",
        "    \"To Kill a Mockingbird\": 4\n",
        "}\n",
        "\n",
        "def calculate_books_to_order(books):\n",
        "  min_quantity = 10\n",
        "  books_to_order = {}\n",
        "  for title, stock in books.items():\n",
        "    if stock < 10:\n",
        "      quantity = min_quantity - stock\n",
        "      books_to_order[title] = quantity\n",
        "  return books_to_order\n",
        "\n",
        "# Calculate books to order\n",
        "order = calculate_books_to_order(books)\n",
        "print(order)\n"
      ],
      "metadata": {
        "id": "TaZt3O_s58Mw"
      },
      "execution_count": null,
      "outputs": []
    },
    {
      "cell_type": "code",
      "source": [
        "#  Calculates the factorial of a non-negative integer.\n",
        "\n",
        "def factorial(number):\n",
        "\n",
        "  if number==0 or number==1:\n",
        "    return 1\n",
        "  else:\n",
        "    return number*factorial(number-1)\n",
        "\n",
        "number = int(input())\n",
        "print(\"Factorial of \",number, \"is:\",factorial(number))"
      ],
      "metadata": {
        "id": "vUaBPawT9x_0"
      },
      "execution_count": null,
      "outputs": []
    },
    {
      "cell_type": "markdown",
      "source": [
        "A teacher wants to create a Python function to grade a multiple-choice test. The function should take one argument: a list of answers given by a student. The function should compare the answers given by the student with the predefined answer key and return the score obtained. Each correct answer is worth 1 point, and each incorrect answer is worth 0 points."
      ],
      "metadata": {
        "id": "rEPvw_7QNFTE"
      }
    },
    {
      "cell_type": "code",
      "source": [
        "\n",
        "# Here are the student's answers\n",
        "student_answers = [\"A\", \"C\", \"A\", \"D\", \"E\"]\n",
        "\n",
        "def grade_test(student_answers):\n",
        "\n",
        "    answer_key = [\"A\", \"B\", \"C\", \"D\", \"E\"]\n",
        "    score = 0\n",
        "\n",
        "    # Loop through each answer and compare it to the corresponding answer in the answer key\n",
        "    for i in range(len(student_answers)):\n",
        "        if student_answers[i] == answer_key[i]:\n",
        "            score += 1  # Increment the score if the answer is correct\n",
        "        else:\n",
        "            score += 0  # No change in score if the answer is incorrect\n",
        "\n",
        "    return score\n",
        "\n",
        "# Grade the test and print the score\n",
        "score = grade_test(student_answers)\n",
        "print(score)"
      ],
      "metadata": {
        "id": "6fFihpYQMdn3"
      },
      "execution_count": null,
      "outputs": []
    },
    {
      "cell_type": "code",
      "source": [
        "def grade_test(student_answers):\n",
        "    answer_key = [\"A\", \"B\", \"A\", \"D\", \"E\"]\n",
        "\n",
        "    # Use a list comprehension to compare student answers to the answer key\n",
        "    score = sum(1 for student, key in zip(student_answers, answer_key) if student == key)\n",
        "\n",
        "    return score\n",
        "\n",
        "# Grade the test and print the score\n",
        "score = grade_test(student_answers)\n",
        "print(score)\n"
      ],
      "metadata": {
        "id": "8wSb058BO-rz"
      },
      "execution_count": null,
      "outputs": []
    },
    {
      "cell_type": "markdown",
      "source": [
        "Write a function that takes a list of integers as input and returns the sum of the squares of the even numbers in the list."
      ],
      "metadata": {
        "id": "8PJgfPW0NL15"
      }
    },
    {
      "cell_type": "code",
      "source": [
        "numbers=[1,2,3,4,5,6,78,46,8643,2]\n",
        "def sum_square_even(numbers):\n",
        "  sum=0\n",
        "  for i in numbers:\n",
        "    if i%2==0:\n",
        "      sum=sum+i**2\n",
        "  return sum\n",
        "print(\"sum of square of even numbers is \",sum_square_even(numbers))"
      ],
      "metadata": {
        "id": "ihTJGb4eNNsU"
      },
      "execution_count": null,
      "outputs": []
    },
    {
      "cell_type": "code",
      "source": [
        "numbers = [1, 2, 3, 4, 5, 6, 78, 46, 8643, 2]\n",
        "\n",
        "# Use a list comprehension to sum the squares of even numbers\n",
        "result = sum([x**2 for x in numbers if x % 2 == 0])\n",
        "\n",
        "print(\"Sum of squares of even numbers is\", result)\n"
      ],
      "metadata": {
        "id": "QweNGYNsOjx0"
      },
      "execution_count": null,
      "outputs": []
    },
    {
      "cell_type": "markdown",
      "source": [
        "Write a function that takes a string as input and returns a new string with all vowels removed."
      ],
      "metadata": {
        "id": "04iuYK2gQbzB"
      }
    },
    {
      "cell_type": "code",
      "source": [
        "def remove_vowels(my_string):\n",
        "  vowels='aeiou'\n",
        "\n",
        "  result=''.join([ch for ch in my_string if ch.lower() not in vowels])\n",
        "  return result\n",
        "my_string = input()\n",
        "no_vowels_string = remove_vowels(my_string)\n",
        "print(no_vowels_string)"
      ],
      "metadata": {
        "id": "w7UKG0KXPbGd"
      },
      "execution_count": null,
      "outputs": []
    },
    {
      "cell_type": "markdown",
      "source": [
        "Write a function that takes a list of strings as input and returns a new list with all strings in uppercase."
      ],
      "metadata": {
        "id": "c1xVXDaZQWV0"
      }
    },
    {
      "cell_type": "code",
      "source": [
        "def upper_string(my_string):\n",
        "  new_str=[]\n",
        "  for str in my_string:\n",
        "    new_str.append(str.upper())\n",
        "  return new_str\n",
        "\n",
        "\n",
        "my_string = [\"aaa\",\"mango\",\"toys\",\"good morning\"]\n",
        "new_string = upper_string(my_string)\n",
        "print(new_string)"
      ],
      "metadata": {
        "id": "Lmwp-XSlQV48"
      },
      "execution_count": null,
      "outputs": []
    },
    {
      "cell_type": "code",
      "source": [
        "def convert_to_uppercase(strings_list):\n",
        "    # Use a list comprehension to create a new list with uppercase strings\n",
        "    result = [string.upper() for string in strings_list]\n",
        "    return result\n",
        "\n",
        "# Example usage:\n",
        "input_list = [\"apple\", \"banana\", \"cherry\", \"date\"]\n",
        "output_list = convert_to_uppercase(input_list)\n",
        "print(output_list)\n"
      ],
      "metadata": {
        "id": "OD4cNl-xQTY7"
      },
      "execution_count": null,
      "outputs": []
    },
    {
      "cell_type": "markdown",
      "source": [
        "Write a function that takes a dictionary as input and returns a new dictionary with the same keys but with all values squared."
      ],
      "metadata": {
        "id": "ivKY9KDeSMlJ"
      }
    },
    {
      "cell_type": "code",
      "source": [
        "def sqr_dic_value(my_dict):\n",
        "  square_dict={}\n",
        "  for key, value in my_dict.items():\n",
        "    square_dict[key] = value ** 2\n",
        "  return square_dict\n",
        "my_dict={\"a\":3,\"b\":3,\"c\":9,\"d\":6,\"e\":4,\"f\":8}\n",
        "square = sqr_dic_value(my_dict)\n",
        "print(square)"
      ],
      "metadata": {
        "id": "QnKIUPQ0SO6N"
      },
      "execution_count": null,
      "outputs": []
    },
    {
      "cell_type": "markdown",
      "source": [
        "In a test, students are supposed to write all the words in a passage whose length is a prime number. So, write a Python program to find all such words in a sentence/passage."
      ],
      "metadata": {
        "id": "LnPMWpT9np-A"
      }
    },
    {
      "cell_type": "code",
      "source": [
        "# Write your code here\n",
        "\n",
        "def is_prime(n):\n",
        "    if n <= 1:\n",
        "        return False\n",
        "    if n <= 3:\n",
        "        return True\n",
        "    if n % 2 == 0 or n % 3 == 0:\n",
        "        return False\n",
        "    i = 5\n",
        "    while i * i <= n:\n",
        "        if n % i == 0 or n % (i + 2) == 0:\n",
        "            return False\n",
        "        i += 6\n",
        "    return True\n",
        "\n",
        "def find_words_with_prime_lengths(sentence):\n",
        "    words = sentence.split()\n",
        "    prime_length_words = [word for word in words if is_prime(len(word))]\n",
        "    result = ' '.join(prime_length_words)\n",
        "    return result\n",
        "\n",
        "# Example usage:\n",
        "sentence = input()\n",
        "prime_length_words = find_words_with_prime_lengths(sentence)\n",
        "print(prime_length_words)\n"
      ],
      "metadata": {
        "id": "hGcWaglD4zGN",
        "colab": {
          "base_uri": "https://localhost:8080/"
        },
        "outputId": "b34957ea-444f-4812-bf63-51fc2bf482d9"
      },
      "execution_count": null,
      "outputs": [
        {
          "output_type": "stream",
          "name": "stdout",
          "text": [
            "The quick brown fox jumps over the lazy dog\n",
            "The quick brown fox jumps the dog\n"
          ]
        }
      ]
    },
    {
      "cell_type": "code",
      "source": [
        "numbers = [1, 2, 3, 4, 5, 6, 7, 8, 9, 10]\n",
        "even_numbers=set(filter(lambda x:x%2==0, numbers ))\n",
        "print(even_numbers)"
      ],
      "metadata": {
        "id": "SmUdOyYJUOvN"
      },
      "execution_count": null,
      "outputs": []
    },
    {
      "cell_type": "code",
      "source": [
        "cube_volume_lambda = lambda a: a*a*a\n",
        "print(f'The volume of a cube using lambda function is {cube_volume_lambda(3.14)}.')"
      ],
      "metadata": {
        "id": "YU6l7LfPV7hW"
      },
      "execution_count": null,
      "outputs": []
    },
    {
      "cell_type": "code",
      "source": [
        "def mult_table(n):\n",
        " return lambda x:x*n\n",
        "n = int(input('Enter a number: '))\n",
        "y = mult_table(n)\n",
        "print(f'The entered number is {n}, which is a perfect number.')\n",
        "for i in range(11):\n",
        " print(('%d x %d = %d' %(n, i, y(i))))"
      ],
      "metadata": {
        "id": "3he4TECnWVsM"
      },
      "execution_count": null,
      "outputs": []
    },
    {
      "cell_type": "code",
      "source": [
        "# A list of integers\n",
        "numbers = [1, 2, 3, 4, 5]\n",
        "\n",
        "# Use map() with a lambda function to calculate squares\n",
        "lst= list(map(lambda x:x**2, numbers))\n",
        "print(lst)"
      ],
      "metadata": {
        "id": "PK_raL8bXpKq"
      },
      "execution_count": null,
      "outputs": []
    },
    {
      "cell_type": "code",
      "source": [
        "special_nums = [0.577, 1.618, 2.718, 3.14, 6, 28, 37, 1729]\n",
        "new_list = list(filter(lambda x:(x%2==0), special_nums))\n",
        "new_list"
      ],
      "metadata": {
        "id": "RvLtiV1aWjEg"
      },
      "execution_count": null,
      "outputs": []
    },
    {
      "cell_type": "code",
      "source": [
        "# This program will multiplicate each element of the list with 5 and followed by power of 2.\n",
        "special_nums = [0.577, 1.618, 2.718, 3.14, 6, 28, 37, 1729]\n",
        "non_special_nums_1 = list(map(lambda x: x*5, special_nums))\n",
        "print(non_special_nums_1)\n",
        "non_special_nums_2 = list(map(lambda x: pow(x, 2), special_nums))\n",
        "print(non_special_nums_2)\n"
      ],
      "metadata": {
        "id": "UCmTZ7DIW0Mi"
      },
      "execution_count": null,
      "outputs": []
    },
    {
      "cell_type": "code",
      "source": [
        "# using the map() function with a built-in function to convert a list of strings to a list of their lengths:\n",
        "# A list of strings\n",
        "words = [\"apple\", \"banana\", \"cher ry\"]\n",
        "\n",
        "# Use map() with len() to calculate lengths\n",
        "lst=list(map(len ,words))\n",
        "print(lst)"
      ],
      "metadata": {
        "id": "JaWlkdTEYVxY"
      },
      "execution_count": null,
      "outputs": []
    },
    {
      "cell_type": "markdown",
      "source": [
        "Suppose you want to create a list of the squares of the first 10 positive integers. You could use a for loop to do this like so:"
      ],
      "metadata": {
        "id": "gqDbOeDjaKDQ"
      }
    },
    {
      "cell_type": "code",
      "source": [
        "num=[]\n",
        "for i in range(1,11):\n",
        "  num.append(i**2)\n",
        "print(num)"
      ],
      "metadata": {
        "id": "fJhOJ1c-aIsH"
      },
      "execution_count": null,
      "outputs": []
    },
    {
      "cell_type": "markdown",
      "source": [
        "Using a list comprehension, you could accomplish the same task with less code:"
      ],
      "metadata": {
        "id": "VH_qP3WDaZ2G"
      }
    },
    {
      "cell_type": "code",
      "source": [
        "nums = [lambda a = a: a+3.14 for a in range(5)]\n",
        "for num in nums:\n",
        " print(num())\n"
      ],
      "metadata": {
        "id": "98r9TZkUXJrr"
      },
      "execution_count": null,
      "outputs": []
    },
    {
      "cell_type": "code",
      "source": [
        "special_nums = [[0.577, 1.618, 2.718, 3.14], [6, 28, 37, 1729]]\n",
        "special_nums_sorted = [lambda a: (sorted(i) for i in a)]\n",
        "print(special_nums)\n"
      ],
      "metadata": {
        "id": "2Nm1uL16Y7sv"
      },
      "execution_count": null,
      "outputs": []
    },
    {
      "cell_type": "code",
      "source": [
        "num=[i**2 for i in range(1,11)]\n",
        "print(num)"
      ],
      "metadata": {
        "id": "ObM8XhN4abAd"
      },
      "execution_count": null,
      "outputs": []
    },
    {
      "cell_type": "markdown",
      "source": [
        "suppose you want to create a list of all pairs of numbers where the first number is even and the second number is odd. You could use a nested list comprehension"
      ],
      "metadata": {
        "id": "VJ5unep-Dx2z"
      }
    },
    {
      "cell_type": "code",
      "source": [
        "lst=[(i,j) for i in range(1,6) if i%2==0 for j in range(1,6) if j%2==1]\n",
        "print(lst)"
      ],
      "metadata": {
        "id": "nRSUVijZD0Ju"
      },
      "execution_count": null,
      "outputs": []
    },
    {
      "cell_type": "markdown",
      "source": [
        "Suppose you want to create a set of all the vowels in a given string. You could use a for loop to do this like so:"
      ],
      "metadata": {
        "id": "zt7xpOaqMfwZ"
      }
    },
    {
      "cell_type": "code",
      "source": [
        "string=\"hello! manisha\"\n",
        "vowels={ch for ch in string if ch in \"aeiou\"}\n",
        "print(vowels)"
      ],
      "metadata": {
        "id": "2g2ZhByaMiXF"
      },
      "execution_count": null,
      "outputs": []
    },
    {
      "cell_type": "markdown",
      "source": [
        "Suppose you want to create a set of all the unique characters that appear in two strings. You could use a nested set comprehension like so:"
      ],
      "metadata": {
        "id": "1JCLor57NoXy"
      }
    },
    {
      "cell_type": "code",
      "source": [
        "string1 = \"hello\"\n",
        "string2 = \"world\"\n",
        "unique_char={ch2 for ch1 in string1 for ch2 in string2 if ch1==ch2}\n",
        "print(unique_char)"
      ],
      "metadata": {
        "id": "pfSBbKABNGGz"
      },
      "execution_count": null,
      "outputs": []
    },
    {
      "cell_type": "code",
      "source": [
        "books = [('fiction', 20), ('history', 15), ('biography', 15), ('mystery', 9), ('science', 8), ('fiction', 15), ('history', 10)]\n",
        "# Using set comprehension to create a set of book categories with at least 10 books in stock\n",
        "categories = {category for category, stock in books if stock>=10}\n",
        "print(categories)"
      ],
      "metadata": {
        "id": "DdjN5HJKN80Q"
      },
      "execution_count": null,
      "outputs": []
    },
    {
      "cell_type": "markdown",
      "source": [
        "you have a list of names and you want to create a dictionary where the keys are the names and the values are the lengths of the names. You can use dictionary comprehension to achieve this in a single line of code:"
      ],
      "metadata": {
        "id": "0AkffDTGRrC4"
      }
    },
    {
      "cell_type": "code",
      "source": [
        "names=['manisha','nishant','subhasish','ravi','ganesh']\n",
        "name_len={name:len(name) for name in names}\n",
        "print(name_len)\n",
        "type(name_len)"
      ],
      "metadata": {
        "id": "y-p0sECIQOgA"
      },
      "execution_count": null,
      "outputs": []
    },
    {
      "cell_type": "code",
      "source": [
        "grades = {'Alice': 80, 'Bob': 55, 'Charlie': 65, 'Dave': 90}\n",
        "passing_names={name: grade for name, grade in grades.items() if grade>=60}\n",
        "print(passing_names)"
      ],
      "metadata": {
        "id": "BeUcOrCCT5zm"
      },
      "execution_count": null,
      "outputs": []
    },
    {
      "cell_type": "code",
      "source": [
        "matrix = [[1, 2, 3], [4, 5, 6], [7, 8, 9]]\n",
        "flat_list = [element for row in matrix for element in row]\n",
        "\n",
        "print(flat_list)"
      ],
      "metadata": {
        "id": "xobvdqzzUMbi"
      },
      "execution_count": null,
      "outputs": []
    },
    {
      "cell_type": "code",
      "source": [
        "# Reverse a list of strings\n",
        "list_string=['banana','none','hello']\n",
        "rev_string=[word[::-1] for word in list_string]\n",
        "print(rev_string)"
      ],
      "metadata": {
        "id": "lxNVbvbNHX5k"
      },
      "execution_count": null,
      "outputs": []
    },
    {
      "cell_type": "code",
      "source": [
        "# Given a list of numbers, create a list of strings labeling each number as \"even\" or \"odd.\"\n",
        "\n",
        "list_numbers=[1,2,3,4,6,7,8,9]\n",
        "result=['even' if n%2==0 else 'odd' for n in list_numbers]\n",
        "print(result)"
      ],
      "metadata": {
        "id": "qSM6FFwfHqvu"
      },
      "execution_count": null,
      "outputs": []
    },
    {
      "cell_type": "markdown",
      "source": [
        "## **OOPS Concept:**"
      ],
      "metadata": {
        "id": "kKy0-iDD2bMr"
      }
    },
    {
      "cell_type": "code",
      "source": [
        "class MyClass:\n",
        "  # defining class variables\n",
        "  var1='hello'\n",
        "  var2='hii'\n",
        "\n",
        "  # defining class method\n",
        "  def myMethod(self):\n",
        "    print(\"I am class method\")\n",
        "# creating object of my class\n",
        "myobject=MyClass()\n",
        "\n",
        "# Acessing variables\n",
        "print(myobject.var1)\n",
        "print(myobject.var2)\n",
        "\n",
        "# Accessing method\n",
        "myobject.myMethod()\n"
      ],
      "metadata": {
        "id": "h5vr6iIiIPhh"
      },
      "execution_count": null,
      "outputs": []
    },
    {
      "cell_type": "code",
      "source": [
        "class Person:\n",
        "  def __init__(self,name,age):\n",
        "    self.name=name\n",
        "    self.age=age\n",
        "\n",
        "person=Person(\"manisha\",23)\n",
        "print(person.name)\n",
        "print(person.age)"
      ],
      "metadata": {
        "id": "9XyJj7zK3gk0"
      },
      "execution_count": null,
      "outputs": []
    },
    {
      "cell_type": "code",
      "source": [
        "class Calculator():\n",
        "  # define the constructor\n",
        "  def __init__(self):\n",
        "    self.result=0\n",
        "  # define add method\n",
        "  def add(self,num1,num2):\n",
        "    self.result=num1+num2\n",
        "    return self.result\n",
        "  # define subtraction method\n",
        "  def subtract(self,num1,num2):\n",
        "    self.result=num1=num2\n",
        "    return self.result\n",
        "  #define multiplication method\n",
        "  def multi(self,num1,num2):\n",
        "    self.result=num1*num2\n",
        "    return self.result\n",
        "  # define division method\n",
        "  def divide(self,num1,num2):\n",
        "    if num2==0:\n",
        "      raise ValueError(\"Cannot divide by Zero.\")\n",
        "    else:\n",
        "      self.result=num1/num2\n",
        "      return self.result\n",
        "  # define a method the clear the value to 0\n",
        "  def clear(self):\n",
        "    self.result=0\n",
        "    return self.result\n",
        "\n",
        "calc=Calculator()\n",
        "# calling addition method\n",
        "addition=calc.add(23,4)\n",
        "print(addition)\n",
        "# calling subtraction method\n",
        "subtraction=calc.subtract(43,30)\n",
        "print(subtraction)\n",
        "# calling multiplication method\n",
        "multiplication=calc.multi(3,2)\n",
        "print(multiplication)\n",
        "# calling division method\n",
        "division=calc.divide(30,4)\n",
        "print(division)\n",
        "# calling clear method\n",
        "calc.clear()"
      ],
      "metadata": {
        "id": "zqAaeHdioDmw"
      },
      "execution_count": null,
      "outputs": []
    },
    {
      "cell_type": "markdown",
      "source": [
        "create a class called Pet that represents a virtual pet. The Pet class has attributes for the pet's name, age, and health level. It also has methods for feeding the pet, playing with the pet, and checking the pet's health."
      ],
      "metadata": {
        "id": "OifzQjz8rOjw"
      }
    },
    {
      "cell_type": "code",
      "source": [
        "class Pet():\n",
        "  # defining constructor\n",
        "  def __init__(self,name,age,health_level):\n",
        "    self.name=name\n",
        "    self.age=age\n",
        "    self.health_level=health_level\n",
        "  # Define a method to increase health level by 10 when feeding the pet\n",
        "  def feeding_pet(self):\n",
        "    self.health_level+=10\n",
        "    return self.health_level\n",
        "  # define a method to reduce health level by 5 when playing with the pet\n",
        "  def playing_pet(self):\n",
        "    self.health_level-=5\n",
        "    return self.health_level\n",
        "  # define a method to check the pet's health level\n",
        "  def health_check(self):\n",
        "    if self.health_level<50:\n",
        "      print(\"Your pet is not feeding well.\")\n",
        "    else:\n",
        "      print(\"your pet is healthy\")\n",
        "my_pet=Pet(\"Sunny\", 4,20)\n",
        "my_pet.feeding_pet()\n",
        "my_pet.playing_pet()\n",
        "my_pet.health_check()\n"
      ],
      "metadata": {
        "id": "m4HMrdLMqo-b"
      },
      "execution_count": null,
      "outputs": []
    },
    {
      "cell_type": "markdown",
      "source": [
        "In Python, a class method is a method that is bound to the class and not the instance of the class. This means it can operate on class-level attributes and perform actions that affect the class as a whole, rather than individual instances of the class. Class methods are defined using the `@classmethod` decorator and take a reference to the class itself as their first parameter, conventionally named `cls`.\n",
        "\n",
        "Here's a more detailed explanation with an example:\n",
        "\n",
        "```python\n",
        "class MyClass:\n",
        "    class_variable = 0  # Class-level variable\n",
        "\n",
        "    def __init__(self, instance_variable):\n",
        "        self.instance_variable = instance_variable\n",
        "\n",
        "    @classmethod\n",
        "    def increment_class_variable(cls):\n",
        "        cls.class_variable += 1\n",
        "\n",
        "    def display_variables(self):\n",
        "        print(f\"Instance variable: {self.instance_variable}\")\n",
        "        print(f\"Class variable: {self.class_variable}\")\n",
        "\n",
        "# Creating instances of the class\n",
        "obj1 = MyClass(10)\n",
        "obj2 = MyClass(20)\n",
        "\n",
        "# Calling a class method to increment the class variable\n",
        "MyClass.increment_class_variable()\n",
        "\n",
        "# Displaying the variables\n",
        "obj1.display_variables()\n",
        "obj2.display_variables()\n",
        "```\n",
        "\n",
        "In this example, we have a class `MyClass` with a class variable `class_variable` and an instance variable `instance_variable`. The `increment_class_variable` method is a class method, and it's used to modify the class variable. We call this method on the class itself (`MyClass.increment_class_variable()`), and it increments the `class_variable` for the entire class, not just for individual instances.\n",
        "\n",
        "When we create two instances `obj1` and `obj2` and then call the `display_variables` method on each instance, you'll notice that the class variable is shared among all instances. The output of this code will be:\n",
        "\n",
        "```\n",
        "Instance variable: 10\n",
        "Class variable: 1\n",
        "Instance variable: 20\n",
        "Class variable: 1\n",
        "```\n",
        "\n",
        "As you can see, the class method `increment_class_variable` modified the `class_variable`, and this change is reflected across all instances of the class. This demonstrates how class methods operate on the class itself, making them useful for tasks that involve class-wide operations and data."
      ],
      "metadata": {
        "id": "Pwxu8AQUxNsZ"
      }
    },
    {
      "cell_type": "markdown",
      "source": [
        "# Polymorphism"
      ],
      "metadata": {
        "id": "CYqkQj54ySDd"
      }
    },
    {
      "cell_type": "code",
      "source": [
        "class Animal():\n",
        "  def make_sound(self):\n",
        "    print(\"Unknown sound\")\n",
        "class Dog(Animal):\n",
        "  def make_sound(self):\n",
        "    print(\"Bark\")\n",
        "class Cat(Animal):\n",
        "  def make_sound(self):\n",
        "    print(\"Meow\")\n",
        "\n",
        "dog=Dog()\n",
        "cat=Cat()\n",
        "sheep=Animal()\n",
        "dog.make_sound()\n",
        "cat.make_sound()\n",
        "sheep.make_sound()\n"
      ],
      "metadata": {
        "id": "O_y-VrhOyZ2W"
      },
      "execution_count": null,
      "outputs": []
    },
    {
      "cell_type": "code",
      "source": [
        "class Shape():\n",
        "  # Define abstract methods to calculate area and perimeter. Will be implemented by child classes.\n",
        "  def area(self):\n",
        "    pass\n",
        "  def perimeter(self):\n",
        "    pass\n",
        "class Square(Shape):\n",
        "  # define a constructor method to define the length of the side\n",
        "  def __init__(self,side):\n",
        "    self.side=side\n",
        "  # override the area method to calculate area of square\n",
        "  def area(self):\n",
        "    self.area=self.side **2\n",
        "    return self.area\n",
        "class Rectangle(Shape):\n",
        "  # define the constructor method to define length and width of the rectangle\n",
        "  def __init__(self,length,width):\n",
        "    self.length=length\n",
        "    self.width=width\n",
        "  def area(self):\n",
        "    return self.length * self.width\n",
        "  def perimeter(self):\n",
        "    return 2*(self.length+self.width)\n",
        "class Circle(Shape):\n",
        "    # Define the constructor method to initialize the class with the radius\n",
        "    def __init__(self, radius):\n",
        "        self.radius = radius\n",
        "\n",
        "    # Override the area method to calculate the area of the circle\n",
        "    def area(self):\n",
        "        return 3.14 * self.radius ** 2\n",
        "# Creating Objects of Shape Classes\n",
        "square = Square(5)\n",
        "rectangle = Rectangle(3, 4)\n",
        "circle = Circle(2)\n",
        "\n",
        "# Calculating Area and Perimeter of Shapes\n",
        "print(\"Area of Square:\", square.area())\n",
        "\n",
        "print(\"Area of Rectangle:\", rectangle.area())\n",
        "\n",
        "print(\"Area of Circle:\", circle.area())"
      ],
      "metadata": {
        "id": "uhngD5ux6G8D"
      },
      "execution_count": null,
      "outputs": []
    },
    {
      "cell_type": "markdown",
      "source": [
        "Bank Account Management System 💻🏦"
      ],
      "metadata": {
        "id": "o0lhB0PoFeLL"
      }
    },
    {
      "cell_type": "code",
      "source": [
        "# Define a BankAccount class\n",
        "class BankAccount:\n",
        "\n",
        "    # Constructor to initialize account details\n",
        "    def __init__(self, name, account_number, balance):\n",
        "        self.name = name\n",
        "        self.account_number = account_number\n",
        "        self.balance = balance\n",
        "\n",
        "    # Method to deposit funds into the account\n",
        "    def deposit(self, amount):\n",
        "        self.balance += amount\n",
        "        print(\"Deposit successful. Your new balance is:\", self.balance)\n",
        "\n",
        "    # Method to withdraw funds from the account\n",
        "    def withdraw(self, amount):\n",
        "        if amount <= self.balance:\n",
        "            self.balance -= amount\n",
        "            print(\"Withdrawal successful. Your new balance is:\", self.balance)\n",
        "        else:\n",
        "            print(\"Insufficient balance. Your current balance is:\", self.balance)\n",
        "\n",
        "    # Method to view account details\n",
        "    def account_details(self):\n",
        "        print(\"Name:\", self.name)\n",
        "        print(\"Account Number:\", self.account_number)\n",
        "        print(\"Balance:\", self.balance)\n",
        "\n",
        "\n",
        "# Test Case\n",
        "\n",
        "# Create a new bank account\n",
        "account1 = BankAccount(\"John Doe\", \"1234567890\", 1000)\n",
        "\n",
        "# Test deposit method\n",
        "account1.deposit(500)\n",
        "\n",
        "# Test withdraw method\n",
        "account1.withdraw(2000)\n",
        "\n",
        "# Test account details method\n",
        "account1.account_details()"
      ],
      "metadata": {
        "id": "mwoyX0TGxSeD"
      },
      "execution_count": null,
      "outputs": []
    },
    {
      "cell_type": "markdown",
      "source": [
        "Inheritance"
      ],
      "metadata": {
        "id": "1ettQlZkGtyl"
      }
    },
    {
      "cell_type": "code",
      "source": [
        "class Vehicle():\n",
        "  def __init__(self,make,model,year):\n",
        "    self.make=make\n",
        "    self.model=model\n",
        "    self.year=year\n",
        "  def start_engine(self):\n",
        "    print(\"Starting engine....\")\n",
        "class Car(Vehicle):\n",
        "  def __init__(self,make,model,year,no_doors):\n",
        "    super().__init__(make,model,year)\n",
        "    self.no_doors=no_doors\n",
        "  def drive(self):\n",
        "    print(\"Driving car....\")\n",
        "vehicle = Vehicle(\"Toyota\", \"Corolla\", 2022)\n",
        "car = Car(\"Tesla\", \"Model S\", 2021, 4)\n",
        "vehicle.start_engine()\n",
        "car.start_engine()\n",
        "car.drive()"
      ],
      "metadata": {
        "id": "9vWzDaJfGwTe"
      },
      "execution_count": null,
      "outputs": []
    },
    {
      "cell_type": "code",
      "source": [
        "class Rectangle:\n",
        "    def __init__(self, width, height):\n",
        "        self.width = width\n",
        "        self.height = height\n",
        "\n",
        "    def area(self):\n",
        "        return self.width * self.height\n",
        "\n",
        "class Square(Rectangle):\n",
        "    def __init__(self, side):\n",
        "        self.side = side\n",
        "        super().__init__(side, side)\n",
        "\n",
        "rectangle = Rectangle(5, 3)\n",
        "square = Square(4)\n",
        "print(rectangle.area())\n",
        "print(square.area())"
      ],
      "metadata": {
        "id": "838Tdj5zIHPl"
      },
      "execution_count": null,
      "outputs": []
    },
    {
      "cell_type": "code",
      "source": [
        "#  What is the potential problem with the following code snippet that demonstrates inheritance and polymorphism in Python?\n",
        "\n",
        "class Shape:\n",
        "    def area(self):\n",
        "        pass\n",
        "\n",
        "class Circle(Shape):\n",
        "    def __init__(self, radius):\n",
        "        self.radius = radius\n",
        "\n",
        "    def area(self):\n",
        "        return 3.14 * self.radius * self.radius\n",
        "\n",
        "class Square(Shape):\n",
        "    def __init__(self, side):\n",
        "        self.side = side\n",
        "\n",
        "    def area(self):\n",
        "        return self.side * self.side\n",
        "\n",
        "def print_area(shape):\n",
        "    print(\"Area:\", shape.area())\n",
        "\n",
        "circle = Circle(5)\n",
        "square = Square(4)\n",
        "print_area(circle)\n",
        "print_area(square)\n",
        "# A) The Shape class should be marked as an abstract class using the @abstractmethod decorator.\n",
        "\n",
        "# B) The Shape class should have an implementation of the area method to prevent an AttributeError.\n",
        "\n",
        "# C) The print_area function should only accept objects of the Circle class."
      ],
      "metadata": {
        "id": "EqErbTBYIIB7"
      },
      "execution_count": null,
      "outputs": []
    },
    {
      "cell_type": "code",
      "source": [
        "# Write your code here\n",
        "def median(num1,num2,num3):\n",
        "    list=[num1,num2,num3]\n",
        "    s_list=sorted(list)\n",
        "    return s_list[1]\n",
        "\n",
        "x = int(input())\n",
        "y = int(input())\n",
        "z = int(input())\n",
        "\n",
        "median_num=median(x,y,z)\n",
        "print(median_num)\n"
      ],
      "metadata": {
        "id": "pzQ3fC3V6maM"
      },
      "execution_count": null,
      "outputs": []
    },
    {
      "cell_type": "code",
      "source": [
        "def count_notes(amount):\n",
        "    notes = [500, 200, 100, 50, 20, 10]\n",
        "    note_count = {}  # Dictionary to store the count of each note\n",
        "    total_notes = 0  # Variable to store the total number of notes used\n",
        "\n",
        "    for note in notes:\n",
        "        # Calculate how many times the current note can fit into the remaining amount\n",
        "        note_count[note], amount = divmod(amount, note)\n",
        "\n",
        "        # Add the count of the current note to the total count\n",
        "        total_notes += note_count[note]\n",
        "\n",
        "    return note_count, total_notes\n",
        "\n",
        "amount = int(input(\"Enter the amount: \"))  # Input the amount\n",
        "note_count, total_notes = count_notes(amount)  # Call the function to count the notes\n",
        "\n",
        "print(\"Notes count for\", amount, \"is:\")\n",
        "for note, count in note_count.items():\n",
        "    if count > 0:\n",
        "        print(f\"{note} Note: {count}\")\n",
        "\n",
        "print(\"Total number of notes:\", total_notes)  # Display the total number of notes\n"
      ],
      "metadata": {
        "id": "PVbSZlrFIKHE"
      },
      "execution_count": null,
      "outputs": []
    },
    {
      "cell_type": "code",
      "source": [
        "def count_notes(amount):\n",
        "  notes=[500,200,100,50,20,10]\n",
        "  note_count={}\n",
        "  tot_notes=0\n",
        "  for note in notes:\n",
        "    note_count[note], amount=divmod(amount,note)\n",
        "    tot_notes+=note_count[note]\n",
        "  return tot_notes\n",
        "\n",
        "amount=int(input(\"Enter a amount:\"))\n",
        "total_notes=count_notes(amount)\n",
        "print(total_notes)"
      ],
      "metadata": {
        "id": "LItgog3gJARQ"
      },
      "execution_count": null,
      "outputs": []
    },
    {
      "cell_type": "code",
      "source": [
        "name = \"John\"\n",
        "age = 25\n",
        "result = \"My name is \" + name + \" and I am \" + age + \" years old.\"\n",
        "print(result)"
      ],
      "metadata": {
        "id": "y05xBrCiPcho"
      },
      "execution_count": null,
      "outputs": []
    },
    {
      "cell_type": "code",
      "source": [
        "# 1. Intentional error code\n",
        "# Intentional error code\n",
        "# Spot two errors in this code\n",
        "def calculate_average(numbers)\n",
        "    total = 0\n",
        "    for number in numbers:\n",
        "        total += number\n",
        "    avg = total / len(numbers\n",
        "    print(\"The average is: \", avg)\n",
        "\n",
        "calculate_average([2, 4, 6, 8])\n",
        "\n",
        "\n",
        "# List out the types of errors you can see here.\n",
        "# syntax error(missing colon)\n",
        "# synatx error(missing closing parenthesis)"
      ],
      "metadata": {
        "id": "pGwtYvoTP8Ji"
      },
      "execution_count": null,
      "outputs": []
    },
    {
      "cell_type": "code",
      "source": [
        "# 2. Intentional error code\n",
        "# Spot one error in this code\n",
        "def find_max(numbers):\n",
        "    max_num = 0\n",
        "    for num in numbers:\n",
        "        if num > max_num\n",
        "            max_num = num\n",
        "    return max_num\n",
        "\n",
        "print(find_max([3, 9, 1, 7, 4]))\n",
        "\n",
        "\n",
        "# List out the types of errors you can see in this cell:\n",
        "# syntax error(missing colon in if statement)"
      ],
      "metadata": {
        "id": "XzcOVXaTQft3"
      },
      "execution_count": null,
      "outputs": []
    },
    {
      "cell_type": "code",
      "source": [
        "# Intentional error code\n",
        "# Spot two errors in this code\n",
        "def calculate_sum(numbers):\n",
        "    sum = 0\n",
        "    for num in numbers\n",
        "        sum += numbers\n",
        "    print(\"The sum is: \" sum)\n",
        "\n",
        "calculate_sum([1, 2, 3, 4, 5])\n",
        "# syntax error(missing colon)\n",
        "# syntax error(forget separator)\n",
        "# type error(unsupported operand type 'int' and 'list')"
      ],
      "metadata": {
        "id": "h16PYBptQxCK"
      },
      "execution_count": null,
      "outputs": []
    },
    {
      "cell_type": "code",
      "source": [
        "try:\n",
        "  x=10\n",
        "  y=0\n",
        "  z=x/y\n",
        "except ZeroDivisionError:\n",
        "  print(\"Cannot be divided by zero\")"
      ],
      "metadata": {
        "id": "vL4uXTwqSNKi"
      },
      "execution_count": null,
      "outputs": []
    },
    {
      "cell_type": "code",
      "source": [
        "age = int(input())\n",
        "\n",
        "if age < 0:\n",
        "    raise ValueError(\"Age cannot be negative\")"
      ],
      "metadata": {
        "id": "V6sV8qs2TE4Z"
      },
      "execution_count": null,
      "outputs": []
    },
    {
      "cell_type": "code",
      "source": [
        "try:\n",
        "    num = int(input(\"Enter a number: \"))\n",
        "    result = 10 / num\n",
        "    print(\"The result is:\", result)\n",
        "except ZeroDivisionError:\n",
        "    print(\"Error: Cannot divide by zero\")\n",
        "finally:\n",
        "    print(\"Thank you for using the program!\")"
      ],
      "metadata": {
        "id": "hffUpY3pVSHa"
      },
      "execution_count": null,
      "outputs": []
    },
    {
      "cell_type": "code",
      "source": [
        "try:\n",
        "  x=int(input(\"Enter 1st number\"))\n",
        "  y=int(input(\"Enter 2nd number\"))\n",
        "  print(x/y)\n",
        "except ZeroDivisionError:\n",
        "  print(\"Cannot divide by zero\")\n",
        "except ValueError:\n",
        "  print(\"You should enter numbers\")\n",
        "except Exception as e:\n",
        "  print(\"An error occured \".e)\n",
        "finally:\n",
        "  print(\"You nailed it.\")\n"
      ],
      "metadata": {
        "id": "6POdGBBj-mFJ"
      },
      "execution_count": null,
      "outputs": []
    },
    {
      "cell_type": "markdown",
      "source": [
        "Write a program that prompts the user to enter a temperature value in Fahrenheit. The program will then convert the temperature to Celsius and display the result. If the user enters a non-numeric value, the program will display an error message."
      ],
      "metadata": {
        "id": "aJjsyL8S_7H7"
      }
    },
    {
      "cell_type": "code",
      "source": [
        "class Temp():\n",
        "\n",
        "  def celsius(self):\n",
        "      try:\n",
        "          fahrenheit = float(input(\"Enter temperature in Fahrenheit: \"))\n",
        "          celsius = (fahrenheit - 32) * 5/9\n",
        "          print(\"The temperature in Celsius is\", round(celsius, 2))\n",
        "      except ValueError:\n",
        "        print(\"Invalid input. Please enter a numeric value.\")\n",
        "t=Temp()\n",
        "t.celsius()"
      ],
      "metadata": {
        "id": "l0a1Nvet_6RY"
      },
      "execution_count": null,
      "outputs": []
    },
    {
      "cell_type": "code",
      "source": [
        "class DJ():\n",
        "  def __init__(self,playlist):\n",
        "    self.playlist=playlist\n",
        "    print(self.playlist)\n",
        "  def play(self):\n",
        "    while True:\n",
        "      song_request = input(\"Enter your song request (or type 'q' to quit): \")\n",
        "\n",
        "      if song_request == \"q\" or song_request == 'Q':\n",
        "        print(\"Exiting the program.\")\n",
        "        break\n",
        "\n",
        "      try:\n",
        "        if song_request in self.playlist:\n",
        "          print(f\"Thanks for requesting \\\"{song_request}\\\". It's in my playlist!\")\n",
        "        else:\n",
        "          print(f\"Sorry, \\\"{song_request}\\\" is not in my playlist.\")\n",
        "      except Exception as e:\n",
        "          print(\"An error occurred:\", e)\n",
        "playlist = [\"Wild Thoughts\", \"All I Do Is Win\", \"No Brainer\", \"I'm the One\"]\n",
        "playlist= [song.lower() for song in playlist]\n",
        "d=DJ(playlist)\n",
        "d.play()\n",
        "\n"
      ],
      "metadata": {
        "id": "QDMi36RxAuL9"
      },
      "execution_count": null,
      "outputs": []
    },
    {
      "cell_type": "code",
      "source": [
        "def validate_order(item, options):\n",
        "    while True:\n",
        "        user_input = input(f\"{item} ({', '.join(options)})? \").lower()\n",
        "        if user_input in options:\n",
        "            return user_input\n",
        "        else:\n",
        "            print(\"Invalid input. Please try again.\")\n",
        "\n",
        "\n",
        "def calculate_total_cost(taco, sides, drink, size):\n",
        "    # Define the prices for each item\n",
        "    taco_prices = {\"chicken\": 5.50, \"vegetable\": 4.50}\n",
        "    sides_prices = {\"chips\": 2.00, \"salsa\": 1.50, \"guacamole\": 3.00}\n",
        "    drink_prices = {\"coke\": 1.50, \"pepsi\": 1.50, \"sprite\": 1.50}\n",
        "    size_prices = {\"small\": 0.00, \"medium\": 1.00, \"large\": 2.00}\n",
        "\n",
        "    try:\n",
        "        # Calculate the total cost\n",
        "        total_cost = taco_prices[taco] + sum(sides_prices[side] for side in sides) + drink_prices[drink] + size_prices[size]\n",
        "        return total_cost\n",
        "    except KeyError as e:\n",
        "        print(f\"Error: {e}\")\n",
        "        return None\n",
        "\n",
        "\n",
        "print(\"Welcome to the Mexican Restaurant!\")\n",
        "print(\"Please enter your order.\")\n",
        "\n",
        "# Get the customer's order for taco\n",
        "taco_options = [\"chicken\", \"vegetable\"]\n",
        "taco = validate_order(\"Taco \", taco_options)\n",
        "\n",
        "# Get the customer's order for sides\n",
        "sides_options = [\"chips\", \"salsa\", \"guacamole\"]\n",
        "sides = validate_order(\"Sides \", sides_options).split(\", \")\n",
        "\n",
        "# Get the customer's order for drink\n",
        "drink_options = [\"coke\", \"pepsi\", \"sprite\"]\n",
        "drink = validate_order(\"Drink \", drink_options)\n",
        "\n",
        "# Get the customer's order for size\n",
        "size_options = [\"small\", \"medium\", \"large\"]\n",
        "size = validate_order(\"Size \", size_options)\n",
        "\n",
        "# Check if all inputs are valid and display the customer's order and total cost\n",
        "if all([taco, sides, drink, size]):\n",
        "    print(\"\\nYour order:\")\n",
        "    print(f\"- Taco: {taco}\")\n",
        "    print(f\"- Sides: {', '.join(sides)}\")\n",
        "    print(f\"- Drink: {drink}\")\n",
        "    print(f\"- Size: {size}\\n\")\n",
        "    total_cost = calculate_total_cost(taco, sides, drink, size)\n",
        "    if total_cost is not None:\n",
        "        print(f\"Total cost: ${total_cost:.2f}\")\n",
        "else:\n",
        "    print(\"Invalid input. Please try again.\")\n"
      ],
      "metadata": {
        "id": "LJ94xN_gFVzG"
      },
      "execution_count": null,
      "outputs": []
    },
    {
      "cell_type": "code",
      "source": [
        "class Person:\n",
        "    def __init__(self, name, age):\n",
        "        self._name = name\n",
        "        self._age = age\n",
        "\n",
        "    def _get_age(self):\n",
        "        return self._age\n",
        "\n",
        "    def get_age(self):\n",
        "        return self._get_age()"
      ],
      "metadata": {
        "id": "mRPwHSz3Qvx3"
      },
      "execution_count": null,
      "outputs": []
    },
    {
      "cell_type": "markdown",
      "source": [
        "Here, the _name and _age attributes are considered private and the _get_age() method is private as well.we would provide public methods for interacting with these private variables and methods.Here, get_age is a public method."
      ],
      "metadata": {
        "id": "hT3wiHR2Q1Hw"
      }
    },
    {
      "cell_type": "code",
      "source": [
        "from abc import ABC, abstractmethod\n",
        "\n",
        "class Shape(ABC):\n",
        "    @abstractmethod\n",
        "    def area(self):\n",
        "        pass\n",
        "    @abstractmethod\n",
        "    def perimeter(self):\n",
        "        pass\n",
        "\n",
        "class Rectangle(Shape):\n",
        "    def __init__(self, width, height):\n",
        "        self.width = width\n",
        "        self.height = height\n",
        "    def area(self):\n",
        "        return self.width * self.height\n",
        "    def perimeter(self):\n",
        "        return 2 * (self.width + self.height)"
      ],
      "metadata": {
        "id": "w-LDpGOYR3S_"
      },
      "execution_count": null,
      "outputs": []
    },
    {
      "cell_type": "markdown",
      "source": [
        "The Shape class is an abstract class, which has two abstract methods, area and perimeter. The subclass Rectangle implements these methods before an instance of the class can be created."
      ],
      "metadata": {
        "id": "d07H3-CWSDyK"
      }
    },
    {
      "cell_type": "code",
      "source": [
        "def generate_pascals_triangle(n):\n",
        "    if n <= 0:\n",
        "        return\n",
        "\n",
        "    # Initialize the first row with 1\n",
        "    triangle = [[1]]\n",
        "\n",
        "    for i in range(1, n):\n",
        "        # Create a new row with the first element set to 1\n",
        "        row = [1]\n",
        "\n",
        "        # Calculate the middle elements based on the previous row\n",
        "        for j in range(1, i):\n",
        "            element = triangle[i - 1][j - 1] + triangle[i - 1][j]\n",
        "            row.append(element)\n",
        "\n",
        "        # Set the last element of the row to 1\n",
        "        row.append(1)\n",
        "\n",
        "        # Add the new row to the triangle\n",
        "        triangle.append(row)\n",
        "\n",
        "    # Print the triangle\n",
        "    for row in triangle:\n",
        "        print(\" \".join(map(str, row)).center(n * 4))\n",
        "\n",
        "# Input the number of rows you want to print\n",
        "n = int(input(\"Enter the number of rows for Pascal's triangle: \"))\n",
        "\n",
        "generate_pascals_triangle(n)\n"
      ],
      "metadata": {
        "colab": {
          "base_uri": "https://localhost:8080/"
        },
        "id": "ouRir5xYahNh",
        "outputId": "23f36012-5b47-42f5-e891-b55fa28035d2"
      },
      "execution_count": null,
      "outputs": [
        {
          "output_type": "stream",
          "name": "stdout",
          "text": [
            "Enter the number of rows for Pascal's triangle: 20\n",
            "                                       1                                        \n",
            "                                      1 1                                       \n",
            "                                     1 2 1                                      \n",
            "                                    1 3 3 1                                     \n",
            "                                   1 4 6 4 1                                    \n",
            "                                 1 5 10 10 5 1                                  \n",
            "                                1 6 15 20 15 6 1                                \n",
            "                              1 7 21 35 35 21 7 1                               \n",
            "                             1 8 28 56 70 56 28 8 1                             \n",
            "                          1 9 36 84 126 126 84 36 9 1                           \n",
            "                      1 10 45 120 210 252 210 120 45 10 1                       \n",
            "                    1 11 55 165 330 462 462 330 165 55 11 1                     \n",
            "                  1 12 66 220 495 792 924 792 495 220 66 12 1                   \n",
            "              1 13 78 286 715 1287 1716 1716 1287 715 286 78 13 1               \n",
            "           1 14 91 364 1001 2002 3003 3432 3003 2002 1001 364 91 14 1           \n",
            "       1 15 105 455 1365 3003 5005 6435 6435 5005 3003 1365 455 105 15 1        \n",
            "   1 16 120 560 1820 4368 8008 11440 12870 11440 8008 4368 1820 560 120 16 1    \n",
            "1 17 136 680 2380 6188 12376 19448 24310 24310 19448 12376 6188 2380 680 136 17 1\n",
            "1 18 153 816 3060 8568 18564 31824 43758 48620 43758 31824 18564 8568 3060 816 153 18 1\n",
            "1 19 171 969 3876 11628 27132 50388 75582 92378 92378 75582 50388 27132 11628 3876 969 171 19 1\n"
          ]
        }
      ]
    },
    {
      "cell_type": "code",
      "source": [
        "def generate_pascals_triangle(n):\n",
        "    if n <= 0:\n",
        "        return\n",
        "\n",
        "    # Initialize the triangle as a list of lists with the first row\n",
        "    triangle = [[1]]\n",
        "\n",
        "    for i in range(1, n):\n",
        "        row = [1]\n",
        "        for j in range(1, i):\n",
        "            element = triangle[i - 1][j - 1] + triangle[i - 1][j]\n",
        "            row.append(element)\n",
        "        row.append(1)\n",
        "        triangle.append(row)\n",
        "\n",
        "    # Print the triangle in the specified format\n",
        "    for row in triangle:\n",
        "        print(row)\n",
        "\n",
        "# Input the number of rows you want to print\n",
        "n = int(input(\"Enter the number of rows for Pascal's triangle: \"))\n",
        "\n",
        "generate_pascals_triangle(n)\n"
      ],
      "metadata": {
        "colab": {
          "base_uri": "https://localhost:8080/"
        },
        "id": "CmphKzJ4wrhm",
        "outputId": "a3a0b3f8-e682-4748-db70-cb9f4c3b3ab0"
      },
      "execution_count": null,
      "outputs": [
        {
          "output_type": "stream",
          "name": "stdout",
          "text": [
            "Enter the number of rows for Pascal's triangle: 7\n",
            "[1]\n",
            "[1, 1]\n",
            "[1, 2, 1]\n",
            "[1, 3, 3, 1]\n",
            "[1, 4, 6, 4, 1]\n",
            "[1, 5, 10, 10, 5, 1]\n",
            "[1, 6, 15, 20, 15, 6, 1]\n"
          ]
        }
      ]
    },
    {
      "cell_type": "markdown",
      "source": [],
      "metadata": {
        "id": "xVZ13TaYziu5"
      }
    },
    {
      "cell_type": "code",
      "source": [
        "def sort_hyphen(names):\n",
        "  lst=list(names.split(\"-\"))\n",
        "  # sorted_list=sorted(lst)\n",
        "  # print(sorted_list)\n",
        "  result='-'.join(sorted(lst))\n",
        "  print(result)\n",
        "\n",
        "# names=eval(input())\n",
        "names=\"green-red-black-white\"\n",
        "sort_hyphen(names)"
      ],
      "metadata": {
        "colab": {
          "base_uri": "https://localhost:8080/"
        },
        "id": "woBMp01fzjDw",
        "outputId": "7820ee51-c343-4195-9e99-fa517fb866e3"
      },
      "execution_count": null,
      "outputs": [
        {
          "output_type": "stream",
          "name": "stdout",
          "text": [
            "black-green-red-white\n"
          ]
        }
      ]
    },
    {
      "cell_type": "code",
      "source": [
        "# Define the CustomDivisionError exception class\n",
        "class CustomDivisionError(Exception):\n",
        "    def __init__(self, message):\n",
        "        self.message = message\n",
        "        super().__init__(self.message)\n",
        "\n",
        "def custom_divide(numerator, denominator):\n",
        "    if numerator >= 0 and denominator > 0:\n",
        "        # Perform floor division and return the result\n",
        "        result = numerator // denominator\n",
        "        return result\n",
        "    else:\n",
        "        # Raise CustomDivisionError with appropriate message\n",
        "        raise CustomDivisionError(\"Invalid operation: Division not allowed with negative numbers or zero.\")\n",
        "numerator=int(input(\"Enter Numerator:\"))\n",
        "denominator=int(input(\"Enter Denominator:\"))\n",
        "print(custom_divide(numerator, denominator))"
      ],
      "metadata": {
        "colab": {
          "base_uri": "https://localhost:8080/"
        },
        "id": "MTwWTR9Nflgl",
        "outputId": "ad3030f1-a400-48aa-9e29-0bd67a7ca527"
      },
      "execution_count": null,
      "outputs": [
        {
          "output_type": "stream",
          "name": "stdout",
          "text": [
            "Enter Numerator:4\n",
            "Enter Denominator:2\n",
            "2\n"
          ]
        }
      ]
    },
    {
      "cell_type": "code",
      "source": [
        "numbers=[1,2,3,4,6]\n",
        "for num in numbers:\n",
        "  print(num)"
      ],
      "metadata": {
        "colab": {
          "base_uri": "https://localhost:8080/"
        },
        "id": "XEcnrJlTjAtq",
        "outputId": "9a4edc58-dd25-4fb1-e4e0-a4c6a245b575"
      },
      "execution_count": null,
      "outputs": [
        {
          "output_type": "stream",
          "name": "stdout",
          "text": [
            "1\n",
            "2\n",
            "3\n",
            "4\n",
            "6\n"
          ]
        }
      ]
    },
    {
      "cell_type": "code",
      "source": [
        "def calculate_area(base, height)\n",
        "\tarea = 0.5 * base * height\n",
        "\treturn area\n",
        "\n",
        "print(calculate_area(5, 8))"
      ],
      "metadata": {
        "colab": {
          "base_uri": "https://localhost:8080/",
          "height": 140
        },
        "id": "SSaWjqfEqFMR",
        "outputId": "a3f642d9-8b44-410d-c72a-e813b812cd9f"
      },
      "execution_count": null,
      "outputs": [
        {
          "output_type": "error",
          "ename": "SyntaxError",
          "evalue": "ignored",
          "traceback": [
            "\u001b[0;36m  File \u001b[0;32m\"<ipython-input-12-ab10c36b1a43>\"\u001b[0;36m, line \u001b[0;32m1\u001b[0m\n\u001b[0;31m    def calculate_area(base, height)\u001b[0m\n\u001b[0m                                    ^\u001b[0m\n\u001b[0;31mSyntaxError\u001b[0m\u001b[0;31m:\u001b[0m expected ':'\n"
          ]
        }
      ]
    },
    {
      "cell_type": "markdown",
      "source": [
        "write a python program to print factorial of a given number"
      ],
      "metadata": {
        "id": "WBt4Qv_9qdX1"
      }
    },
    {
      "cell_type": "code",
      "source": [
        "def factorial(n):\n",
        "    result = 1\n",
        "    for i in range(1, n+1):\n",
        "        result *= i\n",
        "    return result\n",
        "print(factorial(5))"
      ],
      "metadata": {
        "colab": {
          "base_uri": "https://localhost:8080/"
        },
        "id": "ySiwX6ZiqxrP",
        "outputId": "d696628b-ed54-4ab0-e1dc-4439f75a8334"
      },
      "execution_count": null,
      "outputs": [
        {
          "output_type": "stream",
          "name": "stdout",
          "text": [
            "120\n"
          ]
        }
      ]
    },
    {
      "cell_type": "markdown",
      "source": [
        "give me some examples of use of random library for various scenario"
      ],
      "metadata": {
        "id": "AZbc8FAbqUvD"
      }
    },
    {
      "cell_type": "code",
      "source": [
        "# Certainly! Here are examples of how to use the `random` library for various scenarios:\n",
        "\n",
        "# 1. **Generating Random Numbers**:\n",
        "#    - Generating a random integer between 1 and 10:\n",
        "    #  ```python\n",
        "import random\n",
        "random_number = random.randint(1, 10)\n",
        "print(\"Random Number:\", random_number)\n",
        "\n",
        "\n",
        "# 2. **Random Sampling**:\n",
        "#    - Randomly selecting two elements from a list:\n",
        "#      ```python\n",
        "\n",
        "my_list = [1, 2, 3, 4, 5]\n",
        "random_sample = random.sample(my_list, 2)\n",
        "print(\"Random Sample:\", random_sample)\n",
        "\n",
        "\n",
        "# 3. **Shuffling**:\n",
        "#    - Shuffling a list of cards:\n",
        "#      ```python\n",
        "# import random\n",
        "deck = ['A', '2', '3', '4', '5', '6', '7', '8', '9', '10', 'J', 'Q', 'K']\n",
        "random.shuffle(deck)\n",
        "print(\"Shuffled Deck:\", deck)\n",
        "\n",
        "\n",
        "# 4. **Simulating Random Events**:\n",
        "#    - Simulating a coin flip (heads or tails):\n",
        "#      ```python\n",
        "    #  import random\n",
        "outcomes = [\"Heads\", \"Tails\"]\n",
        "result = random.choice(outcomes)\n",
        "print(\"Coin Flip Result:\", result)\n",
        "\n",
        "\n",
        "# 5. **Random Password Generation**:\n",
        "#    - Generating a random 8-character password:\n",
        "#      ```python\n",
        "    #  import random\n",
        "import string\n",
        "characters = string.ascii_letters + string.digits + string.punctuation\n",
        "password = ''.join(random.choice(characters) for _ in range(8))\n",
        "print(\"Random Password:\", password)\n",
        "\n",
        "\n",
        "# 6. **Monte Carlo Simulations**:\n",
        "#    - Estimating the value of π using a Monte Carlo simulation:\n",
        "#      ```python\n",
        "    #  import random\n",
        "num_points = 1000000\n",
        "points_inside_circle = 0\n",
        "\n",
        "for _ in range(num_points):\n",
        "  x = random.uniform(0, 1)\n",
        "  y = random.uniform(0, 1)\n",
        "  distance = x**2 + y**2\n",
        "  if distance <= 1:\n",
        "    points_inside_circle += 1\n",
        "estimated_pi = 4 * (points_inside_circle / num_points)\n",
        "print(\"Estimated π:\", estimated_pi)\n",
        "\n",
        "\n",
        "# These examples showcase different uses of the `random` library for generating random values, sampling, shuffling, simulating events,\n",
        "# generating passwords, and performing Monte Carlo simulations.\n",
        "# You can adapt and extend these examples for your specific use cases involving randomness."
      ],
      "metadata": {
        "colab": {
          "base_uri": "https://localhost:8080/"
        },
        "id": "0318hikdsiMG",
        "outputId": "1ff7b976-585c-4267-8b14-5daf0189d3f2"
      },
      "execution_count": null,
      "outputs": [
        {
          "output_type": "stream",
          "name": "stdout",
          "text": [
            "Random Number: 3\n",
            "Random Sample: [3, 2]\n",
            "Shuffled Deck: ['2', 'Q', '9', '5', 'A', 'K', '3', '6', '4', '10', '7', '8', 'J']\n",
            "Coin Flip Result: Tails\n",
            "Random Password: QY`BPw>M\n",
            "Estimated π: 3.141292\n"
          ]
        }
      ]
    },
    {
      "cell_type": "markdown",
      "source": [
        "**Complex Debugging Challenge** 🐞🔧\n",
        "Imagine you are developing a Python program to simulate a simple game called \"Word Guess.\"\n",
        "\n",
        "In this game, the computer randomly selects a word from a list, and the player has to guess the letters in that word.\n",
        "\n",
        "The player is allowed a certain number of attempts to guess the word correctly.\n",
        "\n",
        "Your task is to complete the implementation of the game, but you encounter several bugs and logical errors in the code.\n",
        "\n",
        "Here's the initial version of the code:\n"
      ],
      "metadata": {
        "id": "aRklLBSfy-3C"
      }
    },
    {
      "cell_type": "code",
      "source": [
        "\n",
        "import random\n",
        "\n",
        "def word_guess_game():\n",
        "    words = [\"python\", \"programming\", \"challenge\", \"debugging\", \"coding\"]\n",
        "    attempts = 3\n",
        "    selected_word = random.choice(words)\n",
        "    guessed_word = \"_\" * len(selected_word)\n",
        "\n",
        "    print(\"Welcome to Word Guess!\")\n",
        "    print(f\"Guess the word: {guessed_word}\")\n",
        "\n",
        "    while attempts > 0:\n",
        "        guess = input(\"Enter a letter: \")\n",
        "\n",
        "        if len(guess) != 1:\n",
        "            print(\"Please enter a single letter.\")\n",
        "            continue\n",
        "\n",
        "        if guess in guessed_word:\n",
        "            print(\"You've already guessed that letter!\")\n",
        "            continue\n",
        "\n",
        "        if guess in selected_word:\n",
        "            for index, letter in enumerate(selected_word):\n",
        "                if letter == guess:\n",
        "                    guessed_word[index] = guess\n",
        "        else:\n",
        "            attempts -= 1\n",
        "            print(f\"Incorrect! You have {attempts} attempts left.\")\n",
        "\n",
        "        if guessed_word == selected_word:\n",
        "            print(f\"Congratulations! You guessed the word: {selected_word}\")\n",
        "            break\n",
        "\n",
        "    else:\n",
        "        print(f\"Game over! The word was: {selected_word}\")\n",
        "\n",
        "word_guess_game()\n"
      ],
      "metadata": {
        "colab": {
          "base_uri": "https://localhost:8080/",
          "height": 453
        },
        "id": "ddG5yYXgzAUq",
        "outputId": "3773aa2c-d382-48f3-9152-e8bcf558fee0"
      },
      "execution_count": null,
      "outputs": [
        {
          "name": "stdout",
          "output_type": "stream",
          "text": [
            "Welcome to Word Guess!\n",
            "Guess the word: ______\n",
            "Enter a letter: python\n",
            "Please enter a single letter.\n",
            "Enter a letter: p\n",
            "Incorrect! You have 2 attempts left.\n",
            "Enter a letter: c\n"
          ]
        },
        {
          "output_type": "error",
          "ename": "TypeError",
          "evalue": "ignored",
          "traceback": [
            "\u001b[0;31m---------------------------------------------------------------------------\u001b[0m",
            "\u001b[0;31mTypeError\u001b[0m                                 Traceback (most recent call last)",
            "\u001b[0;32m<ipython-input-19-67873b9e7a48>\u001b[0m in \u001b[0;36m<cell line: 38>\u001b[0;34m()\u001b[0m\n\u001b[1;32m     36\u001b[0m         \u001b[0mprint\u001b[0m\u001b[0;34m(\u001b[0m\u001b[0;34mf\"Game over! The word was: {selected_word}\"\u001b[0m\u001b[0;34m)\u001b[0m\u001b[0;34m\u001b[0m\u001b[0;34m\u001b[0m\u001b[0m\n\u001b[1;32m     37\u001b[0m \u001b[0;34m\u001b[0m\u001b[0m\n\u001b[0;32m---> 38\u001b[0;31m \u001b[0mword_guess_game\u001b[0m\u001b[0;34m(\u001b[0m\u001b[0;34m)\u001b[0m\u001b[0;34m\u001b[0m\u001b[0;34m\u001b[0m\u001b[0m\n\u001b[0m",
            "\u001b[0;32m<ipython-input-19-67873b9e7a48>\u001b[0m in \u001b[0;36mword_guess_game\u001b[0;34m()\u001b[0m\n\u001b[1;32m     24\u001b[0m             \u001b[0;32mfor\u001b[0m \u001b[0mindex\u001b[0m\u001b[0;34m,\u001b[0m \u001b[0mletter\u001b[0m \u001b[0;32min\u001b[0m \u001b[0menumerate\u001b[0m\u001b[0;34m(\u001b[0m\u001b[0mselected_word\u001b[0m\u001b[0;34m)\u001b[0m\u001b[0;34m:\u001b[0m\u001b[0;34m\u001b[0m\u001b[0;34m\u001b[0m\u001b[0m\n\u001b[1;32m     25\u001b[0m                 \u001b[0;32mif\u001b[0m \u001b[0mletter\u001b[0m \u001b[0;34m==\u001b[0m \u001b[0mguess\u001b[0m\u001b[0;34m:\u001b[0m\u001b[0;34m\u001b[0m\u001b[0;34m\u001b[0m\u001b[0m\n\u001b[0;32m---> 26\u001b[0;31m                     \u001b[0mguessed_word\u001b[0m\u001b[0;34m[\u001b[0m\u001b[0mindex\u001b[0m\u001b[0;34m]\u001b[0m \u001b[0;34m=\u001b[0m \u001b[0mguess\u001b[0m\u001b[0;34m\u001b[0m\u001b[0;34m\u001b[0m\u001b[0m\n\u001b[0m\u001b[1;32m     27\u001b[0m         \u001b[0;32melse\u001b[0m\u001b[0;34m:\u001b[0m\u001b[0;34m\u001b[0m\u001b[0;34m\u001b[0m\u001b[0m\n\u001b[1;32m     28\u001b[0m             \u001b[0mattempts\u001b[0m \u001b[0;34m-=\u001b[0m \u001b[0;36m1\u001b[0m\u001b[0;34m\u001b[0m\u001b[0;34m\u001b[0m\u001b[0m\n",
            "\u001b[0;31mTypeError\u001b[0m: 'str' object does not support item assignment"
          ]
        }
      ]
    },
    {
      "cell_type": "markdown",
      "source": [
        "Instructions:\n",
        "🚀 Run the code to understand the initial behavior of the\n",
        "\"Word Guess\" game.\n",
        "\n",
        "🐞 Identify and fix any bugs or logical errors in the code that prevent the game from functioning correctly.\n",
        "\n",
        "🤖 Use ChatGPT's assistance to guide you through the debugging process. Ask specific questions about the problematic parts of the code and how to fix them.\n",
        "\n",
        "📝 Test your corrected code to ensure the game runs smoothly, allowing the player to guess the word correctly or lose after exhausting the attempts.\n",
        "\n",
        "💬 If needed, seek further assistance from ChatGPT to improve the game's overall logic and user experience.\n",
        "🌟 Create a video and share the final corrected version of the game and the steps you took to debug it.\n",
        "\n",
        "**Challenge Summary:**\n",
        "\n",
        "Debugging a complex program like the \"Word Guess\" game requires careful analysis and problem-solving skills. By seeking ChatGPT's assistance, you can tackle challenging bugs and improve your understanding of the debugging process. Embrace the opportunity to learn from ChatGPT's guidance and enhance your Python coding abilities! 🚀🔍\n",
        "\n",
        "\n"
      ],
      "metadata": {
        "id": "tpG-NIxizEVj"
      }
    },
    {
      "cell_type": "code",
      "source": [
        "# Assuming the target word is stored in the variable 'target_word'\n",
        "target_word = \"example1\"\n",
        "\n",
        "# Initialize guessed_word as a list of underscores\n",
        "guessed_word = [\"_\" for _ in target_word]\n",
        "\n",
        "# Now, guessed_word will be a list with the same length as target_word,\n",
        "# filled with underscores.\n",
        "print(guessed_word)\n",
        "\n",
        "# Get the guessed letter from the user\n",
        "guess_letter = input(\"Enter a letter: \")\n",
        "\n",
        "# Iterate through the selected word\n",
        "for i in range(len(target_word)):\n",
        "    if target_word[i] == guess_letter:\n",
        "        # If the guessed letter matches the letter in the selected word,\n",
        "        # update the guessed_word list at the same index with the correct letter.\n",
        "        guessed_word[i] = guess_letter\n",
        "     # Print the progress of the guessed word after each correct guess\n",
        "    print(\"Progress:\", \" \".join(guessed_word))\n",
        "\n",
        "# Print the updated guessed_word\n",
        "print(\"Updated guessed word:\", guessed_word)\n"
      ],
      "metadata": {
        "colab": {
          "base_uri": "https://localhost:8080/"
        },
        "id": "V-7wWf9fzDo0",
        "outputId": "fa0776c0-d86d-4264-e626-3359b4c05452"
      },
      "execution_count": null,
      "outputs": [
        {
          "output_type": "stream",
          "name": "stdout",
          "text": [
            "['_', '_', '_', '_', '_', '_', '_', '_']\n",
            "Enter a letter: e\n",
            "Progress: e _ _ _ _ _ _ _\n",
            "Progress: e _ _ _ _ _ _ _\n",
            "Progress: e _ _ _ _ _ _ _\n",
            "Progress: e _ _ _ _ _ _ _\n",
            "Progress: e _ _ _ _ _ _ _\n",
            "Progress: e _ _ _ _ _ _ _\n",
            "Progress: e _ _ _ _ _ e _\n",
            "Progress: e _ _ _ _ _ e _\n",
            "Updated guessed word: ['e', '_', '_', '_', '_', '_', 'e', '_']\n"
          ]
        }
      ]
    },
    {
      "cell_type": "code",
      "source": [
        "selected_word = \"example1\"\n",
        "# Initialize guessed_word with underscores as before\n",
        "guessed_word = [\"_\" for _ in selected_word]\n",
        "\n",
        "# Set the maximum number of attempts\n",
        "max_attempts = 6\n",
        "attempts = 0\n",
        "\n",
        "# Get the guessed letter from the user\n",
        "while attempts < max_attempts:\n",
        "    guess_letter = input(\"Enter a letter: \")\n",
        "\n",
        "    if guess_letter in selected_word:\n",
        "        # Correct guess, update guessed_word\n",
        "        for i in range(len(selected_word)):\n",
        "            if selected_word[i] == guess_letter:\n",
        "                guessed_word[i] = guess_letter\n",
        "    else:\n",
        "        # Incorrect guess, update attempts counter\n",
        "        attempts += 1\n",
        "        print(f\"Incorrect guess! Remaining attempts: {max_attempts - attempts}\")\n",
        "\n",
        "    # Print the progress of the guessed word after each guess\n",
        "    print(\"Progress:\", \" \".join(guessed_word))\n",
        "\n",
        "    if \"_\" not in guessed_word:\n",
        "        print(\"Congratulations! You've guessed the word:\", \"\".join(guessed_word))\n",
        "        break\n",
        "\n",
        "if \"_\" in guessed_word:\n",
        "    print(\"Sorry, you're out of attempts. The word was:\", selected_word)\n"
      ],
      "metadata": {
        "colab": {
          "base_uri": "https://localhost:8080/"
        },
        "id": "yE-wYZ-hyvGX",
        "outputId": "93ac42d7-5406-4e0f-a0ee-e11824ee6e0b"
      },
      "execution_count": null,
      "outputs": [
        {
          "output_type": "stream",
          "name": "stdout",
          "text": [
            "Enter a letter: e\n",
            "Progress: e _ _ _ _ _ e _\n",
            "Enter a letter: m\n",
            "Progress: e _ _ m _ _ e _\n",
            "Enter a letter: l\n",
            "Progress: e _ _ m _ l e _\n",
            "Enter a letter: 1\n",
            "Progress: e _ _ m _ l e 1\n",
            "Enter a letter: d\n",
            "Incorrect guess! Remaining attempts: 5\n",
            "Progress: e _ _ m _ l e 1\n",
            "Enter a letter: r\n",
            "Incorrect guess! Remaining attempts: 4\n",
            "Progress: e _ _ m _ l e 1\n",
            "Enter a letter: a\n",
            "Progress: e _ a m _ l e 1\n",
            "Enter a letter: x\n",
            "Progress: e x a m _ l e 1\n",
            "Enter a letter: p\n",
            "Progress: e x a m p l e 1\n",
            "Congratulations! You've guessed the word: example1\n"
          ]
        }
      ]
    },
    {
      "cell_type": "code",
      "source": [
        "# Initialize guessed_word with underscores as before\n",
        "guessed_word = [\"_\" for _ in selected_word]\n",
        "\n",
        "# Set the maximum number of attempts\n",
        "max_attempts = 6\n",
        "attempts = 0\n",
        "\n",
        "# Get the guessed letter from the user\n",
        "while attempts < max_attempts:\n",
        "    guess_letter = input(\"Enter a letter: \")\n",
        "\n",
        "    if guess_letter in selected_word:\n",
        "        # Correct guess, update guessed_word\n",
        "        for i in range(len(selected_word)):\n",
        "            if selected_word[i] == guess_letter:\n",
        "                guessed_word[i] = guess_letter\n",
        "    else:\n",
        "        # Incorrect guess, update attempts counter\n",
        "        attempts += 1\n",
        "        print(f\"Incorrect guess! Remaining attempts: {max_attempts - attempts}\")\n",
        "\n",
        "    # Print the progress of the guessed word after each guess\n",
        "    print(\"Progress:\", \" \".join(guessed_word))\n",
        "\n",
        "    if \"_\" not in guessed_word:\n",
        "        print(\"Congratulations! You've guessed the word:\", \"\".join(guessed_word))\n",
        "        break\n",
        "\n",
        "if \"_\" in guessed_word:\n",
        "    print(\"Sorry, you're out of attempts. The word was:\", selected_word)\n",
        "\n"
      ],
      "metadata": {
        "colab": {
          "base_uri": "https://localhost:8080/"
        },
        "id": "EvgiBVmCzbdK",
        "outputId": "0af52bd7-fb04-4576-fd21-56ea8d8e0d22"
      },
      "execution_count": null,
      "outputs": [
        {
          "output_type": "stream",
          "name": "stdout",
          "text": [
            "Enter a letter: e\n",
            "Progress: e _ _ _ _ _ e _\n",
            "Enter a letter: x\n",
            "Progress: e x _ _ _ _ e _\n",
            "Enter a letter: a\n",
            "Progress: e x a _ _ _ e _\n",
            "Enter a letter: m\n",
            "Progress: e x a m _ _ e _\n",
            "Enter a letter: d\n",
            "Incorrect guess! Remaining attempts: 5\n",
            "Progress: e x a m _ _ e _\n",
            "Enter a letter: p\n",
            "Progress: e x a m p _ e _\n",
            "Enter a letter: l\n",
            "Progress: e x a m p l e _\n",
            "Enter a letter: 1\n",
            "Progress: e x a m p l e 1\n",
            "Congratulations! You've guessed the word: example1\n"
          ]
        }
      ]
    },
    {
      "cell_type": "markdown",
      "source": [
        "word guess game by chatgpt"
      ],
      "metadata": {
        "id": "0iirm-fEqH8l"
      }
    },
    {
      "cell_type": "code",
      "source": [
        "# Initialize guessed_word with underscores as before\n",
        "guessed_word = [\"_\" for _ in selected_word]\n",
        "\n",
        "# Set the maximum number of attempts\n",
        "max_attempts = 6\n",
        "attempts = 0\n",
        "\n",
        "# Get the guessed letter from the user\n",
        "while attempts < max_attempts:\n",
        "    guess_letter = input(\"Enter a letter: \")\n",
        "\n",
        "    if guess_letter in selected_word:\n",
        "        # Correct guess, update guessed_word\n",
        "        for i in range(len(selected_word)):\n",
        "            if selected_word[i] == guess_letter:\n",
        "                guessed_word[i] = guess_letter\n",
        "    else:\n",
        "        # Incorrect guess, update attempts counter\n",
        "        attempts += 1\n",
        "        print(f\"Incorrect guess! Remaining attempts: {max_attempts - attempts}\")\n",
        "\n",
        "    # Print the progress of the guessed word after each guess\n",
        "    print(\"Progress:\", \" \".join(guessed_word))\n",
        "\n",
        "    if \"_\" not in guessed_word:\n",
        "        print(\"Congratulations! You've guessed the word:\", \"\".join(guessed_word))\n",
        "        break\n",
        "\n",
        "if \"_\" in guessed_word:\n",
        "    print(\"Game over! You're out of attempts. The word was:\", selected_word)\n"
      ],
      "metadata": {
        "colab": {
          "base_uri": "https://localhost:8080/"
        },
        "id": "kE9VRqQPzvw9",
        "outputId": "c9966464-69df-42d5-8330-d4340e0d5c50"
      },
      "execution_count": null,
      "outputs": [
        {
          "output_type": "stream",
          "name": "stdout",
          "text": [
            "Enter a letter: e\n",
            "Progress: e _ _ _ _ _ e _\n",
            "Enter a letter: f\n",
            "Incorrect guess! Remaining attempts: 5\n",
            "Progress: e _ _ _ _ _ e _\n",
            "Enter a letter: g\n",
            "Incorrect guess! Remaining attempts: 4\n",
            "Progress: e _ _ _ _ _ e _\n",
            "Enter a letter: w\n",
            "Incorrect guess! Remaining attempts: 3\n",
            "Progress: e _ _ _ _ _ e _\n",
            "Enter a letter: y\n",
            "Incorrect guess! Remaining attempts: 2\n",
            "Progress: e _ _ _ _ _ e _\n",
            "Enter a letter: j\n",
            "Incorrect guess! Remaining attempts: 1\n",
            "Progress: e _ _ _ _ _ e _\n",
            "Enter a letter: t\n",
            "Incorrect guess! Remaining attempts: 0\n",
            "Progress: e _ _ _ _ _ e _\n",
            "Game over! You're out of attempts. The word was: example1\n"
          ]
        }
      ]
    },
    {
      "cell_type": "markdown",
      "source": [
        "word guess game"
      ],
      "metadata": {
        "id": "J3DPTlmSqEZF"
      }
    },
    {
      "cell_type": "code",
      "source": [
        "import random\n",
        "\n",
        "def word_guess_game():\n",
        "    words = [\"python\", \"programming\", \"challenge\", \"debugging\", \"coding\"]\n",
        "    attempts = 3\n",
        "    selected_word = random.choice(words)\n",
        "    guessed_word = [\"_\"] * len(selected_word)\n",
        "\n",
        "    print(\"Welcome to Word Guess!\")\n",
        "    print(f\"Guess the word: {' '.join(guessed_word)}\")\n",
        "\n",
        "    while attempts > 0:\n",
        "        guess = input(\"Enter a letter: \")\n",
        "\n",
        "        if len(guess) != 1:\n",
        "            print(\"Please enter a single letter.\")\n",
        "            continue\n",
        "\n",
        "        if guess in guessed_word:\n",
        "            print(\"You've already guessed that letter!\")\n",
        "            continue\n",
        "\n",
        "        if guess in selected_word:\n",
        "            for index, letter in enumerate(selected_word):\n",
        "                if letter == guess:\n",
        "                    guessed_word[index] = guess\n",
        "            print(f\"Progress: {' '.join(guessed_word)}\")\n",
        "        else:\n",
        "            attempts -= 1\n",
        "            print(f\"Incorrect! You have {attempts} {'attempt' if attempts == 1 else 'attempts'} left.\")\n",
        "\n",
        "        if ''.join(\n",
        "            guessed_word) == selected_word:\n",
        "            print(f\"Congratulations! You guessed the word: {selected_word}\")\n",
        "            break\n",
        "\n",
        "    else:\n",
        "        print(f\"Game over! The word was: {selected_word}\")\n",
        "\n",
        "word_guess_game()"
      ],
      "metadata": {
        "colab": {
          "base_uri": "https://localhost:8080/"
        },
        "id": "ZS9mktOj0n9a",
        "outputId": "f85ce23e-8253-4c33-c00a-68a64a5e4491"
      },
      "execution_count": null,
      "outputs": [
        {
          "output_type": "stream",
          "name": "stdout",
          "text": [
            "Welcome to Word Guess!\n",
            "Guess the word: _ _ _ _ _ _ _ _ _\n",
            "Enter a letter: f\n",
            "Incorrect! You have 2 attempts left.\n",
            "Enter a letter: d\n",
            "Incorrect! You have 1 attempt left.\n",
            "Enter a letter: f\n",
            "Incorrect! You have 0 attempts left.\n",
            "Game over! The word was: challenge\n"
          ]
        }
      ]
    },
    {
      "cell_type": "markdown",
      "source": [
        "write a python program of guess number game"
      ],
      "metadata": {
        "id": "g-D2bLMYp9PJ"
      }
    },
    {
      "cell_type": "code",
      "source": [
        "import random\n",
        "def word_guess_game():\n",
        "  selected_words=['c++','HTML','MySQL','python','msexcel']\n",
        "  guess_word=random.choice(selected_words).lower()\n",
        "  print(guess_word)\n",
        "  guessed_word=[\"_\"] * len(guess_word)\n",
        "  chance=5\n",
        "\n",
        "  print(\"Welcome to Word Guess!\")\n",
        "  print(f\"Guess the word: {' '.join(guessed_word)}\")\n",
        "\n",
        "\n",
        "  while chance>0:\n",
        "    guess=input(\"Enter a letter:\").lower()\n",
        "    if len(guess) != 1:\n",
        "      print(\"Enter only one letter.\")\n",
        "      continue\n",
        "    elif guess in guessed_word:\n",
        "      print(\"You've already guessed this letter.\")\n",
        "      continue\n",
        "    elif guess in guess_word:\n",
        "      for index, letter in enumerate(guess_word):\n",
        "        if guess==letter:\n",
        "          guessed_word[index]=guess\n",
        "      print(\"Progess: \",' '.join(guessed_word))\n",
        "    else:\n",
        "      chance-=1\n",
        "      print(f\"Incorrect! You have {chance} left\")\n",
        "    if ''.join(guessed_word)==guess_word:\n",
        "      print(\"Congratulations! You've guessed the word.\")\n",
        "      break\n",
        "  else:\n",
        "    print(f\"Game over! The word was: {''.join(guess_word)}\")\n",
        "\n",
        "word_guess_game()\n",
        "\n"
      ],
      "metadata": {
        "colab": {
          "base_uri": "https://localhost:8080/"
        },
        "id": "nr_aUg_B7NFm",
        "outputId": "b6fd136f-8cad-476c-a3d9-8b71ab42a397"
      },
      "execution_count": null,
      "outputs": [
        {
          "output_type": "stream",
          "name": "stdout",
          "text": [
            "c++\n",
            "Welcome to Word Guess!\n",
            "Guess the word: _ _ _\n",
            "Enter a letter:C\n",
            "Progess:  c _ _\n",
            "Enter a letter:+\n",
            "Progess:  c + +\n",
            "Congratulations! You've guessed the word.\n"
          ]
        }
      ]
    },
    {
      "cell_type": "markdown",
      "source": [
        "Write a Python program to find a string consisting of space-separated characters with given counts."
      ],
      "metadata": {
        "id": "A1_XyGhupR2-"
      }
    },
    {
      "cell_type": "code",
      "source": [
        "def space_separated_string(char_count_dict):\n",
        "    result=\"\"\n",
        "    for char,count in char_count_dict.items():\n",
        "        result+=(char+\" \") * count\n",
        "        # print(result)\n",
        "    return result\n",
        "char_count_dict=eval(input())\n",
        "print(space_separated_string(char_count_dict))"
      ],
      "metadata": {
        "colab": {
          "base_uri": "https://localhost:8080/"
        },
        "id": "6e_IqhSRpQse",
        "outputId": "b8227183-4ff4-488f-a4e9-8ce7254f1f99"
      },
      "execution_count": null,
      "outputs": [
        {
          "output_type": "stream",
          "name": "stdout",
          "text": [
            "{\"a\": 1, \"x\": 2,\"r\":4}\n",
            "a x x r r r r \n"
          ]
        }
      ]
    },
    {
      "cell_type": "markdown",
      "source": [
        "write a python program to print product of all numbers in a list"
      ],
      "metadata": {
        "id": "YViyVKQLp0uW"
      }
    },
    {
      "cell_type": "code",
      "source": [
        "def prod_list(element_list):\n",
        "    product=1\n",
        "    for element in element_list:\n",
        "        product *= element\n",
        "    return product\n",
        "\n",
        "lst = eval(input())\n",
        "product=prod_list(lst)"
      ],
      "metadata": {
        "colab": {
          "base_uri": "https://localhost:8080/"
        },
        "id": "CsVBm558vRuh",
        "outputId": "f53f7589-ec1c-4eae-b4a4-da78dd6161c8"
      },
      "execution_count": null,
      "outputs": [
        {
          "name": "stdout",
          "output_type": "stream",
          "text": [
            "[1,3,-5]\n"
          ]
        }
      ]
    },
    {
      "cell_type": "markdown",
      "source": [
        "Write a Python program to find the nth Fibonacci number using recursion."
      ],
      "metadata": {
        "id": "uqCuiqJcnz8j"
      }
    },
    {
      "cell_type": "code",
      "source": [
        "def fibonacci(n):\n",
        "    if n <= 0:\n",
        "        return 0\n",
        "    elif n == 1:\n",
        "        return 1\n",
        "    else:\n",
        "        return fibonacci(n - 1) + fibonacci(n - 2)\n",
        "\n",
        "n = 10\n",
        "result = fibonacci(n)\n",
        "print(\"Fibonacci number at position\", n, \"is\", result)\n"
      ],
      "metadata": {
        "colab": {
          "base_uri": "https://localhost:8080/"
        },
        "id": "HmL57yu1njfe",
        "outputId": "9982ec20-0abb-4ec5-d1aa-40b98085d5a8"
      },
      "execution_count": null,
      "outputs": [
        {
          "output_type": "stream",
          "name": "stdout",
          "text": [
            "Fibonacci number at position 10 is 55\n"
          ]
        }
      ]
    },
    {
      "cell_type": "markdown",
      "source": [
        "Write a Python program to sort a list of dictionaries based on a specific key in each dictionary."
      ],
      "metadata": {
        "id": "gjrUujeon_7y"
      }
    },
    {
      "cell_type": "code",
      "source": [
        "data = [{\"name\": \"Alice\", \"age\": 25}, {\"name\": \"Bob\", \"age\": 30}, {\"name\": \"Carol\", \"age\": 20}]\n",
        "sorted_data = sorted(data, key=lambda x: x[\"age\"])\n",
        "print(\"Sorted data:\", sorted_data)\n"
      ],
      "metadata": {
        "id": "o4Xg7TeHoBNE"
      },
      "execution_count": null,
      "outputs": []
    },
    {
      "cell_type": "markdown",
      "source": [
        "Write a Python program to find the prime factors of a given number."
      ],
      "metadata": {
        "id": "Ya8AjDd-oJ_l"
      }
    },
    {
      "cell_type": "code",
      "source": [
        "def prime_factors(n):\n",
        "    factors = []\n",
        "    divisor = 2\n",
        "    while divisor <= n:\n",
        "        if n % divisor == 0:\n",
        "            factors.append(divisor)\n",
        "            n //= divisor\n",
        "        else:\n",
        "            divisor += 1\n",
        "    return factors\n",
        "\n",
        "num = 24\n",
        "factors = prime_factors(num)\n",
        "print(\"Prime factors of\", num, \"are\", factors)\n"
      ],
      "metadata": {
        "id": "uSuAjnThoJDf"
      },
      "execution_count": null,
      "outputs": []
    },
    {
      "cell_type": "markdown",
      "source": [
        "Write a Python program to calculate the sum of all prime numbers up to a given limit."
      ],
      "metadata": {
        "id": "9flv_L_OoQlv"
      }
    },
    {
      "cell_type": "code",
      "source": [
        "def is_prime(num):\n",
        "    if num <= 1:\n",
        "        return False\n",
        "    for i in range(2, int(num ** 0.5) + 1):\n",
        "        if num % i == 0:\n",
        "            return False\n",
        "    return True\n",
        "\n",
        "limit = 50\n",
        "prime_sum = sum(i for i in range(2, limit + 1) if is_prime(i))\n",
        "print(\"Sum of prime numbers up to\", limit, \"is\", prime_sum)\n"
      ],
      "metadata": {
        "id": "bEcRYY-ToSns"
      },
      "execution_count": null,
      "outputs": []
    },
    {
      "cell_type": "markdown",
      "source": [
        " Write a Python program to find the GCD (Greatest Common Divisor) of two numbers using the Euclidean algorithm."
      ],
      "metadata": {
        "id": "NKdglF1PpDoq"
      }
    },
    {
      "cell_type": "code",
      "source": [
        "def gcd(a, b):\n",
        "    while b:\n",
        "        a, b = b, a % b\n",
        "    return a\n",
        "\n",
        "num1 = 24\n",
        "num2 = 36\n",
        "result = gcd(num1, num2)\n",
        "print(\"GCD of\", num1, \"and\", num2, \"is\", result)\n"
      ],
      "metadata": {
        "id": "_GbmADyDpCNu"
      },
      "execution_count": null,
      "outputs": []
    },
    {
      "cell_type": "markdown",
      "source": [
        "Write a Python program to find the factorial of a number using an iterative approach."
      ],
      "metadata": {
        "id": "WJN0j046pIlK"
      }
    },
    {
      "cell_type": "code",
      "source": [
        "def factorial(n):\n",
        "    result = 1\n",
        "    for i in range(1, n + 1):\n",
        "        result *= i\n",
        "    return result\n",
        "\n",
        "num = 5\n",
        "result = factorial(num)\n",
        "print(\"Factorial of\", num, \"is\", result)\n"
      ],
      "metadata": {
        "id": "Yp19m3aZpLRU"
      },
      "execution_count": null,
      "outputs": []
    },
    {
      "cell_type": "markdown",
      "source": [
        "Write a Python program to find the LCM (Least Common Multiple) of two numbers.\n",
        "\n",
        "Answer:"
      ],
      "metadata": {
        "id": "o_BJPGILpL9c"
      }
    },
    {
      "cell_type": "code",
      "source": [
        "def lcm(a, b):\n",
        "    num1 = a\n",
        "    num2 = b\n",
        "    while num2:\n",
        "        num1, num2 = num2, num1 % num2\n",
        "    gcd = num1\n",
        "    lcm = (a * b) // gcd\n",
        "    return lcm\n",
        "\n",
        "num1 = 12\n",
        "num2 = 18\n",
        "result = lcm(num1, num2)\n",
        "print(\"LCM of\", num1, \"and\", num2, \"is\", result)\n"
      ],
      "metadata": {
        "id": "TUmdv73CpSRM"
      },
      "execution_count": null,
      "outputs": []
    },
    {
      "cell_type": "markdown",
      "source": [
        "Write a Python program to find the first N prime numbers."
      ],
      "metadata": {
        "id": "CLYT500jpWgp"
      }
    },
    {
      "cell_type": "code",
      "source": [
        "def is_prime(num):\n",
        "    if num <= 1:\n",
        "        return False\n",
        "    for i in range(2, int(num ** 0.5) + 1):\n",
        "        if num % i == 0:\n",
        "            return False\n",
        "    return True\n",
        "\n",
        "def generate_primes(n):\n",
        "    primes = []\n",
        "    num = 2\n",
        "    while len(primes) < n:\n",
        "        if is_prime(num):\n",
        "            primes.append(num)\n",
        "        num += 1\n",
        "    return primes\n",
        "\n",
        "N = 10\n",
        "prime_numbers = generate_primes(N)\n",
        "print(\"First\", N, \"prime numbers:\", prime_numbers)\n"
      ],
      "metadata": {
        "id": "aSS-8J3-pYiA"
      },
      "execution_count": null,
      "outputs": []
    },
    {
      "cell_type": "code",
      "source": [
        "def zodiac(year):\n",
        "    if (year - 2000) % 12 == 0:\n",
        "        sign = 'Dragon'\n",
        "    elif (year - 2000) % 12 == 1:\n",
        "\n",
        "        sign = 'Snake'\n",
        "    elif (year - 2000) % 12 == 2:\n",
        "        sign = 'Horse'\n",
        "    elif (year - 2000) % 12 == 3:\n",
        "        sign = 'Goat'\n",
        "    elif (year - 2000) % 12 == 4:\n",
        "        sign = 'Monkey'\n",
        "    elif (year - 2000) % 12 == 5:\n",
        "        sign = 'Rooster'\n",
        "    elif (year - 2000) % 12 == 6:\n",
        "        sign = 'Dog'\n",
        "    elif (year - 2000) % 12 == 7:\n",
        "        sign = 'Pig'\n",
        "    elif (year - 2000) % 12 == 8:\n",
        "        sign = 'Rat'\n",
        "    elif (year - 2000) % 12 == 9:\n",
        "        sign = 'Ox'\n",
        "    elif (year - 2000) % 12 == 10:\n",
        "        sign = 'Tiger'\n",
        "    else:\n",
        "        sign = 'Rabbit'\n",
        "\n",
        "    return (\"Your Zodiac sign :\",sign)\n",
        "\n",
        "year = int(input())\n",
        "print(zodiac(year))"
      ],
      "metadata": {
        "colab": {
          "base_uri": "https://localhost:8080/"
        },
        "id": "11hcZe-enKoL",
        "outputId": "4577b78e-cf54-4b81-b1ad-10ee9bcdc0ee"
      },
      "execution_count": null,
      "outputs": [
        {
          "output_type": "stream",
          "name": "stdout",
          "text": [
            "2022\n",
            "('Your Zodiac sign :', 'Tiger')\n"
          ]
        }
      ]
    },
    {
      "cell_type": "code",
      "source": [
        " def chinese_zodiac(year):\n",
        "   zodiac_signs=['Dragon','Snake','Horse','Goat','Monkey','Rooster','Dog','Pig','Rat','Ox','Tiger','Rabbit']\n",
        "   zodiac=(year-2000)%12\n",
        "   return (\"Your Zodiac sign :\",zodiac_signs[zodiac])\n",
        "\n",
        " year=int(input())\n",
        " print(chinese_zodiac(year))"
      ],
      "metadata": {
        "colab": {
          "base_uri": "https://localhost:8080/"
        },
        "id": "FCsKyAVtn939",
        "outputId": "3c98192d-77be-4b24-cf9d-1e0d4aed685c"
      },
      "execution_count": null,
      "outputs": [
        {
          "output_type": "stream",
          "name": "stdout",
          "text": [
            "2023\n",
            "('Your Zodiac sign :', 'Rabbit')\n"
          ]
        }
      ]
    },
    {
      "cell_type": "code",
      "source": [
        "# 1. Write a Python function to find the maximum of three numbers.\n",
        "# 2. Write a Python function to multiply all the numbers in a list.\n",
        "def max_3(num1,num2,num3):\n",
        "    if num1> num2 and num1>num3:\n",
        "        print(num1)\n",
        "    elif num2>num1 and num2>num3:\n",
        "        print(num2)\n",
        "    else:\n",
        "        print(num3)\n",
        "\n",
        "num1=int(input())\n",
        "num2=int(input())\n",
        "num3=int(input())\n",
        "max_3(num1,num2,num3)\n",
        "\n",
        "\n",
        "\n"
      ],
      "metadata": {
        "colab": {
          "base_uri": "https://localhost:8080/"
        },
        "id": "3s4DMfElpMWF",
        "outputId": "3e49e2e1-60ae-4de2-c290-dd27b8ce485b"
      },
      "execution_count": null,
      "outputs": [
        {
          "output_type": "stream",
          "name": "stdout",
          "text": [
            "3\n",
            "-23\n",
            "26\n",
            "26\n"
          ]
        }
      ]
    },
    {
      "cell_type": "code",
      "source": [
        "def multiply(number_list):\n",
        "    product=1\n",
        "    for num in number_list:\n",
        "        product*=num\n",
        "    return product\n",
        "\n",
        "number_list=eval(input())\n",
        "print(multiply(number_list))"
      ],
      "metadata": {
        "colab": {
          "base_uri": "https://localhost:8080/"
        },
        "id": "fXrpXagTqRVa",
        "outputId": "3537c7a1-dd52-4ffc-aead-94cf20daf215"
      },
      "execution_count": null,
      "outputs": [
        {
          "output_type": "stream",
          "name": "stdout",
          "text": [
            "[-2,8,9,-6,1]\n",
            "864\n"
          ]
        }
      ]
    },
    {
      "cell_type": "code",
      "source": [
        "student_tupple=('Adam','Alice','Ben','Bilal','Bharath')\n",
        "# Take input from user and display role number as index of the input + 1\n",
        "student=input(\"Input the student name to get roll number - \")\n",
        "print(student,\"'s roll number is: \", student_tupple.index(student)+1) # Replace x with appropriate value"
      ],
      "metadata": {
        "colab": {
          "base_uri": "https://localhost:8080/"
        },
        "id": "fwt4cxPsLnxT",
        "outputId": "0a7abded-0ae1-4dd4-bdae-c750c166da37"
      },
      "execution_count": null,
      "outputs": [
        {
          "output_type": "stream",
          "name": "stdout",
          "text": [
            "Input the student name to get roll number - Ben\n",
            "Ben 's roll number is:  3\n"
          ]
        }
      ]
    },
    {
      "cell_type": "code",
      "source": [],
      "metadata": {
        "id": "CyDEk1j0NRv7"
      },
      "execution_count": null,
      "outputs": []
    },
    {
      "cell_type": "code",
      "source": [
        "# Define sets for fruits in each basket\n",
        "basket1 = {'apple', 'banana', 'grape', 'orange'}\n",
        "basket2 = {'banana', 'mango', 'pineapple', 'orange'}\n",
        "\n",
        "# Find the total number of fruits available\n",
        "total_fruits = len(basket1)+len(basket2)\n",
        "print(\"Total number of fruits available:\", total_fruits)\n",
        "\n",
        "# Find fruits available in both baskets\n",
        "both_baskets = basket1 | basket2   # Replace x with appropriate method\n",
        "print(\"All the available fruits:\", both_baskets)\n",
        "\n",
        "# Find only the common fruits in both baskets\n",
        "common_fruits = basket1 & basket2   # Replace x with appropriate method\n",
        "print(\"Common fruits in both baskets:\", common_fruits)\n",
        "\n",
        "# Find fruits unique to each basket\n",
        "unique_basket1 = basket1 - basket2    # Replace x with appropriate method\n",
        "unique_basket2 = basket2 - basket1    # Replace x with appropriate method\n",
        "print(\"Fruits unique to basket 1:\", unique_basket1)\n",
        "print(\"Fruits unique to basket 2:\", unique_basket2)\n",
        "\n",
        "\n"
      ],
      "metadata": {
        "id": "v8PqzLt52z15",
        "colab": {
          "base_uri": "https://localhost:8080/"
        },
        "outputId": "3f22bf4d-98db-4c76-bd55-c4ff0d1774f5"
      },
      "execution_count": null,
      "outputs": [
        {
          "output_type": "stream",
          "name": "stdout",
          "text": [
            "Total number of fruits available: 8\n",
            "All the available fruits: {'apple', 'orange', 'mango', 'banana', 'pineapple', 'grape'}\n",
            "Common fruits in both baskets: {'banana', 'orange'}\n",
            "Fruits unique to basket 1: {'apple', 'grape'}\n",
            "Fruits unique to basket 2: {'pineapple', 'mango'}\n"
          ]
        }
      ]
    },
    {
      "cell_type": "code",
      "source": [
        "# Create a list of numbers\n",
        "numbers = [1, 2, 3, 4, 5, 6, 7, 8, 9, 10]\n",
        "\n",
        "# Use a lambda function to find the sum of all numbers in the list\n",
        "sum_all_numbers = lambda num_list: sum(num_list)\n",
        "\n",
        "# Calculate the sum\n",
        "result = sum_all_numbers(numbers)\n",
        "\n",
        "# Print the sum of all numbers\n",
        "print(\"List of numbers:\", numbers)\n",
        "print(\"Sum of all numbers:\", result)\n"
      ],
      "metadata": {
        "colab": {
          "base_uri": "https://localhost:8080/"
        },
        "id": "3whFjLW7D4qM",
        "outputId": "163c5ef7-ff7a-43b2-e0fb-674877480529"
      },
      "execution_count": null,
      "outputs": [
        {
          "output_type": "stream",
          "name": "stdout",
          "text": [
            "List of numbers: [1, 2, 3, 4, 5, 6, 7, 8, 9, 10]\n",
            "Sum of all numbers: 55\n"
          ]
        }
      ]
    },
    {
      "cell_type": "code",
      "source": [
        "# Create a list of numbers from 1 to 10\n",
        "numbers = list(range(1, 11))\n",
        "\n",
        "# Use a lambda function to filter out all even numbers\n",
        "filtered_numbers = list(filter(lambda x: x % 2 != 0, numbers))\n",
        "\n",
        "# Use a lambda function to square all the remaining odd numbers\n",
        "squared_numbers = list(map(lambda x: x ** 2, filtered_numbers))\n",
        "\n",
        "# Use a lambda function to find the sum of squared odd numbers\n",
        "sum_squared_odd_numbers = lambda numbers: sum(numbers)\n",
        "\n",
        "# Calculate the sum of squared odd numbers\n",
        "result = sum_squared_odd_numbers(squared_numbers)\n",
        "\n",
        "# Print the final result\n",
        "print(\"Original numbers:\", numbers)\n",
        "print(\"Filtered odd numbers:\", filtered_numbers)\n",
        "print(\"Squared odd numbers:\", squared_numbers)\n",
        "print(\"Sum of squared odd numbers:\", result)\n"
      ],
      "metadata": {
        "id": "IQX0i1DsE7ma",
        "outputId": "b69bd175-cba2-4c30-9480-93242a2d0fc9",
        "colab": {
          "base_uri": "https://localhost:8080/"
        }
      },
      "execution_count": null,
      "outputs": [
        {
          "output_type": "stream",
          "name": "stdout",
          "text": [
            "Original numbers: [1, 2, 3, 4, 5, 6, 7, 8, 9, 10]\n",
            "Filtered odd numbers: [1, 3, 5, 7, 9]\n",
            "Squared odd numbers: [1, 9, 25, 49, 81]\n",
            "Sum of squared odd numbers: 165\n"
          ]
        }
      ]
    },
    {
      "cell_type": "code",
      "source": [
        "# Define the Time class\n",
        "class Time:\n",
        "    def __init__(self, hours, minutes):\n",
        "        self.hours = hours\n",
        "        self.minutes = minutes\n",
        "\n",
        "    def DisplayTime(self):\n",
        "        if self.hours < 0 or self.hours > 23:\n",
        "            print(\"The input hours should be between 0 and 23.\")\n",
        "            return\n",
        "\n",
        "        if self.minutes < 0 or self.minutes > 59:\n",
        "            print(\"The input minutes should be between 0 and 59.\")\n",
        "            return\n",
        "\n",
        "        if self.hours >= 12:\n",
        "            am_pm = \"PM\"\n",
        "            if self.hours > 12:\n",
        "                self.hours -= 12\n",
        "        else:\n",
        "            am_pm = \"AM\"\n",
        "            if self.hours == 0:\n",
        "                self.hours = 12\n",
        "\n",
        "        print(f\"The time is {self.hours}:{self.minutes:02d} {am_pm}\")\n",
        "\n",
        "    def DisplayRatio(self):\n",
        "        try:\n",
        "            ratio = self.minutes / self.hours\n",
        "            print(f\"The ratio of minutes to hours is {ratio:.2f}\")\n",
        "        except ZeroDivisionError:\n",
        "            print(\"The ratio cannot be calculated because hours are zero.\")\n",
        "\n",
        "# List of inputs\n",
        "hour_min_list = [(23, 45), (34, 50), (12, 34), (14, 67), (19, 20), (2, 15), (0, 10)]\n",
        "\n",
        "# Iterate through the list and perform Time class operations\n",
        "for hours, minutes in hour_min_list:\n",
        "    t = Time(hours, minutes)\n",
        "    t.DisplayTime()\n",
        "    t.DisplayRatio()\n",
        "    print()  # Add a separator between results\n"
      ],
      "metadata": {
        "colab": {
          "base_uri": "https://localhost:8080/"
        },
        "id": "Jw2M0zT7GIhq",
        "outputId": "3e5c3c55-2e93-4d43-82b3-424f3804e2eb"
      },
      "execution_count": null,
      "outputs": [
        {
          "output_type": "stream",
          "name": "stdout",
          "text": [
            "The time is 11:45 PM\n",
            "The ratio of minutes to hours is 4.09\n",
            "\n",
            "The input hours should be between 0 and 23.\n",
            "The ratio of minutes to hours is 1.47\n",
            "\n",
            "The time is 12:34 PM\n",
            "The ratio of minutes to hours is 2.83\n",
            "\n",
            "The input minutes should be between 0 and 59.\n",
            "The ratio of minutes to hours is 4.79\n",
            "\n",
            "The time is 7:20 PM\n",
            "The ratio of minutes to hours is 2.86\n",
            "\n",
            "The time is 2:15 AM\n",
            "The ratio of minutes to hours is 7.50\n",
            "\n",
            "The time is 12:10 AM\n",
            "The ratio of minutes to hours is 0.83\n",
            "\n"
          ]
        }
      ]
    }
  ]
}