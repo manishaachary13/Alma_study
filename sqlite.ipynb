{
  "nbformat": 4,
  "nbformat_minor": 0,
  "metadata": {
    "colab": {
      "provenance": [],
      "authorship_tag": "ABX9TyNk/dPeK4wytkCCPAGQ+tJt",
      "include_colab_link": true
    },
    "kernelspec": {
      "name": "python3",
      "display_name": "Python 3"
    },
    "language_info": {
      "name": "python"
    }
  },
  "cells": [
    {
      "cell_type": "markdown",
      "metadata": {
        "id": "view-in-github",
        "colab_type": "text"
      },
      "source": [
        "<a href=\"https://colab.research.google.com/github/manishaachary13/Alma_study/blob/main/sqlite.ipynb\" target=\"_parent\"><img src=\"https://colab.research.google.com/assets/colab-badge.svg\" alt=\"Open In Colab\"/></a>"
      ]
    },
    {
      "cell_type": "code",
      "execution_count": 3,
      "metadata": {
        "colab": {
          "base_uri": "https://localhost:8080/"
        },
        "id": "WGg3R1BapEgQ",
        "outputId": "32b94d77-d085-4a08-896e-2226e4f89d8e"
      },
      "outputs": [
        {
          "output_type": "stream",
          "name": "stdout",
          "text": [
            "0\n"
          ]
        }
      ],
      "source": [
        "import  sqlite3\n",
        "connection=sqlite3.connect(\"aquarium.db\")\n",
        "print(connection.total_changes)"
      ]
    },
    {
      "cell_type": "code",
      "source": [
        "sqlite3.connect(':memory:')\n",
        "# cursor object\n",
        "# Syntax: cursor_object=connection_object.execute(“sql query”);"
      ],
      "metadata": {
        "colab": {
          "base_uri": "https://localhost:8080/"
        },
        "id": "yvogcyoLqAcZ",
        "outputId": "636aa43c-f8d8-49a8-cd7e-b8453d67c0e4"
      },
      "execution_count": 4,
      "outputs": [
        {
          "output_type": "execute_result",
          "data": {
            "text/plain": [
              "<sqlite3.Connection at 0x78831437a640>"
            ]
          },
          "metadata": {},
          "execution_count": 4
        }
      ]
    },
    {
      "cell_type": "code",
      "source": [
        "# create a hotel database\n",
        "import sqlite3\n",
        "connection=sqlite3.connect(\"hotel_data.db\")\n"
      ],
      "metadata": {
        "id": "F3K9IgCsr5qh"
      },
      "execution_count": 5,
      "outputs": []
    },
    {
      "cell_type": "code",
      "source": [
        "# create table\n",
        "connection.execute('''create table hotel\n",
        "(FIND INT PRIMARY KEY     NOT NULL,\n",
        "         FNAME           TEXT    NOT NULL,\n",
        "         COST            INT     NOT NULL,\n",
        "         WEIGHT        INT);\n",
        "''')\n"
      ],
      "metadata": {
        "id": "zdwKiqkBsJI3"
      },
      "execution_count": null,
      "outputs": []
    },
    {
      "cell_type": "code",
      "source": [
        "# insert values into db\n",
        "connection.execute(\n",
        "    '''insert into hotel values\n",
        "    (1, 'cakes',800,10 ),\n",
        "    (2, 'biscuits',100,20 ),\n",
        "    (3, 'chocos',1000,30 )'''\n",
        ")"
      ],
      "metadata": {
        "colab": {
          "base_uri": "https://localhost:8080/"
        },
        "id": "LVmnV3sJs953",
        "outputId": "44d84f0c-0770-4235-bdf6-a154ee5ee0c3"
      },
      "execution_count": 9,
      "outputs": [
        {
          "output_type": "execute_result",
          "data": {
            "text/plain": [
              "<sqlite3.Cursor at 0x7882e2fa2140>"
            ]
          },
          "metadata": {},
          "execution_count": 9
        }
      ]
    },
    {
      "cell_type": "code",
      "source": [
        "print(\"All data in food table\\n\")\n",
        "cursor=connection.execute(\"select * from hotel\")\n",
        "for row in cursor:\n",
        "  print(row)"
      ],
      "metadata": {
        "colab": {
          "base_uri": "https://localhost:8080/"
        },
        "id": "P7drX6Irs_e_",
        "outputId": "bc9a19d8-1487-4797-f4ac-a78622e2303e"
      },
      "execution_count": 11,
      "outputs": [
        {
          "output_type": "stream",
          "name": "stdout",
          "text": [
            "All data in food table\n",
            "\n",
            "(1, 'cakes', 800, 10)\n",
            "(2, 'biscuits', 100, 20)\n",
            "(3, 'chocos', 1000, 30)\n"
          ]
        }
      ]
    },
    {
      "cell_type": "code",
      "source": [
        "import sqlite3\n",
        "connection=sqlite3.connect(\"alma.db\")\n",
        "cursor=connection.cursor()\n"
      ],
      "metadata": {
        "id": "YM35bps6uD4o"
      },
      "execution_count": 12,
      "outputs": []
    },
    {
      "cell_type": "code",
      "source": [
        "# create table\n",
        "# Creating table\n",
        "table =\"\"\"CREATE TABLE STUDENT_DATA(NAME VARCHAR(255), CLASS VARCHAR(255),\n",
        "SECTION VARCHAR(255));\"\"\"\n",
        "cursor.execute(table)\n",
        "\n"
      ],
      "metadata": {
        "colab": {
          "base_uri": "https://localhost:8080/"
        },
        "id": "Wdi3cKiiuWTP",
        "outputId": "314cf97e-7952-4d22-b444-034218c36ab0"
      },
      "execution_count": 19,
      "outputs": [
        {
          "output_type": "execute_result",
          "data": {
            "text/plain": [
              "<sqlite3.Cursor at 0x7882e2f02d40>"
            ]
          },
          "metadata": {},
          "execution_count": 19
        }
      ]
    },
    {
      "cell_type": "code",
      "source": [
        "# Queries to INSERT records.\n",
        "cursor.execute('''INSERT INTO STUDENT_DATA (CLASS, SECTION, NAME)\n",
        "  VALUES ('7th', 'A', 'Raju')\n",
        "  ''')\n",
        "\n",
        "cursor.execute(\n",
        "  '''INSERT INTO STUDENT_DATA (SECTION, NAME, CLASS) VALUES ('B', 'Shyam', '8th')''')\n",
        "\n",
        "cursor.execute(\n",
        "  '''INSERT INTO STUDENT_DATA(NAME, CLASS, SECTION ) VALUES ('Baburao', '9th', 'C')''')\n",
        "\n",
        "cursor.execute(\n",
        "  '''INSERT INTO STUDENT_DATA(NAME, CLASS, SECTION ) VALUES ('Ajith', '9th', 'C')''')\n",
        "\n",
        "cursor.execute(\n",
        "  '''INSERT INTO STUDENT_DATA(NAME, CLASS, SECTION ) VALUES ('Karnan', '8th', 'B')''')\n",
        "\n",
        "cursor.execute(\n",
        "  '''INSERT INTO STUDENT_DATA (NAME, CLASS, SECTION ) VALUES ('Abhishek', '10th', 'A')''')\n",
        "cursor.execute(\n",
        "  '''INSERT INTO STUDENT_DATA (NAME, CLASS, SECTION ) VALUES ('Kishore', '9th', 'C')''')\n",
        "\n"
      ],
      "metadata": {
        "colab": {
          "base_uri": "https://localhost:8080/"
        },
        "id": "PzX9thD3vJPJ",
        "outputId": "8c5545c3-b253-4621-fb0a-11ce19318c79"
      },
      "execution_count": 20,
      "outputs": [
        {
          "output_type": "execute_result",
          "data": {
            "text/plain": [
              "<sqlite3.Cursor at 0x7882e2f02d40>"
            ]
          },
          "metadata": {},
          "execution_count": 20
        }
      ]
    },
    {
      "cell_type": "code",
      "source": [
        "# Display data inserted\n",
        "print(\"Data Inserted in the table: \")\n",
        "# * is used to refer to all columns\n",
        "data=cursor.execute('''SELECT * FROM STUDENT_DATA''')\n",
        "for row in data:\n",
        "    print(row)\n",
        "\n"
      ],
      "metadata": {
        "colab": {
          "base_uri": "https://localhost:8080/"
        },
        "id": "j210Je8kvbDY",
        "outputId": "0cdcfef7-9b96-4db2-c9fc-c8b4b4e4b9fa"
      },
      "execution_count": 23,
      "outputs": [
        {
          "output_type": "stream",
          "name": "stdout",
          "text": [
            "Data Inserted in the table: \n",
            "('Raju', '7th', 'A')\n",
            "('Shyam', '8th', 'B')\n",
            "('Baburao', '9th', 'C')\n",
            "('Ajith', '9th', 'C')\n",
            "('Karnan', '8th', 'B')\n",
            "('Abhishek', '10th', 'A')\n",
            "('Kishore', '9th', 'C')\n"
          ]
        }
      ]
    },
    {
      "cell_type": "code",
      "source": [
        "# Commit your changes in\n",
        "# the database\n",
        "connection.commit()\n",
        "\n",
        "# Closing the connection\n",
        "connection.close"
      ],
      "metadata": {
        "colab": {
          "base_uri": "https://localhost:8080/"
        },
        "id": "3wa_AFPXvmFn",
        "outputId": "859b1d62-a6f1-4e33-ee28-cea7ee71ed9a"
      },
      "execution_count": 24,
      "outputs": [
        {
          "output_type": "execute_result",
          "data": {
            "text/plain": [
              "<function Connection.close()>"
            ]
          },
          "metadata": {},
          "execution_count": 24
        }
      ]
    }
  ]
}