{
  "nbformat": 4,
  "nbformat_minor": 0,
  "metadata": {
    "colab": {
      "provenance": [],
      "authorship_tag": "ABX9TyPBeBGQRkeHJAUjQZXrJwR3",
      "include_colab_link": true
    },
    "kernelspec": {
      "name": "python3",
      "display_name": "Python 3"
    },
    "language_info": {
      "name": "python"
    }
  },
  "cells": [
    {
      "cell_type": "markdown",
      "metadata": {
        "id": "view-in-github",
        "colab_type": "text"
      },
      "source": [
        "<a href=\"https://colab.research.google.com/github/manishaachary13/Alma_study/blob/main/sqlite.ipynb\" target=\"_parent\"><img src=\"https://colab.research.google.com/assets/colab-badge.svg\" alt=\"Open In Colab\"/></a>"
      ]
    },
    {
      "cell_type": "code",
      "execution_count": 1,
      "metadata": {
        "colab": {
          "base_uri": "https://localhost:8080/"
        },
        "id": "WGg3R1BapEgQ",
        "outputId": "a656f271-9143-4ecd-b6f3-500f66ba79ac"
      },
      "outputs": [
        {
          "output_type": "stream",
          "name": "stdout",
          "text": [
            "0\n"
          ]
        }
      ],
      "source": [
        "import  sqlite3\n",
        "connection=sqlite3.connect(\"aquarium.db\")\n",
        "print(connection.total_changes)"
      ]
    },
    {
      "cell_type": "code",
      "source": [
        "sqlite3.connect(':memory:')\n",
        "# cursor object\n",
        "# Syntax: cursor_object=connection_object.execute(“sql query”);"
      ],
      "metadata": {
        "colab": {
          "base_uri": "https://localhost:8080/"
        },
        "id": "yvogcyoLqAcZ",
        "outputId": "0dad4299-d8a8-4940-d72d-c7a1b04d1a26"
      },
      "execution_count": 2,
      "outputs": [
        {
          "output_type": "execute_result",
          "data": {
            "text/plain": [
              "<sqlite3.Connection at 0x79cb9118e440>"
            ]
          },
          "metadata": {},
          "execution_count": 2
        }
      ]
    },
    {
      "cell_type": "code",
      "source": [
        "# create a hotel database\n",
        "import sqlite3\n",
        "connection=sqlite3.connect(\"hotel_data.db\")\n"
      ],
      "metadata": {
        "id": "F3K9IgCsr5qh"
      },
      "execution_count": 17,
      "outputs": []
    },
    {
      "cell_type": "code",
      "source": [
        "# create table\n",
        "connection.execute('''create table hotel\n",
        "(FIND INT PRIMARY KEY     NOT NULL,\n",
        "         FNAME           TEXT    NOT NULL,\n",
        "         COST            INT     NOT NULL,\n",
        "         WEIGHT        INT);\n",
        "''')\n"
      ],
      "metadata": {
        "id": "zdwKiqkBsJI3"
      },
      "execution_count": null,
      "outputs": []
    },
    {
      "cell_type": "code",
      "source": [
        "# insert values into db\n",
        "connection.execute(\n",
        "    '''insert into hotel values\n",
        "    (1, 'cakes',800,10 ),\n",
        "    (2, 'biscuits',100,20 ),\n",
        "    (3, 'chocos',1000,30 )'''\n",
        ")"
      ],
      "metadata": {
        "colab": {
          "base_uri": "https://localhost:8080/",
          "height": 211
        },
        "id": "LVmnV3sJs953",
        "outputId": "a4095083-765a-4af6-d152-c8a7404af93b"
      },
      "execution_count": 19,
      "outputs": [
        {
          "output_type": "error",
          "ename": "OperationalError",
          "evalue": "database is locked",
          "traceback": [
            "\u001b[0;31m---------------------------------------------------------------------------\u001b[0m",
            "\u001b[0;31mOperationalError\u001b[0m                          Traceback (most recent call last)",
            "\u001b[0;32m<ipython-input-19-1006fa61b66d>\u001b[0m in \u001b[0;36m<cell line: 2>\u001b[0;34m()\u001b[0m\n\u001b[1;32m      1\u001b[0m \u001b[0;31m# insert values into db\u001b[0m\u001b[0;34m\u001b[0m\u001b[0;34m\u001b[0m\u001b[0m\n\u001b[0;32m----> 2\u001b[0;31m connection.execute(\n\u001b[0m\u001b[1;32m      3\u001b[0m     '''insert into hotel values\n\u001b[1;32m      4\u001b[0m     \u001b[0;34m(\u001b[0m\u001b[0;36m1\u001b[0m\u001b[0;34m,\u001b[0m \u001b[0;34m'cakes'\u001b[0m\u001b[0;34m,\u001b[0m\u001b[0;36m800\u001b[0m\u001b[0;34m,\u001b[0m\u001b[0;36m10\u001b[0m \u001b[0;34m)\u001b[0m\u001b[0;34m,\u001b[0m\u001b[0;34m\u001b[0m\u001b[0;34m\u001b[0m\u001b[0m\n\u001b[1;32m      5\u001b[0m     \u001b[0;34m(\u001b[0m\u001b[0;36m2\u001b[0m\u001b[0;34m,\u001b[0m \u001b[0;34m'biscuits'\u001b[0m\u001b[0;34m,\u001b[0m\u001b[0;36m100\u001b[0m\u001b[0;34m,\u001b[0m\u001b[0;36m20\u001b[0m \u001b[0;34m)\u001b[0m\u001b[0;34m,\u001b[0m\u001b[0;34m\u001b[0m\u001b[0;34m\u001b[0m\u001b[0m\n",
            "\u001b[0;31mOperationalError\u001b[0m: database is locked"
          ]
        }
      ]
    },
    {
      "cell_type": "code",
      "source": [
        "print(\"All data in food table\\n\")\n",
        "data=connection.execute(\"select * from hotel\")\n",
        "for row in data:\n",
        "  print(row)"
      ],
      "metadata": {
        "colab": {
          "base_uri": "https://localhost:8080/",
          "height": 228
        },
        "id": "P7drX6Irs_e_",
        "outputId": "9d1530c9-f8cb-4cda-b897-7b5244a2f702"
      },
      "execution_count": 15,
      "outputs": [
        {
          "output_type": "stream",
          "name": "stdout",
          "text": [
            "All data in food table\n",
            "\n"
          ]
        },
        {
          "output_type": "error",
          "ename": "OperationalError",
          "evalue": "no such table: hotel",
          "traceback": [
            "\u001b[0;31m---------------------------------------------------------------------------\u001b[0m",
            "\u001b[0;31mOperationalError\u001b[0m                          Traceback (most recent call last)",
            "\u001b[0;32m<ipython-input-15-512e02167f6e>\u001b[0m in \u001b[0;36m<cell line: 2>\u001b[0;34m()\u001b[0m\n\u001b[1;32m      1\u001b[0m \u001b[0mprint\u001b[0m\u001b[0;34m(\u001b[0m\u001b[0;34m\"All data in food table\\n\"\u001b[0m\u001b[0;34m)\u001b[0m\u001b[0;34m\u001b[0m\u001b[0;34m\u001b[0m\u001b[0m\n\u001b[0;32m----> 2\u001b[0;31m \u001b[0mdata\u001b[0m\u001b[0;34m=\u001b[0m\u001b[0mconnection\u001b[0m\u001b[0;34m.\u001b[0m\u001b[0mexecute\u001b[0m\u001b[0;34m(\u001b[0m\u001b[0;34m\"select * from hotel\"\u001b[0m\u001b[0;34m)\u001b[0m\u001b[0;34m\u001b[0m\u001b[0;34m\u001b[0m\u001b[0m\n\u001b[0m\u001b[1;32m      3\u001b[0m \u001b[0;32mfor\u001b[0m \u001b[0mrow\u001b[0m \u001b[0;32min\u001b[0m \u001b[0mdata\u001b[0m\u001b[0;34m:\u001b[0m\u001b[0;34m\u001b[0m\u001b[0;34m\u001b[0m\u001b[0m\n\u001b[1;32m      4\u001b[0m   \u001b[0mprint\u001b[0m\u001b[0;34m(\u001b[0m\u001b[0mrow\u001b[0m\u001b[0;34m)\u001b[0m\u001b[0;34m\u001b[0m\u001b[0;34m\u001b[0m\u001b[0m\n",
            "\u001b[0;31mOperationalError\u001b[0m: no such table: hotel"
          ]
        }
      ]
    },
    {
      "cell_type": "code",
      "source": [
        "import sqlite3\n",
        "connection=sqlite3.connect(\"alma.db\")\n",
        "cursor=connection.cursor()\n"
      ],
      "metadata": {
        "id": "YM35bps6uD4o"
      },
      "execution_count": 31,
      "outputs": []
    },
    {
      "cell_type": "code",
      "source": [
        "# create table\n",
        "# Creating table\n",
        "table =\"\"\"CREATE TABLE STUDENT_DATA(NAME VARCHAR(255), CLASS VARCHAR(255),\n",
        "SECTION VARCHAR(255));\"\"\"\n",
        "cursor.execute(table)\n",
        "\n"
      ],
      "metadata": {
        "colab": {
          "base_uri": "https://localhost:8080/"
        },
        "id": "Wdi3cKiiuWTP",
        "outputId": "24252749-4b79-4b49-8076-3d6d9c8bbe92"
      },
      "execution_count": 32,
      "outputs": [
        {
          "output_type": "execute_result",
          "data": {
            "text/plain": [
              "<sqlite3.Cursor at 0x79cb63fcde40>"
            ]
          },
          "metadata": {},
          "execution_count": 32
        }
      ]
    },
    {
      "cell_type": "code",
      "source": [
        "# Queries to INSERT records.\n",
        "cursor.execute('''INSERT INTO STUDENT_DATA (CLASS, SECTION, NAME)\n",
        "  VALUES ('7th', 'A', 'Raju')\n",
        "  ''')\n",
        "\n",
        "cursor.execute(\n",
        "  '''INSERT INTO STUDENT_DATA (SECTION, NAME, CLASS) VALUES ('B', 'Shyam', '8th')''')\n",
        "\n",
        "cursor.execute(\n",
        "  '''INSERT INTO STUDENT_DATA(NAME, CLASS, SECTION ) VALUES ('Baburao', '9th', 'C')''')\n",
        "\n",
        "cursor.execute(\n",
        "  '''INSERT INTO STUDENT_DATA(NAME, CLASS, SECTION ) VALUES ('Ajith', '9th', 'C')''')\n",
        "\n",
        "cursor.execute(\n",
        "  '''INSERT INTO STUDENT_DATA(NAME, CLASS, SECTION ) VALUES ('Karnan', '8th', 'B')''')\n",
        "\n",
        "cursor.execute(\n",
        "  '''INSERT INTO STUDENT_DATA (NAME, CLASS, SECTION ) VALUES ('Abhishek', '10th', 'A')''')\n",
        "cursor.execute(\n",
        "  '''INSERT INTO STUDENT_DATA (NAME, CLASS, SECTION ) VALUES ('Kishore', '9th', 'C')''')\n",
        "\n",
        "print(connection.total_changes)"
      ],
      "metadata": {
        "colab": {
          "base_uri": "https://localhost:8080/"
        },
        "id": "PzX9thD3vJPJ",
        "outputId": "b8c1c7b1-7320-4942-fde5-c71853b0f785"
      },
      "execution_count": 33,
      "outputs": [
        {
          "output_type": "stream",
          "name": "stdout",
          "text": [
            "7\n"
          ]
        }
      ]
    },
    {
      "cell_type": "code",
      "source": [
        "# Display data inserted\n",
        "print(\"Data Inserted in the table: \")\n",
        "# * is used to refer to all columns\n",
        "data=cursor.execute('''SELECT * FROM STUDENT_DATA''')\n",
        "for row in data:\n",
        "    print(row)\n",
        "\n",
        "print(connection.total_changes)"
      ],
      "metadata": {
        "colab": {
          "base_uri": "https://localhost:8080/"
        },
        "id": "j210Je8kvbDY",
        "outputId": "dc5e1880-576f-47b2-d018-03c2e5ba74af"
      },
      "execution_count": 34,
      "outputs": [
        {
          "output_type": "stream",
          "name": "stdout",
          "text": [
            "Data Inserted in the table: \n",
            "('Raju', '7th', 'A')\n",
            "('Shyam', '8th', 'B')\n",
            "('Baburao', '9th', 'C')\n",
            "('Ajith', '9th', 'C')\n",
            "('Karnan', '8th', 'B')\n",
            "('Abhishek', '10th', 'A')\n",
            "('Kishore', '9th', 'C')\n",
            "7\n"
          ]
        }
      ]
    },
    {
      "cell_type": "code",
      "source": [
        "# Commit your changes in\n",
        "# the database\n",
        "connection.commit()\n",
        "\n",
        "# Closing the connection\n",
        "connection.close"
      ],
      "metadata": {
        "colab": {
          "base_uri": "https://localhost:8080/"
        },
        "id": "3wa_AFPXvmFn",
        "outputId": "9cfea73e-552b-4cb6-be1a-64d6ec760348"
      },
      "execution_count": 35,
      "outputs": [
        {
          "output_type": "execute_result",
          "data": {
            "text/plain": [
              "<function Connection.close()>"
            ]
          },
          "metadata": {},
          "execution_count": 35
        }
      ]
    },
    {
      "cell_type": "code",
      "source": [
        "connection=sqlite3.connect(\"alma.db\")\n",
        "cursor=connection.cursor()\n",
        "cursor=cursor.execute('select * from student_data where class>\"7th\"')\n",
        "print(cursor.fetchmany(2))\n",
        "print(cursor.fetchone())\n",
        "print(cursor.fetchall())\n",
        "connection.commit()\n",
        "connection.close()"
      ],
      "metadata": {
        "colab": {
          "base_uri": "https://localhost:8080/"
        },
        "id": "n8X82wmgyICR",
        "outputId": "b3b9eb10-5c33-4f58-84a7-a9219edb54c1"
      },
      "execution_count": 36,
      "outputs": [
        {
          "output_type": "stream",
          "name": "stdout",
          "text": [
            "[('Shyam', '8th', 'B'), ('Baburao', '9th', 'C')]\n",
            "('Ajith', '9th', 'C')\n",
            "[('Karnan', '8th', 'B'), ('Kishore', '9th', 'C')]\n"
          ]
        }
      ]
    },
    {
      "cell_type": "code",
      "source": [
        "connection=sqlite3.connect(\"alma.db\")\n",
        "cursor=connection.cursor()\n",
        "cursor=cursor.execute('delete from student_data where name=\"Kishore\"')\n",
        "cursor=cursor.execute('select * from student_data')\n",
        "print(cursor.fetchall())\n",
        "connection.commit()"
      ],
      "metadata": {
        "colab": {
          "base_uri": "https://localhost:8080/"
        },
        "id": "JIbQX_Ymz6LR",
        "outputId": "aa40ca34-ddea-4017-df60-5fd03df4a332"
      },
      "execution_count": 37,
      "outputs": [
        {
          "output_type": "stream",
          "name": "stdout",
          "text": [
            "[('Raju', '7th', 'A'), ('Shyam', '8th', 'B'), ('Baburao', '9th', 'C'), ('Ajith', '9th', 'C'), ('Karnan', '8th', 'B'), ('Abhishek', '10th', 'A')]\n"
          ]
        }
      ]
    },
    {
      "cell_type": "markdown",
      "source": [
        "pandas have read_sql_query function to execute sql queries.\n",
        "\n",
        "\n",
        "---\n",
        "\n",
        "\n",
        "\n"
      ],
      "metadata": {
        "id": "3A5v9CBbni4S"
      }
    },
    {
      "cell_type": "code",
      "source": [
        "import pandas as pd\n",
        "con=sqlite3.connect('alma.db')\n",
        "df_students=pd.read_sql_query(\"select * from student_data\",con)\n",
        "print(\"All Students:\\n\",df_students)\n",
        "df_new=df_students[:-1]\n",
        "print(\"Remaining students:\\n\",df_new)"
      ],
      "metadata": {
        "colab": {
          "base_uri": "https://localhost:8080/"
        },
        "id": "5uMXop9L03wJ",
        "outputId": "e29381c2-d830-45d3-bb32-67f1ffa94bee"
      },
      "execution_count": 40,
      "outputs": [
        {
          "output_type": "stream",
          "name": "stdout",
          "text": [
            "All Students:\n",
            "        NAME CLASS SECTION\n",
            "0      Raju   7th       A\n",
            "1     Shyam   8th       B\n",
            "2   Baburao   9th       C\n",
            "3     Ajith   9th       C\n",
            "4    Karnan   8th       B\n",
            "5  Abhishek  10th       A\n",
            "Remaining students:\n",
            "       NAME CLASS SECTION\n",
            "0     Raju   7th       A\n",
            "1    Shyam   8th       B\n",
            "2  Baburao   9th       C\n",
            "3    Ajith   9th       C\n",
            "4   Karnan   8th       B\n"
          ]
        }
      ]
    },
    {
      "cell_type": "code",
      "source": [
        "df_new.to_sql(\"student11\",con,if_exists=\"replace\")\n",
        "print(pd.read_sql_query(\"select * from student11\",con))"
      ],
      "metadata": {
        "colab": {
          "base_uri": "https://localhost:8080/"
        },
        "id": "VxDHgvYa2Kqo",
        "outputId": "7c23c03d-a77c-4a5a-f0a6-5d61e9df0a26"
      },
      "execution_count": 41,
      "outputs": [
        {
          "output_type": "stream",
          "name": "stdout",
          "text": [
            "   index     NAME CLASS SECTION\n",
            "0      0     Raju   7th       A\n",
            "1      1    Shyam   8th       B\n",
            "2      2  Baburao   9th       C\n",
            "3      3    Ajith   9th       C\n",
            "4      4   Karnan   8th       B\n"
          ]
        }
      ]
    },
    {
      "cell_type": "code",
      "source": [
        "!pip install pandasql\n",
        "# If there is an error i.e \"ObjectNotExecutableError: Not an executable object:\" then run the below command and restart kernel.\n",
        "# pip install SQLAlchemy==1.4.46"
      ],
      "metadata": {
        "id": "GTYu_8CP3FHS"
      },
      "execution_count": null,
      "outputs": []
    },
    {
      "cell_type": "code",
      "source": [
        "from pandasql import sqldf\n",
        "import pandas as pd\n",
        "\n",
        "# Create a sample DataFrame.\n",
        "df = pd.DataFrame({\n",
        "    'Name': ['John', 'Jane', 'Bob', 'Mary'],\n",
        "    'Age': [25, 30, 35, 40],\n",
        "    'City': ['New York', 'London', 'Paris', 'Sydney']\n",
        "})\n",
        "\n",
        "# Define a helper function that allows sqldf to access the DataFrame in the global scope.\n",
        "def run_query(query):\n",
        "    return sqldf(query, globals())\n",
        "\n",
        "# Define your SQL query.\n",
        "query = \"SELECT * FROM df\"\n",
        "\n",
        "# Run the query using the helper function.\n",
        "result = run_query(query)\n",
        "\n",
        "# Print the result.\n",
        "print(result)\n"
      ],
      "metadata": {
        "colab": {
          "base_uri": "https://localhost:8080/"
        },
        "id": "YAH-fGND5gW5",
        "outputId": "3362033a-38b8-4f68-c4ed-85d6ed51befe"
      },
      "execution_count": 1,
      "outputs": [
        {
          "output_type": "stream",
          "name": "stdout",
          "text": [
            "   Name  Age      City\n",
            "0  John   25  New York\n",
            "1  Jane   30    London\n",
            "2   Bob   35     Paris\n",
            "3  Mary   40    Sydney\n"
          ]
        }
      ]
    },
    {
      "cell_type": "code",
      "source": [
        "# pip list | grep pandasql\n",
        "# pip install pandasql --force-reinstall\n",
        "!pip install pandasql --force-reinstall\n"
      ],
      "metadata": {
        "id": "ucWZ3uTz529A"
      },
      "execution_count": null,
      "outputs": []
    },
    {
      "cell_type": "code",
      "source": [
        "query=\"select * from df where age>=30\"\n",
        "result = run_query(query)\n",
        "print(result)"
      ],
      "metadata": {
        "colab": {
          "base_uri": "https://localhost:8080/"
        },
        "id": "1yAAPkWj6u-R",
        "outputId": "7751885b-beaa-462c-bb4b-9ffc0028d315"
      },
      "execution_count": 2,
      "outputs": [
        {
          "output_type": "stream",
          "name": "stdout",
          "text": [
            "   Name  Age    City\n",
            "0  Jane   30  London\n",
            "1   Bob   35   Paris\n",
            "2  Mary   40  Sydney\n"
          ]
        }
      ]
    },
    {
      "cell_type": "code",
      "source": [
        "import pandas as pd\n",
        "from pandasql import sqldf\n",
        "import sqlite3\n",
        "# a function to execute each query\n",
        "my_sql=lambda q: sqldf(query,globals())\n",
        "\n",
        "# connection to a db\n",
        "con=sqlite3.connect(\"coffee_shop.db\")\n",
        "# create a cursor pointer object\n",
        "c=con.cursor()\n"
      ],
      "metadata": {
        "id": "racCezw3p-kM"
      },
      "execution_count": 109,
      "outputs": []
    },
    {
      "cell_type": "markdown",
      "source": [
        "Create a new table named \"transactions\" in the database with the columns: \"transaction_id\", \"date\", \"time\", \"item\", \"price\", \"quantity\", and \"total_amount\"."
      ],
      "metadata": {
        "id": "q1ItptQLq2DD"
      }
    },
    {
      "cell_type": "code",
      "source": [
        "c.execute('''CREATE TABLE transactions(\n",
        "  transaction_id INTEGER PRIMARY KEY,\n",
        "  date DATE,\n",
        "  time TIME,\n",
        "  item TEXT,\n",
        "  price REAL,\n",
        "  quantity INTEGER,\n",
        "  total_amount REAL\n",
        ");''')"
      ],
      "metadata": {
        "colab": {
          "base_uri": "https://localhost:8080/"
        },
        "id": "Rx1nrjNfq02s",
        "outputId": "e488f906-6a53-43cf-a5b2-e26876ff02ab"
      },
      "execution_count": 110,
      "outputs": [
        {
          "output_type": "execute_result",
          "data": {
            "text/plain": [
              "<sqlite3.Cursor at 0x7ea7dae24940>"
            ]
          },
          "metadata": {},
          "execution_count": 110
        }
      ]
    },
    {
      "cell_type": "code",
      "source": [
        "# insert data into transactions\n",
        "c.execute('''\n",
        "    INSERT INTO transactions (\n",
        "    transaction_id, date, time, item, price, quantity, total_amount)\n",
        "    VALUES\n",
        "    (1, '2022-01-01', '09:00', 'Coffee', 2.50, 1, 2.50),\n",
        "    (2, '2022-01-01', '10:30', 'Croissant', 1.75, 2, 3.50),\n",
        "    (3, '2022-01-01', '11:15', 'Cappuccino', 3.00, 1, 3.00),\n",
        "    (4, '2022-01-02', '08:45', 'Latte', 3.50, 2, 7.00),\n",
        "    (5, '2022-01-02', '10:00', 'Muffin', 2.25, 1, 2.25),\n",
        "    (6, '2022-01-02', '12:15', 'Espresso', 2.75, 1, 2.75),\n",
        "    (7, '2022-01-03', '09:30', 'Croissant', 1.75, 3, 5.25),\n",
        "    (8, '2022-01-03', '11:00', 'Iced Coffee', 3.50, 2, 7.00),\n",
        "    (9, '2022-01-03', '12:45', 'Hot Chocolate', 3.25, 1, 3.25),\n",
        "    (10, '2022-01-04', '10:15', 'Cappuccino', 3.00, 2, 6.00);\n",
        "''')\n",
        ""
      ],
      "metadata": {
        "colab": {
          "base_uri": "https://localhost:8080/"
        },
        "id": "HhOXrb81tPlV",
        "outputId": "e7d3567a-7307-4210-854a-0b185b8569f7"
      },
      "execution_count": 111,
      "outputs": [
        {
          "output_type": "execute_result",
          "data": {
            "text/plain": [
              "<sqlite3.Cursor at 0x7ea7dae24940>"
            ]
          },
          "metadata": {},
          "execution_count": 111
        }
      ]
    },
    {
      "cell_type": "code",
      "source": [
        "# Write a query to find the total number of transactions in the dataset.\n",
        "pd.read_sql_query(\"SELECT COUNT(*) FROM transactions\",con)"
      ],
      "metadata": {
        "colab": {
          "base_uri": "https://localhost:8080/",
          "height": 81
        },
        "id": "cVKFSPmltkjk",
        "outputId": "2c7c5307-a160-4690-b668-8f6524b7db63"
      },
      "execution_count": 98,
      "outputs": [
        {
          "output_type": "execute_result",
          "data": {
            "text/plain": [
              "   COUNT(*)\n",
              "0        10"
            ],
            "text/html": [
              "\n",
              "  <div id=\"df-e8aa2540-e106-43dd-85da-76c6ab52201e\" class=\"colab-df-container\">\n",
              "    <div>\n",
              "<style scoped>\n",
              "    .dataframe tbody tr th:only-of-type {\n",
              "        vertical-align: middle;\n",
              "    }\n",
              "\n",
              "    .dataframe tbody tr th {\n",
              "        vertical-align: top;\n",
              "    }\n",
              "\n",
              "    .dataframe thead th {\n",
              "        text-align: right;\n",
              "    }\n",
              "</style>\n",
              "<table border=\"1\" class=\"dataframe\">\n",
              "  <thead>\n",
              "    <tr style=\"text-align: right;\">\n",
              "      <th></th>\n",
              "      <th>COUNT(*)</th>\n",
              "    </tr>\n",
              "  </thead>\n",
              "  <tbody>\n",
              "    <tr>\n",
              "      <th>0</th>\n",
              "      <td>10</td>\n",
              "    </tr>\n",
              "  </tbody>\n",
              "</table>\n",
              "</div>\n",
              "    <div class=\"colab-df-buttons\">\n",
              "\n",
              "  <div class=\"colab-df-container\">\n",
              "    <button class=\"colab-df-convert\" onclick=\"convertToInteractive('df-e8aa2540-e106-43dd-85da-76c6ab52201e')\"\n",
              "            title=\"Convert this dataframe to an interactive table.\"\n",
              "            style=\"display:none;\">\n",
              "\n",
              "  <svg xmlns=\"http://www.w3.org/2000/svg\" height=\"24px\" viewBox=\"0 -960 960 960\">\n",
              "    <path d=\"M120-120v-720h720v720H120Zm60-500h600v-160H180v160Zm220 220h160v-160H400v160Zm0 220h160v-160H400v160ZM180-400h160v-160H180v160Zm440 0h160v-160H620v160ZM180-180h160v-160H180v160Zm440 0h160v-160H620v160Z\"/>\n",
              "  </svg>\n",
              "    </button>\n",
              "\n",
              "  <style>\n",
              "    .colab-df-container {\n",
              "      display:flex;\n",
              "      gap: 12px;\n",
              "    }\n",
              "\n",
              "    .colab-df-convert {\n",
              "      background-color: #E8F0FE;\n",
              "      border: none;\n",
              "      border-radius: 50%;\n",
              "      cursor: pointer;\n",
              "      display: none;\n",
              "      fill: #1967D2;\n",
              "      height: 32px;\n",
              "      padding: 0 0 0 0;\n",
              "      width: 32px;\n",
              "    }\n",
              "\n",
              "    .colab-df-convert:hover {\n",
              "      background-color: #E2EBFA;\n",
              "      box-shadow: 0px 1px 2px rgba(60, 64, 67, 0.3), 0px 1px 3px 1px rgba(60, 64, 67, 0.15);\n",
              "      fill: #174EA6;\n",
              "    }\n",
              "\n",
              "    .colab-df-buttons div {\n",
              "      margin-bottom: 4px;\n",
              "    }\n",
              "\n",
              "    [theme=dark] .colab-df-convert {\n",
              "      background-color: #3B4455;\n",
              "      fill: #D2E3FC;\n",
              "    }\n",
              "\n",
              "    [theme=dark] .colab-df-convert:hover {\n",
              "      background-color: #434B5C;\n",
              "      box-shadow: 0px 1px 3px 1px rgba(0, 0, 0, 0.15);\n",
              "      filter: drop-shadow(0px 1px 2px rgba(0, 0, 0, 0.3));\n",
              "      fill: #FFFFFF;\n",
              "    }\n",
              "  </style>\n",
              "\n",
              "    <script>\n",
              "      const buttonEl =\n",
              "        document.querySelector('#df-e8aa2540-e106-43dd-85da-76c6ab52201e button.colab-df-convert');\n",
              "      buttonEl.style.display =\n",
              "        google.colab.kernel.accessAllowed ? 'block' : 'none';\n",
              "\n",
              "      async function convertToInteractive(key) {\n",
              "        const element = document.querySelector('#df-e8aa2540-e106-43dd-85da-76c6ab52201e');\n",
              "        const dataTable =\n",
              "          await google.colab.kernel.invokeFunction('convertToInteractive',\n",
              "                                                    [key], {});\n",
              "        if (!dataTable) return;\n",
              "\n",
              "        const docLinkHtml = 'Like what you see? Visit the ' +\n",
              "          '<a target=\"_blank\" href=https://colab.research.google.com/notebooks/data_table.ipynb>data table notebook</a>'\n",
              "          + ' to learn more about interactive tables.';\n",
              "        element.innerHTML = '';\n",
              "        dataTable['output_type'] = 'display_data';\n",
              "        await google.colab.output.renderOutput(dataTable, element);\n",
              "        const docLink = document.createElement('div');\n",
              "        docLink.innerHTML = docLinkHtml;\n",
              "        element.appendChild(docLink);\n",
              "      }\n",
              "    </script>\n",
              "  </div>\n",
              "\n",
              "\n",
              "    </div>\n",
              "  </div>\n"
            ],
            "application/vnd.google.colaboratory.intrinsic+json": {
              "type": "dataframe",
              "summary": "{\n  \"name\": \"pd\",\n  \"rows\": 1,\n  \"fields\": [\n    {\n      \"column\": \"COUNT(*)\",\n      \"properties\": {\n        \"dtype\": \"number\",\n        \"std\": null,\n        \"min\": 10,\n        \"max\": 10,\n        \"num_unique_values\": 1,\n        \"samples\": [\n          10\n        ],\n        \"semantic_type\": \"\",\n        \"description\": \"\"\n      }\n    }\n  ]\n}"
            }
          },
          "metadata": {},
          "execution_count": 98
        }
      ]
    },
    {
      "cell_type": "code",
      "source": [
        "pd.read_sql_query('''select count(*) as no_of_transactions from transactions\n",
        "  where item=\"Croissant\"'''\n",
        ",con)"
      ],
      "metadata": {
        "colab": {
          "base_uri": "https://localhost:8080/",
          "height": 81
        },
        "id": "UA4d_kQ9t7pV",
        "outputId": "3e29a064-4c75-4e33-f3fb-bb2b1e142a38"
      },
      "execution_count": 107,
      "outputs": [
        {
          "output_type": "execute_result",
          "data": {
            "text/plain": [
              "   no_of_transactions\n",
              "0                   0"
            ],
            "text/html": [
              "\n",
              "  <div id=\"df-b9256c7a-b7ef-4112-9783-a9f3cca436cb\" class=\"colab-df-container\">\n",
              "    <div>\n",
              "<style scoped>\n",
              "    .dataframe tbody tr th:only-of-type {\n",
              "        vertical-align: middle;\n",
              "    }\n",
              "\n",
              "    .dataframe tbody tr th {\n",
              "        vertical-align: top;\n",
              "    }\n",
              "\n",
              "    .dataframe thead th {\n",
              "        text-align: right;\n",
              "    }\n",
              "</style>\n",
              "<table border=\"1\" class=\"dataframe\">\n",
              "  <thead>\n",
              "    <tr style=\"text-align: right;\">\n",
              "      <th></th>\n",
              "      <th>no_of_transactions</th>\n",
              "    </tr>\n",
              "  </thead>\n",
              "  <tbody>\n",
              "    <tr>\n",
              "      <th>0</th>\n",
              "      <td>0</td>\n",
              "    </tr>\n",
              "  </tbody>\n",
              "</table>\n",
              "</div>\n",
              "    <div class=\"colab-df-buttons\">\n",
              "\n",
              "  <div class=\"colab-df-container\">\n",
              "    <button class=\"colab-df-convert\" onclick=\"convertToInteractive('df-b9256c7a-b7ef-4112-9783-a9f3cca436cb')\"\n",
              "            title=\"Convert this dataframe to an interactive table.\"\n",
              "            style=\"display:none;\">\n",
              "\n",
              "  <svg xmlns=\"http://www.w3.org/2000/svg\" height=\"24px\" viewBox=\"0 -960 960 960\">\n",
              "    <path d=\"M120-120v-720h720v720H120Zm60-500h600v-160H180v160Zm220 220h160v-160H400v160Zm0 220h160v-160H400v160ZM180-400h160v-160H180v160Zm440 0h160v-160H620v160ZM180-180h160v-160H180v160Zm440 0h160v-160H620v160Z\"/>\n",
              "  </svg>\n",
              "    </button>\n",
              "\n",
              "  <style>\n",
              "    .colab-df-container {\n",
              "      display:flex;\n",
              "      gap: 12px;\n",
              "    }\n",
              "\n",
              "    .colab-df-convert {\n",
              "      background-color: #E8F0FE;\n",
              "      border: none;\n",
              "      border-radius: 50%;\n",
              "      cursor: pointer;\n",
              "      display: none;\n",
              "      fill: #1967D2;\n",
              "      height: 32px;\n",
              "      padding: 0 0 0 0;\n",
              "      width: 32px;\n",
              "    }\n",
              "\n",
              "    .colab-df-convert:hover {\n",
              "      background-color: #E2EBFA;\n",
              "      box-shadow: 0px 1px 2px rgba(60, 64, 67, 0.3), 0px 1px 3px 1px rgba(60, 64, 67, 0.15);\n",
              "      fill: #174EA6;\n",
              "    }\n",
              "\n",
              "    .colab-df-buttons div {\n",
              "      margin-bottom: 4px;\n",
              "    }\n",
              "\n",
              "    [theme=dark] .colab-df-convert {\n",
              "      background-color: #3B4455;\n",
              "      fill: #D2E3FC;\n",
              "    }\n",
              "\n",
              "    [theme=dark] .colab-df-convert:hover {\n",
              "      background-color: #434B5C;\n",
              "      box-shadow: 0px 1px 3px 1px rgba(0, 0, 0, 0.15);\n",
              "      filter: drop-shadow(0px 1px 2px rgba(0, 0, 0, 0.3));\n",
              "      fill: #FFFFFF;\n",
              "    }\n",
              "  </style>\n",
              "\n",
              "    <script>\n",
              "      const buttonEl =\n",
              "        document.querySelector('#df-b9256c7a-b7ef-4112-9783-a9f3cca436cb button.colab-df-convert');\n",
              "      buttonEl.style.display =\n",
              "        google.colab.kernel.accessAllowed ? 'block' : 'none';\n",
              "\n",
              "      async function convertToInteractive(key) {\n",
              "        const element = document.querySelector('#df-b9256c7a-b7ef-4112-9783-a9f3cca436cb');\n",
              "        const dataTable =\n",
              "          await google.colab.kernel.invokeFunction('convertToInteractive',\n",
              "                                                    [key], {});\n",
              "        if (!dataTable) return;\n",
              "\n",
              "        const docLinkHtml = 'Like what you see? Visit the ' +\n",
              "          '<a target=\"_blank\" href=https://colab.research.google.com/notebooks/data_table.ipynb>data table notebook</a>'\n",
              "          + ' to learn more about interactive tables.';\n",
              "        element.innerHTML = '';\n",
              "        dataTable['output_type'] = 'display_data';\n",
              "        await google.colab.output.renderOutput(dataTable, element);\n",
              "        const docLink = document.createElement('div');\n",
              "        docLink.innerHTML = docLinkHtml;\n",
              "        element.appendChild(docLink);\n",
              "      }\n",
              "    </script>\n",
              "  </div>\n",
              "\n",
              "\n",
              "    </div>\n",
              "  </div>\n"
            ],
            "application/vnd.google.colaboratory.intrinsic+json": {
              "type": "dataframe",
              "summary": "{\n  \"name\": \",con)\",\n  \"rows\": 1,\n  \"fields\": [\n    {\n      \"column\": \"no_of_transactions\",\n      \"properties\": {\n        \"dtype\": \"number\",\n        \"std\": null,\n        \"min\": 0,\n        \"max\": 0,\n        \"num_unique_values\": 1,\n        \"samples\": [\n          0\n        ],\n        \"semantic_type\": \"\",\n        \"description\": \"\"\n      }\n    }\n  ]\n}"
            }
          },
          "metadata": {},
          "execution_count": 107
        }
      ]
    },
    {
      "cell_type": "code",
      "source": [
        "# Write a query to find the total amount of sales for each day in the dataset.\n",
        "pd.read_sql_query(\"select date,sum(total_amount) as sales_per_day from transactions group by date\",con)"
      ],
      "metadata": {
        "colab": {
          "base_uri": "https://localhost:8080/",
          "height": 53
        },
        "id": "Jmrlc5zMtx6l",
        "outputId": "3f449483-eb4e-459f-fbf8-9d82c9fb1d6c"
      },
      "execution_count": 106,
      "outputs": [
        {
          "output_type": "execute_result",
          "data": {
            "text/plain": [
              "Empty DataFrame\n",
              "Columns: [date, sales_per_day]\n",
              "Index: []"
            ],
            "text/html": [
              "\n",
              "  <div id=\"df-8348c85c-b661-469d-b839-ec973cb5b0fe\" class=\"colab-df-container\">\n",
              "    <div>\n",
              "<style scoped>\n",
              "    .dataframe tbody tr th:only-of-type {\n",
              "        vertical-align: middle;\n",
              "    }\n",
              "\n",
              "    .dataframe tbody tr th {\n",
              "        vertical-align: top;\n",
              "    }\n",
              "\n",
              "    .dataframe thead th {\n",
              "        text-align: right;\n",
              "    }\n",
              "</style>\n",
              "<table border=\"1\" class=\"dataframe\">\n",
              "  <thead>\n",
              "    <tr style=\"text-align: right;\">\n",
              "      <th></th>\n",
              "      <th>date</th>\n",
              "      <th>sales_per_day</th>\n",
              "    </tr>\n",
              "  </thead>\n",
              "  <tbody>\n",
              "  </tbody>\n",
              "</table>\n",
              "</div>\n",
              "    <div class=\"colab-df-buttons\">\n",
              "\n",
              "  <div class=\"colab-df-container\">\n",
              "    <button class=\"colab-df-convert\" onclick=\"convertToInteractive('df-8348c85c-b661-469d-b839-ec973cb5b0fe')\"\n",
              "            title=\"Convert this dataframe to an interactive table.\"\n",
              "            style=\"display:none;\">\n",
              "\n",
              "  <svg xmlns=\"http://www.w3.org/2000/svg\" height=\"24px\" viewBox=\"0 -960 960 960\">\n",
              "    <path d=\"M120-120v-720h720v720H120Zm60-500h600v-160H180v160Zm220 220h160v-160H400v160Zm0 220h160v-160H400v160ZM180-400h160v-160H180v160Zm440 0h160v-160H620v160ZM180-180h160v-160H180v160Zm440 0h160v-160H620v160Z\"/>\n",
              "  </svg>\n",
              "    </button>\n",
              "\n",
              "  <style>\n",
              "    .colab-df-container {\n",
              "      display:flex;\n",
              "      gap: 12px;\n",
              "    }\n",
              "\n",
              "    .colab-df-convert {\n",
              "      background-color: #E8F0FE;\n",
              "      border: none;\n",
              "      border-radius: 50%;\n",
              "      cursor: pointer;\n",
              "      display: none;\n",
              "      fill: #1967D2;\n",
              "      height: 32px;\n",
              "      padding: 0 0 0 0;\n",
              "      width: 32px;\n",
              "    }\n",
              "\n",
              "    .colab-df-convert:hover {\n",
              "      background-color: #E2EBFA;\n",
              "      box-shadow: 0px 1px 2px rgba(60, 64, 67, 0.3), 0px 1px 3px 1px rgba(60, 64, 67, 0.15);\n",
              "      fill: #174EA6;\n",
              "    }\n",
              "\n",
              "    .colab-df-buttons div {\n",
              "      margin-bottom: 4px;\n",
              "    }\n",
              "\n",
              "    [theme=dark] .colab-df-convert {\n",
              "      background-color: #3B4455;\n",
              "      fill: #D2E3FC;\n",
              "    }\n",
              "\n",
              "    [theme=dark] .colab-df-convert:hover {\n",
              "      background-color: #434B5C;\n",
              "      box-shadow: 0px 1px 3px 1px rgba(0, 0, 0, 0.15);\n",
              "      filter: drop-shadow(0px 1px 2px rgba(0, 0, 0, 0.3));\n",
              "      fill: #FFFFFF;\n",
              "    }\n",
              "  </style>\n",
              "\n",
              "    <script>\n",
              "      const buttonEl =\n",
              "        document.querySelector('#df-8348c85c-b661-469d-b839-ec973cb5b0fe button.colab-df-convert');\n",
              "      buttonEl.style.display =\n",
              "        google.colab.kernel.accessAllowed ? 'block' : 'none';\n",
              "\n",
              "      async function convertToInteractive(key) {\n",
              "        const element = document.querySelector('#df-8348c85c-b661-469d-b839-ec973cb5b0fe');\n",
              "        const dataTable =\n",
              "          await google.colab.kernel.invokeFunction('convertToInteractive',\n",
              "                                                    [key], {});\n",
              "        if (!dataTable) return;\n",
              "\n",
              "        const docLinkHtml = 'Like what you see? Visit the ' +\n",
              "          '<a target=\"_blank\" href=https://colab.research.google.com/notebooks/data_table.ipynb>data table notebook</a>'\n",
              "          + ' to learn more about interactive tables.';\n",
              "        element.innerHTML = '';\n",
              "        dataTable['output_type'] = 'display_data';\n",
              "        await google.colab.output.renderOutput(dataTable, element);\n",
              "        const docLink = document.createElement('div');\n",
              "        docLink.innerHTML = docLinkHtml;\n",
              "        element.appendChild(docLink);\n",
              "      }\n",
              "    </script>\n",
              "  </div>\n",
              "\n",
              "\n",
              "    </div>\n",
              "  </div>\n"
            ],
            "application/vnd.google.colaboratory.intrinsic+json": {
              "type": "dataframe",
              "repr_error": "Out of range float values are not JSON compliant: nan"
            }
          },
          "metadata": {},
          "execution_count": 106
        }
      ]
    },
    {
      "cell_type": "code",
      "source": [
        "# Write a query to find the top 5 most popular items in the dataset, ranked by the total quantity sold.\n",
        "def top_5():\n",
        "  query= \"\"\"\n",
        "      SELECT item, SUM(quantity * price) as total_sales\n",
        "      FROM transactions\n",
        "      GROUP BY item\n",
        "      order by total_sales desc\n",
        "      \"\"\"\n",
        "  c.execute(query)\n",
        "  result=c.fetchall()\n",
        "  con.close()\n",
        "  return result\n",
        "\n",
        "print(top_5())"
      ],
      "metadata": {
        "colab": {
          "base_uri": "https://localhost:8080/"
        },
        "id": "CPr_LmarxG9k",
        "outputId": "cb8b3db2-6e3a-4eca-95a3-c453d359e5de"
      },
      "execution_count": 112,
      "outputs": [
        {
          "output_type": "stream",
          "name": "stdout",
          "text": [
            "[('Cappuccino', 9.0), ('Croissant', 8.75), ('Latte', 7.0), ('Iced Coffee', 7.0), ('Hot Chocolate', 3.25), ('Espresso', 2.75), ('Coffee', 2.5), ('Muffin', 2.25)]\n"
          ]
        }
      ]
    },
    {
      "cell_type": "code",
      "source": [
        "# Write a query to find the number of transactions that include a croissant.\n",
        "def count_croissant():\n",
        "  con=sqlite3.connect(\"coffee_shop.db\")\n",
        "  c=con.cursor()\n",
        "  query='''select count(*) as no_of_transactions from transactions\n",
        "  where item=\"Croissant\"'''\n",
        "  c.execute(query)\n",
        "  result=c.fetchall()[0]\n",
        "  return result\n",
        "print(count_croissant())"
      ],
      "metadata": {
        "colab": {
          "base_uri": "https://localhost:8080/"
        },
        "id": "DNfqwVpozHm9",
        "outputId": "f93f9b55-6f4e-4f32-9659-532b297a2d42"
      },
      "execution_count": 113,
      "outputs": [
        {
          "output_type": "stream",
          "name": "stdout",
          "text": [
            "(0,)\n"
          ]
        }
      ]
    },
    {
      "cell_type": "code",
      "source": [
        "con=sqlite3.connect(\"coffee_shop.db\")\n",
        "c=con.cursor()\n",
        "c.execute('''select count(*) as no_of_transactions from transactions\n",
        "  where item=\"croissant\"''')\n",
        "c.fetchall()[0]"
      ],
      "metadata": {
        "colab": {
          "base_uri": "https://localhost:8080/"
        },
        "id": "K3nzYU6_0C-V",
        "outputId": "0de4919d-7aa2-408f-f147-a50d70e2124e"
      },
      "execution_count": 104,
      "outputs": [
        {
          "output_type": "execute_result",
          "data": {
            "text/plain": [
              "(0,)"
            ]
          },
          "metadata": {},
          "execution_count": 104
        }
      ]
    }
  ]
}