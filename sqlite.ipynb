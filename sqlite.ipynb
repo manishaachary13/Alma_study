{
  "nbformat": 4,
  "nbformat_minor": 0,
  "metadata": {
    "colab": {
      "provenance": [],
      "authorship_tag": "ABX9TyPTF6nTifGO5QaHCyyq2wqT",
      "include_colab_link": true
    },
    "kernelspec": {
      "name": "python3",
      "display_name": "Python 3"
    },
    "language_info": {
      "name": "python"
    }
  },
  "cells": [
    {
      "cell_type": "markdown",
      "metadata": {
        "id": "view-in-github",
        "colab_type": "text"
      },
      "source": [
        "<a href=\"https://colab.research.google.com/github/manishaachary13/Alma_study/blob/main/sqlite.ipynb\" target=\"_parent\"><img src=\"https://colab.research.google.com/assets/colab-badge.svg\" alt=\"Open In Colab\"/></a>"
      ]
    },
    {
      "cell_type": "code",
      "execution_count": 3,
      "metadata": {
        "colab": {
          "base_uri": "https://localhost:8080/"
        },
        "id": "WGg3R1BapEgQ",
        "outputId": "32b94d77-d085-4a08-896e-2226e4f89d8e"
      },
      "outputs": [
        {
          "output_type": "stream",
          "name": "stdout",
          "text": [
            "0\n"
          ]
        }
      ],
      "source": [
        "import  sqlite3\n",
        "connection=sqlite3.connect(\"aquarium.db\")\n",
        "print(connection.total_changes)"
      ]
    },
    {
      "cell_type": "code",
      "source": [
        "sqlite3.connect(':memory:')\n",
        "# cursor object\n",
        "# Syntax: cursor_object=connection_object.execute(“sql query”);"
      ],
      "metadata": {
        "colab": {
          "base_uri": "https://localhost:8080/"
        },
        "id": "yvogcyoLqAcZ",
        "outputId": "636aa43c-f8d8-49a8-cd7e-b8453d67c0e4"
      },
      "execution_count": 4,
      "outputs": [
        {
          "output_type": "execute_result",
          "data": {
            "text/plain": [
              "<sqlite3.Connection at 0x78831437a640>"
            ]
          },
          "metadata": {},
          "execution_count": 4
        }
      ]
    },
    {
      "cell_type": "code",
      "source": [
        "# create a hotel database\n",
        "import sqlite3\n",
        "connection=sqlite3.connect(\"hotel_data.db\")\n"
      ],
      "metadata": {
        "id": "F3K9IgCsr5qh"
      },
      "execution_count": 5,
      "outputs": []
    },
    {
      "cell_type": "code",
      "source": [
        "# create table\n",
        "connection.execute('''create table hotel\n",
        "(FIND INT PRIMARY KEY     NOT NULL,\n",
        "         FNAME           TEXT    NOT NULL,\n",
        "         COST            INT     NOT NULL,\n",
        "         WEIGHT        INT);\n",
        "''')\n"
      ],
      "metadata": {
        "id": "zdwKiqkBsJI3"
      },
      "execution_count": null,
      "outputs": []
    },
    {
      "cell_type": "code",
      "source": [
        "# insert values into db\n",
        "connection.execute(\n",
        "    '''insert into hotel values\n",
        "    (1, 'cakes',800,10 ),\n",
        "    (2, 'biscuits',100,20 ),\n",
        "    (3, 'chocos',1000,30 )'''\n",
        ")"
      ],
      "metadata": {
        "colab": {
          "base_uri": "https://localhost:8080/"
        },
        "id": "LVmnV3sJs953",
        "outputId": "44d84f0c-0770-4235-bdf6-a154ee5ee0c3"
      },
      "execution_count": 9,
      "outputs": [
        {
          "output_type": "execute_result",
          "data": {
            "text/plain": [
              "<sqlite3.Cursor at 0x7882e2fa2140>"
            ]
          },
          "metadata": {},
          "execution_count": 9
        }
      ]
    },
    {
      "cell_type": "code",
      "source": [
        "print(\"All data in food table\\n\")\n",
        "cursor=connection.execute(\"select * from hotel\")\n",
        "for row in cursor:\n",
        "  print(row)"
      ],
      "metadata": {
        "colab": {
          "base_uri": "https://localhost:8080/"
        },
        "id": "P7drX6Irs_e_",
        "outputId": "bc9a19d8-1487-4797-f4ac-a78622e2303e"
      },
      "execution_count": 11,
      "outputs": [
        {
          "output_type": "stream",
          "name": "stdout",
          "text": [
            "All data in food table\n",
            "\n",
            "(1, 'cakes', 800, 10)\n",
            "(2, 'biscuits', 100, 20)\n",
            "(3, 'chocos', 1000, 30)\n"
          ]
        }
      ]
    },
    {
      "cell_type": "code",
      "source": [
        "import sqlite3\n",
        "connection=sqlite3.connect(\"alma.db\")\n",
        "cursor=connection.cursor()\n"
      ],
      "metadata": {
        "id": "YM35bps6uD4o"
      },
      "execution_count": 12,
      "outputs": []
    },
    {
      "cell_type": "code",
      "source": [
        "# create table\n",
        "# Creating table\n",
        "table =\"\"\"CREATE TABLE STUDENT_DATA(NAME VARCHAR(255), CLASS VARCHAR(255),\n",
        "SECTION VARCHAR(255));\"\"\"\n",
        "cursor.execute(table)\n",
        "\n"
      ],
      "metadata": {
        "colab": {
          "base_uri": "https://localhost:8080/"
        },
        "id": "Wdi3cKiiuWTP",
        "outputId": "314cf97e-7952-4d22-b444-034218c36ab0"
      },
      "execution_count": 19,
      "outputs": [
        {
          "output_type": "execute_result",
          "data": {
            "text/plain": [
              "<sqlite3.Cursor at 0x7882e2f02d40>"
            ]
          },
          "metadata": {},
          "execution_count": 19
        }
      ]
    },
    {
      "cell_type": "code",
      "source": [
        "# Queries to INSERT records.\n",
        "cursor.execute('''INSERT INTO STUDENT_DATA (CLASS, SECTION, NAME)\n",
        "  VALUES ('7th', 'A', 'Raju')\n",
        "  ''')\n",
        "\n",
        "cursor.execute(\n",
        "  '''INSERT INTO STUDENT_DATA (SECTION, NAME, CLASS) VALUES ('B', 'Shyam', '8th')''')\n",
        "\n",
        "cursor.execute(\n",
        "  '''INSERT INTO STUDENT_DATA(NAME, CLASS, SECTION ) VALUES ('Baburao', '9th', 'C')''')\n",
        "\n",
        "cursor.execute(\n",
        "  '''INSERT INTO STUDENT_DATA(NAME, CLASS, SECTION ) VALUES ('Ajith', '9th', 'C')''')\n",
        "\n",
        "cursor.execute(\n",
        "  '''INSERT INTO STUDENT_DATA(NAME, CLASS, SECTION ) VALUES ('Karnan', '8th', 'B')''')\n",
        "\n",
        "cursor.execute(\n",
        "  '''INSERT INTO STUDENT_DATA (NAME, CLASS, SECTION ) VALUES ('Abhishek', '10th', 'A')''')\n",
        "cursor.execute(\n",
        "  '''INSERT INTO STUDENT_DATA (NAME, CLASS, SECTION ) VALUES ('Kishore', '9th', 'C')''')\n",
        "\n"
      ],
      "metadata": {
        "colab": {
          "base_uri": "https://localhost:8080/"
        },
        "id": "PzX9thD3vJPJ",
        "outputId": "8c5545c3-b253-4621-fb0a-11ce19318c79"
      },
      "execution_count": 20,
      "outputs": [
        {
          "output_type": "execute_result",
          "data": {
            "text/plain": [
              "<sqlite3.Cursor at 0x7882e2f02d40>"
            ]
          },
          "metadata": {},
          "execution_count": 20
        }
      ]
    },
    {
      "cell_type": "code",
      "source": [
        "# Display data inserted\n",
        "print(\"Data Inserted in the table: \")\n",
        "# * is used to refer to all columns\n",
        "data=cursor.execute('''SELECT * FROM STUDENT_DATA''')\n",
        "for row in data:\n",
        "    print(row)\n",
        "\n"
      ],
      "metadata": {
        "colab": {
          "base_uri": "https://localhost:8080/"
        },
        "id": "j210Je8kvbDY",
        "outputId": "0cdcfef7-9b96-4db2-c9fc-c8b4b4e4b9fa"
      },
      "execution_count": 23,
      "outputs": [
        {
          "output_type": "stream",
          "name": "stdout",
          "text": [
            "Data Inserted in the table: \n",
            "('Raju', '7th', 'A')\n",
            "('Shyam', '8th', 'B')\n",
            "('Baburao', '9th', 'C')\n",
            "('Ajith', '9th', 'C')\n",
            "('Karnan', '8th', 'B')\n",
            "('Abhishek', '10th', 'A')\n",
            "('Kishore', '9th', 'C')\n"
          ]
        }
      ]
    },
    {
      "cell_type": "code",
      "source": [
        "# Commit your changes in\n",
        "# the database\n",
        "connection.commit()\n",
        "\n",
        "# Closing the connection\n",
        "connection.close"
      ],
      "metadata": {
        "colab": {
          "base_uri": "https://localhost:8080/"
        },
        "id": "3wa_AFPXvmFn",
        "outputId": "8aad5696-4f00-410c-9f6a-134c3f101e6c"
      },
      "execution_count": 25,
      "outputs": [
        {
          "output_type": "execute_result",
          "data": {
            "text/plain": [
              "<function Connection.close()>"
            ]
          },
          "metadata": {},
          "execution_count": 25
        }
      ]
    },
    {
      "cell_type": "code",
      "source": [
        "connection=sqlite3.connect(\"alma.db\")\n",
        "cursor=connection.cursor()\n",
        "cursor=cursor.execute('select * from student_data where class>\"7th\"')\n",
        "print(cursor.fetchmany(2))\n",
        "print(cursor.fetchone())\n",
        "print(cursor.fetchall())\n",
        "connection.commit()\n",
        "connection.close()"
      ],
      "metadata": {
        "colab": {
          "base_uri": "https://localhost:8080/"
        },
        "id": "n8X82wmgyICR",
        "outputId": "2d6a5e6f-61a4-46d5-a7a9-0daa44c5190a"
      },
      "execution_count": 39,
      "outputs": [
        {
          "output_type": "stream",
          "name": "stdout",
          "text": [
            "[('Shyam', '8th', 'B'), ('Baburao', '9th', 'C')]\n",
            "('Ajith', '9th', 'C')\n",
            "[('Karnan', '8th', 'B'), ('Kishore', '9th', 'C')]\n"
          ]
        }
      ]
    },
    {
      "cell_type": "code",
      "source": [
        "connection=sqlite3.connect(\"alma.db\")\n",
        "cursor=connection.cursor()\n",
        "cursor=cursor.execute('delete from student_data where name=\"Kishore\"')\n",
        "cursor=cursor.execute('select * from student_data')\n",
        "print(cursor.fetchall())\n",
        "connection.commit()"
      ],
      "metadata": {
        "colab": {
          "base_uri": "https://localhost:8080/"
        },
        "id": "JIbQX_Ymz6LR",
        "outputId": "da0ec847-b2af-4099-f1b3-84ec09638ea8"
      },
      "execution_count": 41,
      "outputs": [
        {
          "output_type": "stream",
          "name": "stdout",
          "text": [
            "[('Raju', '7th', 'A'), ('Shyam', '8th', 'B'), ('Baburao', '9th', 'C'), ('Ajith', '9th', 'C'), ('Karnan', '8th', 'B'), ('Abhishek', '10th', 'A')]\n"
          ]
        }
      ]
    },
    {
      "cell_type": "code",
      "source": [
        "import pandas as pd\n",
        "con=sqlite3.connect('alma.db')\n",
        "df_students=pd.read_sql_query(\"select * from student_data\",con)\n",
        "print(df_students)\n",
        "df_new=df_students[:-1]\n",
        "print(df_new)"
      ],
      "metadata": {
        "colab": {
          "base_uri": "https://localhost:8080/"
        },
        "id": "5uMXop9L03wJ",
        "outputId": "ce33ebbe-0783-41c1-f1b4-a80aec257bca"
      },
      "execution_count": 48,
      "outputs": [
        {
          "output_type": "stream",
          "name": "stdout",
          "text": [
            "       NAME CLASS SECTION\n",
            "0      Raju   7th       A\n",
            "1     Shyam   8th       B\n",
            "2   Baburao   9th       C\n",
            "3     Ajith   9th       C\n",
            "4    Karnan   8th       B\n",
            "5  Abhishek  10th       A\n",
            "      NAME CLASS SECTION\n",
            "0     Raju   7th       A\n",
            "1    Shyam   8th       B\n",
            "2  Baburao   9th       C\n",
            "3    Ajith   9th       C\n",
            "4   Karnan   8th       B\n"
          ]
        }
      ]
    },
    {
      "cell_type": "code",
      "source": [
        "df_new.to_sql(\"student11\",con,if_exists=\"replace\")\n",
        "print(pd.read_sql_query(\"select * from student11\",con))"
      ],
      "metadata": {
        "colab": {
          "base_uri": "https://localhost:8080/"
        },
        "id": "VxDHgvYa2Kqo",
        "outputId": "c4f4aa0f-40b7-4927-a48b-4936b82b3594"
      },
      "execution_count": 55,
      "outputs": [
        {
          "output_type": "stream",
          "name": "stdout",
          "text": [
            "   index     NAME CLASS SECTION\n",
            "0      0     Raju   7th       A\n",
            "1      1    Shyam   8th       B\n",
            "2      2  Baburao   9th       C\n",
            "3      3    Ajith   9th       C\n",
            "4      4   Karnan   8th       B\n"
          ]
        }
      ]
    },
    {
      "cell_type": "code",
      "source": [
        "pip install pandasql\n",
        "# If there is an error i.e \"ObjectNotExecutableError: Not an executable object:\" then run the below command and restart kernel.\n",
        "# pip install SQLAlchemy==1.4.46"
      ],
      "metadata": {
        "id": "GTYu_8CP3FHS"
      },
      "execution_count": null,
      "outputs": []
    },
    {
      "cell_type": "code",
      "source": [
        "from pandasql import sqldf\n",
        "import pandas as pd\n",
        "df = pd.DataFrame({\n",
        "    'Name': ['John', 'Jane', 'Bob', 'Mary'],\n",
        "    'Age': [25, 30, 35, 40],\n",
        "    'City': ['New York', 'London', 'Paris', 'Sydney']\n",
        "})"
      ],
      "metadata": {
        "id": "QUV9uaoF3kCx"
      },
      "execution_count": 2,
      "outputs": []
    },
    {
      "cell_type": "code",
      "source": [
        "query=\"SELECT * FROM df\"\n",
        "result = sqldf(query, globals())\n",
        "\n",
        "print(result)"
      ],
      "metadata": {
        "colab": {
          "base_uri": "https://localhost:8080/"
        },
        "id": "iB8mF-G236Ux",
        "outputId": "caaffa44-7f7c-4cdd-9dc8-7cb6264e845d"
      },
      "execution_count": 3,
      "outputs": [
        {
          "output_type": "stream",
          "name": "stdout",
          "text": [
            "   Name  Age      City\n",
            "0  John   25  New York\n",
            "1  Jane   30    London\n",
            "2   Bob   35     Paris\n",
            "3  Mary   40    Sydney\n"
          ]
        }
      ]
    },
    {
      "cell_type": "code",
      "source": [
        "from pandasql import sqldf\n",
        "import pandas as pd\n",
        "\n",
        "# Create a sample DataFrame.\n",
        "df = pd.DataFrame({\n",
        "    'Name': ['John', 'Jane', 'Bob', 'Mary'],\n",
        "    'Age': [25, 30, 35, 40],\n",
        "    'City': ['New York', 'London', 'Paris', 'Sydney']\n",
        "})\n",
        "\n",
        "# Define a helper function that allows sqldf to access the DataFrame in the global scope.\n",
        "def run_query(query):\n",
        "    return sqldf(query, globals())\n",
        "\n",
        "# Define your SQL query.\n",
        "query = \"SELECT * FROM df\"\n",
        "\n",
        "# Run the query using the helper function.\n",
        "result = run_query(query)\n",
        "\n",
        "# Print the result.\n",
        "print(result)\n"
      ],
      "metadata": {
        "colab": {
          "base_uri": "https://localhost:8080/"
        },
        "id": "YAH-fGND5gW5",
        "outputId": "432b861e-a94f-48bc-8eef-7c0f30bda30e"
      },
      "execution_count": 1,
      "outputs": [
        {
          "output_type": "stream",
          "name": "stdout",
          "text": [
            "   Name  Age      City\n",
            "0  John   25  New York\n",
            "1  Jane   30    London\n",
            "2   Bob   35     Paris\n",
            "3  Mary   40    Sydney\n"
          ]
        }
      ]
    },
    {
      "cell_type": "code",
      "source": [
        "# pip list | grep pandasql\n",
        "# pip install pandasql --force-reinstall\n",
        "!pip install pandasql --force-reinstall\n"
      ],
      "metadata": {
        "id": "ucWZ3uTz529A"
      },
      "execution_count": null,
      "outputs": []
    },
    {
      "cell_type": "code",
      "source": [
        "query=\"select * from df where age>=30\"\n",
        "result = sqldf(query)\n",
        "\n",
        "print(result)"
      ],
      "metadata": {
        "colab": {
          "base_uri": "https://localhost:8080/"
        },
        "id": "1yAAPkWj6u-R",
        "outputId": "7ecfa8b2-67b1-4087-dffc-4a6da7496359"
      },
      "execution_count": 6,
      "outputs": [
        {
          "output_type": "stream",
          "name": "stdout",
          "text": [
            "   Name  Age    City  count(*)\n",
            "0  Jane   30  London         3\n"
          ]
        }
      ]
    }
  ]
}